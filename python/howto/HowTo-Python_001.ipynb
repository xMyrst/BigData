{
 "cells": [
  {
   "cell_type": "code",
   "execution_count": 2,
   "metadata": {
    "collapsed": true
   },
   "outputs": [],
   "source": [
    "# HowTo Python 3\n",
    "# By César Calderón\n",
    "# Maquetación mediante Markdown para la presentación de información en Python 3\n",
    "\n",
    "#Página Oficial de MARKDOWN by John Gruber\n",
    "# https://daringfireball.net/projects/markdown/"
   ]
  },
  {
   "cell_type": "markdown",
   "metadata": {},
   "source": [
    "# Maquetación Python 3 (Markdown)"
   ]
  },
  {
   "cell_type": "code",
   "execution_count": 3,
   "metadata": {
    "collapsed": true
   },
   "outputs": [],
   "source": [
    "# Los HEADERS o encabezados se definen mediante #, existen 6 niveles siendo un sólo # el de mayor tamaño y ###### el de menor\n",
    "# Ejemplo:"
   ]
  },
  {
   "cell_type": "markdown",
   "metadata": {},
   "source": [
    "### Encabezado de tres \"###\"\n",
    "##### Encabezado de cinco \"#####\""
   ]
  },
  {
   "cell_type": "code",
   "execution_count": 4,
   "metadata": {
    "collapsed": true
   },
   "outputs": [],
   "source": [
    "# Emphasis o estilos del texto\n",
    "# *cursiva*\n",
    "# **negrita**\n",
    "# ~~tachado~~\n",
    "# Ejemplos:"
   ]
  },
  {
   "cell_type": "markdown",
   "metadata": {},
   "source": [
    "*texto en cursiva*\n",
    "\n",
    "**texto en negrita**\n",
    "\n",
    "**asteriscos** y *cursiva* en una sola línea\n",
    "\n",
    "~~texto tachado~~"
   ]
  },
  {
   "cell_type": "code",
   "execution_count": 5,
   "metadata": {
    "collapsed": true
   },
   "outputs": [],
   "source": [
    "# Como crear listas ordenadas o elementos no númerados\n",
    "# Ejemplos:"
   ]
  },
  {
   "cell_type": "markdown",
   "metadata": {},
   "source": [
    "1. Mediante número seguido de punto se define un elemento ordenado de una lista\n",
    "2. Segundo elemento del listado (2.)\n",
    "3. Tercer elemento (3.)\n",
    "\n",
    "    * Elemento no numerado (mediante \"*\", también son válidos \"-\" y \"+\")\n",
    "        1. Elemento de segundo orden con numeración\n",
    "\n",
    "\n",
    "* Elemento 1\n",
    "- Elemento 2\n",
    "+ Elemento 3\n",
    "  - Sub-elemento 1\n",
    "  - Sub-elemento 2\n"
   ]
  },
  {
   "cell_type": "code",
   "execution_count": null,
   "metadata": {
    "collapsed": true
   },
   "outputs": [],
   "source": [
    "# En iPython se puede escribir código HTML para maquetar o presentar datos\n",
    "# por ejemplo para definir un encabezado se puede escribir <h4>h1 Heading</h4> o, como ya hemos visto, #### Heading 1\n",
    "# Ejemplo:"
   ]
  },
  {
   "cell_type": "markdown",
   "metadata": {},
   "source": [
    "#### Encabezado mediante MARKDOWN\n",
    "<h4>Encabezado mediante HTML</h4>"
   ]
  },
  {
   "cell_type": "markdown",
   "metadata": {},
   "source": [
    "'<!--\n",
    "Se puede comentar texto como si de JAVA se tratase\n",
    "-->'\n",
    "\n",
    "<pre>\n",
    "  <code>\n",
    "// Comentarios\n",
    "línea 1 de código\n",
    "línea 2 de código\n",
    "línea 3 de código\n",
    "  </code>\n",
    "</pre>"
   ]
  },
  {
   "cell_type": "code",
   "execution_count": 8,
   "metadata": {
    "collapsed": true
   },
   "outputs": [],
   "source": [
    "# Creación de párrafos mediante MARKDOWN\n",
    "# > especifica el primer nivel de párrafo, sucesivos > profundizan en la sangría de los mismos"
   ]
  },
  {
   "cell_type": "markdown",
   "metadata": {},
   "source": [
    "#### Creación de párrafos\n",
    "> **Párrafo 1**\n",
    ">> _Párrafo 2_\n",
    ">>> Párrafo 3"
   ]
  },
  {
   "cell_type": "code",
   "execution_count": 15,
   "metadata": {
    "collapsed": true
   },
   "outputs": [],
   "source": [
    "# Mediante el uso de '''  ''' se puede mantener una estructura de un comentario, \n",
    "# por ejemplo cuando se escribe código para que se vea legible.\n"
   ]
  },
  {
   "cell_type": "markdown",
   "metadata": {},
   "source": [
    "### ```Ejemplo de comentario de un código```\n",
    "```js\n",
    "grunt.initConfig({\n",
    "  assemble: {\n",
    "    options: {\n",
    "      assets: 'docs/assets',\n",
    "      data: 'src/data/*.{json,yml}',\n",
    "      helpers: 'src/custom-helpers.js',\n",
    "      partials: ['src/partials/**/*.{hbs,md}']\n",
    "    },\n",
    "    pages: {\n",
    "      options: {\n",
    "        layout: 'default.hbs'\n",
    "      },\n",
    "      files: {\n",
    "        './': ['src/templates/pages/index.hbs']\n",
    "      }\n",
    "    }\n",
    "  }\n",
    "};\n",
    "```"
   ]
  },
  {
   "cell_type": "code",
   "execution_count": 13,
   "metadata": {
    "collapsed": false
   },
   "outputs": [],
   "source": [
    "# Creación de tablas en MARKDOWN\n",
    "# | Option | Description |\n",
    "# | ------ | ----------- |\n",
    "# Si se usa : en la linea anterior se alinea el texto a izquiera o derecha, con : a ambos lados se alinea centrado\n",
    "# | ------: | :----------- |\n",
    "# | data:   | path to data files to supply the data that will be passed into templates. |\n",
    "# | engine | engine to be used for processing templates. Handlebars is the default. |\n",
    "# | ext    | extension to be used for dest files. |\n"
   ]
  },
  {
   "cell_type": "markdown",
   "metadata": {},
   "source": [
    "| Opción | Descripción |\n",
    "| :----: | :---------- |\n",
    "| datos 1 |  texto 1 |\n",
    "| datos 2 |  texto 2 |\n",
    "| datos 3 |  texto 3 |"
   ]
  },
  {
   "cell_type": "code",
   "execution_count": null,
   "metadata": {
    "collapsed": true
   },
   "outputs": [],
   "source": [
    "# Enlaces incrustados mediante MARKDOWN\n",
    "# [Texto](http://web \"comentario mouseover\")"
   ]
  },
  {
   "cell_type": "markdown",
   "metadata": {},
   "source": [
    "[Enlace básico](http://google.com)\n",
    "\n",
    "[Enlace con información al realizar un mouseover](http://google.com \"googlea un rato!\")"
   ]
  },
  {
   "cell_type": "code",
   "execution_count": null,
   "metadata": {
    "collapsed": true
   },
   "outputs": [],
   "source": [
    "# Incrustado de imágenes\n",
    "# ![Texto](http://imagen \"comentario mouseover\")"
   ]
  },
  {
   "cell_type": "markdown",
   "metadata": {},
   "source": [
    "![logo_md](https://upload.wikimedia.org/wikipedia/commons/thumb/4/48/Markdown-mark.svg/208px-Markdown-mark.svg.png \"Logo MARKDOWN\")"
   ]
  },
  {
   "cell_type": "code",
   "execution_count": null,
   "metadata": {
    "collapsed": true
   },
   "outputs": [],
   "source": []
  }
 ],
 "metadata": {
  "kernelspec": {
   "display_name": "Python 3",
   "language": "python",
   "name": "python3"
  },
  "language_info": {
   "codemirror_mode": {
    "name": "ipython",
    "version": 3
   },
   "file_extension": ".py",
   "mimetype": "text/x-python",
   "name": "python",
   "nbconvert_exporter": "python",
   "pygments_lexer": "ipython3",
   "version": "3.6.0"
  }
 },
 "nbformat": 4,
 "nbformat_minor": 2
}
