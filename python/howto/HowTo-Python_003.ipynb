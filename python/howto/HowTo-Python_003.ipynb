{
 "cells": [
  {
   "cell_type": "markdown",
   "metadata": {},
   "source": [
    "![logo_python3](https://www.python.org/static/img/python-logo.png \"Logo Python3\")\n",
    "# ``Funciones y métodos``"
   ]
  },
  {
   "cell_type": "markdown",
   "metadata": {},
   "source": [
    "**``FUNCIONES``**\n",
    "\n",
    "``Las funciones son el método principal de organización y reutilización de código.``\n",
    "\n",
    "``Ya hemos visto el uso de algunas funciones predefinidas de Python, como la función`` _**print**_, _**abs**_, ``etc. Son predefinidas porque nosotros también podemos definir nuestras propias funciones.``\n",
    "\n",
    "``Las funciones tienen un nombre y se declaran con la palabra reservada`` _**def**_ ``y devuelve un valor usando la palabra reservada`` _**return**_``.``\n",
    "\n",
    "``También tienen una lista de argumentos: posicionales o por clave.``"
   ]
  },
  {
   "cell_type": "code",
   "execution_count": 32,
   "metadata": {
    "collapsed": true
   },
   "outputs": [],
   "source": [
    "# Función que suma 3 números y devuelve el resultado\n",
    "# 3 argumentos posicionales. Más adelante hablaremos de los argumentos por clave\n",
    "def suma_tres(x, y, z):\n",
    "    m1 = x + y\n",
    "    m2 = m1 + z\n",
    "    return m2"
   ]
  },
  {
   "cell_type": "code",
   "execution_count": 33,
   "metadata": {
    "collapsed": false
   },
   "outputs": [
    {
     "data": {
      "text/plain": [
       "10"
      ]
     },
     "execution_count": 33,
     "metadata": {},
     "output_type": "execute_result"
    }
   ],
   "source": [
    "# Llamada a la función y asignación de valores para efecutar lo programado\n",
    "suma_tres(2, 3, 5)"
   ]
  },
  {
   "cell_type": "markdown",
   "metadata": {},
   "source": [
    "``Se pueden definir funciones que a su vez incluyan otras funciones``\n",
    "<br />"
   ]
  },
  {
   "cell_type": "code",
   "execution_count": 72,
   "metadata": {
    "collapsed": false
   },
   "outputs": [
    {
     "data": {
      "text/plain": [
       "19"
      ]
     },
     "execution_count": 72,
     "metadata": {},
     "output_type": "execute_result"
    }
   ],
   "source": [
    "def suma1():\n",
    "    global suma1\n",
    "    suma1 = 6 + 5\n",
    "    return suma1\n",
    "def suma2():\n",
    "    suma2 = suma1 + 8\n",
    "    return suma2\n",
    "\n",
    "suma1()\n",
    "suma2()    "
   ]
  },
  {
   "cell_type": "code",
   "execution_count": 80,
   "metadata": {
    "collapsed": false
   },
   "outputs": [
    {
     "data": {
      "text/plain": [
       "11"
      ]
     },
     "execution_count": 80,
     "metadata": {},
     "output_type": "execute_result"
    }
   ],
   "source": [
    "def suma_cuatro(x, y, z1, z2):\n",
    "    return suma_tres(x, y, z1) + z2\n",
    "suma_cuatro(6, 2, 2, 1)"
   ]
  },
  {
   "cell_type": "markdown",
   "metadata": {},
   "source": [
    "``A diferencia de otros lenguajes como C++, Java o Perl, Python no utilliza corchetes o llaves para estructurar el código. Python utiliza espacios en blanco o tabulaciones para dar estructura a su código. El uso de tabuladores hace el código más legible, mientras que en otros lenguajes el código anterior ha de escribirse utilizando llaves``"
   ]
  },
  {
   "cell_type": "markdown",
   "metadata": {},
   "source": [
    "**``MÉTODOS``**\n",
    "\n",
    "``Otra de las características de Python es que todo número, cadena, estructura de datos, función, clase, módulo, etc es considerado como un objeto.\n",
    "Los objetos en Python tienen un tipo asociado (como por ejemplo string o function) y unos atributos y métodos.``\n",
    "\n",
    "   + ``atributos: características del objeto, los datos internos``\n",
    "   + ``métodos : funciones asociadas al objeto que tienen acceso a los atributos internos del objeto``\n",
    "    \n",
    "``Tanto los atributos como los métodos pueden ser accedidos mediante el operador punto.``\n",
    "``Por ejemplo, podemos tener una lista de números enteros:``"
   ]
  },
  {
   "cell_type": "code",
   "execution_count": null,
   "metadata": {
    "collapsed": true
   },
   "outputs": [],
   "source": [
    "lista = [1, 0, 7, 4, 6 ]"
   ]
  }
 ],
 "metadata": {
  "kernelspec": {
   "display_name": "Python 3",
   "language": "python",
   "name": "python3"
  },
  "language_info": {
   "codemirror_mode": {
    "name": "ipython",
    "version": 3
   },
   "file_extension": ".py",
   "mimetype": "text/x-python",
   "name": "python",
   "nbconvert_exporter": "python",
   "pygments_lexer": "ipython3",
   "version": "3.6.0"
  }
 },
 "nbformat": 4,
 "nbformat_minor": 2
}
