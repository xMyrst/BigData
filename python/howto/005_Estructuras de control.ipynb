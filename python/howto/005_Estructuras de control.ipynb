{
 "cells": [
  {
   "cell_type": "markdown",
   "metadata": {},
   "source": [
    "![logo_python3](https://www.python.org/static/img/python-logo.png \"Logo Python3\")\n",
    "# ``ESTRUCTURAS DE CONTROL``"
   ]
  },
  {
   "cell_type": "markdown",
   "metadata": {},
   "source": [
    "<br />\n",
    "** ``INSTRUCCIONES IF, ELIF, ELSE``**"
   ]
  },
  {
   "cell_type": "markdown",
   "metadata": {},
   "source": [
    "``El intérprete de Python ejecuta un programa ejecutando una instrucción cada vez.``\n",
    "\n",
    "    if <condition>:\n",
    "        <do something>\n",
    "    elif <condition2>:\n",
    "        <do other thing>\n",
    "    else:\n",
    "        <do other thing>\n",
    "\n",
    "``Recordar que en Python los bloques se delimitan por sangrado.``\n",
    "\n",
    "   + ``Cuando ponemos los dos puntos al final de la primera línea del condicional, todo lo que vaya a continuación con un nivel de sangrado superior se considera dentro del condicional.``\n",
    "\n",
    "   + ``En cuanto escribimos la primera línea con un nivel de sangrado inferior, hemos cerrado el condicional.``\n",
    " \n"
   ]
  },
  {
   "cell_type": "code",
   "execution_count": 26,
   "metadata": {
    "collapsed": false
   },
   "outputs": [
    {
     "name": "stdout",
     "output_type": "stream",
     "text": [
      "x es mayor que y\n",
      "x sigue siendo mayor que y\n"
     ]
    }
   ],
   "source": [
    "x, y = 2, 0\n",
    "if x > y:\n",
    "    print(\"x es mayor que y\")\n",
    "    print(\"x sigue siendo mayor que y\")"
   ]
  },
  {
   "cell_type": "code",
   "execution_count": 3,
   "metadata": {
    "collapsed": false
   },
   "outputs": [
    {
     "name": "stdout",
     "output_type": "stream",
     "text": [
      "Esto se ejecuta siempre\n"
     ]
    }
   ],
   "source": [
    "if 1 < 0:\n",
    "    print(\"1 es mayor que 0\")     # esto está dentro de bucle, pero no se escribe por que no cumple que 1 sea menor que 0\n",
    "print(\"Esto se ejecuta siempre\")  # esto no está dentro del bloque y SE ejecuta siempre; ya que no pertenece al IF"
   ]
  },
  {
   "cell_type": "code",
   "execution_count": 4,
   "metadata": {
    "collapsed": false
   },
   "outputs": [
    {
     "ename": "IndentationError",
     "evalue": "unexpected indent (<ipython-input-4-8231ed33204f>, line 3)",
     "output_type": "error",
     "traceback": [
      "\u001b[0;36m  File \u001b[0;32m\"<ipython-input-4-8231ed33204f>\"\u001b[0;36m, line \u001b[0;32m3\u001b[0m\n\u001b[0;31m    print(\"1 sigue siendo menor que 0\")    # error de sangrado, porque el sangrado es superior\u001b[0m\n\u001b[0m    ^\u001b[0m\n\u001b[0;31mIndentationError\u001b[0m\u001b[0;31m:\u001b[0m unexpected indent\n"
     ]
    }
   ],
   "source": [
    "if 1 < 0:\n",
    "    print(\"1 es menor que 0\")\n",
    "     print(\"1 sigue siendo menor que 0\")    # error de sangrado, porque el sangrado es superior"
   ]
  },
  {
   "cell_type": "markdown",
   "metadata": {},
   "source": [
    "``Si queremos añadir ramas adicionales al condicional, podemos emplear la instrucción elif (abreviatura de else if). Para la parte final, que debe ejecutarse si ninguna de las condiciones anteriores se ha cumplido, usamos la instrucción else.``"
   ]
  },
  {
   "cell_type": "code",
   "execution_count": 7,
   "metadata": {
    "collapsed": false
   },
   "outputs": [
    {
     "name": "stdout",
     "output_type": "stream",
     "text": [
      "x es mayor que y\n"
     ]
    }
   ],
   "source": [
    "x, y = 2, 0\n",
    "if x > y:\n",
    "    print(\"x es mayor que y\")\n",
    "else:\n",
    "    print(\"x es menor que y\")"
   ]
  },
  {
   "cell_type": "code",
   "execution_count": 18,
   "metadata": {
    "collapsed": false
   },
   "outputs": [
    {
     "name": "stdout",
     "output_type": "stream",
     "text": [
      "x es mayor que y\n"
     ]
    }
   ],
   "source": [
    "# Uso de ELIF (contracción de else if)\n",
    "x, y = 2 , 0\n",
    "if x < y:\n",
    "    print(\"x es menor que y\")\n",
    "elif x == y:\n",
    "    print(\"x es igual a y\")\n",
    "else:\n",
    "    print(\"x es mayor que y\")"
   ]
  },
  {
   "cell_type": "markdown",
   "metadata": {},
   "source": [
    "<br />\n",
    "** ``EXPRESIONES TERNARIAS``**"
   ]
  },
  {
   "cell_type": "markdown",
   "metadata": {},
   "source": [
    "``Las expresiones ternarias en Python tienen la siguiente forma:``\n",
    "\n",
    " + ``e = valorSiTrue if <condicion> else valorSiFalse``\n",
    " \n",
    "``Permite definir la instrucción if-else en una sola línea. La expresión anterior es equivalente a:``\n",
    "\n",
    " + ``if <condicion>:\n",
    "      e = valorSiTrue\n",
    "else: \n",
    "      e = valorSiFalse``"
   ]
  },
  {
   "cell_type": "code",
   "execution_count": 38,
   "metadata": {
    "collapsed": false
   },
   "outputs": [
    {
     "data": {
      "text/plain": [
       "'x es igual a 8'"
      ]
     },
     "execution_count": 38,
     "metadata": {},
     "output_type": "execute_result"
    }
   ],
   "source": [
    "# Una expresión ternaria es una contracción de un bucle FOR\n",
    "# Se define la variable para poder comparar\n",
    "x = 8\n",
    "# Se puede escrbir la expresión de esta manera o almacenando el resultado dentro de una variable \n",
    "# para trabajar posteriormente con ella\n",
    "\"Hola CICE\" if x == 8 else \"Adios CICE\"\n",
    "a = 'x es igual a 8' if x == 8 else 'x es distinto de 8'\n",
    "a"
   ]
  },
  {
   "cell_type": "markdown",
   "metadata": {},
   "source": [
    "<br />\n",
    "** ``BUCLES FOR Y WHILE``**"
   ]
  },
  {
   "cell_type": "markdown",
   "metadata": {},
   "source": [
    "**``El bucle FOR``**\n",
    "\n",
    "``Permite realizar una tarea un número fijo de veces. Se utiliza para recorrer una colección completa de elementos (una tupla, una lista, un diccionario, etc ):``\n",
    "\n",
    "        for <element> in <iterable_object>:\n",
    "            <hacer algo...>\n",
    "\n",
    "+ ``Aquí el objeto <iterable_object> puede ser una lista, tupla, array, diccionario, etc.``\n",
    "+ ``El bucle se repite un número fijo de veces, que es la longitud de la colección de elementos.``\n",
    "        "
   ]
  },
  {
   "cell_type": "code",
   "execution_count": 30,
   "metadata": {
    "collapsed": false
   },
   "outputs": [
    {
     "name": "stdout",
     "output_type": "stream",
     "text": [
      "1\n",
      "2\n",
      "3\n",
      "4\n",
      "5\n"
     ]
    }
   ],
   "source": [
    "# itera soble los elementos de la tupla\n",
    "for elemento in (1, 2, 3, 4, 5):\n",
    "    print(elemento)"
   ]
  },
  {
   "cell_type": "code",
   "execution_count": 42,
   "metadata": {
    "collapsed": false
   },
   "outputs": [
    {
     "name": "stdout",
     "output_type": "stream",
     "text": [
      "15\n"
     ]
    }
   ],
   "source": [
    "# Suma todos los elementos de la tupla\n",
    "suma = 0\n",
    "for elemento in (1, 2, 3, 4, 5):\n",
    "    suma = suma + elemento\n",
    "print(suma)"
   ]
  },
  {
   "cell_type": "code",
   "execution_count": 47,
   "metadata": {
    "collapsed": false
   },
   "outputs": [
    {
     "name": "stdout",
     "output_type": "stream",
     "text": [
      "Lunes\n",
      "Martes\n",
      "Miércoles\n",
      "Jueves\n",
      "Viernes\n",
      "Sábado\n",
      "Domingo\n"
     ]
    }
   ],
   "source": [
    "# Muestra todos los elemntos de una lista\n",
    "dias = [\"Lunes\", \"Martes\", \"Miércoles\", \"Jueves\", 'Viernes', 'Sábado', 'Domingo']\n",
    "for nombre in dias:\n",
    "    print(nombre)"
   ]
  },
  {
   "cell_type": "code",
   "execution_count": 48,
   "metadata": {
    "collapsed": false
   },
   "outputs": [
    {
     "name": "stdout",
     "output_type": "stream",
     "text": [
      "1\n",
      "3\n",
      "5\n",
      "7\n",
      "9\n"
     ]
    }
   ],
   "source": [
    "# La instrucción CONTINUE permite saltar de una iteración a otra\n",
    "# Crea la lista de enteros en el intervalo [0,10)\n",
    "# No se ejecuta si j es un número par, gracias a la sentencia continue\n",
    "for j in range(10):\n",
    "    if j % 2 == 0:\n",
    "        continue \n",
    "    print(j)"
   ]
  },
  {
   "cell_type": "code",
   "execution_count": 51,
   "metadata": {
    "collapsed": false
   },
   "outputs": [
    {
     "name": "stdout",
     "output_type": "stream",
     "text": [
      "(1, 'Lunes')\n",
      "(2, 'Martes')\n",
      "(3, 'Miércoles')\n"
     ]
    }
   ],
   "source": [
    "# También es posible recorrer un diccionario mediante el bucle FOR\n",
    "# dic.items\n",
    "# dic.keys\n",
    "# dic.values\n",
    "dic =  {1:'Lunes', 2:'Martes', 3:'Miércoles' }\n",
    "# Python 3.5\n",
    "for i in dic.items():\n",
    "    print(i)"
   ]
  },
  {
   "cell_type": "code",
   "execution_count": 35,
   "metadata": {
    "collapsed": false
   },
   "outputs": [
    {
     "name": "stdout",
     "output_type": "stream",
     "text": [
      "La clave es: 1 y el valor es: Lunes\n",
      "La clave es: 2 y el valor es: Martes\n",
      "La clave es: 3 y el valor es: Miércoles\n"
     ]
    }
   ],
   "source": [
    "dic =  {1:'Lunes', 2:'Martes', 3:'Miércoles' }\n",
    "# Python 3.5\n",
    "for (clave, valor) in dic.items():\n",
    "    print(\"La clave es: \" + str(clave) + \" y el valor es: \" + valor)"
   ]
  },
  {
   "cell_type": "code",
   "execution_count": 36,
   "metadata": {
    "collapsed": false
   },
   "outputs": [
    {
     "data": {
      "text/plain": [
       "(dict_items([(1, 'Lunes'), (2, 'Martes'), (3, 'Miércoles')]),\n",
       " dict_keys([1, 2, 3]),\n",
       " dict_values(['Lunes', 'Martes', 'Miércoles']))"
      ]
     },
     "execution_count": 36,
     "metadata": {},
     "output_type": "execute_result"
    }
   ],
   "source": [
    "dic.items(), dic.keys(), dic.values()"
   ]
  },
  {
   "cell_type": "markdown",
   "metadata": {},
   "source": [
    "<br />\n",
    "**``El bucle WHILE``**\n",
    "\n",
    "``Los bucles while repetirán las instrucciones anidadas en él mientras se cumpla una condición:``\n",
    "\n",
    "        while <condition>:\n",
    "        <things to do>\n",
    "\n",
    "+ ``El número de iteraciones es variable, depende de la condición.``\n",
    "+``Como en el caso de los condicionales, los bloques se separan por sangrado sin necesidad de instrucciones del tipo end.``"
   ]
  },
  {
   "cell_type": "code",
   "execution_count": 52,
   "metadata": {
    "collapsed": false
   },
   "outputs": [
    {
     "name": "stdout",
     "output_type": "stream",
     "text": [
      "-2\n",
      "-1\n",
      "0\n",
      "1\n",
      "2\n",
      "3\n",
      "4\n",
      "Estoy fuera del while\n"
     ]
    }
   ],
   "source": [
    "i = -2\n",
    "while i < 5:\n",
    "    print(i)\n",
    "    i = i + 1\n",
    "print(\"Estoy fuera del while\")"
   ]
  },
  {
   "cell_type": "code",
   "execution_count": 38,
   "metadata": {
    "collapsed": false
   },
   "outputs": [
    {
     "name": "stdout",
     "output_type": "stream",
     "text": [
      "0\n",
      "1\n",
      "2\n"
     ]
    }
   ],
   "source": [
    "# Para interrumpir un bucle WHILE se utiliza la instrucción BREAK\n",
    "# Se pueden usar expresiones de tipo condicional (AND, OR, NOT)\n",
    "i = 0\n",
    "j = 1\n",
    "while i < 5 and j == 1:\n",
    "    print(i)\n",
    "    i = i + 1\n",
    "    if i == 3:\n",
    "        break"
   ]
  },
  {
   "cell_type": "markdown",
   "metadata": {},
   "source": [
    "<BR />\n",
    "**``LA FUNCIÓN ENUMERATE``**"
   ]
  },
  {
   "cell_type": "markdown",
   "metadata": {},
   "source": [
    "``Cuando trabajamos con secuencias de elementos puede resultar útil conocer el índice de cada elemento. La función enumerate devuelve una secuencia de tuplas de la forma (i, valor).``\n",
    "\n",
    "``Mediante un bucle es posible recorrerse dicha secuencia:``\n"
   ]
  },
  {
   "cell_type": "code",
   "execution_count": 39,
   "metadata": {
    "collapsed": false
   },
   "outputs": [
    {
     "name": "stdout",
     "output_type": "stream",
     "text": [
      "0: Madrid\n",
      "1: Sevilla\n",
      "2: Segovia\n",
      "3: Valencia\n"
     ]
    }
   ],
   "source": [
    "# Creamos una lista llamada ciudades\n",
    "# Recorremos dicha lista mediante la instrucción FOR asignando una secuencia de números (i) a cada valor de la lista\n",
    "ciudades = [\"Madrid\", \"Sevilla\", \"Segovia\", \"Valencia\" ]\n",
    "for (i, valor) in enumerate(ciudades):\n",
    "    print('%d: %s' % (i, valor))"
   ]
  },
  {
   "cell_type": "code",
   "execution_count": 40,
   "metadata": {
    "collapsed": false
   },
   "outputs": [
    {
     "name": "stdout",
     "output_type": "stream",
     "text": [
      "0: Valencia\n",
      "1: Segovia\n",
      "2: Sevilla\n",
      "3: Madrid\n"
     ]
    }
   ],
   "source": [
    "# Uso de la función reversed \n",
    "# la función reversed devuelve un iterador inverso de una lista\n",
    "for (i, valor) in enumerate(reversed(ciudades)):\n",
    "    print('%d: %s' % (i, valor))"
   ]
  }
 ],
 "metadata": {
  "kernelspec": {
   "display_name": "Python 3",
   "language": "python",
   "name": "python3"
  },
  "language_info": {
   "codemirror_mode": {
    "name": "ipython",
    "version": 3
   },
   "file_extension": ".py",
   "mimetype": "text/x-python",
   "name": "python",
   "nbconvert_exporter": "python",
   "pygments_lexer": "ipython3",
   "version": "3.6.0"
  }
 },
 "nbformat": 4,
 "nbformat_minor": 2
}
