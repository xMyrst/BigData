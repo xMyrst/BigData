{
 "cells": [
  {
   "cell_type": "markdown",
   "metadata": {
    "collapsed": true
   },
   "source": [
    "![logo_python3](https://www.python.org/static/img/python-logo.png \"Logo Python3\")\n",
    "# ``Operaciones Matemáticas y Tipos de Datos en Python 3``"
   ]
  },
  {
   "cell_type": "markdown",
   "metadata": {},
   "source": [
    "### ``Operaciones Matemáticas Básicas``"
   ]
  },
  {
   "cell_type": "markdown",
   "metadata": {},
   "source": [
    "** ``TIPOS DE OPERACIONES POR ORDEN DE EJECUCIÓN``**\n",
    "+ ``1.Exponenciación``\n",
    "+ ``2.Cambio de signo``\n",
    "+ ``3.Multiplicación``\n",
    "+ ``3.División``\n",
    "+ ``3.Resto``\n",
    "+ ``4.Suma``\n",
    "+ ``4.Resta``"
   ]
  },
  {
   "cell_type": "code",
   "execution_count": 40,
   "metadata": {
    "collapsed": false
   },
   "outputs": [
    {
     "name": "stdout",
     "output_type": "stream",
     "text": [
      "64\n",
      "-3\n",
      "12\n",
      "3.0\n",
      "2\n",
      "8\n",
      "4\n",
      "4\n"
     ]
    }
   ],
   "source": [
    "print(2 ** 6)\n",
    "print(-3)\n",
    "print(2 * 6)\n",
    "print(6 / 2)\n",
    "print(14 % 3)\n",
    "print(2 + 6)\n",
    "print(6 - 2)\n",
    "\n",
    "# Operación especial que realiza la división y solo muestra el valor entero (sin decimales)\n",
    "print(14 // 3)"
   ]
  },
  {
   "cell_type": "code",
   "execution_count": 41,
   "metadata": {
    "collapsed": false
   },
   "outputs": [
    {
     "name": "stdout",
     "output_type": "stream",
     "text": [
      "71\n",
      "-46\n",
      "26\n",
      "54\n",
      "30\n"
     ]
    }
   ],
   "source": [
    "# Primero se ejecuta la elevación del número 2 seis veces (64) y luego se le suma 7\n",
    "print(2**6+7)\n",
    "\n",
    "# Primero se ejecuta la multiplicación y luego la resta\n",
    "print(8-6*9)\n",
    "\n",
    "# Para clarificar las cosas se recomienda el uso de paréntesis para separar las operaciones según su orden de ejecución.\n",
    "# También es necesario usarlos cuando dos operaciones tengan el mismo valor de ejecución, para obtener el resultado esperado.\n",
    "# Ejemplos en el uso de los paréntesis:\n",
    "print(9+1-2+3*6)\n",
    "print((9+1-3+2)*6)\n",
    "print(((9+1)-(3+2))*6)"
   ]
  },
  {
   "cell_type": "markdown",
   "metadata": {},
   "source": [
    "### ``Variables en Python: Definición y tipos``"
   ]
  },
  {
   "cell_type": "markdown",
   "metadata": {},
   "source": [
    "**``DEFINICIÓN DE VARIABLE``**\n",
    "    \n",
    "+ ``Una variable es un espacio para almacenar datos en la memoria de un ordenador. En Python, una variable se define con la sintaxis:``\n",
    "    \n",
    "        nombre_de_la_variable = valor_de_la_variable\n",
    "    \n",
    "+ ``Cada variable, tiene un nombre y un valor. Así podemos almacenar un valor en una variable y posteriormente podemos utilizar dicha variable en expresiones. A esta acción de almacenar un valor a una variable se denomina asignación. Los nombres de las variables en Python pueden contener caracteres alfanuméricos (empezando con una letra) a-z, A-Z, 0-9 y otros símbolos como la _. Por cuestiones de estilo, las variables suelen empezar con minúscula.``\n",
    "<br />\n",
    "<br />\n",
    "+ ``Algunos nombres no pueden ser usados como nombres de variables (son palabras reservadas por python):and, as, assert, break, class, continue, def, etc.``\n",
    "<br />\n",
    "<br />\n",
    "<br />\n",
    "\n",
    "**``TIPOS DE VARIABLES``**\n",
    "    \n",
    "+ ``Una vez comprendido lo que es una variable hay que explicar cuantos tipos de variables existen y como se representan.\n",
    "En Python las variables no tienen que ser definidas previamente, ya que es un lenguaje de tipado dinámico, es decir, el es capaz de determinar que tipo de variable hemos escrito. Aún así, si existen diferentes tipos y estos son:``\n",
    "<br />\n",
    "<br />\n",
    "    + ``Tipo Entero (int)``\n",
    "        - ``Tipo Long (números enteros de muchas cifras)``\n",
    "    + ``Tipo Real (float)``\n",
    "    + ``Tipo String (cadena de caracteres)``\n",
    "    + ``Tipo Booleano (True o False)``\n",
    "    + ``Tipo Fecha``\n",
    "    + ``Tipo None (null)``\n",
    "<br />\n",
    "<br />    "
   ]
  },
  {
   "cell_type": "markdown",
   "metadata": {},
   "source": [
    "**``FUNCIONES EN PYTHON``**\n",
    "    \n",
    "+ ``Ya hemos visto cómo funciona la función print. Las funciones en Python se utilizan tal y como se hace en otros lenguajes de programación. Los argumentos se encierran entre paréntesis y se separan por comas.\n",
    "Python proporciona funciones que podemos utilizar en las expresiones. Estas funciones se dice que están predefinidas:``\n",
    "<br />\n",
    "<br />\n",
    "    - ``Valor absoluto: abs``\n",
    "    - ``Valor máximo: max``\n",
    "    - ``Valor mínimo: min``\n",
    "    - ``Redondeo: round``\n",
    "<br />\n",
    "<br />\n",
    "+ ``Existen muchas funciones en Python, igual que en el resto de los lenguajes de programación y las iremos viendo poco a poco; pero existen unas cuantas que nos permiten hacer lo que se denomina como`` _**``casting``**_ ``o, convertir un tipo de variable en otro``\n",
    "<br />\n",
    "<br />\n",
    "    - ``int() --> Transforma la variable entre parentesis en una de tipo entero``\n",
    "    - ``float() --> Transforma la variable entre parentesis en una de tipo coma flotante``\n",
    "    - ``complex() --> Transforma la variable entre parentesis en una de tipo complejo``\n",
    "    - ``str() --> Transforma la variable entre parentesis en una de tipo cadena de caracteres``\n",
    "    "
   ]
  },
  {
   "cell_type": "code",
   "execution_count": 42,
   "metadata": {
    "collapsed": false
   },
   "outputs": [
    {
     "name": "stdout",
     "output_type": "stream",
     "text": [
      "Tu sueldo neto es de 28934.85\n"
     ]
    }
   ],
   "source": [
    "# Los tipos de datos pueden combinarse según nos convenga sin que suponga un problema\n",
    "# tipo int\n",
    "sueldo_bruto = 35000\n",
    "#tipo float\n",
    "retenciones = 17.329\n",
    "neto = sueldo_bruto-(sueldo_bruto*0.17329)\n",
    "\n",
    "# Para concatenar variables de tipo string con variables de otro tipo, hay que convertir la variable NO string a string\n",
    "# Es decir, realizar un casting de variables\n",
    "print(\"Tu sueldo neto es de \" + str(neto))"
   ]
  },
  {
   "cell_type": "code",
   "execution_count": 43,
   "metadata": {
    "collapsed": false
   },
   "outputs": [
    {
     "data": {
      "text/plain": [
       "(5, 8, -1, 19, 18, 1.0, '256568')"
      ]
     },
     "execution_count": 43,
     "metadata": {},
     "output_type": "execute_result"
    }
   ],
   "source": [
    "# FUNCIONES Y CASTEO DE VARIABLES\n",
    "# Valor absoluto\n",
    "abs ( 2 - 7 )\n",
    "# Valor máximo\n",
    "max (1 , 5 , 8 , 7)\n",
    "# Valor mínimo\n",
    "min( -1 , 1 , 0 )\n",
    "# Redondeo de un numero float\n",
    "round( 18.6 )\n",
    "# Casteo de un float a un int\n",
    "int (18.6 )\n",
    "# Casteo de un int a un float\n",
    "float ( 1 )\n",
    "# Convierte un entero a una cadena de caracteres\n",
    "str ( 256568 )\n",
    "\n",
    "# Se pueden concatenar funciones mediante el uso de comas\n",
    "abs ( 2 - 7 ), max (1 , 5 , 8 , 7), min( -1 , 1 , 0 ), round( 18.6 ), int (18.6 ), float ( 1 ), str ( 256568 )"
   ]
  },
  {
   "cell_type": "markdown",
   "metadata": {},
   "source": [
    "<br />\n",
    "**``OPERACIONES CON BOOLEANOS``**\n",
    "    \n",
    "+ ``Los operadores booleanos son los habituales, AND para la conjunción, OR para la disyunción y NOT para la negación.\n",
    "Además dispone de los operadores habituales de comparación. Los operadores de comparación son:``\n",
    "<br />\n",
    "<br />\n",
    "    + ``== igual a``\n",
    "    + ``!= distinto de``\n",
    "    + ``< menor que``\n",
    "    + ``<= menor o igual que``\n",
    "    + ``> mayor que``\n",
    "    + ``>= mayor o igual que``\n",
    "<br />\n",
    "<br />  "
   ]
  },
  {
   "cell_type": "code",
   "execution_count": 44,
   "metadata": {
    "collapsed": false
   },
   "outputs": [
    {
     "name": "stdout",
     "output_type": "stream",
     "text": [
      "False\n"
     ]
    }
   ],
   "source": [
    "#  la comparación devuelve un valor lógico\n",
    "a = True\n",
    "b = False\n",
    "print(a == b)"
   ]
  },
  {
   "cell_type": "code",
   "execution_count": 45,
   "metadata": {
    "collapsed": false
   },
   "outputs": [
    {
     "data": {
      "text/plain": [
       "False"
      ]
     },
     "execution_count": 45,
     "metadata": {},
     "output_type": "execute_result"
    }
   ],
   "source": [
    "# Uso de AND, OR, NOT\n",
    "# con AND debe cumplir las dos condiciones para devolver un TRUE, sino será FALSE\n",
    "5 * 4 <= 100 and 3 > 9"
   ]
  },
  {
   "cell_type": "code",
   "execution_count": 46,
   "metadata": {
    "collapsed": false
   },
   "outputs": [
    {
     "data": {
      "text/plain": [
       "True"
      ]
     },
     "execution_count": 46,
     "metadata": {},
     "output_type": "execute_result"
    }
   ],
   "source": [
    "# con OR debe cumplir al menos una condiciones para devolver un TRUE, sino será FALSE\n",
    "5 * 4 > 100 or 3 < 9"
   ]
  },
  {
   "cell_type": "code",
   "execution_count": 47,
   "metadata": {
    "collapsed": false
   },
   "outputs": [
    {
     "data": {
      "text/plain": [
       "False"
      ]
     },
     "execution_count": 47,
     "metadata": {},
     "output_type": "execute_result"
    }
   ],
   "source": [
    "# con NOT no debe cumplir ninguna condición para devolver un TRUE, sino será FALSE\n",
    "not 5 * 4 > 10"
   ]
  },
  {
   "cell_type": "markdown",
   "metadata": {},
   "source": [
    "+ ``El valor True se corresponde con el valor entero 1, mientras que el el valor False se corresponde con el valor entero 0. Así, es posible realizar operaciones aritméticas con valores booleanos.``\n",
    "<br />\n",
    "<br />"
   ]
  },
  {
   "cell_type": "code",
   "execution_count": 48,
   "metadata": {
    "collapsed": false
   },
   "outputs": [
    {
     "data": {
      "text/plain": [
       "5"
      ]
     },
     "execution_count": 48,
     "metadata": {},
     "output_type": "execute_result"
    }
   ],
   "source": [
    "# Siendo TRUE = 1 el resultado será 5\n",
    "(True + 4) * True"
   ]
  },
  {
   "cell_type": "code",
   "execution_count": 49,
   "metadata": {
    "collapsed": false
   },
   "outputs": [
    {
     "data": {
      "text/plain": [
       "2"
      ]
     },
     "execution_count": 49,
     "metadata": {},
     "output_type": "execute_result"
    }
   ],
   "source": [
    "# Siendo FALSE = 0 y TRUE = 1 el resultado será 2\n",
    "(False + 2) * True"
   ]
  },
  {
   "cell_type": "markdown",
   "metadata": {},
   "source": [
    "<br />\n",
    "**``OPERACIONES CON CADENAS DE CARACTERES``**\n",
    "    \n",
    "+ ``Mucha gente usa Python por sus capacidades para el tratamiento y procesamiento de cadenas.\n",
    "Se corresponde con el tipo String de otros lenguajes. Las cadenas se pueden encerrar en comillas dobles o simples.\n",
    "En Python 3.5 el tipo cadena es UNICODE por defecto.``\n",
    "<br />\n",
    "<br />\n",
    "    + ``Las cadenas se pueden comparar mediante ==, <, >, etc.``\n",
    "    + ``Las cadenas se pueden concatenar mediante +``\n",
    "    + ``Se puede multiplicar una cadena por un número``\n",
    "    + ``Se puede conocer su extensión mediante la función len(a)``\n",
    "<br />\n",
    "<br />\n",
    "+ ``Las cadenas largas de caracteres se encierran entre triple comillas dobles.``\n",
    "<br />\n",
    "<br />"
   ]
  },
  {
   "cell_type": "code",
   "execution_count": 50,
   "metadata": {
    "collapsed": false
   },
   "outputs": [
    {
     "name": "stdout",
     "output_type": "stream",
     "text": [
      " Los Reyes Católicos fue la denominación que recibieron los esposos\n",
      "Fernando II de Aragón e Isabel I de Castilla, soberanos de la Corona de\n",
      "Castilla (1474-1504) y de la Corona de Aragón (1479-1516).\n",
      "\n",
      "Los Reyes accedieron al trono de Castilla tras la Guerra de Sucesión \n",
      "Castellana (1475-1479) contra los partidarios de la princesa Juana la \n",
      "Beltraneja, hija del rey Enrique IV de Castilla. En 1479 Fernando heredó el \n",
      "trono de Aragón al morir su padre, el rey Juan II de Aragón. Isabel y Fernando\n",
      "reinaron juntos hasta la muerte de ella en 1504. Entonces Fernando quedó\n",
      "únicamente como rey de Aragón, pasando Castilla a su hija Juana, apodada\n",
      "\"la Loca\", y a su marido Felipe de Austria, apodado \"el Hermoso\", Archiduque\n",
      "de Austria, duque de Borgoña y conde de Flandes. Sin embargo Fernando no \n",
      "renunció a controlar Castilla y, tras morir Felipe en 1506 y ser declarada \n",
      "Juana incapaz, consiguió ser nombrado regente del reino hasta su muerte en 1516\n"
     ]
    }
   ],
   "source": [
    "larga = \"\"\" Los Reyes Católicos fue la denominación que recibieron los esposos\n",
    "Fernando II de Aragón e Isabel I de Castilla, soberanos de la Corona de\n",
    "Castilla (1474-1504) y de la Corona de Aragón (1479-1516).\n",
    "\n",
    "Los Reyes accedieron al trono de Castilla tras la Guerra de Sucesión \n",
    "Castellana (1475-1479) contra los partidarios de la princesa Juana la \n",
    "Beltraneja, hija del rey Enrique IV de Castilla. En 1479 Fernando heredó el \n",
    "trono de Aragón al morir su padre, el rey Juan II de Aragón. Isabel y Fernando\n",
    "reinaron juntos hasta la muerte de ella en 1504. Entonces Fernando quedó\n",
    "únicamente como rey de Aragón, pasando Castilla a su hija Juana, apodada\n",
    "\"la Loca\", y a su marido Felipe de Austria, apodado \"el Hermoso\", Archiduque\n",
    "de Austria, duque de Borgoña y conde de Flandes. Sin embargo Fernando no \n",
    "renunció a controlar Castilla y, tras morir Felipe en 1506 y ser declarada \n",
    "Juana incapaz, consiguió ser nombrado regente del reino hasta su muerte en 1516\"\"\"\n",
    "\n",
    "print(larga)"
   ]
  },
  {
   "cell_type": "code",
   "execution_count": 51,
   "metadata": {
    "collapsed": false
   },
   "outputs": [
    {
     "data": {
      "text/plain": [
       "'Las \"comillas\" son caracteres epeciales'"
      ]
     },
     "execution_count": 51,
     "metadata": {},
     "output_type": "execute_result"
    }
   ],
   "source": [
    "# El uso de dobles comillas en cadenas de caracteres debe respetar un formato concreto, puesto que \" es un caracter especial.\n",
    "# La sintáxis debe ser como en ejemplo, teniendo en cuenta que / es otro caracter especial y lo que va entre / / se representa\n",
    "# tal y como se escribe integramente.\n",
    "comillas = \"Las \\\"comillas\\\" son caracteres epeciales\"\n",
    "comillas"
   ]
  },
  {
   "cell_type": "code",
   "execution_count": 52,
   "metadata": {
    "collapsed": false
   },
   "outputs": [
    {
     "name": "stdout",
     "output_type": "stream",
     "text": [
      "Hay otros caracteres especiales como el salto de línea.\n",
      "Sirve para representar el fín de línea en ficheros.\n"
     ]
    }
   ],
   "source": [
    "especial = \"Hay otros caracteres especiales como el salto de línea.\\nSirve para representar el fín de línea en ficheros.\"\n",
    "print(especial)"
   ]
  },
  {
   "cell_type": "markdown",
   "metadata": {},
   "source": [
    "<br />\n",
    "**``OPERADORES DE FORMATO PARA CADENAS DE TEXTO``**\n",
    "    \n",
    "+ ``El uso del símbolo % seguido de uno o mas caracteres de formato permiten controlar con precisión la construcción de cadenas.``\n",
    "<br />\n",
    "<br />\n",
    "    - ``%s : ha de sustituirse por una cadena``\n",
    "    - ``%d : ha de sustituirse por un entero``\n",
    "    - ``%.2f : ha de sustituirse por un número con dos decimales``\n",
    "<br />\n",
    "<br />"
   ]
  },
  {
   "cell_type": "code",
   "execution_count": 53,
   "metadata": {
    "collapsed": false
   },
   "outputs": [
    {
     "name": "stdout",
     "output_type": "stream",
     "text": [
      "Cambio: 1 dolar son 0.89465 euros\n",
      "Cambio: 1 euro son 1.11775 dólares\n"
     ]
    }
   ],
   "source": [
    "texto = \"Cambio: %d %s son %.5f %s\"\n",
    "print(texto % (1, \"dolar\" , 0.89465444 , \"euros\"))\n",
    "print(texto % (1, \"euro\", 1.11775, \"dólares\"))"
   ]
  },
  {
   "cell_type": "code",
   "execution_count": 54,
   "metadata": {
    "collapsed": false
   },
   "outputs": [
    {
     "name": "stdout",
     "output_type": "stream",
     "text": [
      "El área de un círculo de radio 4.323343 es 58.720422\n"
     ]
    }
   ],
   "source": [
    "radio = 4.323343\n",
    "pi = 3.141592\n",
    "area = pi * radio ** 2\n",
    "print ('El área de un círculo de radio %.6f es %.6f' % (radio, area))"
   ]
  },
  {
   "cell_type": "markdown",
   "metadata": {},
   "source": [
    "<br />\n",
    "**``LA VARIABLE DE TIPO FECHA``**\n",
    "    \n",
    "+ ``Python proporciona los tipos`` ***datetime***, ***date*** y ***time*** ``en su módulo datetime. El tipo más usado es datetime.``\n",
    "<br />\n",
    "<br />\n",
    "    - ``datetime es el tipo que combina la fecha y la hora``\n",
    "    - ``date: almacena la fecha``\n",
    "    - ``time : tipo para la hora``\n",
    "<br />\n",
    "<br />"
   ]
  },
  {
   "cell_type": "code",
   "execution_count": 81,
   "metadata": {
    "collapsed": false
   },
   "outputs": [
    {
     "name": "stdout",
     "output_type": "stream",
     "text": [
      "5 10 2011\n",
      "La fecha es: 5/10/2011\n",
      "Y son las: 16:50:0\n"
     ]
    }
   ],
   "source": [
    "# El formato de DATETIME es con notación americana (año, mes, dia, hora, minutos, segundos)\n",
    "from datetime import datetime, date, time\n",
    "dt = datetime(2011, 10, 5, 16,50,0)\n",
    "print(dt.day, dt.month, dt.year)\n",
    "texto = \"La fecha es: %d/%d/%d\"\n",
    "texto2 = \"Y son las: %d:%d:%d\"\n",
    "print(texto % (dt.day, dt.month, dt.year))\n",
    "print(texto2 % (dt.hour, dt.minute, dt.second))"
   ]
  },
  {
   "cell_type": "code",
   "execution_count": 82,
   "metadata": {
    "collapsed": false
   },
   "outputs": [
    {
     "data": {
      "text/plain": [
       "'La fecha de hoy es: 24/05/2017  16:06:15'"
      ]
     },
     "execution_count": 82,
     "metadata": {},
     "output_type": "execute_result"
    }
   ],
   "source": [
    "# Un ejemplo extrayendo la fecha actual del sistema y presentandola en formato STRING\n",
    "from datetime import datetime, date, time\n",
    "fecha = datetime.now()\n",
    "fecha.strftime(\"La fecha de hoy es: \"'%d/%m/%Y  %H:%M:%S')"
   ]
  }
 ],
 "metadata": {
  "kernelspec": {
   "display_name": "Python 3",
   "language": "python",
   "name": "python3"
  },
  "language_info": {
   "codemirror_mode": {
    "name": "ipython",
    "version": 3
   },
   "file_extension": ".py",
   "mimetype": "text/x-python",
   "name": "python",
   "nbconvert_exporter": "python",
   "pygments_lexer": "ipython3",
   "version": "3.6.0"
  }
 },
 "nbformat": 4,
 "nbformat_minor": 2
}
