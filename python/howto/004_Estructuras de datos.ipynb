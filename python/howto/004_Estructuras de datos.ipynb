{
 "cells": [
  {
   "cell_type": "markdown",
   "metadata": {},
   "source": [
    "![logo_python3](https://www.python.org/static/img/python-logo.png \"Logo Python3\")\n",
    "# ``Estructuras de datos``"
   ]
  },
  {
   "cell_type": "markdown",
   "metadata": {},
   "source": [
    "``Python posee además de los tipos de datos básicos, otros tipos de datos más complejos. Se trata de las tuplas, las listas y los diccionarios.``\n",
    "\n",
    "``Estos tres tipos, pueden almacenar colecciones de datos de diversos tipos y se diferencian por su sintaxis y por la forma en la cual los datos pueden ser manipulados.``\n",
    "\n",
    "<br />\n",
    "**``SECUENCIAS: TUPLAS Y LISTAS``**\n",
    "\n",
    "``Tanto las tuplas como las listas son conjuntos ordenados de elementos.``\n",
    "``Una tupla es una variable que permite almacenar datos inmutables (no pueden ser modificados una vez creados) de tipos diferentes. Las tuplas se encierran entre paréntesis.``\n",
    "\n",
    "   + ``Tienen longitud fija``\n",
    "   + ``Solo tiene una dimensión (*)``\n",
    "    \n",
    "``Una lista es similar a una tupla con la diferencia fundamental de que permite modificar los datos una vez creados. Las listas se encierran entre corchetes y además pueden ser de mútiples dimensiones``\n",
    "\n",
    "<br />"
   ]
  },
  {
   "cell_type": "code",
   "execution_count": 28,
   "metadata": {
    "collapsed": false
   },
   "outputs": [
    {
     "name": "stdout",
     "output_type": "stream",
     "text": [
      "Lista:  [4, 'Hola', 6.0, 99]\n",
      "Tupla:  (4, 'Hola', 6.0, 99)\n",
      "False\n"
     ]
    }
   ],
   "source": [
    "# Ejemplo de lista, los valores van entre corchetes\n",
    "una_lista = [4, \"Hola\", 6.0, 99 ]\n",
    "# Ejemplo de tupla, los valores van entre paréntesis\n",
    "una_tupla = (4, \"Hola\", 6.0, 99)\n",
    "\n",
    "print (\"Lista: \" , una_lista)\n",
    "print (\"Tupla: \" , una_tupla)\n",
    "# Las tuplas y las listas aceptan operadores de comparación y devuelven un booleano\n",
    "print (una_lista == una_tupla)"
   ]
  },
  {
   "cell_type": "code",
   "execution_count": 29,
   "metadata": {
    "collapsed": false
   },
   "outputs": [
    {
     "data": {
      "text/plain": [
       "(True, True)"
      ]
     },
     "execution_count": 29,
     "metadata": {},
     "output_type": "execute_result"
    }
   ],
   "source": [
    "# una_lista = [4, \"Hola\", 6.0, 99 ]\n",
    "# una_tupla = (4, \"Hola\", 6.0, 99)\n",
    "# Uso del operador IN\n",
    "4 in una_lista, 5 not in una_tupla"
   ]
  },
  {
   "cell_type": "code",
   "execution_count": 30,
   "metadata": {
    "collapsed": false
   },
   "outputs": [
    {
     "data": {
      "text/plain": [
       "(4, 4)"
      ]
     },
     "execution_count": 30,
     "metadata": {},
     "output_type": "execute_result"
    }
   ],
   "source": [
    "# Uso de la función LEN, que nos dice cuantos elementos componen una lista o una tupla\n",
    "len(una_lista), len(una_tupla)"
   ]
  },
  {
   "cell_type": "code",
   "execution_count": 31,
   "metadata": {
    "collapsed": false
   },
   "outputs": [
    {
     "data": {
      "text/plain": [
       "[1, 2, 4, 5, 6, 7, 9]"
      ]
     },
     "execution_count": 31,
     "metadata": {},
     "output_type": "execute_result"
    }
   ],
   "source": [
    "# Uso de la funcion SORTED para ordenar los elementos de una lista/tupla\n",
    "# Al ordenar la lista no la modifica, se crea una nueva; de ahí que tengamos que definir una variable para ejecutar la función\n",
    "lista = [ 5, 6, 7, 1, 4, 2, 9 ]\n",
    "otra = sorted(lista)\n",
    "otra"
   ]
  },
  {
   "cell_type": "markdown",
   "metadata": {},
   "source": [
    "<br />\n",
    "**``ACCESO A LOS ELEMENTOS DE UNA SECUENCIA``**\n",
    "\n",
    "``Los elementos de las secuencias pueden ser accedidos mediante el uso de corchetes [ ], como en otros lenguajes de programación.\n",
    "Podemos indexar las secuencias utilizando la sintaxis [<inicio>:<final>:<salto>].``\n",
    "\n",
    "``En Python, la indexación empieza por CERO``"
   ]
  },
  {
   "cell_type": "code",
   "execution_count": 32,
   "metadata": {
    "collapsed": false
   },
   "outputs": [
    {
     "name": "stdout",
     "output_type": "stream",
     "text": [
      "[5, 3, 1, 6, 99]\n",
      "5\n",
      "1\n"
     ]
    }
   ],
   "source": [
    "lista = [5, 3, 1, 6, 99]\n",
    "print(lista)\n",
    "# Mostrar el primer elemento\n",
    "print(lista[0])\n",
    "# Mostrar el tercer elemento\n",
    "print(lista[2])"
   ]
  },
  {
   "cell_type": "code",
   "execution_count": 33,
   "metadata": {
    "collapsed": false
   },
   "outputs": [
    {
     "name": "stdout",
     "output_type": "stream",
     "text": [
      "[2, 9, 6, 4, 3, 71, 1, 32, 534, 325, 2, 6, 9, 0]\n",
      "[4, 3, 71]\n",
      "[2, 6, 3, 1, 534, 2, 9]\n",
      "0\n",
      "9\n"
     ]
    }
   ],
   "source": [
    "# Uso de la sintaxis [<inicio>:<final>:<salto>]\n",
    "lista = [2, 9, 6, 4, 3, 71, 1, 32, 534, 325, 2, 6, 9, 0]\n",
    "print(lista)\n",
    "# Muestra 3 elementos, comenzando por el elemento situado en la posición 3 y\n",
    "# terminando en el de la posición 6, con saltos de 1 elementos\n",
    "# [3,6) es como se expresa en notación científica, donde el corchete incluye y el paréntesis excluye\n",
    "print(lista[3:6:1])\n",
    "# Muestra todos los elementos, desde el primero hasta el último, con saltos de 2 elementos\n",
    "print(lista[::2])\n",
    "# Se puede acceder a los elementos de una secuencia de manera inversa\n",
    "print ( lista[-1] )  # El último elemento\n",
    "print ( lista[-2] )  # El penúltimo elemento\n"
   ]
  },
  {
   "cell_type": "markdown",
   "metadata": {},
   "source": [
    "\n",
    "``Los elementos de las secuencias, tanto listas como tuplas, son hetereogéneos, así que es posible definir listas que contienen valores númericos y cadenas de caracteres, así como otras listas:``\n"
   ]
  },
  {
   "cell_type": "code",
   "execution_count": 34,
   "metadata": {
    "collapsed": false
   },
   "outputs": [
    {
     "name": "stdout",
     "output_type": "stream",
     "text": [
      "[[1, 2, 3, 4], [6, 98, 'Abc']]\n"
     ]
    }
   ],
   "source": [
    "# Lista con valores heterogéneos\n",
    "lista = [\"A\", 26, \"lista\", 9, -62]\n",
    "lista2 = [1, 2, 3, 4]\n",
    "lista3 = [\"A\", \"B\", \"C\", \"D\"]\n",
    "# Lista que incluye otra lista, así como otros valores\n",
    "lista4 = [lista2, [6, 98, \"Abc\"]]\n",
    "print(lista4)"
   ]
  },
  {
   "cell_type": "code",
   "execution_count": 35,
   "metadata": {
    "collapsed": false
   },
   "outputs": [
    {
     "name": "stdout",
     "output_type": "stream",
     "text": [
      "Abc\n"
     ]
    }
   ],
   "source": [
    "# Acceder a los elementos de una lista que a su vez está incluida en otra lista (una matriz o array)\n",
    "# [acceso a la lista][acceso a la posición de dicha lista]\n",
    "d = lista4[1][2]\n",
    "print(d)"
   ]
  },
  {
   "cell_type": "code",
   "execution_count": 36,
   "metadata": {
    "collapsed": false
   },
   "outputs": [
    {
     "name": "stdout",
     "output_type": "stream",
     "text": [
      "Valor A:  4\n",
      "Valor B:  7\n"
     ]
    }
   ],
   "source": [
    "# Lista simple o de 1 dimensión\n",
    "matriz1 = [\n",
    "            1, 2, 3,\n",
    "            4, 5, 6,\n",
    "            7, 8, 9,\n",
    "]\n",
    "# Acceso al elemento 3 de la lista\n",
    "print(\"Valor A: \", matriz1[3])\n",
    "# Lista de 3 dimensiones\n",
    "matriz2 = [\n",
    "            [1, 2, 3],\n",
    "            [4, 5, 6],\n",
    "            [7, 8, 9]\n",
    "]\n",
    "# Acceso al elemento 1 de la segunda lista\n",
    "print(\"Valor B: \", matriz2[2][0])"
   ]
  },
  {
   "cell_type": "markdown",
   "metadata": {},
   "source": [
    "\n",
    "``En el caso de las listas, podemos modificar los datos almacenados:``\n"
   ]
  },
  {
   "cell_type": "code",
   "execution_count": 37,
   "metadata": {
    "collapsed": false
   },
   "outputs": [
    {
     "name": "stdout",
     "output_type": "stream",
     "text": [
      "Antes:  [1, 2, 3, 4]\n",
      "Después:  [0.0, 2, 3, 4]\n"
     ]
    }
   ],
   "source": [
    "lista = [1, 2, 3, 4]\n",
    "print ( \"Antes: \", lista)\n",
    "lista[0] = 0.0\n",
    "print (\"Después: \", lista)"
   ]
  },
  {
   "cell_type": "code",
   "execution_count": 38,
   "metadata": {
    "collapsed": false
   },
   "outputs": [
    {
     "name": "stdout",
     "output_type": "stream",
     "text": [
      "[[1, 2, 3], [4, 5, 6], [7, 8, 9]]\n"
     ]
    },
    {
     "data": {
      "text/plain": [
       "[[1, 2, 3], [0, 0, 0], [7, 8, 9]]"
      ]
     },
     "execution_count": 38,
     "metadata": {},
     "output_type": "execute_result"
    }
   ],
   "source": [
    "print(matriz2)\n",
    "matriz2[1] = [0,0,0]\n",
    "matriz2"
   ]
  },
  {
   "cell_type": "code",
   "execution_count": 4,
   "metadata": {
    "collapsed": false
   },
   "outputs": [
    {
     "name": "stdout",
     "output_type": "stream",
     "text": [
      "[[1, 2, 3], [4, 5, 6], [7, 8, 9], ['A', 'B', 'C']]\n"
     ]
    },
    {
     "data": {
      "text/plain": [
       "[[1, 2, 3], [4, 5, 6], [7, 8, 9], ['A', 'B', 'C'], 5]"
      ]
     },
     "execution_count": 4,
     "metadata": {},
     "output_type": "execute_result"
    }
   ],
   "source": [
    "# Con esta instrucción \"matriz2.*?\" nos muestra todas las posibilidades existentes: \n",
    "# matriz2.append\n",
    "# matriz2.clear\n",
    "# matriz2.copy\n",
    "# matriz2.count\n",
    "# matriz2.extend\n",
    "# matriz2.index\n",
    "# matriz2.insert\n",
    "# matriz2.pop\n",
    "# matriz2.remove\n",
    "# matriz2.reverse\n",
    "# matriz2.sort\n",
    "\n",
    "# Por ejemplo para añadir una lista a otra lista mediante la instrucción append.\n",
    "# Se puede añadir sólo un valor, no es necesario añadir una lista entera\n",
    "matriz = [[1,2,3],[4,5,6],[7,8,9]]\n",
    "matriz.append(['A','B','C'])\n",
    "print(matriz)\n",
    "matriz.append(5)\n",
    "matriz"
   ]
  },
  {
   "cell_type": "code",
   "execution_count": 62,
   "metadata": {
    "collapsed": false
   },
   "outputs": [
    {
     "data": {
      "text/plain": [
       "[[1, 2, 3], [4, 5, 6], [7, 8, 9], ['A', 'B', 'C']]"
      ]
     },
     "execution_count": 62,
     "metadata": {},
     "output_type": "execute_result"
    }
   ],
   "source": [
    "# Para quitar un elemento de la lista, se usa la instrucción remove\n",
    "matriz.remove(5)\n",
    "matriz"
   ]
  },
  {
   "cell_type": "markdown",
   "metadata": {
    "collapsed": true
   },
   "source": [
    "``Se pueden`` **_``concatenar``_** ``listas o tuplas mediante el operador +``"
   ]
  },
  {
   "cell_type": "code",
   "execution_count": 66,
   "metadata": {
    "collapsed": false
   },
   "outputs": [
    {
     "name": "stdout",
     "output_type": "stream",
     "text": [
      "(1, 2, 3, 'a', 'b', 'c')\n"
     ]
    },
    {
     "data": {
      "text/plain": [
       "(6, 9, 7, 'abc', 1, 6, 0, 'def')"
      ]
     },
     "execution_count": 66,
     "metadata": {},
     "output_type": "execute_result"
    }
   ],
   "source": [
    "# Ejemplo de concatenación de dos tuplas\n",
    "# En el primer ejemplo se crea una tupla con dos tuplas concatenadas, definiendolas en la misma línea\n",
    "tupla = (1,2,3) + ('a','b','c')\n",
    "print(tupla)\n",
    "# Creación de una tupla a partir de dos tuplas definidas previamente\n",
    "tupla1 = (6,9,7,'abc')\n",
    "tupla2 = (1,6,0,'def')\n",
    "tupla_f = tupla1 + tupla2\n",
    "tupla_f"
   ]
  },
  {
   "cell_type": "code",
   "execution_count": 69,
   "metadata": {
    "collapsed": false
   },
   "outputs": [
    {
     "data": {
      "text/plain": [
       "(6, 9, 7, 'abc', 6, 9, 7, 'abc', 6, 9, 7, 'abc', 6, 9, 7, 'abc')"
      ]
     },
     "execution_count": 69,
     "metadata": {},
     "output_type": "execute_result"
    }
   ],
   "source": [
    "# Se pueden utilizar operadores matemáticos con las listas o tuplas\n",
    "# A destacar que el uso de los operadores + y * no modifican las secuencias originales, sino que crean nuevas secuencias\n",
    "tupla_m = tupla1 * 4\n",
    "tupla_m"
   ]
  },
  {
   "cell_type": "markdown",
   "metadata": {},
   "source": [
    "<BR />\n",
    "**``DESEMPAQUETAR TUPLAS``**"
   ]
  },
  {
   "cell_type": "markdown",
   "metadata": {},
   "source": [
    "``En muchos casos es interesante asignar nombre a los elementos de las tuplas para, posteriormente, trabajar con esas variables.``"
   ]
  },
  {
   "cell_type": "code",
   "execution_count": 70,
   "metadata": {
    "collapsed": false
   },
   "outputs": [
    {
     "data": {
      "text/plain": [
       "2"
      ]
     },
     "execution_count": 70,
     "metadata": {},
     "output_type": "execute_result"
    }
   ],
   "source": [
    "# Se define una tupla llamada \"laborales\"\n",
    "laborales = (1, 2, 3, 4, 5 )\n",
    "# Se define una variable llamada \"laborales\" con una serie de valores para dicha tupla\n",
    "# La definición de la variable puede hacerse antes de los valores o despues de los valores\n",
    "lunes, martes, miercoles, jueves, viernes = laborales\n",
    "# Si preguntamos por un valor de dicha variable nos devolverá su correspondencia dentro de la tupla\n",
    "martes"
   ]
  },
  {
   "cell_type": "markdown",
   "metadata": {},
   "source": [
    "``Mostramos otro ejemplo con tuplas anidadas:``"
   ]
  },
  {
   "cell_type": "code",
   "execution_count": 72,
   "metadata": {
    "collapsed": false
   },
   "outputs": [
    {
     "data": {
      "text/plain": [
       "((1, 2, 3, 4, 5), (6, 7))"
      ]
     },
     "execution_count": 72,
     "metadata": {},
     "output_type": "execute_result"
    }
   ],
   "source": [
    "# Creamos una tupla llamada \"dias\" anidando dos tuplas, una ya existente (\"laborales\") y otra que creamos al anidar (6,7)\n",
    "dias = laborales, (6, 7)\n",
    "# El resultado es una tupla de tuplas\n",
    "dias"
   ]
  },
  {
   "cell_type": "code",
   "execution_count": 79,
   "metadata": {
    "collapsed": false
   },
   "outputs": [
    {
     "data": {
      "text/plain": [
       "6"
      ]
     },
     "execution_count": 79,
     "metadata": {},
     "output_type": "execute_result"
    }
   ],
   "source": [
    "# Crea la variable \"dias\" a partir de la variable \"laborales\", añadiendo dos valores nuevos (sabado, domingo)\n",
    "laborales, (sabado, domingo) = dias\n",
    "sabado"
   ]
  },
  {
   "cell_type": "markdown",
   "metadata": {},
   "source": [
    "<BR />\n",
    "**``LISTAS: CASOS PARTICULARES``**\n",
    "\n",
    "``Como hemos dicho anteriormente, las listas pueden tener longitud variable y son mutables. También hemos visto que pueden definirse mediante [ ].``\n",
    "\n",
    "``Otra forma de definir las listas es mediante la función list.``"
   ]
  },
  {
   "cell_type": "code",
   "execution_count": 81,
   "metadata": {
    "collapsed": false
   },
   "outputs": [
    {
     "data": {
      "text/plain": [
       "[3, 4, 5]"
      ]
     },
     "execution_count": 81,
     "metadata": {},
     "output_type": "execute_result"
    }
   ],
   "source": [
    "# Definimos una tupla\n",
    "tupla = (3, 4, 5)\n",
    "# Mediante la función \"list\" creamos una lista a partir de la tupla anterior\n",
    "lista = list(tupla)\n",
    "lista"
   ]
  },
  {
   "cell_type": "code",
   "execution_count": 82,
   "metadata": {
    "collapsed": false
   },
   "outputs": [
    {
     "data": {
      "text/plain": [
       "[None, 4, 5]"
      ]
     },
     "execution_count": 82,
     "metadata": {},
     "output_type": "execute_result"
    }
   ],
   "source": [
    "# Se puede modificar una lista especificando la posición a modificar y un valor\n",
    "lista[0] = None     # valor nulo en Python\n",
    "lista"
   ]
  },
  {
   "cell_type": "code",
   "execution_count": 83,
   "metadata": {
    "collapsed": false
   },
   "outputs": [
    {
     "data": {
      "text/plain": [
       "[3, 4, 5]"
      ]
     },
     "execution_count": 83,
     "metadata": {},
     "output_type": "execute_result"
    }
   ],
   "source": [
    "lista[0] = 3\n",
    "lista"
   ]
  },
  {
   "cell_type": "markdown",
   "metadata": {},
   "source": [
    "<br />\n",
    "**``AÑADIR Y ELEMINAR ELEMENTOS DE UNA LISTA``**\n",
    "\n",
    "``Aunque se pueden añadir elementos como hemos visto antes, la forma más eficiente es mediante el método`` **_``append``_**``, que añade elementos al final de la lista. Otra forma de añadir elementos es mediante el método`` **_``insert``_**``, que inserta un elemento en una determinada posición.``"
   ]
  },
  {
   "cell_type": "code",
   "execution_count": 87,
   "metadata": {
    "collapsed": false
   },
   "outputs": [
    {
     "name": "stdout",
     "output_type": "stream",
     "text": [
      "['Lunes', 'Jueves']\n",
      "['Lunes', 'Jueves', 'Viernes']\n"
     ]
    }
   ],
   "source": [
    "# Definimos una lista\n",
    "lista = ['Lunes', 'Jueves']\n",
    "print(lista)\n",
    "# Mediante la instrucción \"append(valor)\" añadimos a dicha lista un valor\n",
    "# Con append(valor) añadimos siempre el elemento al final de la lista\n",
    "lista.append('Viernes')\n",
    "print(lista)"
   ]
  },
  {
   "cell_type": "code",
   "execution_count": 88,
   "metadata": {
    "collapsed": false
   },
   "outputs": [
    {
     "name": "stdout",
     "output_type": "stream",
     "text": [
      "['Lunes', 'Martes', 'Jueves', 'Viernes']\n",
      "['Lunes', 'Martes', 'Miércoles', 'Jueves', 'Viernes']\n"
     ]
    }
   ],
   "source": [
    "# La instrucción \"insert(posición,valor)\" es similar a append(valor), con la salvedad de que nos permite añadir el elemento\n",
    "# en la posición que nostros queramos\n",
    "lista.insert(1, 'Martes')\n",
    "print(lista)\n",
    "lista.insert(2, 'Miércoles')\n",
    "print(lista)"
   ]
  },
  {
   "cell_type": "markdown",
   "metadata": {},
   "source": [
    "``La operación`` **_``pop``_** ``permite eliminar el elemento de la lista que ocupa una determinada posición.``"
   ]
  },
  {
   "cell_type": "code",
   "execution_count": 89,
   "metadata": {
    "collapsed": false
   },
   "outputs": [
    {
     "data": {
      "text/plain": [
       "'Jueves'"
      ]
     },
     "execution_count": 89,
     "metadata": {},
     "output_type": "execute_result"
    }
   ],
   "source": [
    "# Para usar la instrucción \"pop(posición)\" hay que definir una variable que realice dicha operación\n",
    "# En este ejemplo borramos la posición 3 \"Jueves\"\n",
    "borrar = lista.pop(3)\n",
    "borrar"
   ]
  },
  {
   "cell_type": "code",
   "execution_count": 90,
   "metadata": {
    "collapsed": false
   },
   "outputs": [
    {
     "data": {
      "text/plain": [
       "['Lunes', 'Martes', 'Miércoles', 'Viernes']"
      ]
     },
     "execution_count": 90,
     "metadata": {},
     "output_type": "execute_result"
    }
   ],
   "source": [
    "# Verificamos que la lista ya no contiene el elemento \"Jueves\"\n",
    "lista"
   ]
  },
  {
   "cell_type": "markdown",
   "metadata": {},
   "source": [
    "``Pero puede darse el caso de que necesitemos eliminar un elemento de la lista y que no conozcamos la posición que ocupa. En esos casos utilizaremos el método`` _**``remove``**_``.``"
   ]
  },
  {
   "cell_type": "code",
   "execution_count": 91,
   "metadata": {
    "collapsed": false
   },
   "outputs": [
    {
     "data": {
      "text/plain": [
       "['Lunes', 'Martes', 'Miércoles']"
      ]
     },
     "execution_count": 91,
     "metadata": {},
     "output_type": "execute_result"
    }
   ],
   "source": [
    "lista.remove('Viernes')\n",
    "lista"
   ]
  },
  {
   "cell_type": "markdown",
   "metadata": {},
   "source": [
    "<BR />\n",
    "**``ORDENAR LISTAS``**\n",
    "\n",
    "``El método sort permite ordenar una lista sin necesidad de crear una lista nueva, por lo que la operación es muy eficiente.``"
   ]
  },
  {
   "cell_type": "code",
   "execution_count": 97,
   "metadata": {
    "collapsed": false
   },
   "outputs": [
    {
     "name": "stdout",
     "output_type": "stream",
     "text": [
      "[0, 0, 1, 1, 2, 3, 4, 4, 4, 5, 5, 7, 7, 9]\n"
     ]
    },
    {
     "data": {
      "text/plain": [
       "[0, 1, 1, 2, 3, 4, 4, 4, 5, 5, 7, 7, 9]"
      ]
     },
     "execution_count": 97,
     "metadata": {},
     "output_type": "execute_result"
    }
   ],
   "source": [
    "# Definimos una lista\n",
    "lista = [5,7,2,0,4,7,1,5,4,3,4,1,9,0]\n",
    "# Mediante el método \"sort()\" ordenamos la lista\n",
    "lista.sort()\n",
    "# Con \"remove()\" eliminamos un elemento especificando entre paréntesis el primer valor a eliminar, en caso de que haya dos\n",
    "# o más elementos igules en la lista. La diferencia con \"pop(posición)\" es que si la lista no está ordenada eliminamos el primer\n",
    "# elemento que coincida, con pop() podemos eliminar un elemento concreto.\n",
    "print(lista)\n",
    "lista.remove(0)\n",
    "lista"
   ]
  },
  {
   "cell_type": "markdown",
   "metadata": {},
   "source": [
    "<BR />\n",
    "**``GENERAR LISTAS``**\n",
    "\n",
    "``Python 2.7 proporciona la función predefinida`` **_``range(inicio, fin, paso)``_** ``para generar listas automáticamente. En Python 3.5 no se genera una lista; se genera un objeto iterable.``"
   ]
  },
  {
   "cell_type": "code",
   "execution_count": 99,
   "metadata": {
    "collapsed": false
   },
   "outputs": [
    {
     "data": {
      "text/plain": [
       "[0, 2, 4, 6, 8, 10]"
      ]
     },
     "execution_count": 99,
     "metadata": {},
     "output_type": "execute_result"
    }
   ],
   "source": [
    "# Se define la variable 'l' como un rango que empieza en 0, termina en 11 y va en saltos de 2\n",
    "l = range(0,11,2)\n",
    "# Después mediante la función list() creamos una lista de 'l'\n",
    "list(l)"
   ]
  },
  {
   "cell_type": "code",
   "execution_count": 100,
   "metadata": {
    "collapsed": false
   },
   "outputs": [
    {
     "data": {
      "text/plain": [
       "range(-5, 5)"
      ]
     },
     "execution_count": 100,
     "metadata": {},
     "output_type": "execute_result"
    }
   ],
   "source": [
    "# Ejemplo desglosado, en este caso si no se especifica un paso, lo realiza de 1 en 1\n",
    "# Variable y muestra del valor de dicha variable\n",
    "l = range(-5, 5)\n",
    "l"
   ]
  },
  {
   "cell_type": "code",
   "execution_count": 105,
   "metadata": {
    "collapsed": false
   },
   "outputs": [
    {
     "data": {
      "text/plain": [
       "[-5, -4, -3, -2, -1, 0, 1, 2, 3, 4]"
      ]
     },
     "execution_count": 105,
     "metadata": {},
     "output_type": "execute_result"
    }
   ],
   "source": [
    "# Uso de list() para crear la lista de la variable 'l'\n",
    "list(l)"
   ]
  },
  {
   "cell_type": "markdown",
   "metadata": {},
   "source": [
    "<BR />\n",
    "**``SECUENCIAS DE CARACTERES STR``**\n",
    "\n",
    "``Las cadenas son consideradas como una secuencia de caracteres y por tanto pueden ser tratadas como otras secuencias (tuplas o listas). Podemos acceder a cada uno de los caracteres de una cadena:``"
   ]
  },
  {
   "cell_type": "code",
   "execution_count": 110,
   "metadata": {
    "collapsed": false
   },
   "outputs": [
    {
     "data": {
      "text/plain": [
       "('Ana', 'A', 'a')"
      ]
     },
     "execution_count": 110,
     "metadata": {},
     "output_type": "execute_result"
    }
   ],
   "source": [
    "# Definimos una variable con un valor string\n",
    "a = \"Ana\"\n",
    "# Se considera que la cadena o string \"Ana\" es una secuencia de 3 posiciones, siendo:\n",
    "# A --> posición 0\n",
    "# n --> posición 1\n",
    "# a --> posición 2\n",
    "# Por tanto se puede acceder a cada uno de los caracteres que componen un string como si fueran elementos de una lista o tupla\n",
    "a, a[0], a[2]"
   ]
  },
  {
   "cell_type": "code",
   "execution_count": 115,
   "metadata": {
    "collapsed": false
   },
   "outputs": [
    {
     "data": {
      "text/plain": [
       "('V', 'u')"
      ]
     },
     "execution_count": 115,
     "metadata": {},
     "output_type": "execute_result"
    }
   ],
   "source": [
    "# Los espacios no se tienen en cuenta\n",
    "mensaje = \"Vaya calor que hace\"\n",
    "mensaje[0], mensaje[12]"
   ]
  },
  {
   "cell_type": "code",
   "execution_count": 116,
   "metadata": {
    "collapsed": false
   },
   "outputs": [
    {
     "data": {
      "text/plain": [
       "('vaya calor que hace', 'Vaya calor que hace')"
      ]
     },
     "execution_count": 116,
     "metadata": {},
     "output_type": "execute_result"
    }
   ],
   "source": [
    "# Las cadenas en Python son inmutables. Eso quiere decir que no es posible modificar una cadena sin crear otra nueva.\n",
    "b = mensaje.replace('V', 'v')\n",
    "b, mensaje"
   ]
  },
  {
   "cell_type": "code",
   "execution_count": 114,
   "metadata": {
    "collapsed": false
   },
   "outputs": [
    {
     "data": {
      "text/plain": [
       "19"
      ]
     },
     "execution_count": 114,
     "metadata": {},
     "output_type": "execute_result"
    }
   ],
   "source": [
    "# Uso de len() para saber la longitud de la string como si fuera una lista o tupla\n",
    "len(mensaje)"
   ]
  },
  {
   "cell_type": "code",
   "execution_count": null,
   "metadata": {
    "collapsed": true
   },
   "outputs": [],
   "source": []
  }
 ],
 "metadata": {
  "kernelspec": {
   "display_name": "Python 3",
   "language": "python",
   "name": "python3"
  },
  "language_info": {
   "codemirror_mode": {
    "name": "ipython",
    "version": 3
   },
   "file_extension": ".py",
   "mimetype": "text/x-python",
   "name": "python",
   "nbconvert_exporter": "python",
   "pygments_lexer": "ipython3",
   "version": "3.6.0"
  }
 },
 "nbformat": 4,
 "nbformat_minor": 2
}
