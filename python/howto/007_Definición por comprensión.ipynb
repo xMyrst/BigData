{
 "cells": [
  {
   "cell_type": "markdown",
   "metadata": {},
   "source": [
    "![logo_python3](https://www.python.org/static/img/python-logo.png \"Logo Python3\")\n",
    "# ``DEFINICIÓN POR COMPRENSIÓN``"
   ]
  },
  {
   "cell_type": "markdown",
   "metadata": {},
   "source": [
    "``Una lista por comprensión (en inglés: list comprehension) es una expresión compacta para definir listas, conjuntos y diccionarios en Python.``\n",
    "\n",
    " + ``Se trata de definir cada uno de los elementos sin tener que nombrar cada uno de ellos.``\n",
    " \n",
    " + ``La forma general es:``\n",
    "            [exp for val in <coleccion> if <condicion>]\n",
    "``Ejemplos:``"
   ]
  },
  {
   "cell_type": "code",
   "execution_count": 1,
   "metadata": {
    "collapsed": false
   },
   "outputs": [
    {
     "data": {
      "text/plain": [
       "[1, 3, 5]"
      ]
     },
     "execution_count": 1,
     "metadata": {},
     "output_type": "execute_result"
    }
   ],
   "source": [
    "m = [(1,2), (3,4), (5,6)]\n",
    "# construir la lista que contiene el primer elemento de cada tupla de la lista m\n",
    "# el resultado ha de ser [1,3,5]\n",
    "\n",
    "lista = [ x for (x,y) in m ]\n",
    "lista"
   ]
  },
  {
   "cell_type": "code",
   "execution_count": 2,
   "metadata": {
    "collapsed": false
   },
   "outputs": [
    {
     "data": {
      "text/plain": [
       "[2, 4, 6]"
      ]
     },
     "execution_count": 2,
     "metadata": {},
     "output_type": "execute_result"
    }
   ],
   "source": [
    "lista = [ y for (x,y) in m ]\n",
    "lista"
   ]
  },
  {
   "cell_type": "code",
   "execution_count": 3,
   "metadata": {
    "collapsed": false
   },
   "outputs": [
    {
     "data": {
      "text/plain": [
       "[3, 7, 11]"
      ]
     },
     "execution_count": 3,
     "metadata": {},
     "output_type": "execute_result"
    }
   ],
   "source": [
    "lista = [ (x+y) for (x,y) in m ]\n",
    "lista"
   ]
  },
  {
   "cell_type": "code",
   "execution_count": 4,
   "metadata": {
    "collapsed": false
   },
   "outputs": [
    {
     "data": {
      "text/plain": [
       "[16, 36]"
      ]
     },
     "execution_count": 4,
     "metadata": {},
     "output_type": "execute_result"
    }
   ],
   "source": [
    "m = [(1,2), (3,4), (5,6)]\n",
    "# construir la lista que contiene el cuadrado del segundo elemento de cada tupla \n",
    "# de la lista m (solo sin son mayores que 2)\n",
    "# el resultado ha de ser [16, 36]\n",
    "\n",
    "lista_pow = [ y**2 for x,y in m if x > 2 ]\n",
    "lista_pow"
   ]
  },
  {
   "cell_type": "code",
   "execution_count": 5,
   "metadata": {
    "collapsed": false
   },
   "outputs": [
    {
     "data": {
      "text/plain": [
       "[(9, 16), (25, 36)]"
      ]
     },
     "execution_count": 5,
     "metadata": {},
     "output_type": "execute_result"
    }
   ],
   "source": [
    "lista_pow =   [ (x**2, y**2) for x,y in m if x > 2 ]\n",
    "lista_pow"
   ]
  },
  {
   "cell_type": "code",
   "execution_count": 6,
   "metadata": {
    "collapsed": false
   },
   "outputs": [
    {
     "data": {
      "text/plain": [
       "['A', 'B', 'G', 'H', 'N']"
      ]
     },
     "execution_count": 6,
     "metadata": {},
     "output_type": "execute_result"
    }
   ],
   "source": [
    "# Creación de una lista apartir de otra usando listas por comprensión\n",
    "letras = ['a', 'b', 'g', 'h', 'n' ]\n",
    "mayusculas = [ a.upper() for a in letras ]\n",
    "mayusculas\n",
    "\n",
    "# Creación de la misma lista usando un bucle FOR normal\n",
    "# mayusculas\n",
    "# letras = ['a', 'b', 'g', 'h', 'n' ]\n",
    "# mayusculas = []\n",
    "# for a in letras:\n",
    "#     mayusculas.append(a.upper())\n",
    "# mayusculas"
   ]
  },
  {
   "cell_type": "code",
   "execution_count": 7,
   "metadata": {
    "collapsed": false
   },
   "outputs": [
    {
     "data": {
      "text/plain": [
       "{0: 'A', 1: 'B', 2: 'G', 3: 'H', 4: 'N'}"
      ]
     },
     "execution_count": 7,
     "metadata": {},
     "output_type": "execute_result"
    }
   ],
   "source": [
    "# Para el caso de los diccionario tenemos que indicar clave y valor:\n",
    "# Construcción de un diccionario\n",
    "dic_mayusculas = { i : a.upper() for i,a in enumerate(letras) }\n",
    "dic_mayusculas"
   ]
  },
  {
   "cell_type": "code",
   "execution_count": 8,
   "metadata": {
    "collapsed": false
   },
   "outputs": [
    {
     "data": {
      "text/plain": [
       "{1: '4', 3: '16', 5: '36'}"
      ]
     },
     "execution_count": 8,
     "metadata": {},
     "output_type": "execute_result"
    }
   ],
   "source": [
    "m = [(1,2), (3,4), (5,6)]\n",
    "lista_pow = [ y**2 for x,y in m if x > 2 ]\n",
    "dic_pow  = { x : str(y**2) for x,y in m }\n",
    "dic_pow"
   ]
  },
  {
   "cell_type": "code",
   "execution_count": null,
   "metadata": {
    "collapsed": true
   },
   "outputs": [],
   "source": []
  }
 ],
 "metadata": {
  "kernelspec": {
   "display_name": "Python 3",
   "language": "python",
   "name": "python3"
  },
  "language_info": {
   "codemirror_mode": {
    "name": "ipython",
    "version": 3
   },
   "file_extension": ".py",
   "mimetype": "text/x-python",
   "name": "python",
   "nbconvert_exporter": "python",
   "pygments_lexer": "ipython3",
   "version": "3.6.0"
  }
 },
 "nbformat": 4,
 "nbformat_minor": 2
}
