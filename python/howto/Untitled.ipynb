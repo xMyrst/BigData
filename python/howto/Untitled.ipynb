{
 "cells": [
  {
   "cell_type": "markdown",
   "metadata": {},
   "source": [
    "![logo_python3](https://www.python.org/static/img/python-logo.png \"Logo Python3\")\n",
    "## ''Procesar datos usando Arrays''\n",
    "\n",
    "**``EFICIENCIA DE NumPy``**\n",
    "\n",
    "``Los arrays realizan una gestión de la memoria mucho más eficiente que las listas y por tanto se mejora el rendimiento.``\n",
    "\n",
    "+ ``Se realizan muchas operaciones mediante expresiones sobre arrays que en otros casos requerirían múltiples y costosos loops.\n",
    "A esto se le llama vectorización.``\n",
    "+ ``Las funciones de NumPy se ejecutan de forma tan eficiente como se ejecutarían en otros lenguajes como por ejemplo Fortran, C y C++.``\n",
    "+ ``Para los casos en los que la ejecución sea más eficiente en otros lenguajes, como por ejemplo Fortran, existen herramientas que nos permiten ejecutar desde Python nuestros códigos en otros lenguajes como f2py.``\n",
    "\n",
    "**``EXPRESIONES CONDICIONALES``**\n",
    "\n",
    "``La función where() es la versión vectorizada de la expresión ternaria x if cond else y que ya hemos visto anteriormente.\n",
    "Supongamos que tenemos los tres arrays:``"
   ]
  },
  {
   "cell_type": "code",
   "execution_count": 15,
   "metadata": {
    "collapsed": false
   },
   "outputs": [
    {
     "data": {
      "text/plain": [
       "(array([1, 2, 3, 4]), array([5, 6, 7, 8]))"
      ]
     },
     "execution_count": 15,
     "metadata": {},
     "output_type": "execute_result"
    }
   ],
   "source": [
    "import numpy as np\n",
    "x = np.arange(1,5)\n",
    "y = np.arange(5,9)\n",
    "cond = np.array([True, False, False, True])\n",
    "x, y"
   ]
  },
  {
   "cell_type": "markdown",
   "metadata": {},
   "source": [
    "``Supongamos que queremos obtener el valor de x cuando se cumpla la condición en  condcond . En otro caso obtendremos el valor de y. Queremos obtener por tanto el array [1,6,7,4].``"
   ]
  },
  {
   "cell_type": "code",
   "execution_count": 16,
   "metadata": {
    "collapsed": false
   },
   "outputs": [
    {
     "data": {
      "text/plain": [
       "array([1, 6, 7, 4])"
      ]
     },
     "execution_count": 16,
     "metadata": {},
     "output_type": "execute_result"
    }
   ],
   "source": [
    "# Primera versión sin operacion vectorizada where\n",
    "z1 = np.array([x if cond else y for x, y, cond in zip(x, y, cond)])\n",
    "z1"
   ]
  },
  {
   "cell_type": "code",
   "execution_count": 17,
   "metadata": {
    "collapsed": false
   },
   "outputs": [
    {
     "data": {
      "text/plain": [
       "array([1, 6, 7, 4])"
      ]
     },
     "execution_count": 17,
     "metadata": {},
     "output_type": "execute_result"
    }
   ],
   "source": [
    "# Segunda versión - operación vectorizada where\n",
    "x = np.arange(1,5)\n",
    "y = np.arange(5,9)\n",
    "cond = np.array([True, False, False, True])\n",
    "z2 = np.where(cond, x, y)\n",
    "z2"
   ]
  },
  {
   "cell_type": "markdown",
   "metadata": {},
   "source": [
    "``Los dos últimos argumentos de la operación where no tienen por qué ser arrays, pueden ser escalares.\n",
    "En análisis de datos la operación where se utiliza mucho para crear nuevos arrays a partir de los datos de otros. Supongamos que tenemos un array  aa  de dos dimensiones y queremos construir otro array  r  tal que:``"
   ]
  },
  {
   "cell_type": "markdown",
   "metadata": {},
   "source": [
    "r(x,y) = \\begin{cases} 1 &\\mbox{if } a(x,y) \\ge 0 \\\\\n",
    "                       -1 & \\mbox{if }  a(x,y) \\lt 0. \\end{cases}"
   ]
  },
  {
   "cell_type": "code",
   "execution_count": 18,
   "metadata": {
    "collapsed": false
   },
   "outputs": [
    {
     "data": {
      "text/plain": [
       "array([[ 0.30200588, -0.96259522, -0.59344362,  0.07480439,  0.45804962],\n",
       "       [ 0.4783826 ,  0.02332432,  0.68480014, -0.28533685,  1.35706072],\n",
       "       [ 1.41417884,  0.47809901,  0.34058848,  0.48435847,  1.24260344]])"
      ]
     },
     "execution_count": 18,
     "metadata": {},
     "output_type": "execute_result"
    }
   ],
   "source": [
    "# Array con forma de campana de gauss\n",
    "a = np.random.randn(3,5)\n",
    "a"
   ]
  },
  {
   "cell_type": "code",
   "execution_count": 19,
   "metadata": {
    "collapsed": false
   },
   "outputs": [
    {
     "data": {
      "text/plain": [
       "array([[ 1, -1, -1,  1,  1],\n",
       "       [ 1,  1,  1, -1,  1],\n",
       "       [ 1,  1,  1,  1,  1]])"
      ]
     },
     "execution_count": 19,
     "metadata": {},
     "output_type": "execute_result"
    }
   ],
   "source": [
    "# Función escalón\n",
    "r = np.where( a >= 0, 1, -1)\n",
    "r"
   ]
  },
  {
   "cell_type": "code",
   "execution_count": 21,
   "metadata": {
    "collapsed": false
   },
   "outputs": [
    {
     "data": {
      "text/plain": [
       "array([[-1.1837773 ,  0.57394451, -1.39861664,  0.009056  ,  0.80238162],\n",
       "       [ 0.60558091,  0.48300309, -0.4513113 , -1.31444623,  1.5669763 ],\n",
       "       [-0.30030349,  0.73186563, -0.8100717 ,  0.31537371,  1.00358801],\n",
       "       [-0.60765749,  1.06326293,  1.53742979, -0.47360166, -0.07565701]])"
      ]
     },
     "execution_count": 21,
     "metadata": {},
     "output_type": "execute_result"
    }
   ],
   "source": [
    "a = np.random.randn(4,5)\n",
    "a"
   ]
  },
  {
   "cell_type": "code",
   "execution_count": 22,
   "metadata": {
    "collapsed": false
   },
   "outputs": [
    {
     "data": {
      "text/plain": [
       "array([[False,  True, False,  True,  True],\n",
       "       [ True,  True, False, False,  True],\n",
       "       [False,  True, False,  True,  True],\n",
       "       [False,  True,  True, False, False]], dtype=bool)"
      ]
     },
     "execution_count": 22,
     "metadata": {},
     "output_type": "execute_result"
    }
   ],
   "source": [
    "( a > 0 )"
   ]
  },
  {
   "cell_type": "code",
   "execution_count": 23,
   "metadata": {
    "collapsed": false
   },
   "outputs": [
    {
     "data": {
      "text/plain": [
       "11"
      ]
     },
     "execution_count": 23,
     "metadata": {},
     "output_type": "execute_result"
    }
   ],
   "source": [
    "(a > 0).sum()"
   ]
  },
  {
   "cell_type": "code",
   "execution_count": null,
   "metadata": {
    "collapsed": true
   },
   "outputs": [],
   "source": []
  }
 ],
 "metadata": {
  "kernelspec": {
   "display_name": "Python 3",
   "language": "python",
   "name": "python3"
  },
  "language_info": {
   "codemirror_mode": {
    "name": "ipython",
    "version": 3
   },
   "file_extension": ".py",
   "mimetype": "text/x-python",
   "name": "python",
   "nbconvert_exporter": "python",
   "pygments_lexer": "ipython3",
   "version": "3.6.0"
  }
 },
 "nbformat": 4,
 "nbformat_minor": 2
}
