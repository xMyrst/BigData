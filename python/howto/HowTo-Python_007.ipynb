{
 "cells": [
  {
   "cell_type": "markdown",
   "metadata": {},
   "source": [
    "![logo_python3](https://www.python.org/static/img/python-logo.png \"Logo Python3\")\n",
    "# ``FICHEROS``"
   ]
  },
  {
   "cell_type": "markdown",
   "metadata": {
    "collapsed": false
   },
   "source": [
    "``En Python, para abrir un fichero usaremos la función open, que recibe el nombre del archivo a abrir. Por defecto, si no indicamos nada, el fichero se abre en modo lectura.``"
   ]
  },
  {
   "cell_type": "markdown",
   "metadata": {},
   "source": [
    "**``OPEN: MODO LECTURA``**"
   ]
  },
  {
   "cell_type": "code",
   "execution_count": 54,
   "metadata": {
    "collapsed": false
   },
   "outputs": [
    {
     "data": {
      "text/plain": [
       "'D:\\\\PythonCCR\\\\HowTo'"
      ]
     },
     "execution_count": 54,
     "metadata": {},
     "output_type": "execute_result"
    }
   ],
   "source": [
    "%pwd"
   ]
  },
  {
   "cell_type": "code",
   "execution_count": 55,
   "metadata": {
    "collapsed": true
   },
   "outputs": [],
   "source": [
    "fichero = open(\"../datos/cuna.txt\")"
   ]
  },
  {
   "cell_type": "markdown",
   "metadata": {},
   "source": [
    "``La función`` ***``open``*** ``abrirá el fichero con el nombre indicado, en este caso el fichero`` *``cuna.txt``*. ``Si no tiene éxito, se lanzará una excepción. Si se ha podido abrir el fichero correctamente, la variable`` *``fichero``* ``nos permitirá manipularlo.``"
   ]
  },
  {
   "cell_type": "code",
   "execution_count": 56,
   "metadata": {
    "collapsed": false
   },
   "outputs": [
    {
     "name": "stdout",
     "output_type": "stream",
     "text": [
      " El volumen de la unidad D es Secundario\n",
      " El n£mero de serie del volumen es: E809-B21D\n",
      "\n",
      " Directorio de D:\\PythonCCR\\datos\n",
      "\n",
      "31/05/2017  20:31    <DIR>          .\n",
      "31/05/2017  20:31    <DIR>          ..\n",
      "31/05/2017  20:31               188 cuna.txt\n",
      "               1 archivos            188 bytes\n",
      "               2 dirs  265.838.915.584 bytes libres\n"
     ]
    }
   ],
   "source": [
    "ls \"../datos\""
   ]
  },
  {
   "cell_type": "code",
   "execution_count": 57,
   "metadata": {
    "collapsed": false
   },
   "outputs": [
    {
     "name": "stdout",
     "output_type": "stream",
     "text": [
      "Ya te vemos dormida.\n",
      "\n",
      "Tu barca es de madera por la orilla.\n",
      "\n",
      "Blanca princesa de nunca.\n",
      "\n",
      "Duerme por la noche oscura.\n",
      "\n",
      "Cuerpo y tierra de nieve.\n",
      "\n",
      "Duerme por el alba, duerme.\n",
      "\n",
      "Ya te alejas dormida.\n",
      "\n"
     ]
    }
   ],
   "source": [
    "fichero= open(\"../datos/cuna.txt\")\n",
    "for linea in fichero:\n",
    "    print(linea)"
   ]
  },
  {
   "cell_type": "markdown",
   "metadata": {},
   "source": [
    "``Es posible, además, obtener todas las líneas del archivo utilizando una sola llamada a función`` ***``readlines``**``.``"
   ]
  },
  {
   "cell_type": "code",
   "execution_count": 58,
   "metadata": {
    "collapsed": false
   },
   "outputs": [
    {
     "data": {
      "text/plain": [
       "['Ya te vemos dormida.\\n',\n",
       " 'Tu barca es de madera por la orilla.\\n',\n",
       " 'Blanca princesa de nunca.\\n',\n",
       " 'Duerme por la noche oscura.\\n',\n",
       " 'Cuerpo y tierra de nieve.\\n',\n",
       " 'Duerme por el alba, duerme.\\n',\n",
       " 'Ya te alejas dormida.\\n']"
      ]
     },
     "execution_count": 58,
     "metadata": {},
     "output_type": "execute_result"
    }
   ],
   "source": [
    "fichero = open(\"../datos/cuna.txt\")\n",
    "lineas = fichero.readlines()\n",
    "lineas"
   ]
  },
  {
   "cell_type": "markdown",
   "metadata": {},
   "source": [
    "`` este caso, la variable líneas tendrá una lista de cadenas con todas las líneas del fichero.\n",
    "Es importante tener en cuenta que cuando se utilizan funciones como`` ***``archivo.readlines()``***``, se está cargando en memoria el fichero completo. Siempre que una instrucción cargue un fichero completo debe tenerse cuidado de utilizarla sólo con ficheros pequeños, ya que de otro modo podría agotarse la memoria.``"
   ]
  },
  {
   "cell_type": "code",
   "execution_count": 59,
   "metadata": {
    "collapsed": false
   },
   "outputs": [
    {
     "data": {
      "text/plain": [
       "'Ya te vemos dormida.'"
      ]
     },
     "execution_count": 59,
     "metadata": {},
     "output_type": "execute_result"
    }
   ],
   "source": [
    "# Uso de rstrip para eliminar saltos de línea\n",
    "lineas[0].rstrip()"
   ]
  },
  {
   "cell_type": "markdown",
   "metadata": {},
   "source": [
    "**``OPEN: MODO ESCRITURA``**"
   ]
  },
  {
   "cell_type": "markdown",
   "metadata": {},
   "source": [
    "``Si queremos abrir un fichero en modo escritura, hay que indicarlo como segundo parámetro de la función`` ***``open``***``.``"
   ]
  },
  {
   "cell_type": "code",
   "execution_count": 61,
   "metadata": {
    "collapsed": false
   },
   "outputs": [],
   "source": [
    "arc_write = open('../datos/nuevo.txt', 'w')"
   ]
  },
  {
   "cell_type": "code",
   "execution_count": 63,
   "metadata": {
    "collapsed": false
   },
   "outputs": [],
   "source": [
    "# Copia en el nuevo fichero solo las líneas pares del fichero arc\n",
    "for i, line in enumerate(lineas):\n",
    "    if i%2 == 0:    \n",
    "        arc_write.write(str(i) + ' ' + line)\n",
    "    else:\n",
    "        pass"
   ]
  },
  {
   "cell_type": "code",
   "execution_count": 64,
   "metadata": {
    "collapsed": true
   },
   "outputs": [],
   "source": [
    "arc_write.close()       # cerramos el fichero "
   ]
  },
  {
   "cell_type": "code",
   "execution_count": 66,
   "metadata": {
    "collapsed": false
   },
   "outputs": [
    {
     "data": {
      "text/plain": [
       "['0 Ya te vemos dormida.\\n',\n",
       " '2 Blanca princesa de nunca.\\n',\n",
       " '4 Cuerpo y tierra de nieve.\\n',\n",
       " '6 Ya te alejas dormida.\\n']"
      ]
     },
     "execution_count": 66,
     "metadata": {},
     "output_type": "execute_result"
    }
   ],
   "source": [
    "open('../datos/nuevo.txt').readlines()"
   ]
  },
  {
   "cell_type": "code",
   "execution_count": 68,
   "metadata": {
    "collapsed": false
   },
   "outputs": [
    {
     "data": {
      "text/plain": [
       "17"
      ]
     },
     "execution_count": 68,
     "metadata": {},
     "output_type": "execute_result"
    }
   ],
   "source": [
    "open('../datos/nuevo.txt', 'a').write('\\nEste es el final')"
   ]
  },
  {
   "cell_type": "code",
   "execution_count": 69,
   "metadata": {
    "collapsed": false
   },
   "outputs": [
    {
     "data": {
      "text/plain": [
       "['0 Ya te vemos dormida.\\n',\n",
       " '2 Blanca princesa de nunca.\\n',\n",
       " '4 Cuerpo y tierra de nieve.\\n',\n",
       " '6 Ya te alejas dormida.\\n',\n",
       " '\\n',\n",
       " 'Este es el final']"
      ]
     },
     "execution_count": 69,
     "metadata": {},
     "output_type": "execute_result"
    }
   ],
   "source": [
    "open('../datos/nuevo.txt').readlines()"
   ]
  },
  {
   "cell_type": "code",
   "execution_count": 72,
   "metadata": {
    "collapsed": false
   },
   "outputs": [
    {
     "data": {
      "text/plain": [
       "'0 Ya te vemos dormida.\\n'"
      ]
     },
     "execution_count": 72,
     "metadata": {},
     "output_type": "execute_result"
    }
   ],
   "source": [
    "open('../datos/nuevo.txt').readline()"
   ]
  },
  {
   "cell_type": "code",
   "execution_count": null,
   "metadata": {
    "collapsed": true
   },
   "outputs": [],
   "source": []
  }
 ],
 "metadata": {
  "kernelspec": {
   "display_name": "Python 3",
   "language": "python",
   "name": "python3"
  },
  "language_info": {
   "codemirror_mode": {
    "name": "ipython",
    "version": 3
   },
   "file_extension": ".py",
   "mimetype": "text/x-python",
   "name": "python",
   "nbconvert_exporter": "python",
   "pygments_lexer": "ipython3",
   "version": "3.6.0"
  }
 },
 "nbformat": 4,
 "nbformat_minor": 2
}
