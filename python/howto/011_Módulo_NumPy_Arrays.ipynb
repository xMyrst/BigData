{
 "cells": [
  {
   "cell_type": "markdown",
   "metadata": {},
   "source": [
    "![logo_python3](https://www.python.org/static/img/python-logo.png \"Logo Python3\")\n",
    "# ``MÓDULO NumPy``"
   ]
  },
  {
   "cell_type": "markdown",
   "metadata": {},
   "source": [
    "``Los módulos`` ***NumPy*** ``(Numerical Python) y`` ***SciPy*** ``proporcionan funciones y rutinas matemáticas para la manipulación de arrays y matrices de datos numéricos de una forma eficiente.``\n",
    "\n",
    "+ ``El módulo`` ***SciPy*** ``extiende la funcionalidad de NumPy con una colección de algoritmos matemáticos (minimización, transformada de Fourier, regresión, ...).``\n",
    "\n",
    "***NumPy*** ``proporciona:``\n",
    "\n",
    "+ ``El objeto`` ***ndarray***``: Un array multidimensional que permite realizar operaciones aritméticas sobre vectores muy eficientes.\n",
    "Colección de funciones matemáticas muy eficientes que operan sobre vectores (ndarrays) sin necesidad de escribir bucles (for o while).``\n",
    "+ ``Son más eficientes y rápidas que las operaciones sobre listas.``"
   ]
  },
  {
   "cell_type": "markdown",
   "metadata": {},
   "source": [
    "<BR/>\n",
    "**``LOS ARRAYS DE NUMPY: NDARRAY``**"
   ]
  },
  {
   "cell_type": "markdown",
   "metadata": {},
   "source": [
    "**``¿Qué es un array?``**\n",
    "\n",
    "``En programación se denomina matriz, vector (de una sola dimensión) o formación (en inglés array) a una zona de almacenamiento contiguo que contiene una serie de elementos del mismo tipo. Desde el punto de vista lógico, una matriz se puede ver como un conjunto de elementos ordenados en fila (o filas y columnas si tuviera dos dimensiones).``\n",
    "\n",
    "\n",
    "![array_1d](https://upload.wikimedia.org/wikipedia/commons/thumb/3/3f/Array1.svg/328px-Array1.svg.png \"Array de una dimensión\")\n",
    "<center>*``Matriz unidimensional de 10 elementos``*</center>\n",
    "\n",
    "<br>\n",
    "``En principio, se puede considerar que todas las matrices son de una dimensión, la dimensión principal, pero los elementos de dicha fila pueden ser a su vez matrices (un proceso que puede ser recursivo), lo que nos permite hablar de la existencia de matrices multidimensionales, aunque las más fáciles de imaginar son los de una, dos y tres dimensiones.``\n",
    "\n",
    "``Estas estructuras de datos son adecuadas para situaciones en las que el acceso a los datos se realice de forma aleatoria e impredecible. Por el contrario, si los elementos pueden estar ordenados y se va a utilizar acceso secuencial sería más adecuado utilizar una lista, ya que esta estructura puede cambiar de tamaño fácilmente durante la ejecución de un programa.``\n",
    "\n",
    "+ ``En NumPy el tipo fundamental es el array multidimensional: el objeto ndarray.``\n",
    "+ ``Los ndarrays son similares a las listas en Python, con la diferencia de que todos los elementos de un ndarray son del mismo tipo.``\n",
    "\n",
    "``Para usar NumPy lo primero que debemos hacer es importarlo. Para importar el módulo NumPy debemos la siguiente instruccion:``"
   ]
  },
  {
   "cell_type": "code",
   "execution_count": 104,
   "metadata": {
    "collapsed": true
   },
   "outputs": [],
   "source": [
    "import numpy as np"
   ]
  },
  {
   "cell_type": "markdown",
   "metadata": {},
   "source": [
    "``La instrucción anterior permite utilizar las funciones del módulo NumPy con el nombre abreviado``*** np ***``en lugar de numpy.``"
   ]
  },
  {
   "cell_type": "code",
   "execution_count": 105,
   "metadata": {
    "collapsed": false
   },
   "outputs": [
    {
     "data": {
      "text/plain": [
       "array([[1, 2, 3],\n",
       "       [4, 5, 6],\n",
       "       [7, 8, 9]])"
      ]
     },
     "execution_count": 105,
     "metadata": {},
     "output_type": "execute_result"
    }
   ],
   "source": [
    "# Para crear un array escribimos lo siguiente:\n",
    "a = np.array([[1,2,3],[4,5,6], [7,8,9]])\n",
    "a"
   ]
  },
  {
   "cell_type": "markdown",
   "metadata": {},
   "source": [
    "``Permite realizar operaciones sobre los arrays multidimensionales como si se tratara de operaciones sobre escalares:``"
   ]
  },
  {
   "cell_type": "code",
   "execution_count": 106,
   "metadata": {
    "collapsed": false
   },
   "outputs": [
    {
     "data": {
      "text/plain": [
       "array([[10, 20, 30],\n",
       "       [40, 50, 60],\n",
       "       [70, 80, 90]])"
      ]
     },
     "execution_count": 106,
     "metadata": {},
     "output_type": "execute_result"
    }
   ],
   "source": [
    "# Se puede, por ejemplo, multiplcar facilmente todos los elementos de un array por un número \n",
    "a * 10"
   ]
  },
  {
   "cell_type": "markdown",
   "metadata": {},
   "source": [
    "``Propiedades de los objetos ndarray:``\n",
    "\n",
    "+ ``La propiedad`` ***shape*** ``que indica las dimensiones del array.``\n",
    "+ ``La propiedad`` ***dtype*** ``indica el tipo de los elementos almacenados en el array.``\n",
    "<br><br>\n",
    "``Tipos para`` ***``dtype``***``:``\n",
    "    + ***``int8``***``: Byte (-128 to 127)``\n",
    "    + ***``int16``***``: Integer (-32768 to 32767)``\n",
    "    + ***``int32``***``: Integer (-2147483648 to 2147483647)``\n",
    "    + ***``int64``***``: Integer (-9223372036854775808 to 9223372036854775807)``\n",
    "    + ***``uint8``***``: Unsigned integer (0 to 255)``\n",
    "    + ***``uint16``***``: Unsigned integer (0 to 65535)``\n",
    "    + ***``uint32``***``: Unsigned integer (0 to 4294967295)``\n",
    "    + ***``uint64``***``: Unsigned integer (0 to 18446744073709551615)``\n",
    "    + ***``float16``***``: Half precision float: sign bit, 5 bits exponent, 10 bits mantissa``\n",
    "    + ***``float32``***``: Single precision float: sign bit, 8 bits exponent, 23 bits mantissa``\n",
    "    + ***``float64``***``: Double precision float: sign bit, 11 bits exponent, 52 bits mantissa``"
   ]
  },
  {
   "cell_type": "code",
   "execution_count": 107,
   "metadata": {
    "collapsed": false
   },
   "outputs": [
    {
     "data": {
      "text/plain": [
       "((3, 3), dtype('int32'))"
      ]
     },
     "execution_count": 107,
     "metadata": {},
     "output_type": "execute_result"
    }
   ],
   "source": [
    "# 'shape' --> Filas, Columnas\n",
    "a.shape, a.dtype"
   ]
  },
  {
   "cell_type": "markdown",
   "metadata": {},
   "source": [
    "<BR>\n",
    "**``CREACIÓN DE ARRAYS``**"
   ]
  },
  {
   "cell_type": "markdown",
   "metadata": {},
   "source": [
    "``Existen varias formas para crear un array.``\n",
    "\n",
    "+ ``La forma más sencilla de crear un array es utilizando la función array y una lista de objetos, que pueden ser otros arrays:``"
   ]
  },
  {
   "cell_type": "code",
   "execution_count": 108,
   "metadata": {
    "collapsed": false
   },
   "outputs": [
    {
     "data": {
      "text/plain": [
       "(dtype('int32'), dtype('float64'))"
      ]
     },
     "execution_count": 108,
     "metadata": {},
     "output_type": "execute_result"
    }
   ],
   "source": [
    "# Definimos el array 'a'\n",
    "a = np.array( [2,3,4] )\n",
    "# Definimos el array 'b'\n",
    "b = np.array( [1.2, 3.5, 5] )\n",
    "# Nos devuelve el tipo de datos almacenados en cada array\n",
    "a.dtype,b.dtype"
   ]
  },
  {
   "cell_type": "code",
   "execution_count": 109,
   "metadata": {
    "collapsed": false
   },
   "outputs": [
    {
     "data": {
      "text/plain": [
       "numpy.ndarray"
      ]
     },
     "execution_count": 109,
     "metadata": {},
     "output_type": "execute_result"
    }
   ],
   "source": [
    "# Recuerda que con la función type() puedes saber el tipo de dato de la variable por la que preguntes\n",
    "type(a)"
   ]
  },
  {
   "cell_type": "markdown",
   "metadata": {},
   "source": [
    "``El módulo NumPy nos permite crear arrays de un cierto tipo, lo que garantizará la eficiencia de las operaciones que se vayan a realizar con los `mismos.``"
   ]
  },
  {
   "cell_type": "code",
   "execution_count": 110,
   "metadata": {
    "collapsed": false
   },
   "outputs": [
    {
     "name": "stdout",
     "output_type": "stream",
     "text": [
      "[[ 1.  2.]\n",
      " [ 3.  4.]]\n"
     ]
    },
    {
     "data": {
      "text/plain": [
       "((2, 2), dtype('float16'))"
      ]
     },
     "execution_count": 110,
     "metadata": {},
     "output_type": "execute_result"
    }
   ],
   "source": [
    "# Creación de un array de 2f, 2r (2 files, 2 rows) con formato float16\n",
    "a = np.array([[1,2],[3,4]], dtype='float16')\n",
    "print(a)\n",
    "a.shape , a.dtype"
   ]
  },
  {
   "cell_type": "markdown",
   "metadata": {},
   "source": [
    "``Acabamos de crear un array de 2 filas y 2 columnas de reales. El argumento dtype sirve para especificar la precisión.\n",
    "Los elementos de un array suelen ser desconocidos, pero lo normal es que el tamaño de los datos sea conocido.``"
   ]
  },
  {
   "cell_type": "markdown",
   "metadata": {},
   "source": [
    "``Las funciones`` ***zeros*** ``y`` ***ones*** ``permiten crear un array cuyo contenido son todo ceros y unos, respectivamente. Hay que indicar el tamaño de las dimensiones del array mediante una tupla o una lista.``"
   ]
  },
  {
   "cell_type": "code",
   "execution_count": 111,
   "metadata": {
    "collapsed": false
   },
   "outputs": [
    {
     "name": "stdout",
     "output_type": "stream",
     "text": [
      "[ 0.  0.  0.  0.  0.  0.  0.  0.  0.  0.]\n"
     ]
    },
    {
     "data": {
      "text/plain": [
       "dtype('float64')"
      ]
     },
     "execution_count": 111,
     "metadata": {},
     "output_type": "execute_result"
    }
   ],
   "source": [
    "# Array de todo ceros, 1 dimensión y 10 elementos\n",
    "a1 = np.zeros(10)\n",
    "print(a1)\n",
    "a1.dtype"
   ]
  },
  {
   "cell_type": "code",
   "execution_count": 112,
   "metadata": {
    "collapsed": false
   },
   "outputs": [
    {
     "name": "stdout",
     "output_type": "stream",
     "text": [
      "[[ 0.  0.  0.  0.]\n",
      " [ 0.  0.  0.  0.]\n",
      " [ 0.  0.  0.  0.]]\n"
     ]
    },
    {
     "data": {
      "text/plain": [
       "dtype('float64')"
      ]
     },
     "execution_count": 112,
     "metadata": {},
     "output_type": "execute_result"
    }
   ],
   "source": [
    "# Array de 3 filas, 4 columnas\n",
    "a2 = np.zeros((3,4))\n",
    "print(a2)\n",
    "a2.dtype"
   ]
  },
  {
   "cell_type": "code",
   "execution_count": 113,
   "metadata": {
    "collapsed": false
   },
   "outputs": [
    {
     "name": "stdout",
     "output_type": "stream",
     "text": [
      "[[0 0 0 0]\n",
      " [0 0 0 0]\n",
      " [0 0 0 0]]\n"
     ]
    },
    {
     "data": {
      "text/plain": [
       "dtype('int32')"
      ]
     },
     "execution_count": 113,
     "metadata": {},
     "output_type": "execute_result"
    }
   ],
   "source": [
    "# Array de 3 filas, 4 columnas\n",
    "# Se puede especificar el tipo de datos al crear el array\n",
    "a3 = np.zeros((3,4), dtype='int32')\n",
    "print(a3)\n",
    "a3.dtype"
   ]
  },
  {
   "cell_type": "markdown",
   "metadata": {},
   "source": [
    "``Las funciones`` ***zeros_like*** ``y`` ***ones_like*** ``son análogas a zeros y ones pero no es necesario indicar las dimensiones, solo hay que indicar el array del cual queremos copiar las dimensiones.``"
   ]
  },
  {
   "cell_type": "code",
   "execution_count": 114,
   "metadata": {
    "collapsed": false
   },
   "outputs": [
    {
     "name": "stdout",
     "output_type": "stream",
     "text": [
      "[[ 1.  2.]\n",
      " [ 3.  4.]]\n"
     ]
    },
    {
     "data": {
      "text/plain": [
       "array([[ 1.,  1.],\n",
       "       [ 1.,  1.]], dtype=float16)"
      ]
     },
     "execution_count": 114,
     "metadata": {},
     "output_type": "execute_result"
    }
   ],
   "source": [
    "# Creamos el array 'a4' a partir del array 'a'\n",
    "print(a)\n",
    "a4 = np.ones_like(a)\n",
    "a4"
   ]
  },
  {
   "cell_type": "markdown",
   "metadata": {},
   "source": [
    "``Crear un array mediante una secuencia de números con cierto criterio. Utilizamos las funciones`` ***arange*** ``y`` ***linspace***``.``"
   ]
  },
  {
   "cell_type": "code",
   "execution_count": 115,
   "metadata": {
    "collapsed": false
   },
   "outputs": [
    {
     "name": "stdout",
     "output_type": "stream",
     "text": [
      "[ 0.   0.5  1.   1.5  2.   2.5  3.   3.5  4.   4.5  5.   5.5  6.   6.5  7.\n",
      "  7.5  8.   8.5  9.   9.5]\n"
     ]
    },
    {
     "data": {
      "text/plain": [
       "(dtype('float64'), (2, 2))"
      ]
     },
     "execution_count": 115,
     "metadata": {},
     "output_type": "execute_result"
    }
   ],
   "source": [
    "# Creamos el array 'a6' con números del 0 al 10(excluído) con pasos 0.5\n",
    "# La función 'range' crea un objeto iterable de enteros. La función 'arange' crea un objeto de tipo ndarray.\n",
    "# arange(incio, fin, salto)\n",
    "a6 = np.arange(0, 10, .5)\n",
    "print(a6)\n",
    "a6.dtype, a.shape"
   ]
  },
  {
   "cell_type": "code",
   "execution_count": 116,
   "metadata": {
    "collapsed": false
   },
   "outputs": [
    {
     "name": "stdout",
     "output_type": "stream",
     "text": [
      "[ 0.   0.3  0.6  0.9  1.2  1.5  1.8]\n"
     ]
    }
   ],
   "source": [
    "c = np.arange(0 , 2 , .3)\n",
    "print(c)"
   ]
  },
  {
   "cell_type": "markdown",
   "metadata": {},
   "source": [
    "``Como la función arange utiliza argumentos de tipo float, no es posible predecir el número de elementos del array. En ese caso es mejor utilizar la función linspace que genera un array con un número determinado de elementos sin indicar el paso.``"
   ]
  },
  {
   "cell_type": "code",
   "execution_count": 117,
   "metadata": {
    "collapsed": false
   },
   "outputs": [
    {
     "name": "stdout",
     "output_type": "stream",
     "text": [
      "[ 0.          0.22222222  0.44444444  0.66666667  0.88888889  1.11111111\n",
      "  1.33333333  1.55555556  1.77777778  2.        ]\n"
     ]
    }
   ],
   "source": [
    "# Creamos un array de 10 números del 0 al 2\n",
    "# linspace(inicio, fin, nº de elementos)\n",
    "e = np.linspace( 0, 2, 10 ) \n",
    "print(e)"
   ]
  },
  {
   "cell_type": "code",
   "execution_count": 118,
   "metadata": {
    "collapsed": false
   },
   "outputs": [
    {
     "name": "stdout",
     "output_type": "stream",
     "text": [
      "Populating the interactive namespace from numpy and matplotlib\n"
     ]
    },
    {
     "name": "stderr",
     "output_type": "stream",
     "text": [
      "C:\\ProgramData\\Anaconda3\\lib\\site-packages\\IPython\\core\\magics\\pylab.py:161: UserWarning: pylab import has clobbered these variables: ['e']\n",
      "`%matplotlib` prevents importing * from pylab and numpy\n",
      "  \"\\n`%matplotlib` prevents importing * from pylab and numpy\"\n"
     ]
    },
    {
     "data": {
      "image/png": "[encoded data removed]",
      "text/plain": [
       "<matplotlib.figure.Figure at 0x90ba748>"
      ]
     },
     "metadata": {},
     "output_type": "display_data"
    }
   ],
   "source": [
    "\"\"\"generación de números que se usa habitualmente en la evalución de funciones\"\"\"\n",
    "# Importamos las librerias\n",
    "import math as mt\n",
    "import matplotlib.pyplot as plt\n",
    "import numpy as np\n",
    "\n",
    "%pylab inline\n",
    "\n",
    "# Representación gráfica de la funcion seno(2*pi)\n",
    "# Creamos un array de 100 elementos entre 0 y 2*pi\n",
    "x = np.linspace( 0, 2*mt.pi, 100 )\n",
    "y = np.sin(x)\n",
    "plt.plot(x, y);"
   ]
  },
  {
   "cell_type": "markdown",
   "metadata": {},
   "source": [
    "``Creación con datos aleatorios mediante la función`` ***rand*** ``del módulo Random. La función rand devuelve un número aleatorio procedente de una distribución uniforme en el intervalo [0,1).``"
   ]
  },
  {
   "cell_type": "code",
   "execution_count": 119,
   "metadata": {
    "collapsed": false
   },
   "outputs": [
    {
     "name": "stdout",
     "output_type": "stream",
     "text": [
      "[ 0.15488194  0.28268175  0.85292209  0.26504539  0.61551371  0.93789024\n",
      "  0.1196295   0.23473603  0.55394442  0.66060065]\n"
     ]
    },
    {
     "data": {
      "text/plain": [
       "dtype('float64')"
      ]
     },
     "execution_count": 119,
     "metadata": {},
     "output_type": "execute_result"
    }
   ],
   "source": [
    "# Genera 10 números aleatorios entre el 0 y el 1\n",
    "a1 = np.random.rand(10)\n",
    "print (a1)\n",
    "a1.dtype"
   ]
  },
  {
   "cell_type": "code",
   "execution_count": 120,
   "metadata": {
    "collapsed": false
   },
   "outputs": [
    {
     "data": {
      "image/png": "[encoded data removed]",
      "text/plain": [
       "<matplotlib.figure.Figure at 0x8ffe710>"
      ]
     },
     "metadata": {},
     "output_type": "display_data"
    }
   ],
   "source": [
    "# Representación gráfica de la función rand para 100 elementos\n",
    "y = np.random.rand(100)\n",
    "plt.plot(y);"
   ]
  },
  {
   "cell_type": "code",
   "execution_count": 121,
   "metadata": {
    "collapsed": false
   },
   "outputs": [
    {
     "name": "stdout",
     "output_type": "stream",
     "text": [
      "[[ 0.82129265  0.78095593  0.87298614  0.48199395]\n",
      " [ 0.3051632   0.59703883  0.49777872  0.6211044 ]\n",
      " [ 0.28901523  0.76866413  0.66169332  0.6960465 ]]\n"
     ]
    },
    {
     "data": {
      "text/plain": [
       "dtype('float64')"
      ]
     },
     "execution_count": 121,
     "metadata": {},
     "output_type": "execute_result"
    }
   ],
   "source": [
    "# Genera un array de 3 filas y 4 columnas, con valores aleatorios [0,1)\n",
    "a2 = np.random.rand(3, 4)\n",
    "print(a2)\n",
    "a2.dtype"
   ]
  },
  {
   "cell_type": "markdown",
   "metadata": {},
   "source": [
    "<br>\n",
    "**``OPERACIONES ENTRE ARRAYS Y ESCALARES``**"
   ]
  },
  {
   "cell_type": "markdown",
   "metadata": {},
   "source": [
    "``Los operadores aritméticos aplicados a arrays, se aplican elemento a elemento.``\n",
    "\n",
    "+ ``Para que la operación tenga éxito, los arrays implicados han de tener la misma dimensión.``\n",
    "+ ``El resultado es un nuevo array cuyos datos depende de la operación realizada.``"
   ]
  },
  {
   "cell_type": "code",
   "execution_count": 122,
   "metadata": {
    "collapsed": false
   },
   "outputs": [
    {
     "name": "stdout",
     "output_type": "stream",
     "text": [
      "Operaciones vectoriales\n",
      "-----------------------\n",
      "suma:      [5 7 9]\n",
      "producto:  [ 4 10 18]\n",
      "potencia:  [  4  25 216]\n",
      "\n",
      "Operaciones escalares\n",
      "---------------------\n",
      "[10 20 30]\n"
     ]
    }
   ],
   "source": [
    "# Creamos dos arrays 'a' y 'b' de tipo entero(int) y una dimensión\n",
    "a = np.array([1,2,3], int)\n",
    "b = np.array([4,5,6], int)\n",
    "\n",
    "# Operaciones entre arrays\n",
    "rs = a + b\n",
    "rr = a - b\n",
    "rp = a * b\n",
    "rd = b / a\n",
    "rm = a % b\n",
    "re = b ** a\n",
    "\n",
    "# Operaciones entre arrays y escalares\n",
    "rp_esc = a * 10\n",
    "re_esc = b ** 2\n",
    "\n",
    "print('Operaciones vectoriales')\n",
    "print('-----------------------')\n",
    "print(\"suma:     \", rs)\n",
    "print(\"producto: \", rp)\n",
    "print(\"potencia: \", re)\n",
    "print()\n",
    "print('Operaciones escalares')\n",
    "print('---------------------')\n",
    "print(rp_esc)"
   ]
  },
  {
   "cell_type": "markdown",
   "metadata": {},
   "source": [
    "``En el caso de arrays multidimensionales, se sigue manteniendo que las operaciones se realizan elemento a elemento. Por ejemplo en el caso de dos dimensiones, el producto de dos arrays no se corresponde con la multiplicación de matrices según la conocemos.``"
   ]
  },
  {
   "cell_type": "code",
   "execution_count": 123,
   "metadata": {
    "collapsed": false
   },
   "outputs": [
    {
     "name": "stdout",
     "output_type": "stream",
     "text": [
      "[[ 1.  2.]\n",
      " [ 3.  4.]]\n",
      "[[ 2.  0.]\n",
      " [ 1.  3.]]\n"
     ]
    }
   ],
   "source": [
    "# Creamos dos arrays 'a' y 'b' de tipo real(float) y 2x2 dimensiones\n",
    "a = np.array([[1,2], [3,4]], float)\n",
    "b = np.array([[2,0], [1,3]], float)\n",
    "print(a)\n",
    "print(b)"
   ]
  },
  {
   "cell_type": "code",
   "execution_count": 124,
   "metadata": {
    "collapsed": false
   },
   "outputs": [
    {
     "name": "stdout",
     "output_type": "stream",
     "text": [
      "[[  2.   0.]\n",
      " [  3.  12.]]\n"
     ]
    }
   ],
   "source": [
    "# Las operaciones vectoriales en los arrays multidimensionales se ejecutan como en los unidimensionales\n",
    "p = a * b\n",
    "print(p)"
   ]
  },
  {
   "cell_type": "markdown",
   "metadata": {},
   "source": [
    "``El producto matricial se obtiene mediante el uso de la función`` ***dot*** ``o creando objetos de tipo`` ***matrix*** ``en lugar de array.``\n",
    "\n",
    "``Como recordatorio tenemos esta imagen que nos dice como se calcula el producto de dos matrices:``\n",
    "![matrices2x2](https://cdn.kastatic.org/googleusercontent/rk4fR1jNJsGUfdHOc87UzuQh2zokwYDoVo3Hk1m3s6ToGDgW6KxgrsUeIj8-CJeV6cNf6WB8B6sRHt3BoGBdVY7h \"Producto de matrices 2x2\")\n",
    "\n",
    "<br>\n",
    "``Para calcular el producto, de una manera mas visual, sería como sigue:``<br>\n",
    "``1x3 + 7x5    1x3 + 7x2  =  38  17``<br>\n",
    "``2x3 + 4x5    2x3 + 4x2  =  26  14``<br>\n"
   ]
  },
  {
   "cell_type": "code",
   "execution_count": 125,
   "metadata": {
    "collapsed": false
   },
   "outputs": [
    {
     "name": "stdout",
     "output_type": "stream",
     "text": [
      "[[38 17]\n",
      " [26 14]]\n"
     ]
    }
   ],
   "source": [
    "# Creamos dos arrays de 2x2\n",
    "A = np.array( [[1,7],\n",
    "               [2,4]] )\n",
    "B = np.array( [[3,3],\n",
    "               [5,2]] )\n",
    "\n",
    "# Para multiplicar dos matrices (producto matricial), tal y como se hace en matemáticas se usa la función 'dot'\n",
    "C = np.dot(A,B)\n",
    "print(C)"
   ]
  },
  {
   "cell_type": "markdown",
   "metadata": {},
   "source": [
    "<br>\n",
    "**``FUNCIONES UNIVERSALES``**\n",
    "\n",
    "``Se trata de funciones que actúan sobre cada uno de los elementos de un array.``"
   ]
  },
  {
   "cell_type": "code",
   "execution_count": 126,
   "metadata": {
    "collapsed": false
   },
   "outputs": [
    {
     "data": {
      "text/plain": [
       "array([[ 82., -25.],\n",
       "       [ 12.,  -4.]])"
      ]
     },
     "execution_count": 126,
     "metadata": {},
     "output_type": "execute_result"
    }
   ],
   "source": [
    "# Creamos un array de 2x2 y de tipo float\n",
    "a = np.array([[82.,-25], [12,-4]], float)\n",
    "a"
   ]
  },
  {
   "cell_type": "code",
   "execution_count": 127,
   "metadata": {
    "collapsed": false
   },
   "outputs": [
    {
     "data": {
      "text/plain": [
       "array([[ 82.,  25.],\n",
       "       [ 12.,   4.]])"
      ]
     },
     "execution_count": 127,
     "metadata": {},
     "output_type": "execute_result"
    }
   ],
   "source": [
    "# Uso de la función 'abs()' que nos devuelve el valor absoluto (sin números negativos)\n",
    "abs(a)"
   ]
  },
  {
   "cell_type": "code",
   "execution_count": 128,
   "metadata": {
    "collapsed": false
   },
   "outputs": [
    {
     "data": {
      "text/plain": [
       "array([2, 5, 4])"
      ]
     },
     "execution_count": 128,
     "metadata": {},
     "output_type": "execute_result"
    }
   ],
   "source": [
    "# Función que muestra los valores máximos al comparar los elementos de un array, columa por columna\n",
    "np.maximum([2, 3, 4],\n",
    "           [1, 5, 2])"
   ]
  },
  {
   "cell_type": "code",
   "execution_count": 129,
   "metadata": {
    "collapsed": false
   },
   "outputs": [
    {
     "data": {
      "text/plain": [
       "array([[ 1.,  0.,  0.,  0.],\n",
       "       [ 0.,  1.,  0.,  0.],\n",
       "       [ 0.,  0.,  1.,  0.],\n",
       "       [ 0.,  0.,  0.,  1.]])"
      ]
     },
     "execution_count": 129,
     "metadata": {},
     "output_type": "execute_result"
    }
   ],
   "source": [
    "# Función que nos crea una matriz unitaria (donde todos los elementos de su diagonal son 1)\n",
    "np.eye(4)"
   ]
  },
  {
   "cell_type": "code",
   "execution_count": 130,
   "metadata": {
    "collapsed": false
   },
   "outputs": [
    {
     "data": {
      "text/plain": [
       "array([[ 1.        ,  0.45099469,  0.45498682,  0.51245408],\n",
       "       [ 0.48896964,  1.        ,  0.45498682,  0.51245408],\n",
       "       [ 0.48896964,  0.45099469,  1.        ,  0.51245408],\n",
       "       [ 0.48896964,  0.45099469,  0.45498682,  1.        ]])"
      ]
     },
     "execution_count": 130,
     "metadata": {},
     "output_type": "execute_result"
    }
   ],
   "source": [
    "# Se pueden concatenar funciones de la siguiente manera:\n",
    "a = np.random.rand(4)\n",
    "np.maximum(np.eye(4), a)"
   ]
  },
  {
   "cell_type": "code",
   "execution_count": 131,
   "metadata": {
    "collapsed": false
   },
   "outputs": [
    {
     "data": {
      "text/plain": [
       "array([[ True, False, False, False],\n",
       "       [False,  True, False, False],\n",
       "       [False, False,  True, False],\n",
       "       [False, False, False,  True]], dtype=bool)"
      ]
     },
     "execution_count": 131,
     "metadata": {},
     "output_type": "execute_result"
    }
   ],
   "source": [
    "# Compara ambas matrices y muestra true cuando se cumpla la condición >=\n",
    "np.greater_equal(np.eye(4), a)"
   ]
  },
  {
   "cell_type": "markdown",
   "metadata": {},
   "source": [
    "<br>\n",
    "**``UPCASTING``**\n",
    "\n",
    "``Cuando se opera con arrays de distinto tipo, el tipo del array resultante es el tipo con más precisión. Este comportamiento se conoce como`` ***upcasting***``.``"
   ]
  },
  {
   "cell_type": "code",
   "execution_count": 132,
   "metadata": {
    "collapsed": false
   },
   "outputs": [
    {
     "name": "stdout",
     "output_type": "stream",
     "text": [
      "a :  [1 1 1]\n",
      "b :  [ 0.          1.57079633  3.14159265]\n",
      "Tipo de a:  int32\n",
      "Tipo de b:  float64\n"
     ]
    }
   ],
   "source": [
    "# Creamos dos arrays, uno con todo ceros de tipo entero (int32)\n",
    "a = np.ones(3, dtype=int32)\n",
    "# Creamos un array de 3 elementos entre 0 y pi, tipo float64\n",
    "b = np.linspace(0, np.pi, 3)\n",
    "print( \"a : \", a)\n",
    "print( \"b : \", b)\n",
    "print( \"Tipo de a: \" , a.dtype)\n",
    "print( \"Tipo de b: \" , b.dtype)"
   ]
  },
  {
   "cell_type": "code",
   "execution_count": 133,
   "metadata": {
    "collapsed": false
   },
   "outputs": [
    {
     "name": "stdout",
     "output_type": "stream",
     "text": [
      "c : [ 1.          2.57079633  4.14159265]\n",
      "Tipo de c: float64\n"
     ]
    }
   ],
   "source": [
    "# El resultado será un array de tipo float64, pues es capaz de representar números con mayor exactitud que int32\n",
    "# (sin tener en cuenta que además int32 NO es capaz de representar números decimales)\n",
    "c = a + b\n",
    "print(\"c :\", c)\n",
    "print(\"Tipo de c:\", c.dtype)"
   ]
  },
  {
   "cell_type": "markdown",
   "metadata": {},
   "source": [
    "<br>\n",
    "**``ELEMENTOS DE UN ARRAY: ACCESO Y RECORRIDO``**\n",
    "\n",
    "``Cuando trabajamos con arrays de una dimensión, el acceso a los elementos se realiza de forma similar a como se hace en el caso de listas o tuplas de elementos.``"
   ]
  },
  {
   "cell_type": "code",
   "execution_count": 134,
   "metadata": {
    "collapsed": false
   },
   "outputs": [
    {
     "data": {
      "text/plain": [
       "array([  0,   1,   8,  27,  64, 125, 216, 343, 512, 729], dtype=int32)"
      ]
     },
     "execution_count": 134,
     "metadata": {},
     "output_type": "execute_result"
    }
   ],
   "source": [
    "# Creamos un array de 10 elementos [0, 10)\n",
    "a = np.arange(10)**3\n",
    "a"
   ]
  },
  {
   "cell_type": "code",
   "execution_count": 135,
   "metadata": {
    "collapsed": false
   },
   "outputs": [
    {
     "data": {
      "text/plain": [
       "8"
      ]
     },
     "execution_count": 135,
     "metadata": {},
     "output_type": "execute_result"
    }
   ],
   "source": [
    "# Muestra la posición '2' dentro del array\n",
    "a[2]"
   ]
  },
  {
   "cell_type": "code",
   "execution_count": 136,
   "metadata": {
    "collapsed": false
   },
   "outputs": [
    {
     "data": {
      "text/plain": [
       "array([ 8, 27, 64], dtype=int32)"
      ]
     },
     "execution_count": 136,
     "metadata": {},
     "output_type": "execute_result"
    }
   ],
   "source": [
    "# Acceso al rango de elementos [2,5) (excluye la posición 5)\n",
    "a[2:5]"
   ]
  },
  {
   "cell_type": "markdown",
   "metadata": {},
   "source": [
    "``Una diferencia importante con las listas, es que las particiones de un ndarray mediante la notación [inicio:fin:paso] son vistas del array original. Todos los cambios realizados en las vistas, se reflejan en el array original:``"
   ]
  },
  {
   "cell_type": "code",
   "execution_count": 137,
   "metadata": {
    "collapsed": false
   },
   "outputs": [
    {
     "data": {
      "text/plain": [
       "array([  0,   0,   0,   0,   0, 125, 216, 343, 512, 729], dtype=int32)"
      ]
     },
     "execution_count": 137,
     "metadata": {},
     "output_type": "execute_result"
    }
   ],
   "source": [
    "# No se define un nuevo array, solo una vista de a\n",
    "# 'b' son los 5 primeros elementos de 'a'\n",
    "b = a[0:5]\n",
    "# Para todos los elementos de 'b' su valor será ahora 0\n",
    "b[::] = 0\n",
    "# Al presentar el valor de 'a' comprobamos que se han modificado los 5 primeros elementos\n",
    "a"
   ]
  },
  {
   "cell_type": "markdown",
   "metadata": {},
   "source": [
    "``Este comportamiento evita problemas de memoria. Hay que recordar que NumPy ha sido diseñado para manejar grandes cantidades de datos.``\n",
    "\n",
    "``El acceso a los elementos de un array bidimensional, se realiza indicando los índices separados por una coma.``"
   ]
  },
  {
   "cell_type": "code",
   "execution_count": 138,
   "metadata": {
    "collapsed": false
   },
   "outputs": [
    {
     "data": {
      "text/plain": [
       "array([[2, 4, 6],\n",
       "       [1, 2, 3]])"
      ]
     },
     "execution_count": 138,
     "metadata": {},
     "output_type": "execute_result"
    }
   ],
   "source": [
    "m = np.array([[2,4,6],[1,2,3]], dtype = 'int')\n",
    "m"
   ]
  },
  {
   "cell_type": "code",
   "execution_count": 139,
   "metadata": {
    "collapsed": false
   },
   "outputs": [
    {
     "data": {
      "text/plain": [
       "6"
      ]
     },
     "execution_count": 139,
     "metadata": {},
     "output_type": "execute_result"
    }
   ],
   "source": [
    "# Acceso al elemento de la fila 0, columna 2\n",
    "m[0, 2]"
   ]
  },
  {
   "cell_type": "code",
   "execution_count": 140,
   "metadata": {
    "collapsed": false
   },
   "outputs": [],
   "source": [
    "# Acceso a los elementos de arrays multidimensionales\n",
    "# array[elementos_fila, elementos_columna]\n",
    "b = np.array([[ 0,  1,  2,  3],\n",
    "              [10, 11, 12, 13],\n",
    "              [20, 21, 22, 23],\n",
    "              [30, 31, 32, 33],\n",
    "              [40, 41, 42, 43]])"
   ]
  },
  {
   "cell_type": "code",
   "execution_count": 141,
   "metadata": {
    "collapsed": false
   },
   "outputs": [
    {
     "data": {
      "text/plain": [
       "array([ 1, 11, 21, 31, 41])"
      ]
     },
     "execution_count": 141,
     "metadata": {},
     "output_type": "execute_result"
    }
   ],
   "source": [
    "#Acceso a todos los elementos de la segunda columna\n",
    "b[:, 1]"
   ]
  },
  {
   "cell_type": "code",
   "execution_count": 142,
   "metadata": {
    "collapsed": false
   },
   "outputs": [
    {
     "data": {
      "text/plain": [
       "array([[10, 11, 12, 13],\n",
       "       [20, 21, 22, 23]])"
      ]
     },
     "execution_count": 142,
     "metadata": {},
     "output_type": "execute_result"
    }
   ],
   "source": [
    "# Acceso a los todos los elementos de las filas 2 y 3 de todas las columnas\n",
    "b[1:3, :]"
   ]
  },
  {
   "cell_type": "markdown",
   "metadata": {},
   "source": [
    "``Para recorrer los elementos de un array podemos utilizar un bucle del tipo for. El siguiente ejemplo recorre las filas de la matriz`` **``b``**``:``"
   ]
  },
  {
   "cell_type": "code",
   "execution_count": 143,
   "metadata": {
    "collapsed": false
   },
   "outputs": [
    {
     "name": "stdout",
     "output_type": "stream",
     "text": [
      "fila:  [0 1 2 3]\n",
      "fila:  [10 11 12 13]\n",
      "fila:  [20 21 22 23]\n",
      "fila:  [30 31 32 33]\n",
      "fila:  [40 41 42 43]\n"
     ]
    }
   ],
   "source": [
    "for row in b:\n",
    "    print(\"fila: \" , row)"
   ]
  },
  {
   "cell_type": "markdown",
   "metadata": {},
   "source": [
    "``Para acceder a los elementos uno por uno, podemos usar el atributo flat de los arrays:``"
   ]
  },
  {
   "cell_type": "code",
   "execution_count": 144,
   "metadata": {
    "collapsed": false
   },
   "outputs": [
    {
     "name": "stdout",
     "output_type": "stream",
     "text": [
      "0\n",
      "1\n",
      "2\n",
      "3\n",
      "10\n",
      "11\n",
      "12\n",
      "13\n",
      "20\n",
      "21\n",
      "22\n",
      "23\n",
      "30\n",
      "31\n",
      "32\n",
      "33\n",
      "40\n",
      "41\n",
      "42\n",
      "43\n"
     ]
    }
   ],
   "source": [
    "for elem in b.flat:\n",
    "    print(elem)"
   ]
  },
  {
   "cell_type": "markdown",
   "metadata": {},
   "source": [
    "<br>\n",
    "**``USO DE MÁSCARAS EN ARRAYS``**\n",
    "\n",
    "``Otra forma de acceso a partes de un ndarray es mediante un array de bool que actúa como máscara. Supongamos que queremos seleccionar la primera fila y la cuarta fila:``"
   ]
  },
  {
   "cell_type": "code",
   "execution_count": 145,
   "metadata": {
    "collapsed": false
   },
   "outputs": [
    {
     "data": {
      "text/plain": [
       "array([[ 0,  1,  2,  3],\n",
       "       [10, 11, 12, 13],\n",
       "       [20, 21, 22, 23],\n",
       "       [30, 31, 32, 33],\n",
       "       [40, 41, 42, 43]])"
      ]
     },
     "execution_count": 145,
     "metadata": {},
     "output_type": "execute_result"
    }
   ],
   "source": [
    "b"
   ]
  },
  {
   "cell_type": "code",
   "execution_count": 146,
   "metadata": {
    "collapsed": false
   },
   "outputs": [
    {
     "data": {
      "text/plain": [
       "array([[ 0,  1,  2,  3],\n",
       "       [30, 31, 32, 33]])"
      ]
     },
     "execution_count": 146,
     "metadata": {},
     "output_type": "execute_result"
    }
   ],
   "source": [
    "# Creamos un array/máscara para aplicar al array 'b', el array/máscara es de tipo booleano\n",
    "# En este caso cuando aparece 'True' muestra los valores de dicha linea del array, cuando es 'False' no los muestra\n",
    "# Debería mostrar las líneas 0 y 3\n",
    "mascara = np.array([True, False, False, True, False])\n",
    "b[mascara]"
   ]
  },
  {
   "cell_type": "code",
   "execution_count": 147,
   "metadata": {
    "collapsed": false
   },
   "outputs": [
    {
     "name": "stdout",
     "output_type": "stream",
     "text": [
      "[[ 22.   0.]\n",
      " [  1.  10.]]\n"
     ]
    },
    {
     "data": {
      "text/plain": [
       "array([[False,  True],\n",
       "       [ True, False]], dtype=bool)"
      ]
     },
     "execution_count": 147,
     "metadata": {},
     "output_type": "execute_result"
    }
   ],
   "source": [
    "# Se puede definir la máscara como algo más complejo\n",
    "# Elementos de una matriz que cumplen una cierta propiedad comparativa\n",
    "# Creamos un array 'A' de 2x2\n",
    "A = np.array([[22,0], [1,10]], np.float)\n",
    "print(A)\n",
    "# Creamos un array 'B' copia del anterior en el que se mostrará 'True' o 'False' si cumple la condición\n",
    "B = A < 7.\n",
    "B\n",
    "# El resultado es una matriz booleana"
   ]
  },
  {
   "cell_type": "code",
   "execution_count": 148,
   "metadata": {
    "collapsed": false
   },
   "outputs": [
    {
     "data": {
      "text/plain": [
       "array([[False, False],\n",
       "       [False, False]], dtype=bool)"
      ]
     },
     "execution_count": 148,
     "metadata": {},
     "output_type": "execute_result"
    }
   ],
   "source": [
    "# Ahora podemos poner a 0 todos los valores menores que 7.\n",
    "B[ B < 7 ] = 0\n",
    "B"
   ]
  },
  {
   "cell_type": "markdown",
   "metadata": {},
   "source": [
    "<br>\n",
    "**``CAMBIAR LA FORMA DE UN ARRAY``**\n",
    "\n",
    "**``Métodos reshape, ravel y transpose(T).``**\n",
    "\n",
    "``A parte de la función`` **reshape** ``que permite redimensionar un array, nos puede interesar aplanar un array mediante la función`` **ravel** ``o transponer un array mediante la función`` **transpose(T)**``.``"
   ]
  },
  {
   "cell_type": "code",
   "execution_count": 149,
   "metadata": {
    "collapsed": false
   },
   "outputs": [
    {
     "data": {
      "text/plain": [
       "array([[2, 4, 6],\n",
       "       [1, 2, 3]])"
      ]
     },
     "execution_count": 149,
     "metadata": {},
     "output_type": "execute_result"
    }
   ],
   "source": [
    "# Creamos un array de 2x2, de tipo entero\n",
    "m = np.array([[2,4,6],[1,2,3]], dtype = 'int')\n",
    "m"
   ]
  },
  {
   "cell_type": "code",
   "execution_count": 150,
   "metadata": {
    "collapsed": false
   },
   "outputs": [
    {
     "data": {
      "text/plain": [
       "array([2, 4, 6, 1, 2, 3])"
      ]
     },
     "execution_count": 150,
     "metadata": {},
     "output_type": "execute_result"
    }
   ],
   "source": [
    "# Uso de la función ravel() para aplanar el array\n",
    "a = m.ravel()\n",
    "a"
   ]
  },
  {
   "cell_type": "code",
   "execution_count": 151,
   "metadata": {
    "collapsed": false
   },
   "outputs": [
    {
     "data": {
      "text/plain": [
       "array([[2, 1],\n",
       "       [4, 2],\n",
       "       [6, 3]])"
      ]
     },
     "execution_count": 151,
     "metadata": {},
     "output_type": "execute_result"
    }
   ],
   "source": [
    "# Uso de la función transpose, para transponer un array\n",
    "t = m.T\n",
    "t"
   ]
  },
  {
   "cell_type": "markdown",
   "metadata": {},
   "source": [
    "<br>\n",
    "**``Funciones vstack y hstack``**\n",
    "\n",
    "``A partir de 2 arrays, es posible concatenarlos por alguna de las dimensiones (por filas o por columnas) mediante las funciones vstack y hstack:``"
   ]
  },
  {
   "cell_type": "code",
   "execution_count": 152,
   "metadata": {
    "collapsed": false
   },
   "outputs": [
    {
     "name": "stdout",
     "output_type": "stream",
     "text": [
      "[[ 9.  8.]\n",
      " [ 3.  6.]]\n",
      "[[ 0.  2.]\n",
      " [ 6.  3.]]\n"
     ]
    }
   ],
   "source": [
    "# Creamos dos arrays random de 2x2 mediante la función floor()\n",
    "# Esta función devuelve el entero más grande no mayor que el parámetro de entrada. \n",
    "# El suelo de la escalar x es el mayor integer i, tal que i <= x\n",
    "# Siendo en el ejemplo de abajo el escalar x = 10, todo valor generado por random deberá ser menor o igual a 10\n",
    "a = np.floor(10*np.random.random((2,2)))\n",
    "b = np.floor(10*np.random.random((2,2)))\n",
    "print(a)\n",
    "print(b)"
   ]
  },
  {
   "cell_type": "code",
   "execution_count": 153,
   "metadata": {
    "collapsed": false
   },
   "outputs": [
    {
     "data": {
      "text/plain": [
       "array([[ 9.,  8.],\n",
       "       [ 3.,  6.],\n",
       "       [ 0.,  2.],\n",
       "       [ 6.,  3.]])"
      ]
     },
     "execution_count": 153,
     "metadata": {},
     "output_type": "execute_result"
    }
   ],
   "source": [
    "# Uso de vstack para unir dos arrays por columnas\n",
    "c = np.vstack((a,b))\n",
    "c"
   ]
  },
  {
   "cell_type": "code",
   "execution_count": 154,
   "metadata": {
    "collapsed": false
   },
   "outputs": [
    {
     "data": {
      "text/plain": [
       "array([[ 9.,  8.,  0.,  2.],\n",
       "       [ 3.,  6.,  6.,  3.]])"
      ]
     },
     "execution_count": 154,
     "metadata": {},
     "output_type": "execute_result"
    }
   ],
   "source": [
    "# Uso de vstack para unir dos arrays por filas\n",
    "d = np.hstack((a,b))\n",
    "d"
   ]
  },
  {
   "cell_type": "markdown",
   "metadata": {},
   "source": [
    "<br>\n",
    "**``Copias y vistas de arrays``**\n",
    "\n",
    "``Cuando se manipula arrays, los datos pueden ser copiados en otro array (y se duplican los datos) o por el contrario, los arrays comparten datos aunque pueden ser accedidos mediante nombres diferentes. Veamos algunos ejemplos:``"
   ]
  },
  {
   "cell_type": "code",
   "execution_count": 155,
   "metadata": {
    "collapsed": false
   },
   "outputs": [
    {
     "data": {
      "text/plain": [
       "array([ 0,  1,  2,  3,  4,  5,  6,  7,  8,  9, 10, 11])"
      ]
     },
     "execution_count": 155,
     "metadata": {},
     "output_type": "execute_result"
    }
   ],
   "source": [
    "# Creamos un array de 12 elementos, [0,11)\n",
    "a = np.arange(12)\n",
    "a"
   ]
  },
  {
   "cell_type": "code",
   "execution_count": 156,
   "metadata": {
    "collapsed": false
   },
   "outputs": [
    {
     "data": {
      "text/plain": [
       "(array([ 0,  1,  2,  3,  4,  5,  6,  7,  8,  9, 10, 11]),\n",
       " array([ 0,  1,  2,  3,  4,  5,  6,  7,  8,  9, 10, 11]))"
      ]
     },
     "execution_count": 156,
     "metadata": {},
     "output_type": "execute_result"
    }
   ],
   "source": [
    "# No se crea un nuevo array. Ambos nombres apuntan al mismo objeto\n",
    "b = a\n",
    "a, b"
   ]
  },
  {
   "cell_type": "code",
   "execution_count": 157,
   "metadata": {
    "collapsed": false
   },
   "outputs": [
    {
     "name": "stdout",
     "output_type": "stream",
     "text": [
      "[[ 0  1  2]\n",
      " [ 3  4  5]\n",
      " [ 6  7  8]\n",
      " [ 9 10 11]]\n",
      "[[ 0  1  2]\n",
      " [ 3  4  5]\n",
      " [ 6  7  8]\n",
      " [ 9 10 11]]\n"
     ]
    }
   ],
   "source": [
    "# Si modificamos el array 'b' modificaremos el array 'a'\n",
    "b.shape = (4,3)\n",
    "print(b)\n",
    "print(a)"
   ]
  },
  {
   "cell_type": "markdown",
   "metadata": {},
   "source": [
    "``La función view permite crear un array cuyos datos son compartidos con otro, pero cuya forma y acceso a los datos puede ser diferente:``"
   ]
  },
  {
   "cell_type": "code",
   "execution_count": 158,
   "metadata": {
    "collapsed": false
   },
   "outputs": [
    {
     "name": "stdout",
     "output_type": "stream",
     "text": [
      "[ 0  1  2  3  4  5  6  7  8  9 10 11]\n",
      "[[ 0  1  2]\n",
      " [ 3  4  5]\n",
      " [ 6  7  8]\n",
      " [ 9 10 11]]\n"
     ]
    }
   ],
   "source": [
    "# Creamos un array 'a' de 12 elementos entre [0,11)\n",
    "a = np.arange(12)\n",
    "# Creamos una vista del array 'a' en 'c'\n",
    "c = a.view()\n",
    "# Al modificar las propiedades de 'c' no se modifica 'a'\n",
    "c.shape = (4,3)\n",
    "print(a)\n",
    "print(c)"
   ]
  },
  {
   "cell_type": "code",
   "execution_count": 159,
   "metadata": {
    "collapsed": false
   },
   "outputs": [
    {
     "name": "stdout",
     "output_type": "stream",
     "text": [
      "[[ 0  0  0]\n",
      " [ 0  0  0]\n",
      " [ 0  0  0]\n",
      " [ 9 10 11]]\n",
      "[ 0  0  0  0  0  0  0  0  0  9 10 11]\n"
     ]
    }
   ],
   "source": [
    "# Sin embargo al modificar el contenido del array 'c', si se modifica el array origen 'a'\n",
    "c[0:3] = 0\n",
    "print(c)\n",
    "print(a)"
   ]
  },
  {
   "cell_type": "markdown",
   "metadata": {},
   "source": [
    "``Si lo que queremos es hacer una copia completa de un array (copia de todos los datos), utilizaremos la función`` **copy**``:``"
   ]
  },
  {
   "cell_type": "code",
   "execution_count": 160,
   "metadata": {
    "collapsed": false
   },
   "outputs": [
    {
     "name": "stdout",
     "output_type": "stream",
     "text": [
      "a = [0 1 2 3 4 5]\n",
      "d = [0 1 2 3 4 5]\n",
      "a = [0 1 2 3 4 5]\n",
      "d = [9999    1    2    3    4    5]\n"
     ]
    }
   ],
   "source": [
    "# Creamos un array de 6 elementos\n",
    "a = np.arange(6)\n",
    "print('a =',a)\n",
    "# Creamos una copia de 'a' en 'd'\n",
    "d = a.copy()\n",
    "print('d =',d)\n",
    "# Modificiamos los valores de 'd' y estos no modifican los de 'a' al ser arrays diferentes\n",
    "d[0] = 9999\n",
    "print('a =',a)\n",
    "print('d =',d)"
   ]
  },
  {
   "cell_type": "code",
   "execution_count": null,
   "metadata": {
    "collapsed": true
   },
   "outputs": [],
   "source": []
  }
 ],
 "metadata": {
  "kernelspec": {
   "display_name": "Python 3",
   "language": "python",
   "name": "python3"
  },
  "language_info": {
   "codemirror_mode": {
    "name": "ipython",
    "version": 3
   },
   "file_extension": ".py",
   "mimetype": "text/x-python",
   "name": "python",
   "nbconvert_exporter": "python",
   "pygments_lexer": "ipython3",
   "version": "3.6.0"
  }
 },
 "nbformat": 4,
 "nbformat_minor": 2
}
