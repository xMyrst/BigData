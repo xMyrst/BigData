{
 "cells": [
  {
   "cell_type": "markdown",
   "metadata": {},
   "source": [
    "![logo_python3](https://www.python.org/static/img/python-logo.png \"Logo Python3\")\n",
    "# ``IMPORTACIÓN DE MÓDULOS EN PYTHON``"
   ]
  },
  {
   "cell_type": "markdown",
   "metadata": {},
   "source": [
    "<BR/>\n",
    "**``COMO IMPORTAR MÓDULOS``**\n",
    "\n",
    "\n",
    "``Los módulos son programas que amplían las funciones y clases de Python para realizar tareas específicas.``\n",
    "``En`` https://docs.python.org/3/py-modindex.html ``se puede encontar el índice de módulos de Python.``\n",
    "\n",
    "+ ``Por ejemplo, el modulo nos permite usar muchas funciones del sistema operativo.``\n",
    "\n",
    "``Los módulos se pueden cargar de las siguientes formas:``\n",
    "\n",
    "   + ``from`` ***modulo*** ``import``\n",
    "   + ``import`` ***modulo***\n",
    "   + ``import`` ***modulo*** ``as`` ***alias***\n",
    "\n",
    "\n",
    "``Dependiendo de cómo hayamos importado el módulo, así tendremos que utilizarlo.``"
   ]
  },
  {
   "cell_type": "code",
   "execution_count": 31,
   "metadata": {
    "collapsed": false
   },
   "outputs": [
    {
     "data": {
      "text/plain": [
       "array([2, 3, 4])"
      ]
     },
     "execution_count": 31,
     "metadata": {},
     "output_type": "execute_result"
    }
   ],
   "source": [
    "# Importamos solo la función array del modulo numpy\n",
    "from numpy import array\n",
    "a = array( [2,3,4] )       \n",
    "a"
   ]
  },
  {
   "cell_type": "code",
   "execution_count": 32,
   "metadata": {
    "collapsed": false
   },
   "outputs": [
    {
     "data": {
      "text/plain": [
       "array([2, 3, 4])"
      ]
     },
     "execution_count": 32,
     "metadata": {},
     "output_type": "execute_result"
    }
   ],
   "source": [
    "# Importamos todo el módulo numpy\n",
    "import numpy \n",
    "a = numpy.array( [2,3,4] )       \n",
    "a"
   ]
  },
  {
   "cell_type": "code",
   "execution_count": 33,
   "metadata": {
    "collapsed": false
   },
   "outputs": [
    {
     "data": {
      "text/plain": [
       "array([2, 3, 4])"
      ]
     },
     "execution_count": 33,
     "metadata": {},
     "output_type": "execute_result"
    }
   ],
   "source": [
    "# Importamos el módulo numpy y le asignamos el alias 'np'\n",
    "# Cuando queramos importar funciones de dicho módulo lo haremos refiriendonos al alias\n",
    "import numpy as np\n",
    "# En vez de escribir numpy.array, escribimos np.array\n",
    "a = np.array( [2,3,4] )\n",
    "a"
   ]
  },
  {
   "cell_type": "markdown",
   "metadata": {},
   "source": [
    "<br/>\n",
    "**``OPERACIONES DISPONIBLES DE UNA LIBERÍA``**"
   ]
  },
  {
   "cell_type": "code",
   "execution_count": 34,
   "metadata": {
    "collapsed": false
   },
   "outputs": [
    {
     "data": {
      "text/plain": [
       "['__doc__',\n",
       " '__loader__',\n",
       " '__name__',\n",
       " '__package__',\n",
       " '__spec__',\n",
       " 'acos',\n",
       " 'acosh',\n",
       " 'asin',\n",
       " 'asinh',\n",
       " 'atan',\n",
       " 'atan2',\n",
       " 'atanh',\n",
       " 'ceil',\n",
       " 'copysign',\n",
       " 'cos',\n",
       " 'cosh',\n",
       " 'degrees',\n",
       " 'e',\n",
       " 'erf',\n",
       " 'erfc',\n",
       " 'exp',\n",
       " 'expm1',\n",
       " 'fabs',\n",
       " 'factorial',\n",
       " 'floor',\n",
       " 'fmod',\n",
       " 'frexp',\n",
       " 'fsum',\n",
       " 'gamma',\n",
       " 'gcd',\n",
       " 'hypot',\n",
       " 'inf',\n",
       " 'isclose',\n",
       " 'isfinite',\n",
       " 'isinf',\n",
       " 'isnan',\n",
       " 'ldexp',\n",
       " 'lgamma',\n",
       " 'log',\n",
       " 'log10',\n",
       " 'log1p',\n",
       " 'log2',\n",
       " 'modf',\n",
       " 'nan',\n",
       " 'pi',\n",
       " 'pow',\n",
       " 'radians',\n",
       " 'sin',\n",
       " 'sinh',\n",
       " 'sqrt',\n",
       " 'tan',\n",
       " 'tanh',\n",
       " 'tau',\n",
       " 'trunc']"
      ]
     },
     "execution_count": 34,
     "metadata": {},
     "output_type": "execute_result"
    }
   ],
   "source": [
    "# Importamos el módulo math y listamos todas las operaciones disponibles mediante dir()\n",
    "import math\n",
    "dir(math)"
   ]
  },
  {
   "cell_type": "code",
   "execution_count": 35,
   "metadata": {
    "collapsed": false
   },
   "outputs": [
    {
     "name": "stdout",
     "output_type": "stream",
     "text": [
      "Help on built-in function pow in module builtins:\n",
      "\n",
      "pow(x, y, z=None, /)\n",
      "    Equivalent to x**y (with two arguments) or x**y % z (with three arguments)\n",
      "    \n",
      "    Some types, such as ints, are able to use a more efficient algorithm when\n",
      "    invoked using the three argument form.\n",
      "\n"
     ]
    }
   ],
   "source": [
    "# Dentro del módulo 'math' hay una función llamada 'pow'\n",
    "# Para acceder a la documentación de la función pow escribimos lo siguiente:\n",
    "help(pow)"
   ]
  },
  {
   "cell_type": "code",
   "execution_count": 36,
   "metadata": {
    "collapsed": false
   },
   "outputs": [
    {
     "data": {
      "text/plain": [
       "0.5290826861200238"
      ]
     },
     "execution_count": 36,
     "metadata": {},
     "output_type": "execute_result"
    }
   ],
   "source": [
    "# Importamos el módulo 'math' como 'mt' y llamamos a la función 'sin' para calcular el seno del número 34\n",
    "import math as mt\n",
    "mt.sin(34)"
   ]
  },
  {
   "cell_type": "code",
   "execution_count": 37,
   "metadata": {
    "collapsed": false
   },
   "outputs": [
    {
     "data": {
      "text/plain": [
       "3.141592653589793"
      ]
     },
     "execution_count": 37,
     "metadata": {},
     "output_type": "execute_result"
    }
   ],
   "source": [
    "# Llamada a la función 'pi' del módulo 'math'\n",
    "mt.pi"
   ]
  },
  {
   "cell_type": "code",
   "execution_count": 38,
   "metadata": {
    "collapsed": false
   },
   "outputs": [
    {
     "name": "stdout",
     "output_type": "stream",
     "text": [
      "Help on built-in function sqrt in module math:\n",
      "\n",
      "sqrt(...)\n",
      "    sqrt(x)\n",
      "    \n",
      "    Return the square root of x.\n",
      "\n"
     ]
    }
   ],
   "source": [
    "# Llamada a la función raíz cuadradra del módulo 'math'\n",
    "mt.sqrt(24)\n",
    "help(mt.sqrt)"
   ]
  },
  {
   "cell_type": "markdown",
   "metadata": {},
   "source": [
    "``Para listar los módulos que tenemos instalados y que por tanto podemos importar en nuestros programas, basta con ejecutar el siguiente comando:``"
   ]
  },
  {
   "cell_type": "code",
   "execution_count": 39,
   "metadata": {
    "collapsed": false
   },
   "outputs": [
    {
     "name": "stdout",
     "output_type": "stream",
     "text": [
      "# packages in environment at C:\\ProgramData\\Anaconda3:\n",
      "#\n",
      "_license                  1.1                      py36_1  \n",
      "alabaster                 0.7.9                    py36_0  \n",
      "anaconda                  4.3.1               np111py36_0  \n",
      "anaconda-client           1.6.0                    py36_0  \n",
      "anaconda-navigator        1.5.0                    py36_0  \n",
      "anaconda-project          0.4.1                    py36_0  \n",
      "astroid                   1.4.9                    py36_0  \n",
      "astropy                   1.3                 np111py36_0  \n",
      "babel                     2.3.4                    py36_0  \n",
      "backports                 1.0                      py36_0  \n",
      "beautifulsoup4            4.5.3                    py36_0  \n",
      "bitarray                  0.8.1                    py36_1  \n",
      "blaze                     0.10.1                   py36_0  \n",
      "bokeh                     0.12.4                   py36_0  \n",
      "boto                      2.45.0                   py36_0  \n",
      "bottleneck                1.2.0               np111py36_0  \n",
      "bzip2                     1.0.6                    vc14_3  [vc14]\n",
      "cffi                      1.9.1                    py36_0  \n",
      "chardet                   2.3.0                    py36_0  \n",
      "chest                     0.2.3                    py36_0  \n",
      "click                     6.7                      py36_0  \n",
      "cloudpickle               0.2.2                    py36_0  \n",
      "clyent                    1.2.2                    py36_0  \n",
      "colorama                  0.3.7                    py36_0  \n",
      "comtypes                  1.1.2                    py36_0  \n",
      "conda                     4.3.14                   py36_1  \n",
      "conda-env                 2.6.0                         0  \n",
      "configobj                 5.0.6                    py36_0  \n",
      "console_shortcut          0.1.1                    py36_1  \n",
      "contextlib2               0.5.4                    py36_0  \n",
      "cryptography              1.7.1                    py36_0  \n",
      "curl                      7.52.1                   vc14_0  [vc14]\n",
      "cycler                    0.10.0                   py36_0  \n",
      "cython                    0.25.2                   py36_0  \n",
      "cytoolz                   0.8.2                    py36_0  \n",
      "dask                      0.13.0                   py36_0  \n",
      "datashape                 0.5.4                    py36_0  \n",
      "decorator                 4.0.11                   py36_0  \n",
      "dill                      0.2.5                    py36_0  \n",
      "docutils                  0.13.1                   py36_0  \n",
      "entrypoints               0.2.2                    py36_0  \n",
      "et_xmlfile                1.0.1                    py36_0  \n",
      "fastcache                 1.0.2                    py36_1  \n",
      "flask                     0.12                     py36_0  \n",
      "flask-cors                3.0.2                    py36_0  \n",
      "freetype                  2.5.5                    vc14_2  [vc14]\n",
      "get_terminal_size         1.0.0                    py36_0  \n",
      "gevent                    1.2.1                    py36_0  \n",
      "greenlet                  0.4.11                   py36_0  \n",
      "h5py                      2.6.0               np111py36_2  \n",
      "hdf5                      1.8.15.1                 vc14_4  [vc14]\n",
      "heapdict                  1.0.0                    py36_1  \n",
      "icu                       57.1                     vc14_0  [vc14]\n",
      "idna                      2.2                      py36_0  \n",
      "imagesize                 0.7.1                    py36_0  \n",
      "ipykernel                 4.5.2                    py36_0  \n",
      "ipython                   5.1.0                    py36_0  \n",
      "ipython_genutils          0.1.0                    py36_0  \n",
      "ipywidgets                5.2.2                    py36_1  \n",
      "isort                     4.2.5                    py36_0  \n",
      "itsdangerous              0.24                     py36_0  \n",
      "jdcal                     1.3                      py36_0  \n",
      "jedi                      0.9.0                    py36_1  \n",
      "jinja2                    2.9.4                    py36_0  \n",
      "jpeg                      9b                       vc14_0  [vc14]\n",
      "jsonschema                2.5.1                    py36_0  \n",
      "jupyter                   1.0.0                    py36_3  \n",
      "jupyter_client            4.4.0                    py36_0  \n",
      "jupyter_console           5.0.0                    py36_0  \n",
      "jupyter_core              4.2.1                    py36_0  \n",
      "lazy-object-proxy         1.2.2                    py36_0  \n",
      "libpng                    1.6.27                   vc14_0  [vc14]\n",
      "libtiff                   4.0.6                    vc14_3  [vc14]\n",
      "llvmlite                  0.15.0                   py36_0  \n",
      "locket                    0.2.0                    py36_1  \n",
      "lxml                      3.7.2                    py36_0  \n",
      "markupsafe                0.23                     py36_2  \n",
      "matplotlib                2.0.0               np111py36_0  \n",
      "menuinst                  1.4.4                    py36_0  \n",
      "mistune                   0.7.3                    py36_0  \n",
      "mkl                       2017.0.1                      0  \n",
      "mkl-service               1.1.2                    py36_3  \n",
      "mpmath                    0.19                     py36_1  \n",
      "multipledispatch          0.4.9                    py36_0  \n",
      "nbconvert                 4.2.0                    py36_0  \n",
      "nbformat                  4.2.0                    py36_0  \n",
      "networkx                  1.11                     py36_0  \n",
      "nltk                      3.2.2                    py36_0  \n",
      "nose                      1.3.7                    py36_1  \n",
      "notebook                  4.3.1                    py36_2  \n",
      "numba                     0.30.1              np111py36_0  \n",
      "numexpr                   2.6.1               np111py36_2  \n",
      "numpy                     1.11.3                   py36_0  \n",
      "numpydoc                  0.6.0                    py36_0  \n",
      "odo                       0.5.0                    py36_1  \n",
      "openpyxl                  2.4.1                    py36_0  \n",
      "openssl                   1.0.2k                   vc14_0  [vc14]\n",
      "pandas                    0.19.2              np111py36_1  \n",
      "partd                     0.3.7                    py36_0  \n",
      "path.py                   10.0                     py36_0  \n",
      "pathlib2                  2.2.0                    py36_0  \n",
      "patsy                     0.4.1                    py36_0  \n",
      "pep8                      1.7.0                    py36_0  \n",
      "pickleshare               0.7.4                    py36_0  \n",
      "pillow                    4.0.0                    py36_0  \n",
      "pip                       9.0.1                    py36_1  \n",
      "ply                       3.9                      py36_0  \n",
      "prompt_toolkit            1.0.9                    py36_0  \n",
      "psutil                    5.0.1                    py36_0  \n",
      "py                        1.4.32                   py36_0  \n",
      "pyasn1                    0.1.9                    py36_0  \n",
      "pycosat                   0.6.1                    py36_1  \n",
      "pycparser                 2.17                     py36_0  \n",
      "pycrypto                  2.6.1                    py36_5  \n",
      "pycurl                    7.43.0                   py36_2  \n",
      "pyflakes                  1.5.0                    py36_0  \n",
      "pygments                  2.1.3                    py36_0  \n",
      "pylint                    1.6.4                    py36_1  \n",
      "pyopenssl                 16.2.0                   py36_0  \n",
      "pyparsing                 2.1.4                    py36_0  \n",
      "pyqt                      5.6.0                    py36_2  \n",
      "pytables                  3.2.2               np111py36_4  \n",
      "pytest                    3.0.5                    py36_0  \n",
      "python                    3.6.0                         0  \n",
      "python-dateutil           2.6.0                    py36_0  \n",
      "pytz                      2016.10                  py36_0  \n",
      "pywin32                   220                      py36_2  \n",
      "pyyaml                    3.12                     py36_0  \n",
      "pyzmq                     16.0.2                   py36_0  \n",
      "qt                        5.6.2                    vc14_3  [vc14]\n",
      "qtawesome                 0.4.3                    py36_0  \n",
      "qtconsole                 4.2.1                    py36_2  \n",
      "qtpy                      1.2.1                    py36_0  \n",
      "requests                  2.12.4                   py36_0  \n",
      "rope                      0.9.4                    py36_1  \n",
      "ruamel_yaml               0.11.14                  py36_1  \n",
      "scikit-image              0.12.3              np111py36_1  \n",
      "scikit-learn              0.18.1              np111py36_1  \n",
      "scipy                     0.18.1              np111py36_1  \n",
      "seaborn                   0.7.1                    py36_0  \n",
      "setuptools                27.2.0                   py36_1  \n",
      "simplegeneric             0.8.1                    py36_1  \n",
      "singledispatch            3.4.0.3                  py36_0  \n",
      "sip                       4.18                     py36_0  \n",
      "six                       1.10.0                   py36_0  \n",
      "snowballstemmer           1.2.1                    py36_0  \n",
      "sockjs-tornado            1.0.3                    py36_0  \n",
      "sphinx                    1.5.1                    py36_0  \n",
      "spyder                    3.1.2                    py36_0  \n",
      "sqlalchemy                1.1.5                    py36_0  \n",
      "statsmodels               0.6.1               np111py36_1  \n",
      "sympy                     1.0                      py36_0  \n",
      "tk                        8.5.18                   vc14_0  [vc14]\n",
      "toolz                     0.8.2                    py36_0  \n",
      "tornado                   4.4.2                    py36_0  \n",
      "traitlets                 4.3.1                    py36_0  \n",
      "unicodecsv                0.14.1                   py36_0  \n",
      "vs2015_runtime            14.0.25123                    0  \n",
      "wcwidth                   0.1.7                    py36_0  \n",
      "werkzeug                  0.11.15                  py36_0  \n",
      "wheel                     0.29.0                   py36_0  \n",
      "widgetsnbextension        1.2.6                    py36_0  \n",
      "win_unicode_console       0.5                      py36_0  \n",
      "wrapt                     1.10.8                   py36_0  \n",
      "xlrd                      1.0.0                    py36_0  \n",
      "xlsxwriter                0.9.6                    py36_0  \n",
      "xlwings                   0.10.2                   py36_0  \n",
      "xlwt                      1.2.0                    py36_0  \n",
      "zlib                      1.2.8                    vc14_3  [vc14]\n"
     ]
    }
   ],
   "source": [
    "!conda list"
   ]
  }
 ],
 "metadata": {
  "kernelspec": {
   "display_name": "Python 3",
   "language": "python",
   "name": "python3"
  },
  "language_info": {
   "codemirror_mode": {
    "name": "ipython",
    "version": 3
   },
   "file_extension": ".py",
   "mimetype": "text/x-python",
   "name": "python",
   "nbconvert_exporter": "python",
   "pygments_lexer": "ipython3",
   "version": "3.6.0"
  }
 },
 "nbformat": 4,
 "nbformat_minor": 2
}
