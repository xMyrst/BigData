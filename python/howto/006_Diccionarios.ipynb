{
 "cells": [
  {
   "cell_type": "markdown",
   "metadata": {},
   "source": [
    "![logo_python3](https://www.python.org/static/img/python-logo.png \"Logo Python3\")\n",
    "# ``DICCIONARIOS``"
   ]
  },
  {
   "cell_type": "markdown",
   "metadata": {},
   "source": [
    "``En Python, un diccionario es una colección`` **``no ordenada``** ``de pares`` _``clave - valor``_ ``donde la clave y el valor son objetos Python.``\n",
    "\n",
    " + ``El acceso a los elementos de un diccionario se realiza a través de la clave.``\n",
    " + ``En otros lenguajes se les conoce como tablas hash.``\n",
    " \n",
    "<br />\n",
    "**``CREAR UN DICCIONARIO``**\n",
    "\n",
    "``De la misma forma que con listas, es posible definir un diccionario directamente con los miembros que va a contener, o bien inicializar el diccionario vacío y luego agregar los valores.``\n",
    "\n",
    " + ``Los diccionarios se crean utilizando llaves { }.``\n",
    " + ``Los elementos del diccionario son de la forma clave : valor y cada uno de los elementos se separan por comas.``\n",
    " "
   ]
  },
  {
   "cell_type": "code",
   "execution_count": 3,
   "metadata": {
    "collapsed": false
   },
   "outputs": [
    {
     "data": {
      "text/plain": [
       "False"
      ]
     },
     "execution_count": 3,
     "metadata": {},
     "output_type": "execute_result"
    }
   ],
   "source": [
    "# Definición de un diccionario vacío, los diccionarios se engloban mediante llaves {}\n",
    "dic = { }\n",
    "# Nos devuelve que el diccionario 'dic' está vacío\n",
    "bool(dic)"
   ]
  },
  {
   "cell_type": "code",
   "execution_count": 4,
   "metadata": {
    "collapsed": false
   },
   "outputs": [
    {
     "data": {
      "text/plain": [
       "{1: 'Lunes', 2: 'Martes', 3: 'Miercoles'}"
      ]
     },
     "execution_count": 4,
     "metadata": {},
     "output_type": "execute_result"
    }
   ],
   "source": [
    "# En los diccionarios siempre debe definirse una clave y un valor\n",
    "# Sintáxis: dic = {clave: 'valor', clave: 'valor', clave: 'valor'}\n",
    "dic =  {1:'Lunes', 2:'Martes', 3:'Miercoles' }\n",
    "dic"
   ]
  },
  {
   "cell_type": "markdown",
   "metadata": {
    "collapsed": true
   },
   "source": [
    "``La clave de un diccionario puede ser cualquier variable de tipo inmutable:``\n",
    "\n",
    " + ``cadenas``\n",
    " + ``enteros``\n",
    " + ``tuplas (con valores inmutables en sus miembros), etc.``\n",
    " \n",
    "``Los valores de un diccionario pueden ser de cualquier tipo: listas, cadenas, tuplas, otros diccionarios, objetos, etc.``"
   ]
  },
  {
   "cell_type": "code",
   "execution_count": 5,
   "metadata": {
    "collapsed": false
   },
   "outputs": [
    {
     "name": "stdout",
     "output_type": "stream",
     "text": [
      "{'Lunes': 1, 'Martes': 2, 'Finde': (6, 7)}\n"
     ]
    },
    {
     "data": {
      "text/plain": [
       "{1: 'Lunes',\n",
       " 2: 'Martes',\n",
       " 3: 'Miércoles',\n",
       " 4: 'Jueves',\n",
       " 5: 'Viernes',\n",
       " 6: 'Sábado',\n",
       " 7: 'Domingo'}"
      ]
     },
     "execution_count": 5,
     "metadata": {},
     "output_type": "execute_result"
    }
   ],
   "source": [
    "# El diccionario 'd1' tiene como clave cadenas y como valor enteros o tuplas\n",
    "d1 = {'Lunes' : 1, 'Martes' : 2 , 'Finde' : (6,7) }\n",
    "print(d1)\n",
    "# Aunque los elementos de un diccionario se defninan de manera desordenada, al llamar a dicho diccionario estos\n",
    "# siempre aparecerán de manera ordenada mediante su clave.\n",
    "d2 = {7:'Domingo', 1:'Lunes', 3:'Miércoles', 6:'Sábado', 5:'Viernes', 2:'Martes', 4:'Jueves'}\n",
    "d2"
   ]
  },
  {
   "cell_type": "markdown",
   "metadata": {},
   "source": [
    "``Otra forma de crear un diccionario es declararlo vacío y luego añadir los valores, se le declara como un par de llaves sin nada en medio, y luego se asignan valores directamente a los índices.``"
   ]
  },
  {
   "cell_type": "code",
   "execution_count": 6,
   "metadata": {
    "collapsed": false
   },
   "outputs": [
    {
     "data": {
      "text/plain": [
       "{1: 'a', 2: 'b', 3: 'c'}"
      ]
     },
     "execution_count": 6,
     "metadata": {},
     "output_type": "execute_result"
    }
   ],
   "source": [
    "# Se declara un diccionario vacío\n",
    "dic = {}\n",
    "# Se añaden elementos a dicho diccionario otorgando un valor a la clave\n",
    "dic[1] = 'a'\n",
    "dic[2] = 'b'\n",
    "dic[3] = 'c'\n",
    "dic"
   ]
  },
  {
   "cell_type": "markdown",
   "metadata": {},
   "source": [
    "<br />\n",
    "**``ACCESO A LOS ELEMENTOS DE UN DICCIONARIO``**\n",
    "\n",
    "``Para acceder al valor asociado a una determinada clave, utilizamos la notación de corchetes [ ] usada en listas, pero utilizando la clave elegida en lugar del índice.``"
   ]
  },
  {
   "cell_type": "code",
   "execution_count": 7,
   "metadata": {
    "collapsed": false
   },
   "outputs": [
    {
     "data": {
      "text/plain": [
       "2"
      ]
     },
     "execution_count": 7,
     "metadata": {},
     "output_type": "execute_result"
    }
   ],
   "source": [
    "dic = {'x': 1, 'y': 2, 'z': 4}\n",
    "dic['y']"
   ]
  },
  {
   "cell_type": "markdown",
   "metadata": {},
   "source": [
    "``Las claves son únicas dentro de un diccionario, es decir que no puede haber un diccionario que tenga dos veces la misma clave, si se asigna un valor a una clave ya existente, se reemplaza el valor anterior.``"
   ]
  },
  {
   "cell_type": "code",
   "execution_count": 8,
   "metadata": {
    "collapsed": false
   },
   "outputs": [
    {
     "data": {
      "text/plain": [
       "{'x': 1, 'y': 99, 'z': 4, 'zz': 'Hola'}"
      ]
     },
     "execution_count": 8,
     "metadata": {},
     "output_type": "execute_result"
    }
   ],
   "source": [
    "# Definimos un nuevo valor para la clave 'y', que lo que hará es borrar el anterior valor y sustituirlo por el nuevo\n",
    "dic['y'] = 99\n",
    "# Añade una nueva clave, no existente, con su valor correspondiente\n",
    "dic['zz'] = 'Hola'\n",
    "dic"
   ]
  },
  {
   "cell_type": "code",
   "execution_count": 9,
   "metadata": {
    "collapsed": false
   },
   "outputs": [
    {
     "ename": "KeyError",
     "evalue": "'xx'",
     "output_type": "error",
     "traceback": [
      "\u001b[0;31m---------------------------------------------------------------------------\u001b[0m",
      "\u001b[0;31mKeyError\u001b[0m                                  Traceback (most recent call last)",
      "\u001b[0;32m<ipython-input-9-3024cc78b60b>\u001b[0m in \u001b[0;36m<module>\u001b[0;34m()\u001b[0m\n\u001b[1;32m      1\u001b[0m \u001b[1;31m# Si se intenta acceder a una clave no existente, Python nos arroja un error\u001b[0m\u001b[1;33m\u001b[0m\u001b[1;33m\u001b[0m\u001b[0m\n\u001b[0;32m----> 2\u001b[0;31m \u001b[0mdic\u001b[0m\u001b[1;33m[\u001b[0m\u001b[1;34m'xx'\u001b[0m\u001b[1;33m]\u001b[0m\u001b[1;33m\u001b[0m\u001b[0m\n\u001b[0m",
      "\u001b[0;31mKeyError\u001b[0m: 'xx'"
     ]
    }
   ],
   "source": [
    "# Si se intenta acceder a una clave no existente, Python nos arroja un error\n",
    "dic['xx']"
   ]
  },
  {
   "cell_type": "markdown",
   "metadata": {},
   "source": [
    "``Para evitar estos errores, podemos usar la función`` **_``in``_** ``, que comprueba si un elemento está en el diccionario o utilizar el método`` ***``get``*** ``, que devuelve el valor`` **_``None``_** `` si la clave no está en el diccionario.``"
   ]
  },
  {
   "cell_type": "code",
   "execution_count": 25,
   "metadata": {
    "collapsed": false
   },
   "outputs": [
    {
     "data": {
      "text/plain": [
       "False"
      ]
     },
     "execution_count": 25,
     "metadata": {},
     "output_type": "execute_result"
    }
   ],
   "source": [
    "# dic = {'x': 1, 'y': 2, 'z': 4}\n",
    "# Preguntamos por la clave y nos devuelve un valor booleano\n",
    "'x' not in dic"
   ]
  },
  {
   "cell_type": "code",
   "execution_count": 11,
   "metadata": {
    "collapsed": false
   },
   "outputs": [
    {
     "data": {
      "text/plain": [
       "NoneType"
      ]
     },
     "execution_count": 11,
     "metadata": {},
     "output_type": "execute_result"
    }
   ],
   "source": [
    "# Mediante GET podemos realizar una consulta sobre una clave para conocer su valor\n",
    "# dic.get('x')\n",
    "# Mediante la función TYPE, podemos averiguar si está presente o no el diccionario o de que tipo es el valor\n",
    "# type(dic.get('x'))\n",
    "# Si la clave no está en el diccionario nos muestra una variable de tipo NONE\n",
    "type(dic.get('xx'))"
   ]
  },
  {
   "cell_type": "markdown",
   "metadata": {},
   "source": [
    "``Para eliminar elementos de un diccionario se utiliza el método`` ***``pop``***``:``"
   ]
  },
  {
   "cell_type": "code",
   "execution_count": 12,
   "metadata": {
    "collapsed": false
   },
   "outputs": [
    {
     "data": {
      "text/plain": [
       "{'x': 1, 'y': 99, 'z': 4, 'zz': 'Hola'}"
      ]
     },
     "execution_count": 12,
     "metadata": {},
     "output_type": "execute_result"
    }
   ],
   "source": [
    "dic"
   ]
  },
  {
   "cell_type": "code",
   "execution_count": 16,
   "metadata": {
    "collapsed": false
   },
   "outputs": [
    {
     "ename": "KeyError",
     "evalue": "'zz'",
     "output_type": "error",
     "traceback": [
      "\u001b[0;31m---------------------------------------------------------------------------\u001b[0m",
      "\u001b[0;31mKeyError\u001b[0m                                  Traceback (most recent call last)",
      "\u001b[0;32m<ipython-input-16-2af138cef024>\u001b[0m in \u001b[0;36m<module>\u001b[0;34m()\u001b[0m\n\u001b[0;32m----> 1\u001b[0;31m \u001b[0mborrar\u001b[0m \u001b[1;33m=\u001b[0m \u001b[0mdic\u001b[0m\u001b[1;33m.\u001b[0m\u001b[0mpop\u001b[0m\u001b[1;33m(\u001b[0m\u001b[1;34m'zz'\u001b[0m\u001b[1;33m)\u001b[0m\u001b[1;33m\u001b[0m\u001b[0m\n\u001b[0m\u001b[1;32m      2\u001b[0m \u001b[0mborrar\u001b[0m\u001b[1;33m\u001b[0m\u001b[0m\n",
      "\u001b[0;31mKeyError\u001b[0m: 'zz'"
     ]
    }
   ],
   "source": [
    "borrar = dic.pop('zz')\n",
    "borrar"
   ]
  },
  {
   "cell_type": "code",
   "execution_count": 17,
   "metadata": {
    "collapsed": false
   },
   "outputs": [
    {
     "data": {
      "text/plain": [
       "{'x': 1, 'y': 99, 'z': 4}"
      ]
     },
     "execution_count": 17,
     "metadata": {},
     "output_type": "execute_result"
    }
   ],
   "source": [
    "dic"
   ]
  },
  {
   "cell_type": "code",
   "execution_count": 18,
   "metadata": {
    "collapsed": false
   },
   "outputs": [
    {
     "name": "stdout",
     "output_type": "stream",
     "text": [
      "Cuidado, no existe la clave 'xx' en el diccionario\n"
     ]
    }
   ],
   "source": [
    "# NOTA DE AUTOR\n",
    "# Método para capturar un error de tipo KeyError en Python\n",
    "try:\n",
    "    dic['xx']\n",
    "except KeyError:       # capturamos la excepción\n",
    "    print(\"Cuidado, no existe la clave\" + \" 'xx' \" + \"en el diccionario\")"
   ]
  },
  {
   "cell_type": "markdown",
   "metadata": {},
   "source": [
    "<BR/>\n",
    "**``MÉTODOS: KEYS, VALUES Y UPDATE``**"
   ]
  },
  {
   "cell_type": "markdown",
   "metadata": {},
   "source": [
    "``El método`` ***``keys``*** ``devuelve una lista con las claves del diccionario. El método`` ***``values``*** ``devuelve una lista con los valores del diccionario.``"
   ]
  },
  {
   "cell_type": "code",
   "execution_count": 19,
   "metadata": {
    "collapsed": false
   },
   "outputs": [
    {
     "data": {
      "text/plain": [
       "{'x': 1, 'y': 99, 'z': 4}"
      ]
     },
     "execution_count": 19,
     "metadata": {},
     "output_type": "execute_result"
    }
   ],
   "source": [
    "dic"
   ]
  },
  {
   "cell_type": "code",
   "execution_count": 24,
   "metadata": {
    "collapsed": false
   },
   "outputs": [
    {
     "data": {
      "text/plain": [
       "dict_keys(['x', 'y', 'z'])"
      ]
     },
     "execution_count": 24,
     "metadata": {},
     "output_type": "execute_result"
    }
   ],
   "source": [
    "# Uso del método KEYS para obtener el valor de las claves de un diccionario\n",
    "dic.keys()"
   ]
  },
  {
   "cell_type": "code",
   "execution_count": 24,
   "metadata": {
    "collapsed": false
   },
   "outputs": [
    {
     "data": {
      "text/plain": [
       "dict_values([1, 99, 4])"
      ]
     },
     "execution_count": 24,
     "metadata": {},
     "output_type": "execute_result"
    }
   ],
   "source": [
    "# Uso del método VALUES para obtener el los valores de un diccionario\n",
    "dic.values()"
   ]
  },
  {
   "cell_type": "code",
   "execution_count": 25,
   "metadata": {
    "collapsed": false
   },
   "outputs": [
    {
     "data": {
      "text/plain": [
       "{'Finde': (6, 7), 'Lunes': 1, 'Martes': 2}"
      ]
     },
     "execution_count": 25,
     "metadata": {},
     "output_type": "execute_result"
    }
   ],
   "source": [
    "# Para fusionar diccionarios utilizamos el método update.\n",
    "d1"
   ]
  },
  {
   "cell_type": "code",
   "execution_count": 26,
   "metadata": {
    "collapsed": false
   },
   "outputs": [
    {
     "data": {
      "text/plain": [
       "{1: 'Lunes',\n",
       " 2: 'Martes',\n",
       " 3: 'Miércoles',\n",
       " 4: 'Jueves',\n",
       " 5: 'Viernes',\n",
       " 6: 'Sábado',\n",
       " 7: 'Domingo'}"
      ]
     },
     "execution_count": 26,
     "metadata": {},
     "output_type": "execute_result"
    }
   ],
   "source": [
    "d2"
   ]
  },
  {
   "cell_type": "code",
   "execution_count": 27,
   "metadata": {
    "collapsed": false
   },
   "outputs": [
    {
     "data": {
      "text/plain": [
       "{'Lunes': 1,\n",
       " 'Martes': 2,\n",
       " 'Finde': (6, 7),\n",
       " 7: 'Domingo',\n",
       " 1: 'Lunes',\n",
       " 3: 'Miércoles',\n",
       " 6: 'Sábado',\n",
       " 5: 'Viernes',\n",
       " 2: 'Martes',\n",
       " 4: 'Jueves'}"
      ]
     },
     "execution_count": 27,
     "metadata": {},
     "output_type": "execute_result"
    }
   ],
   "source": [
    "d1.update(d2)\n",
    "d1"
   ]
  },
  {
   "cell_type": "markdown",
   "metadata": {},
   "source": [
    "<BR/>\n",
    "**``LA FUNCIÓN ZIP``**"
   ]
  },
  {
   "cell_type": "markdown",
   "metadata": {},
   "source": [
    "``Existen algunas diferencias entre las versiones 2.7 y 3.5 de Python:``\n",
    "\n",
    " + ``Python 2.7: La función`` ***``zip``*** ``permite crear una lista de tuplas a partir de los elementos de otras secuencias.``\n",
    " + ``Python 3.5: La función`` ***``zip`` ***``permite crear un objeto iterable a partir de los elementos de otras secuencias.``"
   ]
  },
  {
   "cell_type": "code",
   "execution_count": 28,
   "metadata": {
    "collapsed": false
   },
   "outputs": [
    {
     "data": {
      "text/plain": [
       "[(1, 'primavera'), (2, 'otoño'), (3, 'verano'), (4, 'invierno')]"
      ]
     },
     "execution_count": 28,
     "metadata": {},
     "output_type": "execute_result"
    }
   ],
   "source": [
    "# Vamos a ver un ejemplo en Python 3.5\n",
    "# Definimos una lista llamada 's1'\n",
    "s1 = [1, 2, 3, 4]\n",
    "# Definimos una lista llamada 's2'\n",
    "s2 = ['primavera', 'otoño', 'verano', 'invierno']\n",
    "# Uso de la función ZIP para unir ambas listas\n",
    "z = zip(s1, s2)\n",
    "# Creamos una lista a partir de la variable 'z' que a su vez es un merge de las listas 's1' y 's2'\n",
    "# Lo que nos mostrará será un solapamiento de ambas listas, alternando entre valores de la primera y la segunda,\n",
    "# como si de una cremallera se tratase\n",
    "s_zip = list(z) # Guardamos la lista en una variable para poder usarla\n",
    "s_zip           # Mostramos la lista contenida en la variable s_zip"
   ]
  },
  {
   "cell_type": "code",
   "execution_count": 29,
   "metadata": {
    "collapsed": false
   },
   "outputs": [
    {
     "data": {
      "text/plain": [
       "(1, 'primavera')"
      ]
     },
     "execution_count": 29,
     "metadata": {},
     "output_type": "execute_result"
    }
   ],
   "source": [
    "# Preguntamos por el primero de los valores de la lista\n",
    "s_zip[0]"
   ]
  },
  {
   "cell_type": "markdown",
   "metadata": {},
   "source": [
    "``También podemos hacer`` ***``zip`` ***``inverso para separar una lista de tuplas en varias secuencias.``"
   ]
  },
  {
   "cell_type": "code",
   "execution_count": 30,
   "metadata": {
    "collapsed": false
   },
   "outputs": [
    {
     "data": {
      "text/plain": [
       "[(1, 'primavera'), (2, 'verano'), (3, 'otoño'), (4, 'invierno')]"
      ]
     },
     "execution_count": 30,
     "metadata": {},
     "output_type": "execute_result"
    }
   ],
   "source": [
    "# Con los datos del ejemplo anterior\n",
    "s1 = [1, 2, 3 , 4]\n",
    "s2 = ['primavera', 'verano', 'otoño', 'invierno' ]\n",
    "z = zip(s1, s2)\n",
    "s_zip = list(z)\n",
    "s_zip"
   ]
  },
  {
   "cell_type": "code",
   "execution_count": 31,
   "metadata": {
    "collapsed": false
   },
   "outputs": [
    {
     "data": {
      "text/plain": [
       "((1, 2, 3, 4), ('primavera', 'verano', 'otoño', 'invierno'))"
      ]
     },
     "execution_count": 31,
     "metadata": {},
     "output_type": "execute_result"
    }
   ],
   "source": [
    "# Definimos dos variables 'c1' y 'c2' para desentrelazar la lista contenida dentro de la variable 's_zip'\n",
    "# que a su vez contiene una lista de tuplas\n",
    "c1, c2 = zip(*s_zip)\n",
    "# Mostramos el resultado\n",
    "c1, c2"
   ]
  },
  {
   "cell_type": "code",
   "execution_count": 32,
   "metadata": {
    "collapsed": false
   },
   "outputs": [
    {
     "data": {
      "text/plain": [
       "{1: 'primavera', 2: 'verano', 3: 'otoño', 4: 'invierno'}"
      ]
     },
     "execution_count": 32,
     "metadata": {},
     "output_type": "execute_result"
    }
   ],
   "source": [
    "# A partir de secuencias también es posible crear diccionarios\n",
    "# Definimos la variable 'map' como un diccionario usando la función dict()\n",
    "map = dict(zip(s1,c2))\n",
    "map"
   ]
  },
  {
   "cell_type": "code",
   "execution_count": null,
   "metadata": {
    "collapsed": true
   },
   "outputs": [],
   "source": []
  }
 ],
 "metadata": {
  "kernelspec": {
   "display_name": "Python 3",
   "language": "python",
   "name": "python3"
  },
  "language_info": {
   "codemirror_mode": {
    "name": "ipython",
    "version": 3
   },
   "file_extension": ".py",
   "mimetype": "text/x-python",
   "name": "python",
   "nbconvert_exporter": "python",
   "pygments_lexer": "ipython3",
   "version": "3.6.0"
  }
 },
 "nbformat": 4,
 "nbformat_minor": 2
}
