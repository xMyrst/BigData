{
 "cells": [
  {
   "cell_type": "markdown",
   "metadata": {},
   "source": [
    "![logo_python3](https://www.python.org/static/img/python-logo.png \"Logo Python3\")\n",
    "# ``MÓDULO NumPy``"
   ]
  },
  {
   "cell_type": "markdown",
   "metadata": {},
   "source": [
    "**``PROCESADO DE DATOS MEDIANTE ARRAYS``**\n",
    "\n",
    "``Los arrays realizan una gestión de la memoria mucho más eficiente que las listas y por tanto se mejora el rendimiento.``\n",
    "\n",
    "+ ``Se realizan muchas operaciones mediante expresiones sobre arrays que en otros casos requerirían múltiples y costosos loops. A esto se le llama vectorización.``\n",
    "\n",
    "\n",
    "+ ``Las funciones de NumPy se ejecutan de forma tan eficiente como se ejecutarían en otros lenguajes como por ejemplo Fortran, C y C++.``\n",
    "\n",
    "\n",
    "+ ``Para los casos en los que la ejecución sea más eficiente en otros lenguajes, como por ejemplo Fortran, existen herramientas que nos permiten ejecutar desde Python nuestros códigos en otros lenguajes como f2py.``"
   ]
  },
  {
   "cell_type": "markdown",
   "metadata": {},
   "source": [
    "**``EXPRESIONES CONDICIONALES``**\n",
    "\n",
    "``La función`` **where()** ``es la versión vectorizada de la expresión ternaria x if cond else y que ya hemos visto anteriormente.``\n",
    "\n",
    "``Supongamos que tenemos los tres arrays:``"
   ]
  },
  {
   "cell_type": "code",
   "execution_count": 3,
   "metadata": {
    "collapsed": false
   },
   "outputs": [
    {
     "data": {
      "text/plain": [
       "(array([1, 2, 3, 4]), array([5, 6, 7, 8]))"
      ]
     },
     "execution_count": 3,
     "metadata": {},
     "output_type": "execute_result"
    }
   ],
   "source": [
    "# Importamos la libería numpy\n",
    "import numpy as np\n",
    "# Creamos dos arrays [inicio,fin,salto]\n",
    "x = np.arange(1,5)\n",
    "y = np.arange(5,9)\n",
    "# Creamos un array máscara\n",
    "cond = np.array([True, False, False, True])\n",
    "x, y"
   ]
  },
  {
   "cell_type": "markdown",
   "metadata": {},
   "source": [
    "``Supongamos que queremos obtener el valor de x cuando se cumpla la condición en`` **cond**``.\n",
    "Queremos obtener por tanto el array [1,6,7,4].``"
   ]
  },
  {
   "cell_type": "code",
   "execution_count": 4,
   "metadata": {
    "collapsed": false
   },
   "outputs": [
    {
     "data": {
      "text/plain": [
       "array([1, 6, 7, 4])"
      ]
     },
     "execution_count": 4,
     "metadata": {},
     "output_type": "execute_result"
    }
   ],
   "source": [
    "# Primera versión sin operacion vectorizada where()\n",
    "# Se realiza mediante una expresión ternaria de un bucle for\n",
    "z1 = np.array([x if cond else y for x, y, cond in zip(x, y, cond)])\n",
    "z1"
   ]
  },
  {
   "cell_type": "code",
   "execution_count": 5,
   "metadata": {
    "collapsed": false
   },
   "outputs": [
    {
     "data": {
      "text/plain": [
       "array([1, 6, 7, 4])"
      ]
     },
     "execution_count": 5,
     "metadata": {},
     "output_type": "execute_result"
    }
   ],
   "source": [
    "# Segunda versión - operación vectorizada where()\n",
    "z2 = np.where(cond, x, y)\n",
    "z2"
   ]
  },
  {
   "cell_type": "markdown",
   "metadata": {},
   "source": [
    "``Los dos últimos argumentos de la operación`` **where** ``no tienen por qué ser arrays, pueden ser escalares.``\n",
    "\n",
    "``En análisis de datos la operación where se utiliza mucho para crear nuevos arrays a partir de los datos de otros. Supongamos que tenemos un array`` **a** ``de dos dimensiones y queremos construir otro array`` **r** ``tal que:``\n",
    "\n",
    "$$r(x,y) = \\begin{cases}   1 &\\mbox{if } a(x,y) \\ge 0 \\\\-1 &\\mbox{if } a(x,y) \\lt 0.   \\end{cases}$$"
   ]
  },
  {
   "cell_type": "code",
   "execution_count": 19,
   "metadata": {
    "collapsed": false
   },
   "outputs": [
    {
     "data": {
      "text/plain": [
       "array([[ 0.98146166, -0.50549399,  0.2474071 , -0.1036888 , -0.07356249],\n",
       "       [-1.25356607, -0.82140967,  0.65095668, -0.39064603, -1.14922838],\n",
       "       [-1.14161655,  0.95304098,  0.21241068, -2.30332245,  0.08933535]])"
      ]
     },
     "execution_count": 19,
     "metadata": {},
     "output_type": "execute_result"
    }
   ],
   "source": [
    "# Creamos un array de valores aleatorios con la función randn()\n",
    "a = np.random.randn(3,5)\n",
    "a"
   ]
  },
  {
   "cell_type": "code",
   "execution_count": 22,
   "metadata": {
    "collapsed": false
   },
   "outputs": [
    {
     "data": {
      "text/plain": [
       "array([[1, 0, 1, 0, 0],\n",
       "       [0, 0, 1, 0, 0],\n",
       "       [0, 1, 1, 0, 1]])"
      ]
     },
     "execution_count": 22,
     "metadata": {},
     "output_type": "execute_result"
    }
   ],
   "source": [
    "# Uso de la función where()\n",
    "# Cuando el valor de 'a' sea menor o igual a 0, muestra un 1, sino un 0\n",
    "r = np.where( a >= 0, 1, 0)\n",
    "r"
   ]
  },
  {
   "cell_type": "markdown",
   "metadata": {},
   "source": [
    "``Supongamos ahora que el array`` **r** ``es tal que:``\n",
    "\n",
    "$$r(x,y) = \\begin{cases} a(x,y)*10  &\\mbox{if } a(x,y) \\ge 0 \\\\\n",
    "                       0 & \\mbox{if }  a(x,y) \\lt 0 \\end{cases}$$"
   ]
  },
  {
   "cell_type": "code",
   "execution_count": 24,
   "metadata": {
    "collapsed": false
   },
   "outputs": [
    {
     "data": {
      "text/plain": [
       "array([[ 9.81461656,  0.        ,  2.47407096,  0.        ,  0.        ],\n",
       "       [ 0.        ,  0.        ,  6.5095668 ,  0.        ,  0.        ],\n",
       "       [ 0.        ,  9.53040981,  2.12410683,  0.        ,  0.89335348]])"
      ]
     },
     "execution_count": 24,
     "metadata": {},
     "output_type": "execute_result"
    }
   ],
   "source": [
    "# Uso de la función where()\n",
    "# Cuando el valor de 'a' sea mayor o igual a 0, multiplica el valor por 10, sino un muestra un 0\n",
    "r = np.where( a >= 0, a * 10 , 0)\n",
    "r"
   ]
  },
  {
   "cell_type": "markdown",
   "metadata": {},
   "source": [
    "``Pero también podemos tener expresiones más complicadas. Por ejemplo:``\n",
    "\n",
    "$$r(x,y) = \\begin{cases} 1  &\\mbox{if } a(x,y) \\gt 0 \\\\\n",
    "                       0  &\\mbox{if }  a(x,y) \\lt 0 \\\\\n",
    "                       -1 &\\mbox{if }  a(x,y) = 0 \\end{cases}$$"
   ]
  },
  {
   "cell_type": "code",
   "execution_count": 25,
   "metadata": {
    "collapsed": false
   },
   "outputs": [
    {
     "name": "stdout",
     "output_type": "stream",
     "text": [
      "[[ 0  0  0  0  0]\n",
      " [-1  0  0  0 -1]\n",
      " [-1  0  0 -2  0]]\n"
     ]
    },
    {
     "data": {
      "text/plain": [
       "array([[ 0,  0,  0,  0,  0],\n",
       "       [-1,  0,  0,  0, -1],\n",
       "       [-1,  0,  0, -1,  0]])"
      ]
     },
     "execution_count": 25,
     "metadata": {},
     "output_type": "execute_result"
    }
   ],
   "source": [
    "# Uso de la función where()\n",
    "# Transformamos el array 'a' en uno de tipo int32\n",
    "a = a.astype(np.int32)\n",
    "print(a)\n",
    "# Cuando el valor de 'a' sea mayor que 0, muestra 1\n",
    "# Cuando el valor de 'a' sea menor que 0, muestra 0\n",
    "# Cuando el valor de 'a' sea igual a 0, muestra -1\n",
    "r = np.where(a > 0, 1 , np.where( a < 0, -1 , 0))\n",
    "r"
   ]
  },
  {
   "cell_type": "markdown",
   "metadata": {},
   "source": [
    "<BR>\n",
    "**``MÉTODOS MATEMÁTICOS Y ESTADÍSTICOS``**\n",
    "\n",
    "``El módulo NumPy proporciona métodos que permiten realizar otras operaciones, como el mínimo elemento de un array, el máximo, la media de los elementos de un array, etc.``\n",
    "\n",
    "+ ``sum``\n",
    "+ ``cumsum``\n",
    "+ ``cumprod``\n",
    "+ ``max``\n",
    "+ ``argmax``\n",
    "+ ``min``\n",
    "+ ``argmin``\n",
    "+ ``mean``\n",
    "+ ``var``\n",
    "+ ``std``\n",
    "\n",
    "``Se puede encontrar la lista de funciones en`` [ScyPy.org](http://scipy.github.io/old-wiki/pages/Numpy_Example_List \"Operaciones matemáticas y estdísticas en NumPy\")"
   ]
  },
  {
   "cell_type": "code",
   "execution_count": 27,
   "metadata": {
    "collapsed": false
   },
   "outputs": [
    {
     "name": "stdout",
     "output_type": "stream",
     "text": [
      "a:  [ 0.68579108  0.42166601  0.21625584  0.84511839  0.30879356  0.65351046]\n",
      "Suma:  3.13113532874\n",
      "Valor mínimo:  0.216255840903\n",
      "Valor máximo:  0.845118387349\n"
     ]
    }
   ],
   "source": [
    "# 6 valores aleatorios en el intervalo [0,1)\n",
    "a = np.random.rand(6)\n",
    "print(\"a: \",a)\n",
    "\n",
    "print('Suma: ',a.sum())\n",
    "print('Valor mínimo: ',a.min())\n",
    "print('Valor máximo: ',a.max())"
   ]
  },
  {
   "cell_type": "markdown",
   "metadata": {},
   "source": [
    "``Las operaciones anteriores se han realizado para todos los valores del array, independientemente de su forma.``\n",
    "\n",
    "+ ``Si tenemos un array bidimensional, es posible calcular la suma de las columnas, o de las filas.``\n",
    "\n",
    "+ ``Lo que tenemos que hacer es indicarlo mediante el parámetro axis en el método.``"
   ]
  },
  {
   "cell_type": "code",
   "execution_count": 32,
   "metadata": {
    "collapsed": false
   },
   "outputs": [
    {
     "name": "stdout",
     "output_type": "stream",
     "text": [
      "a:  [0 1 2 3 4 5]\n",
      "b: \n",
      "[[0 1 2]\n",
      " [3 4 5]]\n"
     ]
    }
   ],
   "source": [
    "# 6 valores en el intervalo [0,6)\n",
    "a = np.arange(6)\n",
    "print(\"a: \",a)\n",
    "# 'b' se define a partir de los valores de 'a', distribuyendo los valores en 2 filas, 3 columnas\n",
    "b = a.reshape(2,3)\n",
    "print( \"b: \")\n",
    "print(b)"
   ]
  },
  {
   "cell_type": "code",
   "execution_count": 33,
   "metadata": {
    "collapsed": false
   },
   "outputs": [
    {
     "name": "stdout",
     "output_type": "stream",
     "text": [
      "[3 5 7]\n",
      "[ 3 12]\n"
     ]
    }
   ],
   "source": [
    "print ( b.sum(axis = 0)  )   # suma por columnas\n",
    "print ( b.sum(axis = 1)  )   # suma por filas"
   ]
  },
  {
   "cell_type": "markdown",
   "metadata": {},
   "source": [
    "<br>\n",
    "**``OPERACIONES LÓGICAS``**\n",
    "\n",
    "``Supongamos que queremos contar el número de elementos positivos en un array multidimensional.``\n",
    "\n",
    " + ``Podemos hacer uso de que True tiene valor 1 y False vale -1``"
   ]
  },
  {
   "cell_type": "code",
   "execution_count": 37,
   "metadata": {
    "collapsed": false
   },
   "outputs": [
    {
     "data": {
      "text/plain": [
       "array([[ 1.43593991,  0.55824963, -0.94176648,  0.88032657, -0.25371988],\n",
       "       [ 0.52838827,  0.61306536, -0.568726  ,  0.84266993,  0.19369304],\n",
       "       [-0.24110705,  0.14650658,  0.22722235,  0.44706449, -0.36159732],\n",
       "       [-1.78945166,  0.12842739, -0.61073518,  0.68344862, -1.38798275]])"
      ]
     },
     "execution_count": 37,
     "metadata": {},
     "output_type": "execute_result"
    }
   ],
   "source": [
    "# Valores aleatorios con distribución gaussiana, 4 filas, 5 columnas\n",
    "a = np.random.randn(4,5)\n",
    "a"
   ]
  },
  {
   "cell_type": "code",
   "execution_count": 47,
   "metadata": {
    "collapsed": false
   },
   "outputs": [
    {
     "data": {
      "text/plain": [
       "array([[ True,  True, False,  True, False],\n",
       "       [ True,  True, False,  True,  True],\n",
       "       [False,  True,  True,  True, False],\n",
       "       [False,  True, False,  True, False]], dtype=bool)"
      ]
     },
     "execution_count": 47,
     "metadata": {},
     "output_type": "execute_result"
    }
   ],
   "source": [
    "# Muestra 'True' si se cumple la condición, sino 'False'\n",
    "(a>0)"
   ]
  },
  {
   "cell_type": "code",
   "execution_count": 50,
   "metadata": {
    "collapsed": false
   },
   "outputs": [
    {
     "data": {
      "text/plain": [
       "12"
      ]
     },
     "execution_count": 50,
     "metadata": {},
     "output_type": "execute_result"
    }
   ],
   "source": [
    "# Suma todos los 'True' = 1\n",
    "(a>0).sum()"
   ]
  },
  {
   "cell_type": "markdown",
   "metadata": {},
   "source": [
    "``Los métodos`` **all** ``y`` **any** ``son útiles para trabajar con arrays de booleanos.``"
   ]
  },
  {
   "cell_type": "code",
   "execution_count": 52,
   "metadata": {
    "collapsed": false
   },
   "outputs": [
    {
     "data": {
      "text/plain": [
       "False"
      ]
     },
     "execution_count": 52,
     "metadata": {},
     "output_type": "execute_result"
    }
   ],
   "source": [
    "# Devuelve 'True' si todos son 'True'\n",
    "b = (a > 0)\n",
    "b.all()"
   ]
  },
  {
   "cell_type": "code",
   "execution_count": 53,
   "metadata": {
    "collapsed": false
   },
   "outputs": [
    {
     "data": {
      "text/plain": [
       "True"
      ]
     },
     "execution_count": 53,
     "metadata": {},
     "output_type": "execute_result"
    }
   ],
   "source": [
    "# Devuelve 'True' si algunos son 'True'\n",
    "b.any()"
   ]
  },
  {
   "cell_type": "markdown",
   "metadata": {},
   "source": [
    "<br>\n",
    "**``OPERACIONES SOBRE CONJUNTOS``**\n",
    "\n",
    "``La operación`` **unique** ``aplicado a un array A devuelve un array ordenado de valores en A sin repetición:``"
   ]
  },
  {
   "cell_type": "code",
   "execution_count": 57,
   "metadata": {
    "collapsed": false
   },
   "outputs": [
    {
     "data": {
      "text/plain": [
       "array([1, 2, 3, 4, 5, 6])"
      ]
     },
     "execution_count": 57,
     "metadata": {},
     "output_type": "execute_result"
    }
   ],
   "source": [
    "# Ordena los valores del array 'a' y elimina los elementos repetidos\n",
    "a = np.array([1,5,6,4,1,4,5,3,1,1,4,4,4,3,2,2,2,2])\n",
    "# No se modifica el array original 'a'\n",
    "np.unique(a)"
   ]
  },
  {
   "cell_type": "markdown",
   "metadata": {},
   "source": [
    "``La función`` **in1d** ``comprueba si los valores de un array están contenidos en otro conjunto de valores. El valor devuelto es un array de booleanos.``"
   ]
  },
  {
   "cell_type": "code",
   "execution_count": 58,
   "metadata": {
    "collapsed": false
   },
   "outputs": [
    {
     "data": {
      "text/plain": [
       "array([[1, 5, 6],\n",
       "       [4, 1, 4],\n",
       "       [5, 3, 1],\n",
       "       [1, 4, 4],\n",
       "       [4, 3, 2],\n",
       "       [2, 2, 2]])"
      ]
     },
     "execution_count": 58,
     "metadata": {},
     "output_type": "execute_result"
    }
   ],
   "source": [
    "# Redimensionamos el array 'b' como 6 filas, 3 columnas\n",
    "b = a.reshape(6,3)\n",
    "b"
   ]
  },
  {
   "cell_type": "code",
   "execution_count": 59,
   "metadata": {
    "collapsed": false
   },
   "outputs": [
    {
     "data": {
      "text/plain": [
       "array([ True, False, False, False,  True, False, False,  True,  True,\n",
       "        True, False, False, False,  True,  True,  True,  True,  True], dtype=bool)"
      ]
     },
     "execution_count": 59,
     "metadata": {},
     "output_type": "execute_result"
    }
   ],
   "source": [
    "np.in1d(b, [1,2,3])"
   ]
  },
  {
   "cell_type": "markdown",
   "metadata": {},
   "source": [
    "<br>\n",
    "**``LECTURA Y ESCRITURA DE ARRAYS EN FICHEROS``**\n",
    "\n",
    "**``Formato binario``**\n",
    "\n",
    "``NumPy dispone de las funciones save y load para grabar y cargar arrays en disco en formato formato binario.``"
   ]
  },
  {
   "cell_type": "code",
   "execution_count": 60,
   "metadata": {
    "collapsed": false
   },
   "outputs": [
    {
     "name": "stdout",
     "output_type": "stream",
     "text": [
      "[ 2.  4.  6.  8.]\n"
     ]
    }
   ],
   "source": [
    "# Creamos un array unidimensional\n",
    "y = np.array([2.,4.,6.,8.])\n",
    "print(y)"
   ]
  },
  {
   "cell_type": "code",
   "execution_count": 61,
   "metadata": {
    "collapsed": true
   },
   "outputs": [],
   "source": [
    "# Se guarda en formato binario con extensión .npy\n",
    "np.save('mi_array', y)"
   ]
  },
  {
   "cell_type": "code",
   "execution_count": 62,
   "metadata": {
    "collapsed": false
   },
   "outputs": [
    {
     "data": {
      "text/plain": [
       "array([ 2.,  4.,  6.,  8.])"
      ]
     },
     "execution_count": 62,
     "metadata": {},
     "output_type": "execute_result"
    }
   ],
   "source": [
    "# Para cargar el fichero guardado\n",
    "a = np.load('mi_array.npy')\n",
    "a"
   ]
  },
  {
   "cell_type": "markdown",
   "metadata": {},
   "source": [
    "<br>\n",
    "**``Formato txt``**\n",
    "\n",
    "``Las operaciones`` **savetxt** ``y`` **loadtxt** ``son las equivalentes a save y load.``"
   ]
  },
  {
   "cell_type": "code",
   "execution_count": 70,
   "metadata": {
    "collapsed": false
   },
   "outputs": [
    {
     "data": {
      "text/plain": [
       "array([[ 2.,  4.],\n",
       "       [ 6.,  8.]])"
      ]
     },
     "execution_count": 70,
     "metadata": {},
     "output_type": "execute_result"
    }
   ],
   "source": [
    "# Creamos un array 2x2 a partir de 'a'\n",
    "b = a.reshape(2,2)\n",
    "# Lo guardamos en formato txt\n",
    "np.savetxt(\"mi_otro_array.txt\", b, fmt='%d', delimiter=',')\n",
    "# Lo cargamos y visualizamos\n",
    "c = np.loadtxt('mi_otro_array.txt', delimiter=',')\n",
    "c"
   ]
  },
  {
   "cell_type": "code",
   "execution_count": null,
   "metadata": {
    "collapsed": true
   },
   "outputs": [],
   "source": []
  }
 ],
 "metadata": {
  "kernelspec": {
   "display_name": "Python 3",
   "language": "python",
   "name": "python3"
  },
  "language_info": {
   "codemirror_mode": {
    "name": "ipython",
    "version": 3
   },
   "file_extension": ".py",
   "mimetype": "text/x-python",
   "name": "python",
   "nbconvert_exporter": "python",
   "pygments_lexer": "ipython3",
   "version": "3.6.0"
  }
 },
 "nbformat": 4,
 "nbformat_minor": 2
}
