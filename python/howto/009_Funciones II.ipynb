{
 "cells": [
  {
   "cell_type": "markdown",
   "metadata": {},
   "source": [
    "![logo_python3](https://www.python.org/static/img/python-logo.png \"Logo Python3\")\n",
    "# ``FUNCIONES II``"
   ]
  },
  {
   "cell_type": "markdown",
   "metadata": {},
   "source": [
    "``Las funciones son el método principal de organización y reutilización de código.``\n",
    "``Las funciones tienen un nombre y se declaran con la palabra reservada`` ***``def``*** ``y devuelve un valor usando la palabra reservada`` ***``return``***``.``\n",
    "\n",
    "``También tienen una lista de argumentos:``\n",
    "\n",
    "+ ``posicionales``\n",
    "+ ``por clave``\n",
    "+ ``argumentos agrupados``\n",
    " - ``tupla de argumentos posicionales (*args)``\n",
    " - ``diccionario de argumentos accedidos por clave (**kwargs)``\n",
    "     \n",
    "``Los argumentos por clave se usan para indicar valores por defecto y siempre se sitúan después de los argumentos posicionales.``"
   ]
  },
  {
   "cell_type": "code",
   "execution_count": 1,
   "metadata": {
    "collapsed": false
   },
   "outputs": [],
   "source": [
    "# Función que suma 3 números y devuelve el resultado\n",
    "# 2 argumentos posicionales (x, y) y 2 por clave (z1, z2)\n",
    "def suma_varios(x, y, z1=2, z2=4):\n",
    "    m = x + y + z1 + z2\n",
    "    return m"
   ]
  },
  {
   "cell_type": "code",
   "execution_count": 2,
   "metadata": {
    "collapsed": false
   },
   "outputs": [
    {
     "data": {
      "text/plain": [
       "(11, 8)"
      ]
     },
     "execution_count": 2,
     "metadata": {},
     "output_type": "execute_result"
    }
   ],
   "source": [
    "resultado1 = suma_varios(2, 3)\n",
    "resultado2 = suma_varios(2, 3, z2=1)\n",
    "resultado1, resultado2"
   ]
  },
  {
   "cell_type": "markdown",
   "metadata": {},
   "source": [
    "``Usamos *args para representar una tupla arbitraria de argumentos agrupados. No es necesario que el nombre sea`` ***``args``***``:``"
   ]
  },
  {
   "cell_type": "code",
   "execution_count": 3,
   "metadata": {
    "collapsed": false
   },
   "outputs": [
    {
     "name": "stdout",
     "output_type": "stream",
     "text": [
      "x: 1\n",
      "y: 2\n",
      "otros: (1, 3, 5, 7, 11)\n"
     ]
    },
    {
     "data": {
      "text/plain": [
       "30"
      ]
     },
     "execution_count": 3,
     "metadata": {},
     "output_type": "execute_result"
    }
   ],
   "source": [
    "def suma_varios(x, y, *otros):\n",
    "    print( \"x:\", x )\n",
    "    print( \"y:\", y )\n",
    "    print(\"otros:\", otros)\n",
    "    suma = 0\n",
    "    for i in otros:\n",
    "        suma = suma + i\n",
    "    return x + y + suma\n",
    "\n",
    "suma_varios(1, 2, 1, 3, 5, 7, 11)"
   ]
  },
  {
   "cell_type": "markdown",
   "metadata": {},
   "source": [
    "``Se pueden definir los argumentos agrupados después de los argumentos posiciones y por clave. Usamos **kwargs para representar una lista arbitraria de argumentos agrupados representada como un diccionario. Como en el caso anterior, no es necesario que el nombre sea kwargs:``"
   ]
  },
  {
   "cell_type": "code",
   "execution_count": 4,
   "metadata": {
    "collapsed": true
   },
   "outputs": [],
   "source": [
    "def suma_varios(x, y, *otros, **mas):\n",
    "    print( \"x:\", x )\n",
    "    print( \"y:\", y )\n",
    "    print(\"otros:\", otros)\n",
    "    print(\"mas:\", mas)\n",
    "    if mas.get('borrame'):\n",
    "        x = 0\n",
    "        print('x vale %d' % x)"
   ]
  },
  {
   "cell_type": "code",
   "execution_count": 5,
   "metadata": {
    "collapsed": false
   },
   "outputs": [
    {
     "name": "stdout",
     "output_type": "stream",
     "text": [
      "x: 1\n",
      "y: 2\n",
      "otros: (3, 4, 5, 6, 7, 8, 9)\n",
      "mas: {'cien': 100, 'mil': 1000, 'borrame': True}\n",
      "x vale 0\n"
     ]
    }
   ],
   "source": [
    "\n",
    "suma_varios(1,2,3,4,5,6,7,8,9, cien = 100 , mil = 1000, borrame = True)"
   ]
  },
  {
   "cell_type": "markdown",
   "metadata": {},
   "source": [
    "<BR/>\n",
    "**``VARIABLES Y PASO POR REFERENCIA``**\n",
    "\n",
    "``En una asignación de un valor a una variable, se crea una referencia al objeto que se encuentra en el lado derecho de la asignación. Esto es muy importante entenderlo cuando se trabaja con grandes volúmenes de datos.``"
   ]
  },
  {
   "cell_type": "code",
   "execution_count": 6,
   "metadata": {
    "collapsed": false
   },
   "outputs": [
    {
     "data": {
      "text/plain": [
       "[1, 3, 5]"
      ]
     },
     "execution_count": 6,
     "metadata": {},
     "output_type": "execute_result"
    }
   ],
   "source": [
    "a = [1, 3, 5]\n",
    "a"
   ]
  },
  {
   "cell_type": "code",
   "execution_count": 7,
   "metadata": {
    "collapsed": false
   },
   "outputs": [
    {
     "data": {
      "text/plain": [
       "[1, 3, 5]"
      ]
     },
     "execution_count": 7,
     "metadata": {},
     "output_type": "execute_result"
    }
   ],
   "source": [
    "b = a\n",
    "b"
   ]
  },
  {
   "cell_type": "markdown",
   "metadata": {},
   "source": [
    "``Ambas viariables 'a' y 'b' referencian al mismo objeto (la lista [1, 3, 5]). Si se modifica cualquiera de ellos, se modifican los dos.``"
   ]
  },
  {
   "cell_type": "code",
   "execution_count": 8,
   "metadata": {
    "collapsed": false
   },
   "outputs": [
    {
     "data": {
      "text/plain": [
       "[1, 3, 5, 7]"
      ]
     },
     "execution_count": 8,
     "metadata": {},
     "output_type": "execute_result"
    }
   ],
   "source": [
    "a.append(7)\n",
    "b"
   ]
  },
  {
   "cell_type": "markdown",
   "metadata": {},
   "source": [
    "``En Python el paso de argumentos a una función se hace por`` **``referencia``**``, mientras que en otros lenguajes se permite paso por valor y paso por referencia.``"
   ]
  },
  {
   "cell_type": "code",
   "execution_count": 9,
   "metadata": {
    "collapsed": false
   },
   "outputs": [
    {
     "data": {
      "text/plain": [
       "[1, 2, 4, 9]"
      ]
     },
     "execution_count": 9,
     "metadata": {},
     "output_type": "execute_result"
    }
   ],
   "source": [
    "def cambia(lista, num):\n",
    "    lista.append(num)\n",
    "a = [1, 2, 4]\n",
    "cambia(a, 9)\n",
    "a"
   ]
  },
  {
   "cell_type": "markdown",
   "metadata": {},
   "source": [
    "<br/>\n",
    "**``FUNCIONES COMO ARGUMENTOS DE OTRAS FUNCIONES``**\n",
    "\n",
    "``Supongamos que tenemos una lista de ciudades que necesitamos 'limpiar' o 'formatear'.``"
   ]
  },
  {
   "cell_type": "code",
   "execution_count": 10,
   "metadata": {
    "collapsed": false
   },
   "outputs": [],
   "source": [
    "ciudades = ['   Madrid', ' BARcelona', 'SeVILLA  ' ]"
   ]
  },
  {
   "cell_type": "markdown",
   "metadata": {},
   "source": [
    "``Para dar un formato uniforme a esta lista antes de realizar otras tareas de análisis, es necesario transformarla eliminado espacios en blanco y transformando cada nombre a tipo`` *``título``*."
   ]
  },
  {
   "cell_type": "code",
   "execution_count": 11,
   "metadata": {
    "collapsed": true
   },
   "outputs": [],
   "source": [
    "# Primera opción\n",
    "def formatear(lista):\n",
    "    resultado = []\n",
    "    for ciudad in lista:\n",
    "        ciudad = ciudad.strip()     # elimina espacios en blanco\n",
    "        ciudad = ciudad.title()     # tipo título        \n",
    "        resultado.append(ciudad)\n",
    "    return resultado"
   ]
  },
  {
   "cell_type": "code",
   "execution_count": 12,
   "metadata": {
    "collapsed": false
   },
   "outputs": [
    {
     "data": {
      "text/plain": [
       "['Madrid', 'Barcelona', 'Sevilla']"
      ]
     },
     "execution_count": 12,
     "metadata": {},
     "output_type": "execute_result"
    }
   ],
   "source": [
    "formatear(ciudades)"
   ]
  },
  {
   "cell_type": "markdown",
   "metadata": {},
   "source": [
    "``Una alternativa más flexible consiste en crear una lista de operaciones a realizar y posteriormente aplicarla a la lista de ciudades:``"
   ]
  },
  {
   "cell_type": "code",
   "execution_count": 13,
   "metadata": {
    "collapsed": false
   },
   "outputs": [
    {
     "data": {
      "text/plain": [
       "['Madrid', 'Barcelona', 'Sevilla']"
      ]
     },
     "execution_count": 13,
     "metadata": {},
     "output_type": "execute_result"
    }
   ],
   "source": [
    "# Segunda opción\n",
    "operaciones = [str.strip, str.title]\n",
    "\n",
    "def formatear(lista, operaciones):\n",
    "    resultado = []\n",
    "    for ciudad in lista:\n",
    "        for op in operaciones:\n",
    "            ciudad = op(ciudad)    \n",
    "        resultado.append(ciudad)\n",
    "    return resultado\n",
    "formatear(ciudades, operaciones)"
   ]
  },
  {
   "cell_type": "code",
   "execution_count": 14,
   "metadata": {
    "collapsed": false
   },
   "outputs": [
    {
     "data": {
      "text/plain": [
       "['   MADRID', ' BARCELONA', 'SEVILLA  ']"
      ]
     },
     "execution_count": 14,
     "metadata": {},
     "output_type": "execute_result"
    }
   ],
   "source": [
    "# Tercera opción\n",
    "def formatear(lista, fun):\n",
    "    resultado = []\n",
    "    for ciudad in lista:\n",
    "        nueva = fun(ciudad)\n",
    "        resultado.append(nueva)\n",
    "    return resultado\n",
    "formatear(ciudades, str.upper)"
   ]
  },
  {
   "cell_type": "markdown",
   "metadata": {},
   "source": [
    "``El uso de funciones como argumentos de otras funciones es una característica de los lenguajes funcionales. La función`` ***``map``*** ``de los lenguajes funcionales también está accesible en Python. Esta función aplica una función a una colección de objetos:``"
   ]
  },
  {
   "cell_type": "code",
   "execution_count": 15,
   "metadata": {
    "collapsed": false
   },
   "outputs": [
    {
     "data": {
      "text/plain": [
       "['Madrid', 'BARcelona', 'SeVILLA']"
      ]
     },
     "execution_count": 15,
     "metadata": {},
     "output_type": "execute_result"
    }
   ],
   "source": [
    "# Python 3.5 map devuelve un objeto iterable \n",
    "m1 = map(str.strip , ciudades)\n",
    "list(m1)"
   ]
  },
  {
   "cell_type": "code",
   "execution_count": 16,
   "metadata": {
    "collapsed": false
   },
   "outputs": [
    {
     "data": {
      "text/plain": [
       "['Madrid', 'Barcelona', 'Sevilla']"
      ]
     },
     "execution_count": 16,
     "metadata": {},
     "output_type": "execute_result"
    }
   ],
   "source": [
    "m2 = map(str.title, map(str.strip , ciudades))\n",
    "list(m2)"
   ]
  },
  {
   "cell_type": "markdown",
   "metadata": {
    "collapsed": true
   },
   "source": [
    "<br/>\n",
    "**``FUNCIONES ANÓNIMAS (LAMBDA FUNCTIONS)``**\n",
    "\n",
    "``Las funciones anónimas son aquellas que no tiene nombre y se refieren a una única instrucción. Se declaran con la palabra reservada`` ***``lambda``***``.``\n",
    "``Son funciones cortas.``"
   ]
  },
  {
   "cell_type": "code",
   "execution_count": 17,
   "metadata": {
    "collapsed": false
   },
   "outputs": [
    {
     "data": {
      "text/plain": [
       "(12, 12)"
      ]
     },
     "execution_count": 17,
     "metadata": {},
     "output_type": "execute_result"
    }
   ],
   "source": [
    "# función normal\n",
    "def producto(a):  \n",
    "    return a * 2\n",
    "\n",
    "# la función anónima equivalente:\n",
    "resultado = lambda a: a * 2\n",
    "\n",
    "producto(6), resultado(6)"
   ]
  },
  {
   "cell_type": "markdown",
   "metadata": {},
   "source": [
    "+ ``Las funciones lambda se utilizan mucho en análisis de datos ya que es muy usual transformar datos mediante funciones que tienen a otras funciones en sus argumentos.``\n",
    "\n",
    "\n",
    "+ ``Se usan funciones lambda en lugar de escribir funciones normales para hacer el código más claro y más corto.``"
   ]
  },
  {
   "cell_type": "code",
   "execution_count": 18,
   "metadata": {
    "collapsed": true
   },
   "outputs": [],
   "source": [
    "# mutiplicar por 2 todos los números de una lista\n",
    "s = [1, 2, 3, 4]\n",
    "def doble(lista, f):\n",
    "    \"\"\"  Devuelvo una nueva lista definida por comprensión \"\"\"\n",
    "    return [ f(x) for x in lista ]"
   ]
  },
  {
   "cell_type": "code",
   "execution_count": 19,
   "metadata": {
    "collapsed": false
   },
   "outputs": [
    {
     "data": {
      "text/plain": [
       "[2, 4, 6, 8]"
      ]
     },
     "execution_count": 19,
     "metadata": {},
     "output_type": "execute_result"
    }
   ],
   "source": [
    "doble(s, producto)"
   ]
  },
  {
   "cell_type": "markdown",
   "metadata": {},
   "source": [
    "``Pero el mismo efecto lo conseguimos mediante una función anónima, evitando así la definición de la función producto:``"
   ]
  },
  {
   "cell_type": "code",
   "execution_count": 20,
   "metadata": {
    "collapsed": false
   },
   "outputs": [
    {
     "data": {
      "text/plain": [
       "[2, 4, 6, 8]"
      ]
     },
     "execution_count": 20,
     "metadata": {},
     "output_type": "execute_result"
    }
   ],
   "source": [
    "doble(s, lambda x: x * 2)"
   ]
  },
  {
   "cell_type": "code",
   "execution_count": null,
   "metadata": {
    "collapsed": true
   },
   "outputs": [],
   "source": []
  }
 ],
 "metadata": {
  "kernelspec": {
   "display_name": "Python 3",
   "language": "python",
   "name": "python3"
  },
  "language_info": {
   "codemirror_mode": {
    "name": "ipython",
    "version": 3
   },
   "file_extension": ".py",
   "mimetype": "text/x-python",
   "name": "python",
   "nbconvert_exporter": "python",
   "pygments_lexer": "ipython3",
   "version": "3.6.0"
  }
 },
 "nbformat": 4,
 "nbformat_minor": 2
}
