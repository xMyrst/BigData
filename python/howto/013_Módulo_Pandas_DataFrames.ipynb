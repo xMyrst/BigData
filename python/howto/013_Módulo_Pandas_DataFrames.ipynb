{
 "cells": [
  {
   "cell_type": "markdown",
   "metadata": {},
   "source": [
    "![logo_python3](https://www.python.org/static/img/python-logo.png \"Logo Python3\")\n",
    "# ``MÓDULO PANDAS``"
   ]
  },
  {
   "cell_type": "markdown",
   "metadata": {},
   "source": [
    "``Ya hemos visto que el módulo`` **NumPy** ``proporciona funciones y rutinas matemáticas para la manipulación de array y matrices de datos numéricos.``\n",
    "\n",
    "``La librería`` **pandas** ``de Python proporciona estructuras de datos de alto nivel y herramientas diseñadas específicamente para conseguir un análisis de los datos rápido y sencillo. * pandas está construida sobre la librería NumPy.``\n",
    "\n",
    "``Resulta especialmente útil cuando hay que trabajar con:``\n",
    "\n",
    " + ``Datos heterogéneos representados de forma tabular``\n",
    " + ``Series temporales``\n",
    " + ``Matrices``\n",
    " \n",
    " \n",
    " + ``Permite el tratamiento de datos perdidos (missing data)``\n",
    " + ``Operaciones aritméticas``\n",
    " + ``Permite realizar operaciones del álgebra relacional (muy populares en el campo de las bases de datos)``"
   ]
  },
  {
   "cell_type": "code",
   "execution_count": 1,
   "metadata": {
    "collapsed": true
   },
   "outputs": [],
   "source": [
    "import numpy as np\n",
    "import pandas as pd"
   ]
  },
  {
   "cell_type": "markdown",
   "metadata": {},
   "source": [
    "``Ya vimos que NumPy ofrecía la estructura de datos`` **ndarray**``. Del mismo modo, pandas ofrece varias estructuras de datos que nos resultarán de mucha utilidad. Las más utilizadas son`` **Series y DataFrame**``.``\n",
    "\n",
    "<br>\n",
    "## **``DataFrame``**\n",
    "\n",
    "``La estructura`` **DataFrame** ``está diseñada para manejar datos representados en forma de tabla. Esta será la estructura de datos más habitual. * Las filas están indexadas. * Las columnas están etiquetadas.``\n",
    "\n",
    "\n",
    "``Un DataFrame puede verse como una tabla de SQL o una hoja de cálculo.``\n",
    "\n",
    "<br>\n",
    "### ``CREAR UN DATAFRAME``\n",
    "\n",
    "``Hay varias formas de crear un DataFrame. Podemos crearlo indicando los datos que contiene y el nombre de las columnas.``"
   ]
  },
  {
   "cell_type": "code",
   "execution_count": 5,
   "metadata": {
    "collapsed": false
   },
   "outputs": [
    {
     "data": {
      "text/plain": [
       "[('Ana', 968), ('Rafa', 155), ('Antonio', 77), ('Pedro', 578), ('Elena', 100)]"
      ]
     },
     "execution_count": 5,
     "metadata": {},
     "output_type": "execute_result"
    }
   ],
   "source": [
    "# crear un array de tuplas\n",
    "nombres = ['Ana','Rafa','Antonio','Pedro','Elena']\n",
    "nacimientos = [968, 155, 77, 578, 100]\n",
    "\n",
    "lista_datos = list(zip(nombres, nacimientos))\n",
    "lista_datos"
   ]
  },
  {
   "cell_type": "code",
   "execution_count": 6,
   "metadata": {
    "collapsed": false
   },
   "outputs": [
    {
     "data": {
      "text/html": [
       "<div>\n",
       "<table border=\"1\" class=\"dataframe\">\n",
       "  <thead>\n",
       "    <tr style=\"text-align: right;\">\n",
       "      <th></th>\n",
       "      <th>Nombres</th>\n",
       "      <th>Nacimientos</th>\n",
       "    </tr>\n",
       "  </thead>\n",
       "  <tbody>\n",
       "    <tr>\n",
       "      <th>0</th>\n",
       "      <td>Ana</td>\n",
       "      <td>968</td>\n",
       "    </tr>\n",
       "    <tr>\n",
       "      <th>1</th>\n",
       "      <td>Rafa</td>\n",
       "      <td>155</td>\n",
       "    </tr>\n",
       "    <tr>\n",
       "      <th>2</th>\n",
       "      <td>Antonio</td>\n",
       "      <td>77</td>\n",
       "    </tr>\n",
       "    <tr>\n",
       "      <th>3</th>\n",
       "      <td>Pedro</td>\n",
       "      <td>578</td>\n",
       "    </tr>\n",
       "    <tr>\n",
       "      <th>4</th>\n",
       "      <td>Elena</td>\n",
       "      <td>100</td>\n",
       "    </tr>\n",
       "  </tbody>\n",
       "</table>\n",
       "</div>"
      ],
      "text/plain": [
       "   Nombres  Nacimientos\n",
       "0      Ana          968\n",
       "1     Rafa          155\n",
       "2  Antonio           77\n",
       "3    Pedro          578\n",
       "4    Elena          100"
      ]
     },
     "execution_count": 6,
     "metadata": {},
     "output_type": "execute_result"
    }
   ],
   "source": [
    "# crear un DataFrame\n",
    "tabla = pd.DataFrame( data    = lista_datos,            # lista de tuplas\n",
    "                      columns = ['Nombres', 'Nacimientos'])  \n",
    "tabla"
   ]
  },
  {
   "cell_type": "code",
   "execution_count": 7,
   "metadata": {
    "collapsed": false
   },
   "outputs": [
    {
     "data": {
      "text/html": [
       "<div>\n",
       "<table border=\"1\" class=\"dataframe\">\n",
       "  <thead>\n",
       "    <tr style=\"text-align: right;\">\n",
       "      <th></th>\n",
       "      <th>Nombres</th>\n",
       "      <th>Nacimientos</th>\n",
       "      <th>nueva</th>\n",
       "    </tr>\n",
       "  </thead>\n",
       "  <tbody>\n",
       "    <tr>\n",
       "      <th>0</th>\n",
       "      <td>Ana</td>\n",
       "      <td>968</td>\n",
       "      <td>7.0</td>\n",
       "    </tr>\n",
       "    <tr>\n",
       "      <th>1</th>\n",
       "      <td>Rafa</td>\n",
       "      <td>155</td>\n",
       "      <td>NaN</td>\n",
       "    </tr>\n",
       "    <tr>\n",
       "      <th>2</th>\n",
       "      <td>Antonio</td>\n",
       "      <td>77</td>\n",
       "      <td>4.0</td>\n",
       "    </tr>\n",
       "    <tr>\n",
       "      <th>3</th>\n",
       "      <td>Pedro</td>\n",
       "      <td>578</td>\n",
       "      <td>NaN</td>\n",
       "    </tr>\n",
       "    <tr>\n",
       "      <th>4</th>\n",
       "      <td>Elena</td>\n",
       "      <td>100</td>\n",
       "      <td>NaN</td>\n",
       "    </tr>\n",
       "  </tbody>\n",
       "</table>\n",
       "</div>"
      ],
      "text/plain": [
       "   Nombres  Nacimientos  nueva\n",
       "0      Ana          968    7.0\n",
       "1     Rafa          155    NaN\n",
       "2  Antonio           77    4.0\n",
       "3    Pedro          578    NaN\n",
       "4    Elena          100    NaN"
      ]
     },
     "execution_count": 7,
     "metadata": {},
     "output_type": "execute_result"
    }
   ],
   "source": [
    "# Añadir una nueva columna\n",
    "tabla['nueva'] = [7, None, 4, None, None]\n",
    "tabla"
   ]
  },
  {
   "cell_type": "markdown",
   "metadata": {},
   "source": [
    "``También es posible crear un`` **DataFrame** ``a partir de un diccionario. * Las claves del diccionario serán los nombres de las columnas * Los valores del diccionario constituirán las filas``"
   ]
  },
  {
   "cell_type": "code",
   "execution_count": 176,
   "metadata": {
    "collapsed": false
   },
   "outputs": [
    {
     "data": {
      "text/html": [
       "<div>\n",
       "<table border=\"1\" class=\"dataframe\">\n",
       "  <thead>\n",
       "    <tr style=\"text-align: right;\">\n",
       "      <th></th>\n",
       "      <th>Coffee</th>\n",
       "      <th>Icecream</th>\n",
       "      <th>Milk</th>\n",
       "      <th>Water</th>\n",
       "    </tr>\n",
       "  </thead>\n",
       "  <tbody>\n",
       "    <tr>\n",
       "      <th>0</th>\n",
       "      <td>Espresso</td>\n",
       "      <td>No</td>\n",
       "      <td>No</td>\n",
       "      <td>No</td>\n",
       "    </tr>\n",
       "    <tr>\n",
       "      <th>1</th>\n",
       "      <td>Long Black</td>\n",
       "      <td>No</td>\n",
       "      <td>No</td>\n",
       "      <td>Yes</td>\n",
       "    </tr>\n",
       "    <tr>\n",
       "      <th>2</th>\n",
       "      <td>Flat White</td>\n",
       "      <td>No</td>\n",
       "      <td>Yes</td>\n",
       "      <td>No</td>\n",
       "    </tr>\n",
       "    <tr>\n",
       "      <th>3</th>\n",
       "      <td>Cappuccino</td>\n",
       "      <td>No</td>\n",
       "      <td>Yes - Frothy</td>\n",
       "      <td>No</td>\n",
       "    </tr>\n",
       "    <tr>\n",
       "      <th>4</th>\n",
       "      <td>Affogato</td>\n",
       "      <td>Yes</td>\n",
       "      <td>No</td>\n",
       "      <td>No</td>\n",
       "    </tr>\n",
       "  </tbody>\n",
       "</table>\n",
       "</div>"
      ],
      "text/plain": [
       "       Coffee Icecream          Milk Water\n",
       "0    Espresso       No            No    No\n",
       "1  Long Black       No            No   Yes\n",
       "2  Flat White       No           Yes    No\n",
       "3  Cappuccino       No  Yes - Frothy    No\n",
       "4    Affogato      Yes            No    No"
      ]
     },
     "execution_count": 176,
     "metadata": {},
     "output_type": "execute_result"
    }
   ],
   "source": [
    "datos = {\"Coffee\" : ['Espresso', 'Long Black', 'Flat White', 'Cappuccino', 'Affogato'], \n",
    "         \"Water\"  : [ \"No\" , \"Yes\", \"No\" , \"No\" , \"No\" ],\n",
    "         \"Milk\"   : [\"No\",\"No\",\"Yes\",  \"Yes - Frothy\" ,\"No\"],\n",
    "         \"Icecream\" : [\"No\", \"No\",\"No\",\"No\",'Yes'    ]\n",
    "         }\n",
    "mi_tabla = pd.DataFrame(datos)\n",
    "mi_tabla.tail()"
   ]
  },
  {
   "cell_type": "markdown",
   "metadata": {},
   "source": [
    "Podemos crear un DataFrame indexando las filas con un tipo de dato que no sea por defecto (int).\n",
    "Podemos crear un DataFrame cambiando la posición de las columnas, incluso con menos columnas."
   ]
  },
  {
   "cell_type": "code",
   "execution_count": 177,
   "metadata": {
    "collapsed": false
   },
   "outputs": [
    {
     "data": {
      "text/html": [
       "<div>\n",
       "<table border=\"1\" class=\"dataframe\">\n",
       "  <thead>\n",
       "    <tr style=\"text-align: right;\">\n",
       "      <th></th>\n",
       "      <th>Coffee</th>\n",
       "      <th>Water</th>\n",
       "      <th>Milk</th>\n",
       "    </tr>\n",
       "  </thead>\n",
       "  <tbody>\n",
       "    <tr>\n",
       "      <th>2001</th>\n",
       "      <td>Espresso</td>\n",
       "      <td>No</td>\n",
       "      <td>No</td>\n",
       "    </tr>\n",
       "    <tr>\n",
       "      <th>2003</th>\n",
       "      <td>Long Black</td>\n",
       "      <td>Yes</td>\n",
       "      <td>No</td>\n",
       "    </tr>\n",
       "    <tr>\n",
       "      <th>2002</th>\n",
       "      <td>Flat White</td>\n",
       "      <td>No</td>\n",
       "      <td>Yes</td>\n",
       "    </tr>\n",
       "    <tr>\n",
       "      <th>2005</th>\n",
       "      <td>Cappuccino</td>\n",
       "      <td>No</td>\n",
       "      <td>Yes - Frothy</td>\n",
       "    </tr>\n",
       "    <tr>\n",
       "      <th>2010</th>\n",
       "      <td>Affogato</td>\n",
       "      <td>No</td>\n",
       "      <td>No</td>\n",
       "    </tr>\n",
       "  </tbody>\n",
       "</table>\n",
       "</div>"
      ],
      "text/plain": [
       "          Coffee Water          Milk\n",
       "2001    Espresso    No            No\n",
       "2003  Long Black   Yes            No\n",
       "2002  Flat White    No           Yes\n",
       "2005  Cappuccino    No  Yes - Frothy\n",
       "2010    Affogato    No            No"
      ]
     },
     "execution_count": 177,
     "metadata": {},
     "output_type": "execute_result"
    }
   ],
   "source": [
    "datos = {\"Coffee\" : ['Espresso', 'Long Black', 'Flat White', 'Cappuccino', 'Affogato'], \n",
    "              \"Water\"  : [ \"No\" , \"Yes\", \"No\" , \"No\" , \"No\" ],\n",
    "              \"Milk\"   : [\"No\",\"No\",\"Yes\",  \"Yes - Frothy\" ,\"No\"],\n",
    "              \"Icecream\" : [\"No\", \"No\",\"No\",\"No\",'Yes'    ]\n",
    "         }\n",
    "mi_tabla = pd.DataFrame(datos, \n",
    "                        columns = ['Coffee',  'Water', 'Milk'], \n",
    "                        index   = [2001, 2003, 2002, 2005, 2010] )\n",
    "mi_tabla"
   ]
  },
  {
   "cell_type": "markdown",
   "metadata": {},
   "source": [
    "``Y si alguna columna no existe, el sistema pone NaN (not a number) para indicar que el valor no existe.``"
   ]
  },
  {
   "cell_type": "code",
   "execution_count": 178,
   "metadata": {
    "collapsed": false
   },
   "outputs": [
    {
     "data": {
      "text/html": [
       "<div>\n",
       "<table border=\"1\" class=\"dataframe\">\n",
       "  <thead>\n",
       "    <tr style=\"text-align: right;\">\n",
       "      <th></th>\n",
       "      <th>Coffee</th>\n",
       "      <th>Water</th>\n",
       "      <th>Milk</th>\n",
       "      <th>Price</th>\n",
       "    </tr>\n",
       "  </thead>\n",
       "  <tbody>\n",
       "    <tr>\n",
       "      <th>2001</th>\n",
       "      <td>Espresso</td>\n",
       "      <td>No</td>\n",
       "      <td>No</td>\n",
       "      <td>NaN</td>\n",
       "    </tr>\n",
       "    <tr>\n",
       "      <th>2003</th>\n",
       "      <td>Long Black</td>\n",
       "      <td>Yes</td>\n",
       "      <td>No</td>\n",
       "      <td>NaN</td>\n",
       "    </tr>\n",
       "    <tr>\n",
       "      <th>2002</th>\n",
       "      <td>Flat White</td>\n",
       "      <td>No</td>\n",
       "      <td>Yes</td>\n",
       "      <td>NaN</td>\n",
       "    </tr>\n",
       "    <tr>\n",
       "      <th>2005</th>\n",
       "      <td>Cappuccino</td>\n",
       "      <td>No</td>\n",
       "      <td>Yes - Frothy</td>\n",
       "      <td>NaN</td>\n",
       "    </tr>\n",
       "    <tr>\n",
       "      <th>2010</th>\n",
       "      <td>Affogato</td>\n",
       "      <td>No</td>\n",
       "      <td>No</td>\n",
       "      <td>NaN</td>\n",
       "    </tr>\n",
       "  </tbody>\n",
       "</table>\n",
       "</div>"
      ],
      "text/plain": [
       "          Coffee Water          Milk Price\n",
       "2001    Espresso    No            No   NaN\n",
       "2003  Long Black   Yes            No   NaN\n",
       "2002  Flat White    No           Yes   NaN\n",
       "2005  Cappuccino    No  Yes - Frothy   NaN\n",
       "2010    Affogato    No            No   NaN"
      ]
     },
     "execution_count": 178,
     "metadata": {},
     "output_type": "execute_result"
    }
   ],
   "source": [
    "mi_tabla = pd.DataFrame(datos, columns = ['Coffee',  'Water', 'Milk', 'Price'], \n",
    "                               index  =[2001, 2003, 2002, 2005, 2010])\n",
    "mi_tabla"
   ]
  },
  {
   "cell_type": "markdown",
   "metadata": {},
   "source": [
    "``Para conocer el nombre de las columnas de un DataFrame usamos el atributo columns, mientras que para conocer el nombre de las filas usamos el atributo index.``"
   ]
  },
  {
   "cell_type": "code",
   "execution_count": 179,
   "metadata": {
    "collapsed": false
   },
   "outputs": [
    {
     "data": {
      "text/plain": [
       "Index(['Coffee', 'Water', 'Milk', 'Price'], dtype='object')"
      ]
     },
     "execution_count": 179,
     "metadata": {},
     "output_type": "execute_result"
    }
   ],
   "source": [
    "mi_tabla.columns"
   ]
  },
  {
   "cell_type": "code",
   "execution_count": 180,
   "metadata": {
    "collapsed": false
   },
   "outputs": [
    {
     "data": {
      "text/plain": [
       "Int64Index([2001, 2003, 2002, 2005, 2010], dtype='int64')"
      ]
     },
     "execution_count": 180,
     "metadata": {},
     "output_type": "execute_result"
    }
   ],
   "source": [
    "mi_tabla.index"
   ]
  },
  {
   "cell_type": "markdown",
   "metadata": {},
   "source": [
    "Podemos realizar algunas preguntas sobre los índices:"
   ]
  },
  {
   "cell_type": "code",
   "execution_count": 181,
   "metadata": {
    "collapsed": false
   },
   "outputs": [
    {
     "data": {
      "text/plain": [
       "True"
      ]
     },
     "execution_count": 181,
     "metadata": {},
     "output_type": "execute_result"
    }
   ],
   "source": [
    "2005 in mi_tabla.index"
   ]
  },
  {
   "cell_type": "code",
   "execution_count": 182,
   "metadata": {
    "collapsed": false
   },
   "outputs": [
    {
     "data": {
      "text/plain": [
       "array([['Espresso', 'No', 'No', nan],\n",
       "       ['Long Black', 'Yes', 'No', nan],\n",
       "       ['Flat White', 'No', 'Yes', nan],\n",
       "       ['Cappuccino', 'No', 'Yes - Frothy', nan],\n",
       "       ['Affogato', 'No', 'No', nan]], dtype=object)"
      ]
     },
     "execution_count": 182,
     "metadata": {},
     "output_type": "execute_result"
    }
   ],
   "source": [
    "mi_tabla.values"
   ]
  },
  {
   "cell_type": "code",
   "execution_count": 183,
   "metadata": {
    "collapsed": false
   },
   "outputs": [
    {
     "data": {
      "text/plain": [
       "numpy.ndarray"
      ]
     },
     "execution_count": 183,
     "metadata": {},
     "output_type": "execute_result"
    }
   ],
   "source": [
    "type(mi_tabla.values)"
   ]
  },
  {
   "cell_type": "markdown",
   "metadata": {},
   "source": [
    "### **``Series``**\n",
    "\n",
    "``Un objeto del tipo`` **Series** ``es como un DataFrame pero con solo una columna. Se trata de un objto de tipo array de una dimensión que tiene asociado un array de índices.``"
   ]
  },
  {
   "cell_type": "code",
   "execution_count": 184,
   "metadata": {
    "collapsed": false
   },
   "outputs": [
    {
     "data": {
      "text/plain": [
       "0    10\n",
       "1    20\n",
       "2    30\n",
       "3    40\n",
       "dtype: int64"
      ]
     },
     "execution_count": 184,
     "metadata": {},
     "output_type": "execute_result"
    }
   ],
   "source": [
    "s = pd.Series([10, 20, 30,40])\n",
    "s"
   ]
  },
  {
   "cell_type": "code",
   "execution_count": 185,
   "metadata": {
    "collapsed": false
   },
   "outputs": [
    {
     "data": {
      "text/plain": [
       "Espresso      10\n",
       "Long Black    20\n",
       "Flat White    30\n",
       "Cappuccino    40\n",
       "dtype: int64"
      ]
     },
     "execution_count": 185,
     "metadata": {},
     "output_type": "execute_result"
    }
   ],
   "source": [
    "precio = pd.Series([10, 20, 30,40], \n",
    "         index=['Espresso', 'Long Black', 'Flat White', 'Cappuccino'])                         \n",
    "precio"
   ]
  },
  {
   "cell_type": "code",
   "execution_count": 186,
   "metadata": {
    "collapsed": false
   },
   "outputs": [
    {
     "data": {
      "text/plain": [
       "pandas.core.series.Series"
      ]
     },
     "execution_count": 186,
     "metadata": {},
     "output_type": "execute_result"
    }
   ],
   "source": [
    "type(precio)"
   ]
  },
  {
   "cell_type": "markdown",
   "metadata": {},
   "source": [
    "<BR>\n",
    "### ``ACCESO A LOS DATOS DE UN DATAFRAME``\n",
    "\n",
    "``Para acceder a las columnas, podemos usar la notación '.' (como si fuera un atributo) o con la notación empleada en los diccionarios, utilizando como clave el nombre de la columna.``"
   ]
  },
  {
   "cell_type": "code",
   "execution_count": 187,
   "metadata": {
    "collapsed": false
   },
   "outputs": [
    {
     "data": {
      "text/html": [
       "<div>\n",
       "<table border=\"1\" class=\"dataframe\">\n",
       "  <thead>\n",
       "    <tr style=\"text-align: right;\">\n",
       "      <th></th>\n",
       "      <th>Coffee</th>\n",
       "      <th>Water</th>\n",
       "      <th>Milk</th>\n",
       "      <th>Price</th>\n",
       "    </tr>\n",
       "  </thead>\n",
       "  <tbody>\n",
       "    <tr>\n",
       "      <th>2001</th>\n",
       "      <td>Espresso</td>\n",
       "      <td>No</td>\n",
       "      <td>No</td>\n",
       "      <td>NaN</td>\n",
       "    </tr>\n",
       "    <tr>\n",
       "      <th>2003</th>\n",
       "      <td>Long Black</td>\n",
       "      <td>Yes</td>\n",
       "      <td>No</td>\n",
       "      <td>NaN</td>\n",
       "    </tr>\n",
       "    <tr>\n",
       "      <th>2002</th>\n",
       "      <td>Flat White</td>\n",
       "      <td>No</td>\n",
       "      <td>Yes</td>\n",
       "      <td>NaN</td>\n",
       "    </tr>\n",
       "    <tr>\n",
       "      <th>2005</th>\n",
       "      <td>Cappuccino</td>\n",
       "      <td>No</td>\n",
       "      <td>Yes - Frothy</td>\n",
       "      <td>NaN</td>\n",
       "    </tr>\n",
       "    <tr>\n",
       "      <th>2010</th>\n",
       "      <td>Affogato</td>\n",
       "      <td>No</td>\n",
       "      <td>No</td>\n",
       "      <td>NaN</td>\n",
       "    </tr>\n",
       "  </tbody>\n",
       "</table>\n",
       "</div>"
      ],
      "text/plain": [
       "          Coffee Water          Milk Price\n",
       "2001    Espresso    No            No   NaN\n",
       "2003  Long Black   Yes            No   NaN\n",
       "2002  Flat White    No           Yes   NaN\n",
       "2005  Cappuccino    No  Yes - Frothy   NaN\n",
       "2010    Affogato    No            No   NaN"
      ]
     },
     "execution_count": 187,
     "metadata": {},
     "output_type": "execute_result"
    }
   ],
   "source": [
    "mi_tabla"
   ]
  },
  {
   "cell_type": "code",
   "execution_count": 188,
   "metadata": {
    "collapsed": false
   },
   "outputs": [
    {
     "data": {
      "text/plain": [
       "2001      Espresso\n",
       "2003    Long Black\n",
       "2002    Flat White\n",
       "2005    Cappuccino\n",
       "2010      Affogato\n",
       "Name: Coffee, dtype: object"
      ]
     },
     "execution_count": 188,
     "metadata": {},
     "output_type": "execute_result"
    }
   ],
   "source": [
    "# Acceso a la columna\n",
    "mi_tabla.Coffee"
   ]
  },
  {
   "cell_type": "code",
   "execution_count": 189,
   "metadata": {
    "collapsed": false
   },
   "outputs": [
    {
     "data": {
      "text/plain": [
       "2001      Espresso\n",
       "2003    Long Black\n",
       "2002    Flat White\n",
       "2005    Cappuccino\n",
       "2010      Affogato\n",
       "Name: Coffee, dtype: object"
      ]
     },
     "execution_count": 189,
     "metadata": {},
     "output_type": "execute_result"
    }
   ],
   "source": [
    "# También se puede acceder asi\n",
    "mi_tabla [ 'Coffee' ]"
   ]
  },
  {
   "cell_type": "markdown",
   "metadata": {},
   "source": [
    "``Para acceder a partes de un DataFrame, conjunto de filas, etc., se puede utilizar la misma notación empleada para los arrays de Numpy, pero esa opción es poco eficiente en el caso de DataFrames.``\n",
    "\n",
    "``No hay que olvidar que estamos estudiando las herramientas que tiene Python para tratar de forma eficiente con grandes volúmenes de datos. La alternativa es utilizar las funciones at, iat, loc, iloc.``\n",
    "\n",
    "+ ``ix: similar a loc e iloc.``"
   ]
  },
  {
   "cell_type": "code",
   "execution_count": 190,
   "metadata": {
    "collapsed": false
   },
   "outputs": [
    {
     "data": {
      "text/html": [
       "<div>\n",
       "<table border=\"1\" class=\"dataframe\">\n",
       "  <thead>\n",
       "    <tr style=\"text-align: right;\">\n",
       "      <th></th>\n",
       "      <th>Coffee</th>\n",
       "      <th>Water</th>\n",
       "      <th>Milk</th>\n",
       "      <th>Price</th>\n",
       "    </tr>\n",
       "  </thead>\n",
       "  <tbody>\n",
       "    <tr>\n",
       "      <th>2001</th>\n",
       "      <td>Espresso</td>\n",
       "      <td>No</td>\n",
       "      <td>No</td>\n",
       "      <td>NaN</td>\n",
       "    </tr>\n",
       "    <tr>\n",
       "      <th>2003</th>\n",
       "      <td>Long Black</td>\n",
       "      <td>Yes</td>\n",
       "      <td>No</td>\n",
       "      <td>NaN</td>\n",
       "    </tr>\n",
       "    <tr>\n",
       "      <th>2002</th>\n",
       "      <td>Flat White</td>\n",
       "      <td>No</td>\n",
       "      <td>Yes</td>\n",
       "      <td>NaN</td>\n",
       "    </tr>\n",
       "  </tbody>\n",
       "</table>\n",
       "</div>"
      ],
      "text/plain": [
       "          Coffee Water Milk Price\n",
       "2001    Espresso    No   No   NaN\n",
       "2003  Long Black   Yes   No   NaN\n",
       "2002  Flat White    No  Yes   NaN"
      ]
     },
     "execution_count": 190,
     "metadata": {},
     "output_type": "execute_result"
    }
   ],
   "source": [
    "# Selección de las 3 primeras filas\n",
    "# Notación típica en NumPy - Poco eficiente\n",
    "mi_tabla[0:3]"
   ]
  },
  {
   "cell_type": "markdown",
   "metadata": {},
   "source": [
    "#### ``Selección por etiqueta - loc``"
   ]
  },
  {
   "cell_type": "code",
   "execution_count": 191,
   "metadata": {
    "collapsed": false
   },
   "outputs": [
    {
     "data": {
      "text/html": [
       "<div>\n",
       "<table border=\"1\" class=\"dataframe\">\n",
       "  <thead>\n",
       "    <tr style=\"text-align: right;\">\n",
       "      <th></th>\n",
       "      <th>Coffee</th>\n",
       "      <th>Water</th>\n",
       "      <th>Milk</th>\n",
       "      <th>Price</th>\n",
       "    </tr>\n",
       "  </thead>\n",
       "  <tbody>\n",
       "    <tr>\n",
       "      <th>2001</th>\n",
       "      <td>Espresso</td>\n",
       "      <td>No</td>\n",
       "      <td>No</td>\n",
       "      <td>NaN</td>\n",
       "    </tr>\n",
       "    <tr>\n",
       "      <th>2003</th>\n",
       "      <td>Long Black</td>\n",
       "      <td>Yes</td>\n",
       "      <td>No</td>\n",
       "      <td>NaN</td>\n",
       "    </tr>\n",
       "    <tr>\n",
       "      <th>2002</th>\n",
       "      <td>Flat White</td>\n",
       "      <td>No</td>\n",
       "      <td>Yes</td>\n",
       "      <td>NaN</td>\n",
       "    </tr>\n",
       "  </tbody>\n",
       "</table>\n",
       "</div>"
      ],
      "text/plain": [
       "          Coffee Water Milk Price\n",
       "2001    Espresso    No   No   NaN\n",
       "2003  Long Black   Yes   No   NaN\n",
       "2002  Flat White    No  Yes   NaN"
      ]
     },
     "execution_count": 191,
     "metadata": {},
     "output_type": "execute_result"
    }
   ],
   "source": [
    "# Selección por etiqueta\n",
    "# OJO: Ambos se incluyen\n",
    "mi_tabla.loc[2001:2002]"
   ]
  },
  {
   "cell_type": "code",
   "execution_count": 192,
   "metadata": {
    "collapsed": false
   },
   "outputs": [
    {
     "data": {
      "text/html": [
       "<div>\n",
       "<table border=\"1\" class=\"dataframe\">\n",
       "  <thead>\n",
       "    <tr style=\"text-align: right;\">\n",
       "      <th></th>\n",
       "      <th>Coffee</th>\n",
       "      <th>Milk</th>\n",
       "    </tr>\n",
       "  </thead>\n",
       "  <tbody>\n",
       "    <tr>\n",
       "      <th>2001</th>\n",
       "      <td>Espresso</td>\n",
       "      <td>No</td>\n",
       "    </tr>\n",
       "    <tr>\n",
       "      <th>2003</th>\n",
       "      <td>Long Black</td>\n",
       "      <td>No</td>\n",
       "    </tr>\n",
       "    <tr>\n",
       "      <th>2002</th>\n",
       "      <td>Flat White</td>\n",
       "      <td>Yes</td>\n",
       "    </tr>\n",
       "  </tbody>\n",
       "</table>\n",
       "</div>"
      ],
      "text/plain": [
       "          Coffee Milk\n",
       "2001    Espresso   No\n",
       "2003  Long Black   No\n",
       "2002  Flat White  Yes"
      ]
     },
     "execution_count": 192,
     "metadata": {},
     "output_type": "execute_result"
    }
   ],
   "source": [
    "# Selección por etiqueta\n",
    "mi_tabla.loc[2001:2002, ['Coffee', 'Milk']]"
   ]
  },
  {
   "cell_type": "code",
   "execution_count": 193,
   "metadata": {
    "collapsed": false
   },
   "outputs": [
    {
     "data": {
      "text/plain": [
       "'Espresso'"
      ]
     },
     "execution_count": 193,
     "metadata": {},
     "output_type": "execute_result"
    }
   ],
   "source": [
    "# Selección por etiqueta - resultado un escalar\n",
    "mi_tabla.loc[2001, 'Coffee']"
   ]
  },
  {
   "cell_type": "code",
   "execution_count": 194,
   "metadata": {
    "collapsed": false
   },
   "outputs": [
    {
     "data": {
      "text/plain": [
       "'Espresso'"
      ]
     },
     "execution_count": 194,
     "metadata": {},
     "output_type": "execute_result"
    }
   ],
   "source": [
    "# Selección por etiqueta - resultado un escalar\n",
    "mi_tabla.at[2001, 'Coffee']                      # más eficiente "
   ]
  },
  {
   "cell_type": "markdown",
   "metadata": {},
   "source": [
    "#### ``Selección por posición - iloc``\n",
    "\n",
    "``Para acceder a las filas, se accede por índice mediante la función iloc:``"
   ]
  },
  {
   "cell_type": "code",
   "execution_count": 195,
   "metadata": {
    "collapsed": false
   },
   "outputs": [
    {
     "data": {
      "text/plain": [
       "Coffee    Long Black\n",
       "Water            Yes\n",
       "Milk              No\n",
       "Price            NaN\n",
       "Name: 2003, dtype: object"
      ]
     },
     "execution_count": 195,
     "metadata": {},
     "output_type": "execute_result"
    }
   ],
   "source": [
    "# Acceso a la primera fila del DataFrame \n",
    "# El resultado es una serie\n",
    "mi_tabla.iloc[1] "
   ]
  },
  {
   "cell_type": "code",
   "execution_count": 196,
   "metadata": {
    "collapsed": false
   },
   "outputs": [
    {
     "data": {
      "text/html": [
       "<div>\n",
       "<table border=\"1\" class=\"dataframe\">\n",
       "  <thead>\n",
       "    <tr style=\"text-align: right;\">\n",
       "      <th></th>\n",
       "      <th>Water</th>\n",
       "      <th>Milk</th>\n",
       "      <th>Price</th>\n",
       "    </tr>\n",
       "  </thead>\n",
       "  <tbody>\n",
       "    <tr>\n",
       "      <th>2003</th>\n",
       "      <td>Yes</td>\n",
       "      <td>No</td>\n",
       "      <td>NaN</td>\n",
       "    </tr>\n",
       "    <tr>\n",
       "      <th>2002</th>\n",
       "      <td>No</td>\n",
       "      <td>Yes</td>\n",
       "      <td>NaN</td>\n",
       "    </tr>\n",
       "  </tbody>\n",
       "</table>\n",
       "</div>"
      ],
      "text/plain": [
       "     Water Milk Price\n",
       "2003   Yes   No   NaN\n",
       "2002    No  Yes   NaN"
      ]
     },
     "execution_count": 196,
     "metadata": {},
     "output_type": "execute_result"
    }
   ],
   "source": [
    "# Acceso a las filas con índices 1 y 2, \n",
    "# Columnas desde aquella con índice 1 hasta el final.\n",
    "mi_tabla.iloc[1:3,1:]"
   ]
  },
  {
   "cell_type": "code",
   "execution_count": 197,
   "metadata": {
    "collapsed": false
   },
   "outputs": [
    {
     "name": "stdout",
     "output_type": "stream",
     "text": [
      "          Coffee Water          Milk Price\n",
      "2001    Espresso    No            No   NaN\n",
      "2003  Long Black   Yes            No   NaN\n",
      "2002  Flat White    No           Yes   NaN\n",
      "2005  Cappuccino    No  Yes - Frothy   NaN\n",
      "2010    Affogato    No            No   NaN\n"
     ]
    },
    {
     "data": {
      "text/plain": [
       "'Long Black'"
      ]
     },
     "execution_count": 197,
     "metadata": {},
     "output_type": "execute_result"
    }
   ],
   "source": [
    "print(mi_tabla)\n",
    "# Acesso al valor de una casilla\n",
    "mi_tabla.iloc[1,0]"
   ]
  },
  {
   "cell_type": "code",
   "execution_count": 198,
   "metadata": {
    "collapsed": false
   },
   "outputs": [
    {
     "data": {
      "text/plain": [
       "'Long Black'"
      ]
     },
     "execution_count": 198,
     "metadata": {},
     "output_type": "execute_result"
    }
   ],
   "source": [
    "# Acesso al valor de una casilla (igual que el anterior)\n",
    "mi_tabla.iat[1,0]    # más rápida que la anterior"
   ]
  },
  {
   "cell_type": "markdown",
   "metadata": {},
   "source": [
    "### ``ACTUALIZACIÓN DE LOS DATOS DE DATAFRAME``\n",
    "\n",
    "``Para actualizar los datos de una columna podemos utilizar un valor concreto o un array de valores.``"
   ]
  },
  {
   "cell_type": "code",
   "execution_count": 199,
   "metadata": {
    "collapsed": false
   },
   "outputs": [
    {
     "data": {
      "text/html": [
       "<div>\n",
       "<table border=\"1\" class=\"dataframe\">\n",
       "  <thead>\n",
       "    <tr style=\"text-align: right;\">\n",
       "      <th></th>\n",
       "      <th>Coffee</th>\n",
       "      <th>Water</th>\n",
       "      <th>Milk</th>\n",
       "      <th>Price</th>\n",
       "    </tr>\n",
       "  </thead>\n",
       "  <tbody>\n",
       "    <tr>\n",
       "      <th>2001</th>\n",
       "      <td>Espresso</td>\n",
       "      <td>No</td>\n",
       "      <td>No</td>\n",
       "      <td>0.85</td>\n",
       "    </tr>\n",
       "    <tr>\n",
       "      <th>2003</th>\n",
       "      <td>Long Black</td>\n",
       "      <td>Yes</td>\n",
       "      <td>No</td>\n",
       "      <td>0.85</td>\n",
       "    </tr>\n",
       "    <tr>\n",
       "      <th>2002</th>\n",
       "      <td>Flat White</td>\n",
       "      <td>No</td>\n",
       "      <td>Yes</td>\n",
       "      <td>0.85</td>\n",
       "    </tr>\n",
       "    <tr>\n",
       "      <th>2005</th>\n",
       "      <td>Cappuccino</td>\n",
       "      <td>No</td>\n",
       "      <td>Yes - Frothy</td>\n",
       "      <td>0.85</td>\n",
       "    </tr>\n",
       "    <tr>\n",
       "      <th>2010</th>\n",
       "      <td>Affogato</td>\n",
       "      <td>No</td>\n",
       "      <td>No</td>\n",
       "      <td>0.85</td>\n",
       "    </tr>\n",
       "  </tbody>\n",
       "</table>\n",
       "</div>"
      ],
      "text/plain": [
       "          Coffee Water          Milk  Price\n",
       "2001    Espresso    No            No   0.85\n",
       "2003  Long Black   Yes            No   0.85\n",
       "2002  Flat White    No           Yes   0.85\n",
       "2005  Cappuccino    No  Yes - Frothy   0.85\n",
       "2010    Affogato    No            No   0.85"
      ]
     },
     "execution_count": 199,
     "metadata": {},
     "output_type": "execute_result"
    }
   ],
   "source": [
    "mi_tabla.Price = .85\n",
    "mi_tabla"
   ]
  },
  {
   "cell_type": "code",
   "execution_count": 200,
   "metadata": {
    "collapsed": false
   },
   "outputs": [
    {
     "data": {
      "text/html": [
       "<div>\n",
       "<table border=\"1\" class=\"dataframe\">\n",
       "  <thead>\n",
       "    <tr style=\"text-align: right;\">\n",
       "      <th></th>\n",
       "      <th>Coffee</th>\n",
       "      <th>Water</th>\n",
       "      <th>Milk</th>\n",
       "      <th>Price</th>\n",
       "    </tr>\n",
       "  </thead>\n",
       "  <tbody>\n",
       "    <tr>\n",
       "      <th>2001</th>\n",
       "      <td>Espresso</td>\n",
       "      <td>No</td>\n",
       "      <td>No</td>\n",
       "      <td>0.85</td>\n",
       "    </tr>\n",
       "    <tr>\n",
       "      <th>2003</th>\n",
       "      <td>Long Black</td>\n",
       "      <td>Yes</td>\n",
       "      <td>No</td>\n",
       "      <td>0.95</td>\n",
       "    </tr>\n",
       "    <tr>\n",
       "      <th>2002</th>\n",
       "      <td>Flat White</td>\n",
       "      <td>No</td>\n",
       "      <td>Yes</td>\n",
       "      <td>0.80</td>\n",
       "    </tr>\n",
       "    <tr>\n",
       "      <th>2005</th>\n",
       "      <td>Cappuccino</td>\n",
       "      <td>No</td>\n",
       "      <td>Yes - Frothy</td>\n",
       "      <td>1.10</td>\n",
       "    </tr>\n",
       "    <tr>\n",
       "      <th>2010</th>\n",
       "      <td>Affogato</td>\n",
       "      <td>No</td>\n",
       "      <td>No</td>\n",
       "      <td>0.65</td>\n",
       "    </tr>\n",
       "  </tbody>\n",
       "</table>\n",
       "</div>"
      ],
      "text/plain": [
       "          Coffee Water          Milk  Price\n",
       "2001    Espresso    No            No   0.85\n",
       "2003  Long Black   Yes            No   0.95\n",
       "2002  Flat White    No           Yes   0.80\n",
       "2005  Cappuccino    No  Yes - Frothy   1.10\n",
       "2010    Affogato    No            No   0.65"
      ]
     },
     "execution_count": 200,
     "metadata": {},
     "output_type": "execute_result"
    }
   ],
   "source": [
    "mi_tabla.Price = [.85, 0.95, 0.80, 1.10, 0.65]\n",
    "mi_tabla"
   ]
  },
  {
   "cell_type": "markdown",
   "metadata": {},
   "source": [
    "``Podemos calcular el precio medio del café.``"
   ]
  },
  {
   "cell_type": "code",
   "execution_count": 201,
   "metadata": {
    "collapsed": false
   },
   "outputs": [
    {
     "data": {
      "text/plain": [
       "0.8699999999999999"
      ]
     },
     "execution_count": 201,
     "metadata": {},
     "output_type": "execute_result"
    }
   ],
   "source": [
    "medio_cafe = mi_tabla.Price.mean()\n",
    "medio_cafe"
   ]
  },
  {
   "cell_type": "code",
   "execution_count": 202,
   "metadata": {
    "collapsed": false
   },
   "outputs": [
    {
     "data": {
      "text/plain": [
       "Price    0.87\n",
       "dtype: float64"
      ]
     },
     "execution_count": 202,
     "metadata": {},
     "output_type": "execute_result"
    }
   ],
   "source": [
    "pp = mi_tabla.mean()\n",
    "pp"
   ]
  },
  {
   "cell_type": "code",
   "execution_count": 203,
   "metadata": {
    "collapsed": false
   },
   "outputs": [
    {
     "data": {
      "text/html": [
       "<div>\n",
       "<table border=\"1\" class=\"dataframe\">\n",
       "  <thead>\n",
       "    <tr style=\"text-align: right;\">\n",
       "      <th></th>\n",
       "      <th>Coffee</th>\n",
       "      <th>Water</th>\n",
       "      <th>Milk</th>\n",
       "      <th>Price</th>\n",
       "    </tr>\n",
       "  </thead>\n",
       "  <tbody>\n",
       "    <tr>\n",
       "      <th>2001</th>\n",
       "      <td>Espresso</td>\n",
       "      <td>No</td>\n",
       "      <td>No</td>\n",
       "      <td>0.85</td>\n",
       "    </tr>\n",
       "    <tr>\n",
       "      <th>2003</th>\n",
       "      <td>Long Black</td>\n",
       "      <td>Yes</td>\n",
       "      <td>No</td>\n",
       "      <td>0.95</td>\n",
       "    </tr>\n",
       "    <tr>\n",
       "      <th>2002</th>\n",
       "      <td>Flat White</td>\n",
       "      <td>No</td>\n",
       "      <td>Yes</td>\n",
       "      <td>0.80</td>\n",
       "    </tr>\n",
       "    <tr>\n",
       "      <th>2005</th>\n",
       "      <td>Cappuccino</td>\n",
       "      <td>No</td>\n",
       "      <td>Yes - Frothy</td>\n",
       "      <td>1.10</td>\n",
       "    </tr>\n",
       "    <tr>\n",
       "      <th>2010</th>\n",
       "      <td>Affogato</td>\n",
       "      <td>No</td>\n",
       "      <td>No</td>\n",
       "      <td>0.65</td>\n",
       "    </tr>\n",
       "  </tbody>\n",
       "</table>\n",
       "</div>"
      ],
      "text/plain": [
       "          Coffee Water          Milk  Price\n",
       "2001    Espresso    No            No   0.85\n",
       "2003  Long Black   Yes            No   0.95\n",
       "2002  Flat White    No           Yes   0.80\n",
       "2005  Cappuccino    No  Yes - Frothy   1.10\n",
       "2010    Affogato    No            No   0.65"
      ]
     },
     "execution_count": 203,
     "metadata": {},
     "output_type": "execute_result"
    }
   ],
   "source": [
    "mi_tabla"
   ]
  },
  {
   "cell_type": "markdown",
   "metadata": {},
   "source": [
    "``Las operaciones sobre DataFrames son vectorizadas, al igual que ocurría con las operaciones sobre los objetos ndarray de NumPy.``\n",
    "\n",
    "``Podemos aumentar el precio del café 10 céntimos.``"
   ]
  },
  {
   "cell_type": "code",
   "execution_count": 204,
   "metadata": {
    "collapsed": false
   },
   "outputs": [
    {
     "data": {
      "text/html": [
       "<div>\n",
       "<table border=\"1\" class=\"dataframe\">\n",
       "  <thead>\n",
       "    <tr style=\"text-align: right;\">\n",
       "      <th></th>\n",
       "      <th>Coffee</th>\n",
       "      <th>Water</th>\n",
       "      <th>Milk</th>\n",
       "      <th>Price</th>\n",
       "      <th>nuevo_pvp</th>\n",
       "    </tr>\n",
       "  </thead>\n",
       "  <tbody>\n",
       "    <tr>\n",
       "      <th>2001</th>\n",
       "      <td>Espresso</td>\n",
       "      <td>No</td>\n",
       "      <td>No</td>\n",
       "      <td>0.85</td>\n",
       "      <td>0.95</td>\n",
       "    </tr>\n",
       "    <tr>\n",
       "      <th>2003</th>\n",
       "      <td>Long Black</td>\n",
       "      <td>Yes</td>\n",
       "      <td>No</td>\n",
       "      <td>0.95</td>\n",
       "      <td>1.05</td>\n",
       "    </tr>\n",
       "    <tr>\n",
       "      <th>2002</th>\n",
       "      <td>Flat White</td>\n",
       "      <td>No</td>\n",
       "      <td>Yes</td>\n",
       "      <td>0.80</td>\n",
       "      <td>0.90</td>\n",
       "    </tr>\n",
       "    <tr>\n",
       "      <th>2005</th>\n",
       "      <td>Cappuccino</td>\n",
       "      <td>No</td>\n",
       "      <td>Yes - Frothy</td>\n",
       "      <td>1.10</td>\n",
       "      <td>1.20</td>\n",
       "    </tr>\n",
       "    <tr>\n",
       "      <th>2010</th>\n",
       "      <td>Affogato</td>\n",
       "      <td>No</td>\n",
       "      <td>No</td>\n",
       "      <td>0.65</td>\n",
       "      <td>0.75</td>\n",
       "    </tr>\n",
       "  </tbody>\n",
       "</table>\n",
       "</div>"
      ],
      "text/plain": [
       "          Coffee Water          Milk  Price  nuevo_pvp\n",
       "2001    Espresso    No            No   0.85       0.95\n",
       "2003  Long Black   Yes            No   0.95       1.05\n",
       "2002  Flat White    No           Yes   0.80       0.90\n",
       "2005  Cappuccino    No  Yes - Frothy   1.10       1.20\n",
       "2010    Affogato    No            No   0.65       0.75"
      ]
     },
     "execution_count": 204,
     "metadata": {},
     "output_type": "execute_result"
    }
   ],
   "source": [
    "mi_tabla['nuevo_pvp'] = mi_tabla.Price  + 0.10\n",
    "mi_tabla"
   ]
  },
  {
   "cell_type": "markdown",
   "metadata": {},
   "source": [
    "<BR>\n",
    "### ``BORRAR COLUMNAS DE UN DATAFRAME (POP Y DROP)``\n",
    "\n",
    "``La función`` **pop** ``borra la columna especificada del DataFrame y guarda la columna borrada en un objeto de tipo Serie.``\n",
    "\n",
    " - ``Modifica el DataFrame``\n",
    "\n",
    "``La función`` **drop** ``permite borrar tanto filas como columnas.``\n",
    "\n",
    " - ``No modifica el DataFrame. El resultado lo guarda en una copia.``\n",
    " - ``No permite acceder a los elementos borrados.``"
   ]
  },
  {
   "cell_type": "code",
   "execution_count": 205,
   "metadata": {
    "collapsed": false
   },
   "outputs": [
    {
     "data": {
      "text/plain": [
       "2001    0.85\n",
       "2003    0.95\n",
       "2002    0.80\n",
       "2005    1.10\n",
       "2010    0.65\n",
       "Name: Price, dtype: float64"
      ]
     },
     "execution_count": 205,
     "metadata": {},
     "output_type": "execute_result"
    }
   ],
   "source": [
    "# Borra la columna 'Price'\n",
    "columna_price = mi_tabla.pop('Price')\n",
    "columna_price"
   ]
  },
  {
   "cell_type": "code",
   "execution_count": 206,
   "metadata": {
    "collapsed": false
   },
   "outputs": [
    {
     "data": {
      "text/plain": [
       "pandas.core.series.Series"
      ]
     },
     "execution_count": 206,
     "metadata": {},
     "output_type": "execute_result"
    }
   ],
   "source": [
    "type(columna_price)"
   ]
  },
  {
   "cell_type": "code",
   "execution_count": 207,
   "metadata": {
    "collapsed": false
   },
   "outputs": [
    {
     "data": {
      "text/html": [
       "<div>\n",
       "<table border=\"1\" class=\"dataframe\">\n",
       "  <thead>\n",
       "    <tr style=\"text-align: right;\">\n",
       "      <th></th>\n",
       "      <th>Coffee</th>\n",
       "      <th>Water</th>\n",
       "      <th>Milk</th>\n",
       "      <th>nuevo_pvp</th>\n",
       "    </tr>\n",
       "  </thead>\n",
       "  <tbody>\n",
       "    <tr>\n",
       "      <th>2001</th>\n",
       "      <td>Espresso</td>\n",
       "      <td>No</td>\n",
       "      <td>No</td>\n",
       "      <td>0.95</td>\n",
       "    </tr>\n",
       "    <tr>\n",
       "      <th>2003</th>\n",
       "      <td>Long Black</td>\n",
       "      <td>Yes</td>\n",
       "      <td>No</td>\n",
       "      <td>1.05</td>\n",
       "    </tr>\n",
       "    <tr>\n",
       "      <th>2002</th>\n",
       "      <td>Flat White</td>\n",
       "      <td>No</td>\n",
       "      <td>Yes</td>\n",
       "      <td>0.90</td>\n",
       "    </tr>\n",
       "    <tr>\n",
       "      <th>2005</th>\n",
       "      <td>Cappuccino</td>\n",
       "      <td>No</td>\n",
       "      <td>Yes - Frothy</td>\n",
       "      <td>1.20</td>\n",
       "    </tr>\n",
       "    <tr>\n",
       "      <th>2010</th>\n",
       "      <td>Affogato</td>\n",
       "      <td>No</td>\n",
       "      <td>No</td>\n",
       "      <td>0.75</td>\n",
       "    </tr>\n",
       "  </tbody>\n",
       "</table>\n",
       "</div>"
      ],
      "text/plain": [
       "          Coffee Water          Milk  nuevo_pvp\n",
       "2001    Espresso    No            No       0.95\n",
       "2003  Long Black   Yes            No       1.05\n",
       "2002  Flat White    No           Yes       0.90\n",
       "2005  Cappuccino    No  Yes - Frothy       1.20\n",
       "2010    Affogato    No            No       0.75"
      ]
     },
     "execution_count": 207,
     "metadata": {},
     "output_type": "execute_result"
    }
   ],
   "source": [
    "mi_tabla"
   ]
  },
  {
   "cell_type": "markdown",
   "metadata": {},
   "source": [
    "``También es posible utilizar la función drop para eliminar tanto filas como columnas.``"
   ]
  },
  {
   "cell_type": "code",
   "execution_count": 208,
   "metadata": {
    "collapsed": false
   },
   "outputs": [
    {
     "data": {
      "text/html": [
       "<div>\n",
       "<table border=\"1\" class=\"dataframe\">\n",
       "  <thead>\n",
       "    <tr style=\"text-align: right;\">\n",
       "      <th></th>\n",
       "      <th>Coffee</th>\n",
       "      <th>Water</th>\n",
       "      <th>Milk</th>\n",
       "      <th>nuevo_pvp</th>\n",
       "    </tr>\n",
       "  </thead>\n",
       "  <tbody>\n",
       "    <tr>\n",
       "      <th>2001</th>\n",
       "      <td>Espresso</td>\n",
       "      <td>No</td>\n",
       "      <td>No</td>\n",
       "      <td>0.95</td>\n",
       "    </tr>\n",
       "    <tr>\n",
       "      <th>2003</th>\n",
       "      <td>Long Black</td>\n",
       "      <td>Yes</td>\n",
       "      <td>No</td>\n",
       "      <td>1.05</td>\n",
       "    </tr>\n",
       "    <tr>\n",
       "      <th>2002</th>\n",
       "      <td>Flat White</td>\n",
       "      <td>No</td>\n",
       "      <td>Yes</td>\n",
       "      <td>0.90</td>\n",
       "    </tr>\n",
       "    <tr>\n",
       "      <th>2005</th>\n",
       "      <td>Cappuccino</td>\n",
       "      <td>No</td>\n",
       "      <td>Yes - Frothy</td>\n",
       "      <td>1.20</td>\n",
       "    </tr>\n",
       "    <tr>\n",
       "      <th>2010</th>\n",
       "      <td>Affogato</td>\n",
       "      <td>No</td>\n",
       "      <td>No</td>\n",
       "      <td>0.75</td>\n",
       "    </tr>\n",
       "  </tbody>\n",
       "</table>\n",
       "</div>"
      ],
      "text/plain": [
       "          Coffee Water          Milk  nuevo_pvp\n",
       "2001    Espresso    No            No       0.95\n",
       "2003  Long Black   Yes            No       1.05\n",
       "2002  Flat White    No           Yes       0.90\n",
       "2005  Cappuccino    No  Yes - Frothy       1.20\n",
       "2010    Affogato    No            No       0.75"
      ]
     },
     "execution_count": 208,
     "metadata": {},
     "output_type": "execute_result"
    }
   ],
   "source": [
    "# Borramos las filas correspondientes a los índices 2005 y 2010\n",
    "mi_tabla.drop([2005,2010])\n",
    "mi_tabla"
   ]
  },
  {
   "cell_type": "code",
   "execution_count": 209,
   "metadata": {
    "collapsed": false
   },
   "outputs": [
    {
     "data": {
      "text/html": [
       "<div>\n",
       "<table border=\"1\" class=\"dataframe\">\n",
       "  <thead>\n",
       "    <tr style=\"text-align: right;\">\n",
       "      <th></th>\n",
       "      <th>Coffee</th>\n",
       "      <th>nuevo_pvp</th>\n",
       "    </tr>\n",
       "  </thead>\n",
       "  <tbody>\n",
       "    <tr>\n",
       "      <th>2001</th>\n",
       "      <td>Espresso</td>\n",
       "      <td>0.95</td>\n",
       "    </tr>\n",
       "    <tr>\n",
       "      <th>2003</th>\n",
       "      <td>Long Black</td>\n",
       "      <td>1.05</td>\n",
       "    </tr>\n",
       "    <tr>\n",
       "      <th>2002</th>\n",
       "      <td>Flat White</td>\n",
       "      <td>0.90</td>\n",
       "    </tr>\n",
       "    <tr>\n",
       "      <th>2005</th>\n",
       "      <td>Cappuccino</td>\n",
       "      <td>1.20</td>\n",
       "    </tr>\n",
       "    <tr>\n",
       "      <th>2010</th>\n",
       "      <td>Affogato</td>\n",
       "      <td>0.75</td>\n",
       "    </tr>\n",
       "  </tbody>\n",
       "</table>\n",
       "</div>"
      ],
      "text/plain": [
       "          Coffee  nuevo_pvp\n",
       "2001    Espresso       0.95\n",
       "2003  Long Black       1.05\n",
       "2002  Flat White       0.90\n",
       "2005  Cappuccino       1.20\n",
       "2010    Affogato       0.75"
      ]
     },
     "execution_count": 209,
     "metadata": {},
     "output_type": "execute_result"
    }
   ],
   "source": [
    "# Borramos las columnas Water y Milk\n",
    "# Hay que especificar el eje que contiene las etiquetas\n",
    "otro = mi_tabla.drop(['Water', 'Milk'], 1)\n",
    "otro"
   ]
  },
  {
   "cell_type": "markdown",
   "metadata": {},
   "source": [
    "<br>\n",
    "### ``INSERTAR DATOS EN UN DATAFRAME``\n",
    "\n",
    "``Ya hemos podido ver cómo se pueden insertar nuevas columnas a un DataFrame de forma muy sencilla:``"
   ]
  },
  {
   "cell_type": "code",
   "execution_count": 210,
   "metadata": {
    "collapsed": false
   },
   "outputs": [
    {
     "data": {
      "text/html": [
       "<div>\n",
       "<table border=\"1\" class=\"dataframe\">\n",
       "  <thead>\n",
       "    <tr style=\"text-align: right;\">\n",
       "      <th></th>\n",
       "      <th>Coffee</th>\n",
       "      <th>Water</th>\n",
       "      <th>Milk</th>\n",
       "      <th>nuevo_pvp</th>\n",
       "      <th>Chocolat</th>\n",
       "    </tr>\n",
       "  </thead>\n",
       "  <tbody>\n",
       "    <tr>\n",
       "      <th>2001</th>\n",
       "      <td>Espresso</td>\n",
       "      <td>No</td>\n",
       "      <td>No</td>\n",
       "      <td>0.95</td>\n",
       "      <td>No</td>\n",
       "    </tr>\n",
       "    <tr>\n",
       "      <th>2003</th>\n",
       "      <td>Long Black</td>\n",
       "      <td>Yes</td>\n",
       "      <td>No</td>\n",
       "      <td>1.05</td>\n",
       "      <td>No</td>\n",
       "    </tr>\n",
       "    <tr>\n",
       "      <th>2002</th>\n",
       "      <td>Flat White</td>\n",
       "      <td>No</td>\n",
       "      <td>Yes</td>\n",
       "      <td>0.90</td>\n",
       "      <td>NaN</td>\n",
       "    </tr>\n",
       "    <tr>\n",
       "      <th>2005</th>\n",
       "      <td>Cappuccino</td>\n",
       "      <td>No</td>\n",
       "      <td>Yes - Frothy</td>\n",
       "      <td>1.20</td>\n",
       "      <td>Yes</td>\n",
       "    </tr>\n",
       "    <tr>\n",
       "      <th>2010</th>\n",
       "      <td>Affogato</td>\n",
       "      <td>No</td>\n",
       "      <td>No</td>\n",
       "      <td>0.75</td>\n",
       "      <td>No</td>\n",
       "    </tr>\n",
       "  </tbody>\n",
       "</table>\n",
       "</div>"
      ],
      "text/plain": [
       "          Coffee Water          Milk  nuevo_pvp Chocolat\n",
       "2001    Espresso    No            No       0.95       No\n",
       "2003  Long Black   Yes            No       1.05       No\n",
       "2002  Flat White    No           Yes       0.90      NaN\n",
       "2005  Cappuccino    No  Yes - Frothy       1.20      Yes\n",
       "2010    Affogato    No            No       0.75       No"
      ]
     },
     "execution_count": 210,
     "metadata": {},
     "output_type": "execute_result"
    }
   ],
   "source": [
    "# Nueva columna\n",
    "mi_tabla['Chocolat'] = ['No', 'No', np.nan, 'Yes', 'No' ]\n",
    "mi_tabla"
   ]
  },
  {
   "cell_type": "markdown",
   "metadata": {},
   "source": [
    "``También podemos utilizar la función`` **insert** ``para insertar la columna Price que hemos eliminado anteriormente en una determinada posición.``"
   ]
  },
  {
   "cell_type": "code",
   "execution_count": 211,
   "metadata": {
    "collapsed": false
   },
   "outputs": [
    {
     "data": {
      "text/html": [
       "<div>\n",
       "<table border=\"1\" class=\"dataframe\">\n",
       "  <thead>\n",
       "    <tr style=\"text-align: right;\">\n",
       "      <th></th>\n",
       "      <th>Coffee</th>\n",
       "      <th>Water</th>\n",
       "      <th>Price</th>\n",
       "      <th>Milk</th>\n",
       "      <th>nuevo_pvp</th>\n",
       "      <th>Chocolat</th>\n",
       "    </tr>\n",
       "  </thead>\n",
       "  <tbody>\n",
       "    <tr>\n",
       "      <th>2001</th>\n",
       "      <td>Espresso</td>\n",
       "      <td>No</td>\n",
       "      <td>0.85</td>\n",
       "      <td>No</td>\n",
       "      <td>0.95</td>\n",
       "      <td>No</td>\n",
       "    </tr>\n",
       "    <tr>\n",
       "      <th>2003</th>\n",
       "      <td>Long Black</td>\n",
       "      <td>Yes</td>\n",
       "      <td>0.95</td>\n",
       "      <td>No</td>\n",
       "      <td>1.05</td>\n",
       "      <td>No</td>\n",
       "    </tr>\n",
       "    <tr>\n",
       "      <th>2002</th>\n",
       "      <td>Flat White</td>\n",
       "      <td>No</td>\n",
       "      <td>0.80</td>\n",
       "      <td>Yes</td>\n",
       "      <td>0.90</td>\n",
       "      <td>NaN</td>\n",
       "    </tr>\n",
       "    <tr>\n",
       "      <th>2005</th>\n",
       "      <td>Cappuccino</td>\n",
       "      <td>No</td>\n",
       "      <td>1.10</td>\n",
       "      <td>Yes - Frothy</td>\n",
       "      <td>1.20</td>\n",
       "      <td>Yes</td>\n",
       "    </tr>\n",
       "    <tr>\n",
       "      <th>2010</th>\n",
       "      <td>Affogato</td>\n",
       "      <td>No</td>\n",
       "      <td>0.65</td>\n",
       "      <td>No</td>\n",
       "      <td>0.75</td>\n",
       "      <td>No</td>\n",
       "    </tr>\n",
       "  </tbody>\n",
       "</table>\n",
       "</div>"
      ],
      "text/plain": [
       "          Coffee Water  Price          Milk  nuevo_pvp Chocolat\n",
       "2001    Espresso    No   0.85            No       0.95       No\n",
       "2003  Long Black   Yes   0.95            No       1.05       No\n",
       "2002  Flat White    No   0.80           Yes       0.90      NaN\n",
       "2005  Cappuccino    No   1.10  Yes - Frothy       1.20      Yes\n",
       "2010    Affogato    No   0.65            No       0.75       No"
      ]
     },
     "execution_count": 211,
     "metadata": {},
     "output_type": "execute_result"
    }
   ],
   "source": [
    "# Inserta la columna en la segunda posición \n",
    "mi_tabla.insert(2, 'Price', columna_price)\n",
    "mi_tabla"
   ]
  },
  {
   "cell_type": "markdown",
   "metadata": {},
   "source": [
    "<br>\n",
    "### ``COMBINAR DATAFRAMES``\n",
    "\n",
    "**append, merge, join**\n",
    "\n",
    "``Pandas provee varias formas de combinar Series y DataFrames.``\n",
    "\n",
    "``Las filas de un DataFrame se pueden insertar mediante la función`` **append** ``especificando un diccionario, donde la clave es el nombre de la columna.``\n",
    "\n",
    "* ``Podemos insertar una fila parcial: Las columnas no especificadas pasan a tomar el valor NaN.``\n",
    "* ``Peligro: se pierde el nombre de los índices, que pasan a ser enteros.``"
   ]
  },
  {
   "cell_type": "code",
   "execution_count": 212,
   "metadata": {
    "collapsed": false
   },
   "outputs": [
    {
     "data": {
      "text/html": [
       "<div>\n",
       "<table border=\"1\" class=\"dataframe\">\n",
       "  <thead>\n",
       "    <tr style=\"text-align: right;\">\n",
       "      <th></th>\n",
       "      <th>Coffee</th>\n",
       "      <th>Water</th>\n",
       "      <th>Price</th>\n",
       "      <th>Milk</th>\n",
       "      <th>nuevo_pvp</th>\n",
       "      <th>Chocolat</th>\n",
       "    </tr>\n",
       "  </thead>\n",
       "  <tbody>\n",
       "    <tr>\n",
       "      <th>0</th>\n",
       "      <td>Espresso</td>\n",
       "      <td>No</td>\n",
       "      <td>0.85</td>\n",
       "      <td>No</td>\n",
       "      <td>0.95</td>\n",
       "      <td>No</td>\n",
       "    </tr>\n",
       "    <tr>\n",
       "      <th>1</th>\n",
       "      <td>Long Black</td>\n",
       "      <td>Yes</td>\n",
       "      <td>0.95</td>\n",
       "      <td>No</td>\n",
       "      <td>1.05</td>\n",
       "      <td>No</td>\n",
       "    </tr>\n",
       "    <tr>\n",
       "      <th>2</th>\n",
       "      <td>Flat White</td>\n",
       "      <td>No</td>\n",
       "      <td>0.80</td>\n",
       "      <td>Yes</td>\n",
       "      <td>0.90</td>\n",
       "      <td>NaN</td>\n",
       "    </tr>\n",
       "    <tr>\n",
       "      <th>3</th>\n",
       "      <td>Cappuccino</td>\n",
       "      <td>No</td>\n",
       "      <td>1.10</td>\n",
       "      <td>Yes - Frothy</td>\n",
       "      <td>1.20</td>\n",
       "      <td>Yes</td>\n",
       "    </tr>\n",
       "    <tr>\n",
       "      <th>4</th>\n",
       "      <td>Affogato</td>\n",
       "      <td>No</td>\n",
       "      <td>0.65</td>\n",
       "      <td>No</td>\n",
       "      <td>0.75</td>\n",
       "      <td>No</td>\n",
       "    </tr>\n",
       "    <tr>\n",
       "      <th>5</th>\n",
       "      <td>Other</td>\n",
       "      <td>No</td>\n",
       "      <td>0.50</td>\n",
       "      <td>NaN</td>\n",
       "      <td>NaN</td>\n",
       "      <td>Yes</td>\n",
       "    </tr>\n",
       "  </tbody>\n",
       "</table>\n",
       "</div>"
      ],
      "text/plain": [
       "       Coffee Water  Price          Milk  nuevo_pvp Chocolat\n",
       "0    Espresso    No   0.85            No       0.95       No\n",
       "1  Long Black   Yes   0.95            No       1.05       No\n",
       "2  Flat White    No   0.80           Yes       0.90      NaN\n",
       "3  Cappuccino    No   1.10  Yes - Frothy       1.20      Yes\n",
       "4    Affogato    No   0.65            No       0.75       No\n",
       "5       Other    No   0.50           NaN        NaN      Yes"
      ]
     },
     "execution_count": 212,
     "metadata": {},
     "output_type": "execute_result"
    }
   ],
   "source": [
    "# Nueva fila (Total o parcial)\n",
    "# -- se pierde el valor de los índices !!!!!!\n",
    "# Crea un indice autonumerado\n",
    "mi_tabla.append({ 'Coffee': 'Other',\n",
    "                  'Water': 'No',\n",
    "                  'Chocolat': 'Yes',\n",
    "                  'Price' : 0.50 },\n",
    "                ignore_index = True)"
   ]
  },
  {
   "cell_type": "markdown",
   "metadata": {},
   "source": [
    "``Para no perder el nombre de los índices, se realiza la operación append con un DataFrame en lugar de un diccionario:``"
   ]
  },
  {
   "cell_type": "code",
   "execution_count": 213,
   "metadata": {
    "collapsed": false
   },
   "outputs": [
    {
     "data": {
      "text/html": [
       "<div>\n",
       "<table border=\"1\" class=\"dataframe\">\n",
       "  <thead>\n",
       "    <tr style=\"text-align: right;\">\n",
       "      <th></th>\n",
       "      <th>Chocolat</th>\n",
       "      <th>Coffee</th>\n",
       "      <th>Milk</th>\n",
       "      <th>Price</th>\n",
       "      <th>Water</th>\n",
       "      <th>nuevo_pvp</th>\n",
       "    </tr>\n",
       "  </thead>\n",
       "  <tbody>\n",
       "    <tr>\n",
       "      <th>2001</th>\n",
       "      <td>No</td>\n",
       "      <td>Espresso</td>\n",
       "      <td>No</td>\n",
       "      <td>0.85</td>\n",
       "      <td>No</td>\n",
       "      <td>0.95</td>\n",
       "    </tr>\n",
       "    <tr>\n",
       "      <th>2003</th>\n",
       "      <td>No</td>\n",
       "      <td>Long Black</td>\n",
       "      <td>No</td>\n",
       "      <td>0.95</td>\n",
       "      <td>Yes</td>\n",
       "      <td>1.05</td>\n",
       "    </tr>\n",
       "    <tr>\n",
       "      <th>2002</th>\n",
       "      <td>NaN</td>\n",
       "      <td>Flat White</td>\n",
       "      <td>Yes</td>\n",
       "      <td>0.80</td>\n",
       "      <td>No</td>\n",
       "      <td>0.90</td>\n",
       "    </tr>\n",
       "    <tr>\n",
       "      <th>2005</th>\n",
       "      <td>Yes</td>\n",
       "      <td>Cappuccino</td>\n",
       "      <td>Yes - Frothy</td>\n",
       "      <td>1.10</td>\n",
       "      <td>No</td>\n",
       "      <td>1.20</td>\n",
       "    </tr>\n",
       "    <tr>\n",
       "      <th>2010</th>\n",
       "      <td>No</td>\n",
       "      <td>Affogato</td>\n",
       "      <td>No</td>\n",
       "      <td>0.65</td>\n",
       "      <td>No</td>\n",
       "      <td>0.75</td>\n",
       "    </tr>\n",
       "    <tr>\n",
       "      <th>2015</th>\n",
       "      <td>Yes</td>\n",
       "      <td>Other</td>\n",
       "      <td>NaN</td>\n",
       "      <td>0.50</td>\n",
       "      <td>No</td>\n",
       "      <td>NaN</td>\n",
       "    </tr>\n",
       "  </tbody>\n",
       "</table>\n",
       "</div>"
      ],
      "text/plain": [
       "     Chocolat      Coffee          Milk  Price Water  nuevo_pvp\n",
       "2001       No    Espresso            No   0.85    No       0.95\n",
       "2003       No  Long Black            No   0.95   Yes       1.05\n",
       "2002      NaN  Flat White           Yes   0.80    No       0.90\n",
       "2005      Yes  Cappuccino  Yes - Frothy   1.10    No       1.20\n",
       "2010       No    Affogato            No   0.65    No       0.75\n",
       "2015      Yes       Other           NaN   0.50    No        NaN"
      ]
     },
     "execution_count": 213,
     "metadata": {},
     "output_type": "execute_result"
    }
   ],
   "source": [
    "# Creamos el data frame a insertar\n",
    "otro_df = pd.DataFrame({  'Coffee': 'Other',\n",
    "                          'Water': 'No',\n",
    "                          'Chocolat': 'Yes',\n",
    "                          'Price' : 0.50 },\n",
    "                       index = [2015])\n",
    "\n",
    "# Insertamos el data frame mediante la función 'append'\n",
    "mi_tabla.append(otro_df)"
   ]
  },
  {
   "cell_type": "code",
   "execution_count": 214,
   "metadata": {
    "collapsed": false
   },
   "outputs": [
    {
     "data": {
      "text/html": [
       "<div>\n",
       "<table border=\"1\" class=\"dataframe\">\n",
       "  <thead>\n",
       "    <tr style=\"text-align: right;\">\n",
       "      <th></th>\n",
       "      <th>Coffee</th>\n",
       "      <th>Water</th>\n",
       "      <th>Price</th>\n",
       "      <th>Milk</th>\n",
       "      <th>nuevo_pvp</th>\n",
       "      <th>Chocolat</th>\n",
       "    </tr>\n",
       "  </thead>\n",
       "  <tbody>\n",
       "    <tr>\n",
       "      <th>2001</th>\n",
       "      <td>Espresso</td>\n",
       "      <td>No</td>\n",
       "      <td>0.85</td>\n",
       "      <td>No</td>\n",
       "      <td>0.95</td>\n",
       "      <td>No</td>\n",
       "    </tr>\n",
       "    <tr>\n",
       "      <th>2003</th>\n",
       "      <td>Long Black</td>\n",
       "      <td>Yes</td>\n",
       "      <td>0.95</td>\n",
       "      <td>No</td>\n",
       "      <td>1.05</td>\n",
       "      <td>No</td>\n",
       "    </tr>\n",
       "    <tr>\n",
       "      <th>2002</th>\n",
       "      <td>Flat White</td>\n",
       "      <td>No</td>\n",
       "      <td>0.80</td>\n",
       "      <td>Yes</td>\n",
       "      <td>0.90</td>\n",
       "      <td>NaN</td>\n",
       "    </tr>\n",
       "    <tr>\n",
       "      <th>2005</th>\n",
       "      <td>Cappuccino</td>\n",
       "      <td>No</td>\n",
       "      <td>1.10</td>\n",
       "      <td>Yes - Frothy</td>\n",
       "      <td>1.20</td>\n",
       "      <td>Yes</td>\n",
       "    </tr>\n",
       "    <tr>\n",
       "      <th>2010</th>\n",
       "      <td>Affogato</td>\n",
       "      <td>No</td>\n",
       "      <td>0.65</td>\n",
       "      <td>No</td>\n",
       "      <td>0.75</td>\n",
       "      <td>No</td>\n",
       "    </tr>\n",
       "  </tbody>\n",
       "</table>\n",
       "</div>"
      ],
      "text/plain": [
       "          Coffee Water  Price          Milk  nuevo_pvp Chocolat\n",
       "2001    Espresso    No   0.85            No       0.95       No\n",
       "2003  Long Black   Yes   0.95            No       1.05       No\n",
       "2002  Flat White    No   0.80           Yes       0.90      NaN\n",
       "2005  Cappuccino    No   1.10  Yes - Frothy       1.20      Yes\n",
       "2010    Affogato    No   0.65            No       0.75       No"
      ]
     },
     "execution_count": 214,
     "metadata": {},
     "output_type": "execute_result"
    }
   ],
   "source": [
    "mi_tabla"
   ]
  },
  {
   "cell_type": "markdown",
   "metadata": {},
   "source": [
    "``Cuidado!, la función`` **append** ``no modifica el objeto.``"
   ]
  },
  {
   "cell_type": "code",
   "execution_count": 215,
   "metadata": {
    "collapsed": false
   },
   "outputs": [
    {
     "data": {
      "text/html": [
       "<div>\n",
       "<table border=\"1\" class=\"dataframe\">\n",
       "  <thead>\n",
       "    <tr style=\"text-align: right;\">\n",
       "      <th></th>\n",
       "      <th>Chocolat</th>\n",
       "      <th>Coffee</th>\n",
       "      <th>Milk</th>\n",
       "      <th>Price</th>\n",
       "      <th>Water</th>\n",
       "      <th>nuevo_pvp</th>\n",
       "    </tr>\n",
       "  </thead>\n",
       "  <tbody>\n",
       "    <tr>\n",
       "      <th>2001</th>\n",
       "      <td>No</td>\n",
       "      <td>Espresso</td>\n",
       "      <td>No</td>\n",
       "      <td>0.85</td>\n",
       "      <td>No</td>\n",
       "      <td>0.95</td>\n",
       "    </tr>\n",
       "    <tr>\n",
       "      <th>2003</th>\n",
       "      <td>No</td>\n",
       "      <td>Long Black</td>\n",
       "      <td>No</td>\n",
       "      <td>0.95</td>\n",
       "      <td>Yes</td>\n",
       "      <td>1.05</td>\n",
       "    </tr>\n",
       "    <tr>\n",
       "      <th>2002</th>\n",
       "      <td>NaN</td>\n",
       "      <td>Flat White</td>\n",
       "      <td>Yes</td>\n",
       "      <td>0.80</td>\n",
       "      <td>No</td>\n",
       "      <td>0.90</td>\n",
       "    </tr>\n",
       "    <tr>\n",
       "      <th>2005</th>\n",
       "      <td>Yes</td>\n",
       "      <td>Cappuccino</td>\n",
       "      <td>Yes - Frothy</td>\n",
       "      <td>1.10</td>\n",
       "      <td>No</td>\n",
       "      <td>1.20</td>\n",
       "    </tr>\n",
       "    <tr>\n",
       "      <th>2010</th>\n",
       "      <td>No</td>\n",
       "      <td>Affogato</td>\n",
       "      <td>No</td>\n",
       "      <td>0.65</td>\n",
       "      <td>No</td>\n",
       "      <td>0.75</td>\n",
       "    </tr>\n",
       "    <tr>\n",
       "      <th>2015</th>\n",
       "      <td>Yes</td>\n",
       "      <td>Other</td>\n",
       "      <td>NaN</td>\n",
       "      <td>0.50</td>\n",
       "      <td>No</td>\n",
       "      <td>NaN</td>\n",
       "    </tr>\n",
       "  </tbody>\n",
       "</table>\n",
       "</div>"
      ],
      "text/plain": [
       "     Chocolat      Coffee          Milk  Price Water  nuevo_pvp\n",
       "2001       No    Espresso            No   0.85    No       0.95\n",
       "2003       No  Long Black            No   0.95   Yes       1.05\n",
       "2002      NaN  Flat White           Yes   0.80    No       0.90\n",
       "2005      Yes  Cappuccino  Yes - Frothy   1.10    No       1.20\n",
       "2010       No    Affogato            No   0.65    No       0.75\n",
       "2015      Yes       Other           NaN   0.50    No        NaN"
      ]
     },
     "execution_count": 215,
     "metadata": {},
     "output_type": "execute_result"
    }
   ],
   "source": [
    "mi_tabla = mi_tabla.append(otro_df )\n",
    "mi_tabla"
   ]
  },
  {
   "cell_type": "markdown",
   "metadata": {},
   "source": [
    "#### ``MERGE: La operación join al estilo del álgebra relacional``\n",
    "\n",
    "``La función`` **merge** ``permite combinar filas de dos o más tablas (DataFrames) basándose en una o varias claves. Trabaja de forma muy eficiente, de forma similar a las bases de datos relacionales tipo SQL. Hay tres tipos de merge:``\n",
    "* ``interno (inner)``\n",
    "* ``externo (outer)``\n",
    "* ``cruzado(left, right)``\n",
    "\n",
    "![logo_python3](http://campusonline.ciceonline.com/archivos/_819/html/49311/images/joins.png \"MERGE con dataframes\")"
   ]
  },
  {
   "cell_type": "markdown",
   "metadata": {},
   "source": [
    "#### ``ENTORNO``\n",
    "\n",
    "**inner join**``: Cada fila de la tabla df1 se combina con otro de la tabla df2 que cumpla las condiciones (igualdad de una o varias columnas).``"
   ]
  },
  {
   "cell_type": "code",
   "execution_count": 216,
   "metadata": {
    "collapsed": false
   },
   "outputs": [
    {
     "name": "stdout",
     "output_type": "stream",
     "text": [
      "    A   B key\n",
      "0  A0  B0  K0\n",
      "1  A1  B1  K1\n",
      "2  A2  B2  K1\n",
      "3  A3  B3  K3\n",
      "    A   D key\n",
      "0  C0  D0  K0\n",
      "1  C1  D1  K1\n",
      "2  C2  D2  K2\n",
      "3  C3  D3  K3\n"
     ]
    },
    {
     "data": {
      "text/html": [
       "<div>\n",
       "<table border=\"1\" class=\"dataframe\">\n",
       "  <thead>\n",
       "    <tr style=\"text-align: right;\">\n",
       "      <th></th>\n",
       "      <th>A_x</th>\n",
       "      <th>B</th>\n",
       "      <th>key</th>\n",
       "      <th>A_y</th>\n",
       "      <th>D</th>\n",
       "    </tr>\n",
       "  </thead>\n",
       "  <tbody>\n",
       "    <tr>\n",
       "      <th>0</th>\n",
       "      <td>A0</td>\n",
       "      <td>B0</td>\n",
       "      <td>K0</td>\n",
       "      <td>C0</td>\n",
       "      <td>D0</td>\n",
       "    </tr>\n",
       "    <tr>\n",
       "      <th>1</th>\n",
       "      <td>A1</td>\n",
       "      <td>B1</td>\n",
       "      <td>K1</td>\n",
       "      <td>C1</td>\n",
       "      <td>D1</td>\n",
       "    </tr>\n",
       "    <tr>\n",
       "      <th>2</th>\n",
       "      <td>A2</td>\n",
       "      <td>B2</td>\n",
       "      <td>K1</td>\n",
       "      <td>C1</td>\n",
       "      <td>D1</td>\n",
       "    </tr>\n",
       "    <tr>\n",
       "      <th>3</th>\n",
       "      <td>A3</td>\n",
       "      <td>B3</td>\n",
       "      <td>K3</td>\n",
       "      <td>C3</td>\n",
       "      <td>D3</td>\n",
       "    </tr>\n",
       "  </tbody>\n",
       "</table>\n",
       "</div>"
      ],
      "text/plain": [
       "  A_x   B key A_y   D\n",
       "0  A0  B0  K0  C0  D0\n",
       "1  A1  B1  K1  C1  D1\n",
       "2  A2  B2  K1  C1  D1\n",
       "3  A3  B3  K3  C3  D3"
      ]
     },
     "execution_count": 216,
     "metadata": {},
     "output_type": "execute_result"
    }
   ],
   "source": [
    "# inner join on key\n",
    "df1 = pd.DataFrame({'key': ['K0', 'K1', 'K1', 'K3'],  \n",
    "                  'A': ['A0', 'A1', 'A2', 'A3'],    \n",
    "                  'B': ['B0', 'B1', 'B2', 'B3']})   \n",
    "                                                    \n",
    "                                                    \n",
    "df2 = pd.DataFrame({'key': ['K0', 'K1', 'K2', 'K3'], \n",
    "                   'A': ['C0', 'C1', 'C2', 'C3'],   \n",
    "                   'D': ['D0', 'D1', 'D2', 'D3']})  \n",
    "                                                    \n",
    "                                                    \n",
    "result = pd.merge(df1, df2, on='key')               \n",
    "print (df1)\n",
    "print (df2)\n",
    "result"
   ]
  },
  {
   "cell_type": "code",
   "execution_count": 217,
   "metadata": {
    "collapsed": false
   },
   "outputs": [
    {
     "name": "stdout",
     "output_type": "stream",
     "text": [
      "    A   B key1 key2\n",
      "0  A0  B0   K0   K0\n",
      "1  A1  B1   K0   K1\n",
      "2  A2  B2   K1   K0\n",
      "3  A3  B3   K2   K1\n",
      "    C   D key1 key2\n",
      "0  C0  D0   K0   K0\n",
      "1  C1  D1   K1   K0\n",
      "2  C2  D2   K1   K0\n",
      "3  C3  D3   K2   K0\n"
     ]
    },
    {
     "data": {
      "text/html": [
       "<div>\n",
       "<table border=\"1\" class=\"dataframe\">\n",
       "  <thead>\n",
       "    <tr style=\"text-align: right;\">\n",
       "      <th></th>\n",
       "      <th>A</th>\n",
       "      <th>B</th>\n",
       "      <th>key1</th>\n",
       "      <th>key2</th>\n",
       "      <th>C</th>\n",
       "      <th>D</th>\n",
       "    </tr>\n",
       "  </thead>\n",
       "  <tbody>\n",
       "    <tr>\n",
       "      <th>0</th>\n",
       "      <td>A0</td>\n",
       "      <td>B0</td>\n",
       "      <td>K0</td>\n",
       "      <td>K0</td>\n",
       "      <td>C0</td>\n",
       "      <td>D0</td>\n",
       "    </tr>\n",
       "    <tr>\n",
       "      <th>1</th>\n",
       "      <td>A2</td>\n",
       "      <td>B2</td>\n",
       "      <td>K1</td>\n",
       "      <td>K0</td>\n",
       "      <td>C1</td>\n",
       "      <td>D1</td>\n",
       "    </tr>\n",
       "    <tr>\n",
       "      <th>2</th>\n",
       "      <td>A2</td>\n",
       "      <td>B2</td>\n",
       "      <td>K1</td>\n",
       "      <td>K0</td>\n",
       "      <td>C2</td>\n",
       "      <td>D2</td>\n",
       "    </tr>\n",
       "  </tbody>\n",
       "</table>\n",
       "</div>"
      ],
      "text/plain": [
       "    A   B key1 key2   C   D\n",
       "0  A0  B0   K0   K0  C0  D0\n",
       "1  A2  B2   K1   K0  C1  D1\n",
       "2  A2  B2   K1   K0  C2  D2"
      ]
     },
     "execution_count": 217,
     "metadata": {},
     "output_type": "execute_result"
    }
   ],
   "source": [
    "# inner join on (key1 key2)\n",
    "df1 = pd.DataFrame({'key1': ['K0', 'K0', 'K1', 'K2'],       \n",
    "                     'key2': ['K0', 'K1', 'K0', 'K1'],       \n",
    "                     'A': ['A0', 'A1', 'A2', 'A3'],          \n",
    "                     'B': ['B0', 'B1', 'B2', 'B3']})         \n",
    "                                                          \n",
    "                                                          \n",
    "df2 = pd.DataFrame({'key1': ['K0', 'K1', 'K1', 'K2'],      \n",
    "                      'key2': ['K0', 'K0', 'K0', 'K0'],      \n",
    "                      'C': ['C0', 'C1', 'C2', 'C3'],         \n",
    "                      'D': ['D0', 'D1', 'D2', 'D3']})        \n",
    "                                                          \n",
    "                                                          \n",
    "result = pd.merge( df1, df2, \n",
    "                              on=['key1', 'key2'])  \n",
    "\n",
    "print (df1)\n",
    "print (df2)\n",
    "result"
   ]
  },
  {
   "cell_type": "markdown",
   "metadata": {},
   "source": [
    "**left join**``: todas las filas de la tabla izquierda df1 tengan o no correspondencia con la tabla derecha. Las que no tengan correspondencia se rellenan con NaN.``"
   ]
  },
  {
   "cell_type": "code",
   "execution_count": 218,
   "metadata": {
    "collapsed": false
   },
   "outputs": [
    {
     "name": "stdout",
     "output_type": "stream",
     "text": [
      "    A   B key1 key2\n",
      "0  A0  B0   K0   K0\n",
      "1  A1  B1   K0   K1\n",
      "2  A2  B2   K1   K0\n",
      "3  A3  B3   K2   K1\n",
      "    C   D key1 key2\n",
      "0  C0  D0   K0   K0\n",
      "1  C1  D1   K1   K0\n",
      "2  C2  D2   K1   K0\n",
      "3  C3  D3   K2   K0\n"
     ]
    },
    {
     "data": {
      "text/html": [
       "<div>\n",
       "<table border=\"1\" class=\"dataframe\">\n",
       "  <thead>\n",
       "    <tr style=\"text-align: right;\">\n",
       "      <th></th>\n",
       "      <th>A</th>\n",
       "      <th>B</th>\n",
       "      <th>key1</th>\n",
       "      <th>key2</th>\n",
       "      <th>C</th>\n",
       "      <th>D</th>\n",
       "    </tr>\n",
       "  </thead>\n",
       "  <tbody>\n",
       "    <tr>\n",
       "      <th>0</th>\n",
       "      <td>A0</td>\n",
       "      <td>B0</td>\n",
       "      <td>K0</td>\n",
       "      <td>K0</td>\n",
       "      <td>C0</td>\n",
       "      <td>D0</td>\n",
       "    </tr>\n",
       "    <tr>\n",
       "      <th>1</th>\n",
       "      <td>A1</td>\n",
       "      <td>B1</td>\n",
       "      <td>K0</td>\n",
       "      <td>K1</td>\n",
       "      <td>NaN</td>\n",
       "      <td>NaN</td>\n",
       "    </tr>\n",
       "    <tr>\n",
       "      <th>2</th>\n",
       "      <td>A2</td>\n",
       "      <td>B2</td>\n",
       "      <td>K1</td>\n",
       "      <td>K0</td>\n",
       "      <td>C1</td>\n",
       "      <td>D1</td>\n",
       "    </tr>\n",
       "    <tr>\n",
       "      <th>3</th>\n",
       "      <td>A2</td>\n",
       "      <td>B2</td>\n",
       "      <td>K1</td>\n",
       "      <td>K0</td>\n",
       "      <td>C2</td>\n",
       "      <td>D2</td>\n",
       "    </tr>\n",
       "    <tr>\n",
       "      <th>4</th>\n",
       "      <td>A3</td>\n",
       "      <td>B3</td>\n",
       "      <td>K2</td>\n",
       "      <td>K1</td>\n",
       "      <td>NaN</td>\n",
       "      <td>NaN</td>\n",
       "    </tr>\n",
       "  </tbody>\n",
       "</table>\n",
       "</div>"
      ],
      "text/plain": [
       "    A   B key1 key2    C    D\n",
       "0  A0  B0   K0   K0   C0   D0\n",
       "1  A1  B1   K0   K1  NaN  NaN\n",
       "2  A2  B2   K1   K0   C1   D1\n",
       "3  A2  B2   K1   K0   C2   D2\n",
       "4  A3  B3   K2   K1  NaN  NaN"
      ]
     },
     "execution_count": 218,
     "metadata": {},
     "output_type": "execute_result"
    }
   ],
   "source": [
    "result = pd.merge(df1, df2, \n",
    "                              how='left', \n",
    "                              on=['key1', 'key2'])\n",
    "\n",
    "print (df1)\n",
    "print (df2)\n",
    "result"
   ]
  },
  {
   "cell_type": "markdown",
   "metadata": {},
   "source": [
    "**outer join**``: Es la unión de left outer join y right outer join``"
   ]
  },
  {
   "cell_type": "code",
   "execution_count": 219,
   "metadata": {
    "collapsed": false
   },
   "outputs": [
    {
     "data": {
      "text/html": [
       "<div>\n",
       "<table border=\"1\" class=\"dataframe\">\n",
       "  <thead>\n",
       "    <tr style=\"text-align: right;\">\n",
       "      <th></th>\n",
       "      <th>A</th>\n",
       "      <th>B</th>\n",
       "      <th>key1</th>\n",
       "      <th>key2</th>\n",
       "      <th>C</th>\n",
       "      <th>D</th>\n",
       "    </tr>\n",
       "  </thead>\n",
       "  <tbody>\n",
       "    <tr>\n",
       "      <th>0</th>\n",
       "      <td>A0</td>\n",
       "      <td>B0</td>\n",
       "      <td>K0</td>\n",
       "      <td>K0</td>\n",
       "      <td>C0</td>\n",
       "      <td>D0</td>\n",
       "    </tr>\n",
       "    <tr>\n",
       "      <th>1</th>\n",
       "      <td>A1</td>\n",
       "      <td>B1</td>\n",
       "      <td>K0</td>\n",
       "      <td>K1</td>\n",
       "      <td>NaN</td>\n",
       "      <td>NaN</td>\n",
       "    </tr>\n",
       "    <tr>\n",
       "      <th>2</th>\n",
       "      <td>A2</td>\n",
       "      <td>B2</td>\n",
       "      <td>K1</td>\n",
       "      <td>K0</td>\n",
       "      <td>C1</td>\n",
       "      <td>D1</td>\n",
       "    </tr>\n",
       "    <tr>\n",
       "      <th>3</th>\n",
       "      <td>A2</td>\n",
       "      <td>B2</td>\n",
       "      <td>K1</td>\n",
       "      <td>K0</td>\n",
       "      <td>C2</td>\n",
       "      <td>D2</td>\n",
       "    </tr>\n",
       "    <tr>\n",
       "      <th>4</th>\n",
       "      <td>A3</td>\n",
       "      <td>B3</td>\n",
       "      <td>K2</td>\n",
       "      <td>K1</td>\n",
       "      <td>NaN</td>\n",
       "      <td>NaN</td>\n",
       "    </tr>\n",
       "    <tr>\n",
       "      <th>5</th>\n",
       "      <td>NaN</td>\n",
       "      <td>NaN</td>\n",
       "      <td>K2</td>\n",
       "      <td>K0</td>\n",
       "      <td>C3</td>\n",
       "      <td>D3</td>\n",
       "    </tr>\n",
       "  </tbody>\n",
       "</table>\n",
       "</div>"
      ],
      "text/plain": [
       "     A    B key1 key2    C    D\n",
       "0   A0   B0   K0   K0   C0   D0\n",
       "1   A1   B1   K0   K1  NaN  NaN\n",
       "2   A2   B2   K1   K0   C1   D1\n",
       "3   A2   B2   K1   K0   C2   D2\n",
       "4   A3   B3   K2   K1  NaN  NaN\n",
       "5  NaN  NaN   K2   K0   C3   D3"
      ]
     },
     "execution_count": 219,
     "metadata": {},
     "output_type": "execute_result"
    }
   ],
   "source": [
    "result = pd.merge(df1, df2, \n",
    "                              how='outer', \n",
    "                              on=['key1', 'key2'])\n",
    "result"
   ]
  },
  {
   "cell_type": "markdown",
   "metadata": {},
   "source": [
    "#### ``JOIN : Combinación de tablas por índices``\n",
    "\n",
    "``La función join permite combinar dos tablas de dos formas:``\n",
    "\n",
    "* ``índices sobre índices: mantiene la información de los índices.``\n",
    "* ``columnas sobre índices.``\n",
    "\n",
    "``Es posible realizar`` ``**inner_join** ``mediante`` **how = inner**``, **left_join** ``mediante`` **how = left**``,`` **right_join** ``mediante`` **how = right**``.``"
   ]
  },
  {
   "cell_type": "code",
   "execution_count": 220,
   "metadata": {
    "collapsed": false
   },
   "outputs": [
    {
     "name": "stdout",
     "output_type": "stream",
     "text": [
      "      Stars\n",
      "2001      3\n",
      "2002      2\n",
      "2005      5\n",
      "2015      3\n",
      "2016      2\n"
     ]
    },
    {
     "data": {
      "text/html": [
       "<div>\n",
       "<table border=\"1\" class=\"dataframe\">\n",
       "  <thead>\n",
       "    <tr style=\"text-align: right;\">\n",
       "      <th></th>\n",
       "      <th>Chocolat</th>\n",
       "      <th>Coffee</th>\n",
       "      <th>Milk</th>\n",
       "      <th>Price</th>\n",
       "      <th>Water</th>\n",
       "      <th>nuevo_pvp</th>\n",
       "      <th>Stars</th>\n",
       "    </tr>\n",
       "  </thead>\n",
       "  <tbody>\n",
       "    <tr>\n",
       "      <th>2001</th>\n",
       "      <td>No</td>\n",
       "      <td>Espresso</td>\n",
       "      <td>No</td>\n",
       "      <td>0.85</td>\n",
       "      <td>No</td>\n",
       "      <td>0.95</td>\n",
       "      <td>3.0</td>\n",
       "    </tr>\n",
       "    <tr>\n",
       "      <th>2003</th>\n",
       "      <td>No</td>\n",
       "      <td>Long Black</td>\n",
       "      <td>No</td>\n",
       "      <td>0.95</td>\n",
       "      <td>Yes</td>\n",
       "      <td>1.05</td>\n",
       "      <td>NaN</td>\n",
       "    </tr>\n",
       "    <tr>\n",
       "      <th>2002</th>\n",
       "      <td>NaN</td>\n",
       "      <td>Flat White</td>\n",
       "      <td>Yes</td>\n",
       "      <td>0.80</td>\n",
       "      <td>No</td>\n",
       "      <td>0.90</td>\n",
       "      <td>2.0</td>\n",
       "    </tr>\n",
       "    <tr>\n",
       "      <th>2005</th>\n",
       "      <td>Yes</td>\n",
       "      <td>Cappuccino</td>\n",
       "      <td>Yes - Frothy</td>\n",
       "      <td>1.10</td>\n",
       "      <td>No</td>\n",
       "      <td>1.20</td>\n",
       "      <td>5.0</td>\n",
       "    </tr>\n",
       "    <tr>\n",
       "      <th>2010</th>\n",
       "      <td>No</td>\n",
       "      <td>Affogato</td>\n",
       "      <td>No</td>\n",
       "      <td>0.65</td>\n",
       "      <td>No</td>\n",
       "      <td>0.75</td>\n",
       "      <td>NaN</td>\n",
       "    </tr>\n",
       "    <tr>\n",
       "      <th>2015</th>\n",
       "      <td>Yes</td>\n",
       "      <td>Other</td>\n",
       "      <td>NaN</td>\n",
       "      <td>0.50</td>\n",
       "      <td>No</td>\n",
       "      <td>NaN</td>\n",
       "      <td>3.0</td>\n",
       "    </tr>\n",
       "  </tbody>\n",
       "</table>\n",
       "</div>"
      ],
      "text/plain": [
       "     Chocolat      Coffee          Milk  Price Water  nuevo_pvp  Stars\n",
       "2001       No    Espresso            No   0.85    No       0.95    3.0\n",
       "2003       No  Long Black            No   0.95   Yes       1.05    NaN\n",
       "2002      NaN  Flat White           Yes   0.80    No       0.90    2.0\n",
       "2005      Yes  Cappuccino  Yes - Frothy   1.10    No       1.20    5.0\n",
       "2010       No    Affogato            No   0.65    No       0.75    NaN\n",
       "2015      Yes       Other           NaN   0.50    No        NaN    3.0"
      ]
     },
     "execution_count": 220,
     "metadata": {},
     "output_type": "execute_result"
    }
   ],
   "source": [
    "otro_df = pd.DataFrame([3,2,5,3,2], \n",
    "                                columns = ['Stars',],\n",
    "                                index = [2001, 2002, 2005, 2015, 2016])\n",
    "print(otro_df)\n",
    "mi_tabla.join(otro_df)"
   ]
  },
  {
   "cell_type": "markdown",
   "metadata": {},
   "source": [
    "``En el ejemplo anterior se han perdido los datos referentes al índice 2016. Para conservarlos es necesario indicar cómo queremos que se realice la operación`` **join**``. En este caso usaremos`` **how = outer** ``para que se conserven todos los índices.``"
   ]
  },
  {
   "cell_type": "code",
   "execution_count": 221,
   "metadata": {
    "collapsed": false
   },
   "outputs": [
    {
     "data": {
      "text/html": [
       "<div>\n",
       "<table border=\"1\" class=\"dataframe\">\n",
       "  <thead>\n",
       "    <tr style=\"text-align: right;\">\n",
       "      <th></th>\n",
       "      <th>Chocolat</th>\n",
       "      <th>Coffee</th>\n",
       "      <th>Milk</th>\n",
       "      <th>Price</th>\n",
       "      <th>Water</th>\n",
       "      <th>nuevo_pvp</th>\n",
       "      <th>Stars</th>\n",
       "    </tr>\n",
       "  </thead>\n",
       "  <tbody>\n",
       "    <tr>\n",
       "      <th>2001</th>\n",
       "      <td>No</td>\n",
       "      <td>Espresso</td>\n",
       "      <td>No</td>\n",
       "      <td>0.85</td>\n",
       "      <td>No</td>\n",
       "      <td>0.95</td>\n",
       "      <td>3.0</td>\n",
       "    </tr>\n",
       "    <tr>\n",
       "      <th>2002</th>\n",
       "      <td>NaN</td>\n",
       "      <td>Flat White</td>\n",
       "      <td>Yes</td>\n",
       "      <td>0.80</td>\n",
       "      <td>No</td>\n",
       "      <td>0.90</td>\n",
       "      <td>2.0</td>\n",
       "    </tr>\n",
       "    <tr>\n",
       "      <th>2003</th>\n",
       "      <td>No</td>\n",
       "      <td>Long Black</td>\n",
       "      <td>No</td>\n",
       "      <td>0.95</td>\n",
       "      <td>Yes</td>\n",
       "      <td>1.05</td>\n",
       "      <td>NaN</td>\n",
       "    </tr>\n",
       "    <tr>\n",
       "      <th>2005</th>\n",
       "      <td>Yes</td>\n",
       "      <td>Cappuccino</td>\n",
       "      <td>Yes - Frothy</td>\n",
       "      <td>1.10</td>\n",
       "      <td>No</td>\n",
       "      <td>1.20</td>\n",
       "      <td>5.0</td>\n",
       "    </tr>\n",
       "    <tr>\n",
       "      <th>2010</th>\n",
       "      <td>No</td>\n",
       "      <td>Affogato</td>\n",
       "      <td>No</td>\n",
       "      <td>0.65</td>\n",
       "      <td>No</td>\n",
       "      <td>0.75</td>\n",
       "      <td>NaN</td>\n",
       "    </tr>\n",
       "    <tr>\n",
       "      <th>2015</th>\n",
       "      <td>Yes</td>\n",
       "      <td>Other</td>\n",
       "      <td>NaN</td>\n",
       "      <td>0.50</td>\n",
       "      <td>No</td>\n",
       "      <td>NaN</td>\n",
       "      <td>3.0</td>\n",
       "    </tr>\n",
       "    <tr>\n",
       "      <th>2016</th>\n",
       "      <td>NaN</td>\n",
       "      <td>NaN</td>\n",
       "      <td>NaN</td>\n",
       "      <td>NaN</td>\n",
       "      <td>NaN</td>\n",
       "      <td>NaN</td>\n",
       "      <td>2.0</td>\n",
       "    </tr>\n",
       "  </tbody>\n",
       "</table>\n",
       "</div>"
      ],
      "text/plain": [
       "     Chocolat      Coffee          Milk  Price Water  nuevo_pvp  Stars\n",
       "2001       No    Espresso            No   0.85    No       0.95    3.0\n",
       "2002      NaN  Flat White           Yes   0.80    No       0.90    2.0\n",
       "2003       No  Long Black            No   0.95   Yes       1.05    NaN\n",
       "2005      Yes  Cappuccino  Yes - Frothy   1.10    No       1.20    5.0\n",
       "2010       No    Affogato            No   0.65    No       0.75    NaN\n",
       "2015      Yes       Other           NaN   0.50    No        NaN    3.0\n",
       "2016      NaN         NaN           NaN    NaN   NaN        NaN    2.0"
      ]
     },
     "execution_count": 221,
     "metadata": {},
     "output_type": "execute_result"
    }
   ],
   "source": [
    "otro_df = pd.DataFrame(  [3,2,5,3,2], \n",
    "                                columns = ['Stars',],\n",
    "                                index = [2001, 2002, 2005, 2015, 2016])\n",
    "mi_tabla.join(otro_df, how = 'outer')"
   ]
  },
  {
   "cell_type": "markdown",
   "metadata": {},
   "source": [
    "``Ahora veamos un ejemplo de combinación de columnas sobre índices:``"
   ]
  },
  {
   "cell_type": "code",
   "execution_count": 222,
   "metadata": {
    "collapsed": false
   },
   "outputs": [
    {
     "data": {
      "text/html": [
       "<div>\n",
       "<table border=\"1\" class=\"dataframe\">\n",
       "  <thead>\n",
       "    <tr style=\"text-align: right;\">\n",
       "      <th></th>\n",
       "      <th>Val1</th>\n",
       "      <th>Val2</th>\n",
       "    </tr>\n",
       "  </thead>\n",
       "  <tbody>\n",
       "    <tr>\n",
       "      <th>Cappuccino</th>\n",
       "      <td>1</td>\n",
       "      <td>2</td>\n",
       "    </tr>\n",
       "    <tr>\n",
       "      <th>Espresso</th>\n",
       "      <td>3</td>\n",
       "      <td>4</td>\n",
       "    </tr>\n",
       "  </tbody>\n",
       "</table>\n",
       "</div>"
      ],
      "text/plain": [
       "            Val1  Val2\n",
       "Cappuccino     1     2\n",
       "Espresso       3     4"
      ]
     },
     "execution_count": 222,
     "metadata": {},
     "output_type": "execute_result"
    }
   ],
   "source": [
    "otro_df = pd.DataFrame([[1,2],[3,4]], \n",
    "                                columns = ['Val1','Val2'],\n",
    "                                index = ['Cappuccino', 'Espresso'])\n",
    "otro_df"
   ]
  },
  {
   "cell_type": "code",
   "execution_count": 223,
   "metadata": {
    "collapsed": false
   },
   "outputs": [
    {
     "data": {
      "text/html": [
       "<div>\n",
       "<table border=\"1\" class=\"dataframe\">\n",
       "  <thead>\n",
       "    <tr style=\"text-align: right;\">\n",
       "      <th></th>\n",
       "      <th>Chocolat</th>\n",
       "      <th>Coffee</th>\n",
       "      <th>Milk</th>\n",
       "      <th>Price</th>\n",
       "      <th>Water</th>\n",
       "      <th>nuevo_pvp</th>\n",
       "      <th>Val1</th>\n",
       "      <th>Val2</th>\n",
       "    </tr>\n",
       "  </thead>\n",
       "  <tbody>\n",
       "    <tr>\n",
       "      <th>2001</th>\n",
       "      <td>No</td>\n",
       "      <td>Espresso</td>\n",
       "      <td>No</td>\n",
       "      <td>0.85</td>\n",
       "      <td>No</td>\n",
       "      <td>0.95</td>\n",
       "      <td>3.0</td>\n",
       "      <td>4.0</td>\n",
       "    </tr>\n",
       "    <tr>\n",
       "      <th>2003</th>\n",
       "      <td>No</td>\n",
       "      <td>Long Black</td>\n",
       "      <td>No</td>\n",
       "      <td>0.95</td>\n",
       "      <td>Yes</td>\n",
       "      <td>1.05</td>\n",
       "      <td>NaN</td>\n",
       "      <td>NaN</td>\n",
       "    </tr>\n",
       "    <tr>\n",
       "      <th>2002</th>\n",
       "      <td>NaN</td>\n",
       "      <td>Flat White</td>\n",
       "      <td>Yes</td>\n",
       "      <td>0.80</td>\n",
       "      <td>No</td>\n",
       "      <td>0.90</td>\n",
       "      <td>NaN</td>\n",
       "      <td>NaN</td>\n",
       "    </tr>\n",
       "    <tr>\n",
       "      <th>2005</th>\n",
       "      <td>Yes</td>\n",
       "      <td>Cappuccino</td>\n",
       "      <td>Yes - Frothy</td>\n",
       "      <td>1.10</td>\n",
       "      <td>No</td>\n",
       "      <td>1.20</td>\n",
       "      <td>1.0</td>\n",
       "      <td>2.0</td>\n",
       "    </tr>\n",
       "    <tr>\n",
       "      <th>2010</th>\n",
       "      <td>No</td>\n",
       "      <td>Affogato</td>\n",
       "      <td>No</td>\n",
       "      <td>0.65</td>\n",
       "      <td>No</td>\n",
       "      <td>0.75</td>\n",
       "      <td>NaN</td>\n",
       "      <td>NaN</td>\n",
       "    </tr>\n",
       "    <tr>\n",
       "      <th>2015</th>\n",
       "      <td>Yes</td>\n",
       "      <td>Other</td>\n",
       "      <td>NaN</td>\n",
       "      <td>0.50</td>\n",
       "      <td>No</td>\n",
       "      <td>NaN</td>\n",
       "      <td>NaN</td>\n",
       "      <td>NaN</td>\n",
       "    </tr>\n",
       "  </tbody>\n",
       "</table>\n",
       "</div>"
      ],
      "text/plain": [
       "     Chocolat      Coffee          Milk  Price Water  nuevo_pvp  Val1  Val2\n",
       "2001       No    Espresso            No   0.85    No       0.95   3.0   4.0\n",
       "2003       No  Long Black            No   0.95   Yes       1.05   NaN   NaN\n",
       "2002      NaN  Flat White           Yes   0.80    No       0.90   NaN   NaN\n",
       "2005      Yes  Cappuccino  Yes - Frothy   1.10    No       1.20   1.0   2.0\n",
       "2010       No    Affogato            No   0.65    No       0.75   NaN   NaN\n",
       "2015      Yes       Other           NaN   0.50    No        NaN   NaN   NaN"
      ]
     },
     "execution_count": 223,
     "metadata": {},
     "output_type": "execute_result"
    }
   ],
   "source": [
    "# Los valores de la columna Coffee hacen la función de índices del dataframe\n",
    "mi_tabla.join(otro_df, on = 'Coffee', how = 'outer')"
   ]
  },
  {
   "cell_type": "code",
   "execution_count": null,
   "metadata": {
    "collapsed": true
   },
   "outputs": [],
   "source": []
  }
 ],
 "metadata": {
  "kernelspec": {
   "display_name": "Python 3",
   "language": "python",
   "name": "python3"
  },
  "language_info": {
   "codemirror_mode": {
    "name": "ipython",
    "version": 3
   },
   "file_extension": ".py",
   "mimetype": "text/x-python",
   "name": "python",
   "nbconvert_exporter": "python",
   "pygments_lexer": "ipython3",
   "version": "3.6.0"
  }
 },
 "nbformat": 4,
 "nbformat_minor": 2
}
