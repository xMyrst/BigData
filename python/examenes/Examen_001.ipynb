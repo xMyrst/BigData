{
 "cells": [
  {
   "cell_type": "markdown",
   "metadata": {},
   "source": [
    "![logo_python3](https://www.python.org/static/img/python-logo.png \"Logo Python3\")\n",
    "# ``Examen``"
   ]
  },
  {
   "cell_type": "markdown",
   "metadata": {},
   "source": [
    "1. b\n",
    "2. c\n",
    "3. a\n",
    "4. c\n",
    "5. c\n",
    "6. b\n",
    "7. c\n",
    "8. a"
   ]
  },
  {
   "cell_type": "code",
   "execution_count": 180,
   "metadata": {
    "collapsed": false
   },
   "outputs": [
    {
     "name": "stdout",
     "output_type": "stream",
     "text": [
      "1 x 7 =  7\n",
      "2 x 7 =  14\n",
      "3 x 7 =  21\n",
      "4 x 7 =  28\n",
      "5 x 7 =  35\n",
      "6 x 7 =  42\n",
      "7 x 7 =  49\n",
      "8 x 7 =  56\n",
      "9 x 7 =  63\n",
      "10 x 7 =  70\n"
     ]
    }
   ],
   "source": [
    "# Ejercicio 9\n",
    "tabla = [(x, x*7) for x in range(1,11)]\n",
    "for x, y in tabla:\n",
    "    print(x,\"x 7 = \",y)"
   ]
  },
  {
   "cell_type": "code",
   "execution_count": 186,
   "metadata": {
    "collapsed": false
   },
   "outputs": [
    {
     "name": "stdout",
     "output_type": "stream",
     "text": [
      "7: SI es múltiplo\n"
     ]
    },
    {
     "data": {
      "text/plain": [
       "[7, 14, 21, 28, 35, 42, 49, 56, 63, 70]"
      ]
     },
     "execution_count": 186,
     "metadata": {},
     "output_type": "execute_result"
    }
   ],
   "source": [
    "# Ejercicio 10\n",
    "tabla = [x*7 for x in range(1,11)]\n",
    "def multiplo_de_siete_v1(n):\n",
    "    if n in tabla:\n",
    "        print(str(n)+': SI es múltiplo')\n",
    "    else:\n",
    "        print(str(n)+': NO es múltiplo')\n",
    "    return\n",
    "multiplo_de_siete_v1(7)\n",
    "tabla"
   ]
  },
  {
   "cell_type": "code",
   "execution_count": 177,
   "metadata": {
    "collapsed": false
   },
   "outputs": [
    {
     "name": "stdout",
     "output_type": "stream",
     "text": [
      "875: SI es múltiplo\n"
     ]
    }
   ],
   "source": [
    "# Ejercicio 11\n",
    "def multiplo_de_siete_v2(n):\n",
    "    if n % 7 == 0:\n",
    "        print(str(n)+': SI es múltiplo')\n",
    "    else:\n",
    "        print(str(n)+': NO es múltiplo')\n",
    "    return\n",
    "multiplo_de_siete_v2(875)"
   ]
  },
  {
   "cell_type": "code",
   "execution_count": null,
   "metadata": {
    "collapsed": true
   },
   "outputs": [],
   "source": []
  }
 ],
 "metadata": {
  "kernelspec": {
   "display_name": "Python 3",
   "language": "python",
   "name": "python3"
  },
  "language_info": {
   "codemirror_mode": {
    "name": "ipython",
    "version": 3
   },
   "file_extension": ".py",
   "mimetype": "text/x-python",
   "name": "python",
   "nbconvert_exporter": "python",
   "pygments_lexer": "ipython3",
   "version": "3.6.0"
  }
 },
 "nbformat": 4,
 "nbformat_minor": 2
}
