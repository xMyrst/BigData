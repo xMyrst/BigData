{
 "cells": [
  {
   "cell_type": "markdown",
   "metadata": {},
   "source": [
    "# Ejercicios 5"
   ]
  },
  {
   "cell_type": "markdown",
   "metadata": {},
   "source": [
    "#### 1 Ejercicio"
   ]
  },
  {
   "cell_type": "markdown",
   "metadata": {},
   "source": [
    "Dado el diccionario de las ciudades más pobladas de Italia __ciudades__:\n",
    "\n",
    "d =  { 1: 'Roma', 2: 'Milán', 3:'Nápoles', 4:'Turín', 5:'Palermo' ,6: 'Génova',\n",
    "      7:'Bolonia', 8:'Florencia', 9:'Bari', 10:'Catania'}\n",
    "      \n",
    "y la lista __pob__ que contiene información de la cantidad de población en cada ciudad:\n",
    "\n",
    "pob =  [2718768, 1299633, 973132, 908263, 663173, 610887, 372256, 364710, 322511, 298957]\n",
    "\n",
    "* crea un nuevo diccionario donde cada elemento sea de la forma\n",
    "\n",
    "__i: [ciudad,poblacion]__\n",
    "\n",
    "__Nota__: Utiliza listas por comprensión. La función __enumerate__ también te puede ayudar."
   ]
  },
  {
   "cell_type": "code",
   "execution_count": 15,
   "metadata": {
    "collapsed": false
   },
   "outputs": [
    {
     "data": {
      "text/plain": [
       "{1: ['Roma', 2718768],\n",
       " 2: ['Milán', 1299633],\n",
       " 3: ['Nápoles', 973132],\n",
       " 4: ['Turín', 908263],\n",
       " 5: ['Palermo', 663173],\n",
       " 6: ['Génova', 610887],\n",
       " 7: ['Bolonia', 372256],\n",
       " 8: ['Florencia', 364710],\n",
       " 9: ['Bari', 322511],\n",
       " 10: ['Catania', 298957]}"
      ]
     },
     "execution_count": 15,
     "metadata": {},
     "output_type": "execute_result"
    }
   ],
   "source": [
    "pob = [2718768, 1299633, 973132, 908263, 663173, 610887, 372256, 364710, 322511, 298957]\n",
    "d = { 1: 'Roma', 2: 'Milán', 3:'Nápoles', 4:'Turín', 5:'Palermo' ,6: 'Génova', 7:'Bolonia', 8:'Florencia', 9:'Bari', 10:'Catania'}\n",
    "# Sol\n",
    "# El primer elemento ha de ser 1: ['Roma', 2718768]\n",
    "cpob = { i : [ ciudad, pob[ i - 1 ] ] for i, ciudad in d.items() }\n",
    "cpob"
   ]
  },
  {
   "cell_type": "markdown",
   "metadata": {},
   "source": [
    "#### 2 Ejercicio\n",
    "\n",
    "Los 15 primeros números triangulares son:\n",
    "\n",
    "$$\n",
    "[0, 1, 3, 6, 10, 15, 21, 28, 36, 45, 55, 66, 78, 91, 105]\n",
    "$$\n",
    "\n",
    "Define una función __triang_1__ que reciba un número entero positivo $n$ como parámetro y genere la lista de los $n$ primeros números triangulares. Resuelve el problema aplicando la fórmula $a_n = n * (n + 1) / 2$. Utiliza listas por comprensión.\n"
   ]
  },
  {
   "cell_type": "code",
   "execution_count": 4,
   "metadata": {
    "collapsed": false
   },
   "outputs": [
    {
     "data": {
      "text/plain": [
       "[0, 1, 3]"
      ]
     },
     "execution_count": 4,
     "metadata": {},
     "output_type": "execute_result"
    }
   ],
   "source": [
    "# Sol:\n",
    "def triang_3(n):\n",
    "    return [int(i*(i+1)/2) for i in range(n)]\n",
    "triang_3(3)"
   ]
  },
  {
   "cell_type": "markdown",
   "metadata": {},
   "source": [
    "<a rel=\"license\" href=\"http://creativecommons.org/licenses/by-nc-sa/4.0/\"><img alt=\"Licencia Creative Commons\" style=\"border-width:0\" src=\"https://i.creativecommons.org/l/by-nc-sa/4.0/88x31.png\" /></a><br />"
   ]
  }
 ],
 "metadata": {
  "kernelspec": {
   "display_name": "Python 3",
   "language": "python",
   "name": "python3"
  },
  "language_info": {
   "codemirror_mode": {
    "name": "ipython",
    "version": 3
   },
   "file_extension": ".py",
   "mimetype": "text/x-python",
   "name": "python",
   "nbconvert_exporter": "python",
   "pygments_lexer": "ipython3",
   "version": "3.6.0"
  }
 },
 "nbformat": 4,
 "nbformat_minor": 0
}
