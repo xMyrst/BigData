{
 "cells": [
  {
   "cell_type": "markdown",
   "metadata": {},
   "source": [
    "# Ejercicios 7"
   ]
  },
  {
   "cell_type": "markdown",
   "metadata": {},
   "source": [
    "#### 1 Ejercicio"
   ]
  },
  {
   "cell_type": "markdown",
   "metadata": {},
   "source": [
    "* Crear un array de tamaño 20 donde todos los elementos estén inicializados a cero. Por favor llámalo __a__."
   ]
  },
  {
   "cell_type": "code",
   "execution_count": 6,
   "metadata": {
    "collapsed": false
   },
   "outputs": [
    {
     "data": {
      "text/plain": [
       "array([0, 0, 0, 0, 0, 0, 0, 0, 0, 0, 0, 0, 0, 0, 0, 0, 0, 0, 0, 0])"
      ]
     },
     "execution_count": 6,
     "metadata": {},
     "output_type": "execute_result"
    }
   ],
   "source": [
    "# Sol:\n",
    "import numpy as np\n",
    "a = np.zeros(20, dtype=int)\n",
    "a"
   ]
  },
  {
   "cell_type": "markdown",
   "metadata": {},
   "source": [
    "* Escribe una expresión Python para cambiar el valor de  los primeros 5 elementos; el nuevo valor es 10."
   ]
  },
  {
   "cell_type": "code",
   "execution_count": 7,
   "metadata": {
    "collapsed": false
   },
   "outputs": [
    {
     "data": {
      "text/plain": [
       "array([10, 10, 10, 10, 10,  0,  0,  0,  0,  0,  0,  0,  0,  0,  0,  0,  0,\n",
       "        0,  0,  0])"
      ]
     },
     "execution_count": 7,
     "metadata": {},
     "output_type": "execute_result"
    }
   ],
   "source": [
    "# Sol:\n",
    "a[:5] = 10\n",
    "a"
   ]
  },
  {
   "cell_type": "markdown",
   "metadata": {},
   "source": [
    "* Modifica los siguientes 10 valores. Los nuevos valores serán el resultado de la secuencia de números pares comenzando por el 12. Utiliza la función __arange__."
   ]
  },
  {
   "cell_type": "code",
   "execution_count": 20,
   "metadata": {
    "collapsed": false
   },
   "outputs": [
    {
     "data": {
      "text/plain": [
       "array([10, 10, 10, 10, 10, 12, 14, 16, 18, 20, 22, 24, 26, 28, 30,  0,  0,\n",
       "        0,  0,  0])"
      ]
     },
     "execution_count": 20,
     "metadata": {},
     "output_type": "execute_result"
    }
   ],
   "source": [
    "# Sol:\n",
    "a[5:15] = np.arange(12,32,2)\n",
    "a"
   ]
  },
  {
   "cell_type": "markdown",
   "metadata": {},
   "source": [
    "* Modifica el valor de los últimos 5 elementos. Su nuevo valor es 30."
   ]
  },
  {
   "cell_type": "code",
   "execution_count": 21,
   "metadata": {
    "collapsed": false
   },
   "outputs": [
    {
     "data": {
      "text/plain": [
       "array([10, 10, 10, 10, 10, 12, 14, 16, 18, 20, 22, 24, 26, 28, 30, 30, 30,\n",
       "       30, 30, 30])"
      ]
     },
     "execution_count": 21,
     "metadata": {},
     "output_type": "execute_result"
    }
   ],
   "source": [
    "# Sol:\n",
    "a[-5:] = 30\n",
    "a"
   ]
  },
  {
   "cell_type": "markdown",
   "metadata": {},
   "source": [
    "* Ahora ejecuta las siguientes líneas de código. Vamos a dibujar el array __a__ que has creado ..."
   ]
  },
  {
   "cell_type": "code",
   "execution_count": 27,
   "metadata": {
    "collapsed": false
   },
   "outputs": [
    {
     "data": {
      "text/plain": [
       "(5, 35)"
      ]
     },
     "execution_count": 27,
     "metadata": {},
     "output_type": "execute_result"
    },
    {
     "data": {
      "image/png": "[encoded data removed]",
      "text/plain": [
       "<matplotlib.figure.Figure at 0x1f4eb425828>"
      ]
     },
     "metadata": {},
     "output_type": "display_data"
    }
   ],
   "source": [
    "import matplotlib.pyplot as plt\n",
    "import numpy as np\n",
    "%matplotlib inline\n",
    "\n",
    "x = np.arange(20)    # eje x\n",
    "y = a                # eje y\n",
    "plt.plot(x,y)\n",
    "plt.ylim(5,35)       # rango del eje y"
   ]
  },
  {
   "cell_type": "markdown",
   "metadata": {},
   "source": [
    "* Ahora vamos a añadir una línea adicional desde el punto (4,0) al punto (4,40)"
   ]
  },
  {
   "cell_type": "code",
   "execution_count": 29,
   "metadata": {
    "collapsed": false
   },
   "outputs": [
    {
     "data": {
      "text/plain": [
       "[<matplotlib.lines.Line2D at 0x1f4eb3fd8d0>]"
      ]
     },
     "execution_count": 29,
     "metadata": {},
     "output_type": "execute_result"
    },
    {
     "data": {
      "image/png": "[encoded data removed]",
      "text/plain": [
       "<matplotlib.figure.Figure at 0x1f4eb3fd1d0>"
      ]
     },
     "metadata": {},
     "output_type": "display_data"
    }
   ],
   "source": [
    "x = np.arange(20)    # eje x\n",
    "y = a                # eje y\n",
    "plt.plot(x,y)\n",
    "plt.ylim(5,35)       # rango dele eje y\n",
    "plt.plot([4,4],[0,40], 'k--')"
   ]
  },
  {
   "cell_type": "markdown",
   "metadata": {},
   "source": [
    "#### 2 Ejercicio"
   ]
  },
  {
   "cell_type": "markdown",
   "metadata": {},
   "source": [
    "El archivo de texto [holland_temperature.dat](./datos/holland_temperature.dat) recoge datos de las diferentes temperaturas registradas en Holanda en los últimos 12 meses.\n",
    "\n",
    "---\n",
    "* Calcula la media de las temperaturas.\n",
    "    * Descarga el fichero [holland_temperature.dat](./datos/holland_temperature.dat) en tu directorio de trabajo.\n",
    "    * Carga los datos en un array llamado __temperatura__ mediante la función __loadtxt__.\n",
    "    \n",
    "__Nota__: La media es 10.125."
   ]
  },
  {
   "cell_type": "code",
   "execution_count": 72,
   "metadata": {
    "collapsed": false
   },
   "outputs": [
    {
     "data": {
      "text/plain": [
       "10.125"
      ]
     },
     "execution_count": 72,
     "metadata": {},
     "output_type": "execute_result"
    }
   ],
   "source": [
    "# Sol:\n",
    "a = np.loadtxt('../datos/holland_temperature.dat', dtype=str('float'))\n",
    "media = np.sum(a)/len(a)\n",
    "media"
   ]
  },
  {
   "cell_type": "markdown",
   "metadata": {},
   "source": [
    "------\n",
    "* Nos interesa conocer los meses del año donde la temperatura ha sido superior a la media.\n",
    "    * Crear un array de meses [1,...,12]. Usa la función __arange__. \n",
    "    * Escribir la expresión que devuelve los meses donde la temperatura ha sido superior a la media usando como máscara un array de booleanos.\n",
    "    \n",
    "__Nota__: La solución es: [5,  6,  7,  8,  9, 10]"
   ]
  },
  {
   "cell_type": "code",
   "execution_count": null,
   "metadata": {
    "collapsed": false
   },
   "outputs": [],
   "source": [
    "# Sol:\n"
   ]
  },
  {
   "cell_type": "markdown",
   "metadata": {},
   "source": [
    "-------\n",
    "* Queremos saber qué mes ha estado más cerca de la media. Para ello calcula el array de diferencias con respecto a la media. Luego utiliza la función __argmin__ de Numpy para calcular el índice del array que contiene el mínimo valor.\n",
    "\n",
    "__Nota__: la solución es: 'El mes más cercano a los 10.12 grados es el mes 9'"
   ]
  },
  {
   "cell_type": "code",
   "execution_count": null,
   "metadata": {
    "collapsed": false
   },
   "outputs": [],
   "source": [
    "# Sol:\n"
   ]
  },
  {
   "cell_type": "markdown",
   "metadata": {},
   "source": [
    "* Ahora ejecuta las siguientes líneas de código."
   ]
  },
  {
   "cell_type": "code",
   "execution_count": null,
   "metadata": {
    "collapsed": false
   },
   "outputs": [],
   "source": [
    "media = temperatura.mean()\n",
    "\n",
    "x = np.arange(12)\n",
    "y = temperatura\n",
    "plt.plot(x , y)    # curva de temperaturas\n",
    "plt.plot(x , np.ones(12)* media, 'k--')     # recta par la media\n",
    "\n",
    "plt.ylim(0,temperatura.max() + 2)\n",
    "\n",
    "plt.xticks(np.arange(12),['E','F','M','A','M','J','J','A','S','O','N','D'])\n",
    "plt.xlim(-0.5,11.5)\n",
    "\n",
    "plt.legend(['Temperatura','Media'],loc='best');"
   ]
  },
  {
   "cell_type": "markdown",
   "metadata": {},
   "source": [
    "#### 3 Ejercicio"
   ]
  },
  {
   "cell_type": "markdown",
   "metadata": {},
   "source": [
    "El archivo [WordPhones](./datos/WorldPhones.txt) \n",
    "recoge información acerca del número de teléfonos en varias regiones del mundo (en miles).\n",
    "\n",
    "Se trata de un array multidimensional de tamaño $7$ x $7$.\n",
    "- Cada columna se corresponde con una región del mundo. Las regiones son:\n",
    "[\"N.Amer\",\"Europe\",\"Asia\",\"S.Amer\",\"Oceania\",\"Africa\",\"Mid.Amer\"]\n",
    "\n",
    "- Cada fila se corresponde con un año. Los años son: \n",
    "[1951, 1956, 1957, 1958, 1959, 1960, 1961]\n",
    "\n",
    "-----\n",
    "\n",
    "* Escribir la expresión Python que recoja los datos del año 1960\n",
    "    * Primero descarga el archivo [WordPhones](./datos/WorldPhones.txt) en tu directorio de trabajo.\n",
    "    * Carga los datos en una variable llamada __datos__ mediante la función __loadtxt__.\n",
    "    * Crea un array de tamaño 7 con los distintos años llamado __years__\n",
    "    * Escribe la expresión Python para seleccionar la fila que se corresponde con el año 1960 (Utiliza como filtro un array de booleanos)."
   ]
  },
  {
   "cell_type": "code",
   "execution_count": 3,
   "metadata": {
    "collapsed": false
   },
   "outputs": [],
   "source": [
    "#Sol: "
   ]
  },
  {
   "cell_type": "markdown",
   "metadata": {},
   "source": [
    "-------------\n",
    "* Escribir la expresión Python que recoja los datos de la región 'Europe'\n",
    "    * Primero crea un array de tamaño 7 con las distintas regiones llamado __regiones__.\n",
    "    * Calcula la transpuesta de la matriz donde se encuentran almacenados los datos.\n",
    "    * Escribe la expresión Python para almacenar en la variable __datos_europa__  la fila que se corresponde con el la región \"Europe\". "
   ]
  },
  {
   "cell_type": "code",
   "execution_count": null,
   "metadata": {
    "collapsed": false
   },
   "outputs": [],
   "source": [
    "# Sol:\n",
    "regiones = np.array([\"N.Amer\",\"Europe\",\"Asia\",\"S.Amer\",\"Oceania\",\"Africa\",\"Mid.Amer\"])\n"
   ]
  },
  {
   "cell_type": "markdown",
   "metadata": {
    "collapsed": true
   },
   "source": [
    "* Ahora representa en una gráfica la evolución que ha tenido \"Europe\" entre los años 1951 y 1961. Ejecuta el siguiente bloque de código."
   ]
  },
  {
   "cell_type": "code",
   "execution_count": null,
   "metadata": {
    "collapsed": false
   },
   "outputs": [],
   "source": [
    "import matplotlib.pyplot as plt\n",
    "import numpy as np\n",
    "%matplotlib inline\n",
    "\n",
    "plt.plot(years,datos_europa[0])\n",
    "plt.xlabel('Meses')\n",
    "plt.ylabel('Cantidad de telefonos')\n",
    "plt.title('Datos Europe')"
   ]
  },
  {
   "cell_type": "markdown",
   "metadata": {},
   "source": [
    "-----\n",
    "* Nos interesa conocer la región con menos cantidad de móviles y el año.\n",
    "    * Calcular el mínimo por filas en el array __minimo_filas__\n",
    "    * Calcular el mínimo por columnas en el array __minimo_columnas__\n",
    "    * Calcular la posición __f__del mínimo valor en  el array __minimo_filas__. Utiliza la función __argmin__.\n",
    "    * Calcular la posición __c__del mínimo valor en  el array __minimo_columnas__. Utiliza la función __argmin__.\n"
   ]
  },
  {
   "cell_type": "code",
   "execution_count": null,
   "metadata": {
    "collapsed": false
   },
   "outputs": [],
   "source": [
    "# Sol: \n"
   ]
  },
  {
   "cell_type": "markdown",
   "metadata": {},
   "source": [
    "* Ahora representa en una gráfica la evolución que ha tenido \"Europe\"  y \"Africa\" entre los años 1956 y 1960. Ejecuta el siguiente bloque de código."
   ]
  },
  {
   "cell_type": "code",
   "execution_count": null,
   "metadata": {
    "collapsed": false
   },
   "outputs": [],
   "source": [
    "x = np.arange(1,8)\n",
    "europa = datos.T[regiones == \"Europe\" ]\n",
    "africa = datos.T[regiones == \"Africa\" ]\n",
    "plt.plot( x, europa[0] )\n",
    "plt.plot( x, africa[0] )\n",
    "plt.xticks(np.arange(1,8), years)\n",
    "plt.xlabel('Years')\n",
    "plt.ylabel('Cantidad de telefonos')\n",
    "plt.xlim(0.5,7.5)\n",
    "plt.title('Comparativa Europa - Africa')\n",
    "\n",
    "plt.legend(['Europa','Africa'],loc='best');"
   ]
  },
  {
   "cell_type": "markdown",
   "metadata": {},
   "source": [
    "* Podemos representar todos los países. Ejecuta el siguiente bloque de código."
   ]
  },
  {
   "cell_type": "code",
   "execution_count": null,
   "metadata": {
    "collapsed": false
   },
   "outputs": [],
   "source": [
    "\n",
    "x = np.arange(1,8)\n",
    "for i in regiones:\n",
    "    reg = datos.T[regiones == i ]\n",
    "    plt.plot( x, reg[0] )\n",
    "    \n",
    "plt.xticks(np.arange(1,8), years)    \n",
    "\n",
    "plt.xlabel('Years')\n",
    "plt.ylabel('Cantidad de telefonos')\n",
    "plt.xlim(0.5,7.5)\n",
    "plt.ylim(datos.min() - 1000, datos.max() + 1000)\n",
    "plt.title('Comparativa todas las regiones')\n",
    "\n",
    "plt.legend(regiones,loc='best');"
   ]
  },
  {
   "cell_type": "markdown",
   "metadata": {},
   "source": [
    "# References\n",
    "\n"
   ]
  },
  {
   "cell_type": "markdown",
   "metadata": {},
   "source": [
    "[Exploratory computing with python](http://nbviewer.ipython.org/github/mbakker7/exploratory_computing_with_python/tree/master/)\n",
    "\n",
    "------"
   ]
  },
  {
   "cell_type": "markdown",
   "metadata": {},
   "source": [
    "<a rel=\"license\" href=\"http://creativecommons.org/licenses/by-nc-sa/4.0/\"><img alt=\"Licencia Creative Commons\" style=\"border-width:0\" src=\"https://i.creativecommons.org/l/by-nc-sa/4.0/88x31.png\" /></a><br />"
   ]
  }
 ],
 "metadata": {
  "kernelspec": {
   "display_name": "Python 3",
   "language": "python",
   "name": "python3"
  },
  "language_info": {
   "codemirror_mode": {
    "name": "ipython",
    "version": 3
   },
   "file_extension": ".py",
   "mimetype": "text/x-python",
   "name": "python",
   "nbconvert_exporter": "python",
   "pygments_lexer": "ipython3",
   "version": "3.6.0"
  }
 },
 "nbformat": 4,
 "nbformat_minor": 0
}
