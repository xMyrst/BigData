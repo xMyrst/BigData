{
 "cells": [
  {
   "cell_type": "markdown",
   "metadata": {},
   "source": [
    "#  Ejercicios 2"
   ]
  },
  {
   "cell_type": "markdown",
   "metadata": {},
   "source": [
    "#### 1 Ejercicio"
   ]
  },
  {
   "cell_type": "markdown",
   "metadata": {},
   "source": [
    "Escribir una función que reciba como parámetro una lista de elementos y devuelva el valor _True_ si la lista posee elementos y _False_ en caso contrario."
   ]
  },
  {
   "cell_type": "code",
   "execution_count": 2,
   "metadata": {
    "collapsed": false
   },
   "outputs": [
    {
     "name": "stdout",
     "output_type": "stream",
     "text": [
      "False\n",
      "True\n"
     ]
    }
   ],
   "source": [
    "def tieneElementos(milista):\n",
    "    return len(milista) > 0\n",
    "print(tieneElementos([]))\n",
    "print(tieneElementos([1, 3, 96]))"
   ]
  },
  {
   "cell_type": "markdown",
   "metadata": {},
   "source": [
    "#### 2 Ejercicio"
   ]
  },
  {
   "cell_type": "markdown",
   "metadata": {},
   "source": [
    "Dada la lista $L = [ 1, 2, 3, 4, 5, 6, 7, 8, 9 ]$, escribe expresiones en Python que produzcan los siguientes resultados:\n",
    "\n",
    "1. El primer elemento de la lista.\n",
    "2. El último elemento de la lista (Sin conocer la longitud de la lista).\n",
    "3. La sublista con los dos últimos elementos. (Sol: [8, 9])\n",
    "4. La sublista de los elementos que ocupan posiciones pares. (Sol: [1, 3, 5, 7, 9])\n",
    "4. La sublista de los elementos que ocupan posiciones impares. (Sol: [2, 4, 6, 8])"
   ]
  },
  {
   "cell_type": "code",
   "execution_count": 28,
   "metadata": {
    "collapsed": false
   },
   "outputs": [
    {
     "name": "stdout",
     "output_type": "stream",
     "text": [
      "1\n",
      "9\n",
      "8 9\n",
      "[8, 9]\n",
      "\n",
      "[1, 3, 5, 7, 9]\n",
      "[2, 4, 6, 8]\n",
      "\n",
      "8\n"
     ]
    }
   ],
   "source": [
    "# Sol: \n",
    "l = [ 1, 2, 3, 4, 5, 6, 7, 8, 9 ]\n",
    "print(l[0])\n",
    "print(l[-1])\n",
    "print(l[-2], l[-1])\n",
    "print(l[-2:])\n",
    "print()\n",
    "print(l[::2])\n",
    "print(l[1::2])\n",
    "print()\n",
    "print(len(l)-1)"
   ]
  },
  {
   "cell_type": "markdown",
   "metadata": {},
   "source": [
    "#### 3 Ejercicio"
   ]
  },
  {
   "cell_type": "markdown",
   "metadata": {},
   "source": [
    "Dada una lista de enteros $a$ y un número entero $n$, define:\n",
    "1. una función que calcule el número de veces que se repite $n$ en $a$.\n",
    "2. una función que calcule el porcentaje de veces que se repite $n$ en $a$.\n",
    "\n",
    "_Nota_: utiliza los métodos __len__ y __count__. \n",
    "* Puedes ejecutar __list.count?__ para obtener ayuda del método __count__.\n",
    "* Puedes ejecutar __help(list.count)__ para obtener ayuda del método __count__."
   ]
  },
  {
   "cell_type": "code",
   "execution_count": 30,
   "metadata": {
    "collapsed": false
   },
   "outputs": [
    {
     "name": "stdout",
     "output_type": "stream",
     "text": [
      "El número 4 se repite 3 veces en la lista [1, 2, 3, 4, 5, 6, 7, 8, 9, 0, 2, 4, 6, 8, 1, 4]\n",
      "Lo que supone un 18.75 %\n"
     ]
    }
   ],
   "source": [
    "# Sol:\n",
    "# Definimos la lista 'a'\n",
    "a = [1, 2, 3, 4, 5, 6, 7, 8, 9, 0, 2, 4, 6, 8, 1, 4]\n",
    "# Definimos la función 'repeticiones()' tomando como base los valores de la lista 'a'\n",
    "def repeticiones(a):\n",
    "# mediante a.count(valor) recorremos la lista 'a' para comproobar cuantas veces se repite un valor determinado\n",
    "    return a.count(4)\n",
    "# Mostramos el resultado\n",
    "print('El número 4 se repite',repeticiones(a),'veces en la lista',a)\n",
    "\n",
    "# En base a la lista 'a' antes definida, pasamos a averiguar el nº de elementos de la lista para calcular\n",
    "# que porcentaje de veces se repite el número 'n'\n",
    "def porcentaje(a):\n",
    "    nelementos = len(a)\n",
    "    nrepeticiones = a.count(4)\n",
    "    return nrepeticiones / nelementos * 100\n",
    "print(\"Lo que supone un\",porcentaje(a),'%')\n",
    "\n",
    "\n",
    "# el 4 se repite 3 veces en la lista [1, 2, 3, 4, 5, 6, 7, 8, 9, 0, 2, 4, 6, 8, 1, 4]\n",
    "# lo que supone un  18.75 % \n"
   ]
  },
  {
   "cell_type": "markdown",
   "metadata": {},
   "source": [
    "#### 4 Ejercicio"
   ]
  },
  {
   "cell_type": "markdown",
   "metadata": {},
   "source": [
    "Utiliza la función __range__  para generar listas de elementos. \n",
    "Genera de forma automática las siguientes lista:  [10, 20, 30, 40, 50, 60, 70, 80, 90]\n"
   ]
  },
  {
   "cell_type": "code",
   "execution_count": 33,
   "metadata": {
    "collapsed": false
   },
   "outputs": [
    {
     "data": {
      "text/plain": [
       "[10, 20, 30, 40, 50, 60, 70, 80, 90]"
      ]
     },
     "execution_count": 33,
     "metadata": {},
     "output_type": "execute_result"
    }
   ],
   "source": [
    "# Sol:\n",
    "# Creamos una variable 'lista' cuyo rango empieza en 10 y acaba en 100, con un salto de 10.\n",
    "# Su expresión matemática sería [10,100) donde se incluye el 10(inicio), pero no el 100(fin)\n",
    "# de ahí que se muestre [10, 20, 30, 40, 50, 60, 70, 80, 90]\n",
    "lista = range(10,100,10)\n",
    "list(lista)"
   ]
  },
  {
   "cell_type": "markdown",
   "metadata": {},
   "source": [
    "#### 5 Ejercicio"
   ]
  },
  {
   "cell_type": "markdown",
   "metadata": {},
   "source": [
    "El método __upper__ del tipo __string__ genera una nueva cadena de caracteres, donde todos los caracteres son mayúsculas.\n",
    "Dada la siguiente cadena:\n",
    "\n",
    "'Hola, me llamo Iñigo Montoya, tú mataste a mi padre. ... Prepárate a morir'\n",
    "\n",
    "* Genera la cadena en mayúsculas\n",
    "* Ejecuta el método __split__. ¿Qué hace?\n",
    "* Escribe la expresión Python que calcula el número de palabras de la cadena.\n",
    "* Ejecuta el método __lower__.\n",
    "* Ejecuta el método __title__.\n",
    "* Ejecuta __dir(str)__ para listar los métodos disponibles."
   ]
  },
  {
   "cell_type": "code",
   "execution_count": 44,
   "metadata": {
    "collapsed": false
   },
   "outputs": [
    {
     "name": "stdout",
     "output_type": "stream",
     "text": [
      "HOLA, ME LLAMO IÑIGO MONTOYA, TÚ MATASTE A MI PADRE ...PREPÁRATE A MORIR!\n",
      "hola, me llamo iñigo montoya, tú mataste a mi padre ...prepárate a morir!\n"
     ]
    },
    {
     "data": {
      "text/plain": [
       "('Hola, me llamo Iñigo Montoya, tú mataste a mi padre ...Prepárate a morir!',\n",
       " 'HOLA, ME LLAMO IÑIGO MONTOYA, TÚ MATASTE A MI PADRE ...PREPÁRATE A MORIR!')"
      ]
     },
     "execution_count": 44,
     "metadata": {},
     "output_type": "execute_result"
    }
   ],
   "source": [
    "# Sol: \n",
    "# Definimos la cadena como 's'\n",
    "s = 'Hola, me llamo Iñigo Montoya, tú mataste a mi padre ...Prepárate a morir!'\n",
    "# Definimos una nueva cadena como 'sMayus' para capitalizar todas las letras, como no podemos modificar una cadena\n",
    "# debemos crear una nueva y modificar esta en función de la cadena original\n",
    "sMayus = s.upper()\n",
    "# Mostramos el resultado\n",
    "print(sMayus)\n",
    "# Modificamos el valor de 's' y lo ponemos todo en minúsculas\n",
    "print(s.lower())\n",
    "s, sMayus"
   ]
  },
  {
   "cell_type": "markdown",
   "metadata": {},
   "source": [
    "<a rel=\"license\" href=\"http://creativecommons.org/licenses/by-nc-sa/4.0/\"><img alt=\"Licencia Creative Commons\" style=\"border-width:0\" src=\"https://i.creativecommons.org/l/by-nc-sa/4.0/88x31.png\" /></a><br />"
   ]
  }
 ],
 "metadata": {
  "kernelspec": {
   "display_name": "Python 3",
   "language": "python",
   "name": "python3"
  },
  "language_info": {
   "codemirror_mode": {
    "name": "ipython",
    "version": 3
   },
   "file_extension": ".py",
   "mimetype": "text/x-python",
   "name": "python",
   "nbconvert_exporter": "python",
   "pygments_lexer": "ipython3",
   "version": "3.6.0"
  }
 },
 "nbformat": 4,
 "nbformat_minor": 0
}
