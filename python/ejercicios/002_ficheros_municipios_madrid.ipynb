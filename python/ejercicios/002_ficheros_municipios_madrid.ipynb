{
 "cells": [
  {
   "cell_type": "markdown",
   "metadata": {},
   "source": [
    "# Ejercicios 7"
   ]
  },
  {
   "cell_type": "markdown",
   "metadata": {},
   "source": [
    "El __Web Scraping__ (o Scraping) son un conjunto de técnicas que se utilizan para obtener de forma automática el contenido que hay en páginas web a través de su código HTML. \n",
    "\n",
    "Las técnicas de Scraping se pueden enmarcar dentro del campodel Big Data en la primera fase de recolección de datos para su posterior almacenamiento, tratamiento y visualización.\n",
    "\n",
    "El uso de estas técnicas tienen como finalidad recopilar grandes cantidades de datos de diferentes páginas web cuyo uso posterior puede ser muy variado: homogenización de datos, tratamiento de contenido para la extracción de conocimiento, complementar datos en una web, etc.\n",
    "\n",
    "A continuación adjunto una función capaz de hacer una conexión HTTP para acceder a una página web y extraer información.\n",
    "\n",
    "La página web con la que vamos a jugar es:\n",
    "\"https://es.wikipedia.org/wiki/Anexo:Municipios_de_la_Comunidad_de_Madrid\"\n",
    " que contiene datos de la lista de municipios de la Comunidad de Madrid."
   ]
  },
  {
   "cell_type": "code",
   "execution_count": 1,
   "metadata": {
    "collapsed": false
   },
   "outputs": [
    {
     "name": "stdout",
     "output_type": "stream",
     "text": [
      "La petición ha ido bien\n"
     ]
    }
   ],
   "source": [
    "import requests\n",
    "\n",
    "url = \"https://es.wikipedia.org/wiki/Anexo:Municipios_de_la_Comunidad_de_Madrid\"\n",
    "\n",
    "# Realizamos la petición HTTP a la web\n",
    "req = requests.get(url)\n",
    "# Comprobamos que la petición nos devuelve un Status Code = 200\n",
    "statusCode = req.status_code\n",
    "if statusCode == 200:\n",
    "    print('La petición ha ido bien')\n",
    "else:\n",
    "    print('Problemas con la petición...')"
   ]
  },
  {
   "cell_type": "markdown",
   "metadata": {},
   "source": [
    "En primer lugar tenemos que hacer una petición HTTP a la página web para obtener su HTML. Para ello utilizaremos la libreria __request__ y utilizando el método get (pasandole como parámetro la url) nos dará entre otras cosas el HTML de la web y su \"Status Code\". \n",
    "\n",
    "A partir del objeto __req__, que almacena muchos datos relacionados con la petición HTTP (cabeceras, cookies, etc.) obtenemos el __status_Code__ y el __HTML__ (como un string) de la web. "
   ]
  },
  {
   "cell_type": "code",
   "execution_count": 2,
   "metadata": {
    "collapsed": false
   },
   "outputs": [],
   "source": [
    "htmlText = req.text"
   ]
  },
  {
   "cell_type": "markdown",
   "metadata": {},
   "source": [
    "A partir del string __htmlText__ que representa el código interno de la pagina web, usamos la librería __beautifullSoup__ de Python para parsear la página y obtener los datos que nos interesan. \n",
    "__BeautifulSoup__  nos aporta los métodos necesarios (y muy bien optimizados) para obtener el contenido que hay entre las etiquetas HTML."
   ]
  },
  {
   "cell_type": "code",
   "execution_count": 3,
   "metadata": {
    "collapsed": false
   },
   "outputs": [],
   "source": [
    "from bs4 import BeautifulSoup\n",
    "\n",
    "if statusCode == 200:\n",
    "    # Pasamos el contenido HTML de la web a un objeto BeautifulSoup()\n",
    "    html = BeautifulSoup(req.text, 'html.parser')\n",
    "    \n",
    "    content = {}\n",
    "    # Obtenemos cada una de las filas de la tabla \n",
    "    rows = html.find_all('tr')\n",
    "    for r in rows:\n",
    "        #Seleccionamos las celdas de la tabla (td)\n",
    "        celdas = r.find_all('td')\n",
    "        # ignoramos la primera celda, que no tiene elementos td sino th (ver HTML de la página web)\n",
    "        if len(celdas)>0:\n",
    "            # En lugar de un separador de miles, se ha usado un caracter parecido a un espacio en blanco\n",
    "            # por lo que en la celda de habitantes hay que eliminar todos los caracteres que no sean números\n",
    "            #content.append([celdas[0].string, ''.join(c for c in celdas[1].string if c.isdigit())])\n",
    "            content[celdas[0].string] = { 'población': int( ''.join(c for c in celdas[1].string if c.isdigit())),\n",
    "                                          'superficie': int( ''.join(c for c in celdas[2].string if c.isdigit())),\n",
    "                                          'altitud': int( ''.join(c for c in celdas[6].string if c.isdigit())),}\n"
   ]
  },
  {
   "cell_type": "markdown",
   "metadata": {},
   "source": [
    "#### 1 Ejercicio"
   ]
  },
  {
   "cell_type": "markdown",
   "metadata": {},
   "source": [
    "Calcula la población total de todos los municipios"
   ]
  },
  {
   "cell_type": "code",
   "execution_count": 4,
   "metadata": {
    "collapsed": false
   },
   "outputs": [
    {
     "data": {
      "text/plain": [
       "6466996"
      ]
     },
     "execution_count": 4,
     "metadata": {},
     "output_type": "execute_result"
    }
   ],
   "source": [
    "# Sol:\n",
    "pobT = 0\n",
    "for municipios, datos in content.items():\n",
    "    pobT = pobT + datos['población']\n",
    "pobT"
   ]
  },
  {
   "cell_type": "code",
   "execution_count": 5,
   "metadata": {
    "collapsed": false
   },
   "outputs": [
    {
     "name": "stdout",
     "output_type": "stream",
     "text": [
      "\n",
      "Lista de municipios cuya población es superior a 50000 habitantes:\n",
      "\n",
      "Alcalá de Henares: 195907\n",
      "Alcobendas: 113340\n",
      "Alcorcón: 167354\n",
      "Aranjuez: 57932\n",
      "Arganda del Rey: 54256\n",
      "Collado Villalba: 61597\n",
      "Coslada: 84533\n",
      "Fuenlabrada: 194171\n",
      "Getafe: 176659\n",
      "Leganés: 187173\n",
      "Madrid: 3165541\n",
      "Majadahonda: 70755\n",
      "Móstoles: 205614\n",
      "Parla: 124661\n",
      "Pozuelo de Alarcón: 84989\n",
      "Rivas-Vaciamadrid: 82715\n",
      "Las Rozas de Madrid: 94471\n",
      "San Sebastián de los Reyes: 86206\n",
      "Torrejón de Ardoz: 126981\n",
      "Valdemoro: 72988\n",
      "\n",
      "La población total de todos estos municipios es: 5407843\n",
      "\n"
     ]
    }
   ],
   "source": [
    "# Sol:\n",
    "# Para nota\n",
    "def municipio_por_poblacion(habitantes):\n",
    "    pobTotal = 0\n",
    "    print('\\nLista de municipios cuya población es superior a %d habitantes:\\n' % habitantes)\n",
    "    for municipio, datos in content.items():\n",
    "        if datos['población'] > habitantes:\n",
    "            print(str(municipio) + ': ' + str(datos['población']))\n",
    "            pobTotal = pobTotal + datos['población']\n",
    "    return print('\\nLa población total de todos estos municipios es: ' + str(pobTotal)+'\\n')\n",
    "municipio_por_poblacion(50000)"
   ]
  },
  {
   "cell_type": "markdown",
   "metadata": {},
   "source": [
    "#### 2 Ejercicio\n",
    "\n",
    "Obtener un listado de los municipios cuya altitud sea por encima de los 700 metros."
   ]
  },
  {
   "cell_type": "code",
   "execution_count": 6,
   "metadata": {
    "collapsed": false
   },
   "outputs": [
    {
     "name": "stdout",
     "output_type": "stream",
     "text": [
      "\n",
      "Lista de municipios cuya altitud es superior a 700m:\n",
      "\n",
      "La Acebeda\n",
      "Alameda del Valle\n",
      "Alcorcón\n",
      "Algete\n",
      "Alpedrete\n",
      "Anchuelo\n",
      "El Atazar\n",
      "Becerril de la Sierra\n",
      "Belmonte de Tajo\n",
      "El Berrueco\n",
      "Berzosa del Lozoya\n",
      "El Boalo\n",
      "Braojos de la Sierra\n",
      "Brea de Tajo\n",
      "Buitrago del Lozoya\n",
      "Bustarviejo\n",
      "Cabanillas de la Sierra\n",
      "La Cabrera\n",
      "Cadalso de los Vidrios\n",
      "Campo Real\n",
      "Canencia\n",
      "Cenicientos\n",
      "Cercedilla\n",
      "Cervera de Buitrago\n",
      "Chinchón\n",
      "Collado Mediano\n",
      "Collado Villalba\n",
      "Colmenar de Oreja\n",
      "Colmenar Viejo\n",
      "Colmenarejo\n",
      "Corpa\n",
      "El Escorial\n",
      "Fresnedillas de la Oliva\n",
      "Galapagar\n",
      "Garganta de los Montes\n",
      "Gargantilla del Lozoya y Pinilla de Buitrago\n",
      "Gascones\n",
      "Guadalix de la Sierra\n",
      "Guadarrama\n",
      "La Hiruela\n",
      "Horcajo de la Sierra-Aoslos\n",
      "Horcajuelo de la Sierra\n",
      "Hoyo de Manzanares\n",
      "Lozoya\n",
      "Lozoyuela-Navas-Sieteiglesias\n",
      "Madarcos\n",
      "Majadahonda\n",
      "Manzanares el Real\n",
      "Miraflores de la Sierra\n",
      "El Molar\n",
      "Los Molinos\n",
      "Montejo de la Sierra\n",
      "Moralzarzal\n",
      "Navacerrada\n",
      "Navalafuente\n",
      "Navalagamella\n",
      "Navarredonda y San Mamés\n",
      "Navas del Rey\n",
      "Nuevo Baztán\n",
      "Olmeda de las Fuentes\n",
      "Patones\n",
      "Pedrezuela\n",
      "Pezuela de las Torres\n",
      "Pinilla del Valle\n",
      "Piñuécar-Gandullas\n",
      "Pozuelo del Rey\n",
      "Prádena del Rincón\n",
      "Puebla de la Sierra\n",
      "Puentes Viejas\n",
      "Rascafría\n",
      "Redueña\n",
      "Ribatejada\n",
      "Robledillo de la Jara\n",
      "Robledo de Chavela\n",
      "Robregordo\n",
      "Las Rozas de Madrid\n",
      "Rozas de Puerto Real\n",
      "San Lorenzo de El Escorial\n",
      "Santa María de la Alameda\n",
      "Santorcaz\n",
      "Los Santos de la Humosa\n",
      "La Serna del Monte\n",
      "Somosierra\n",
      "Soto del Real\n",
      "Torrelaguna\n",
      "Torrelodones\n",
      "Torremocha de Jarama\n",
      "Tres Cantos\n",
      "Valdaracete\n",
      "Valdeavero\n",
      "Valdemanco\n",
      "Valdemaqueda\n",
      "Valdemorillo\n",
      "Valdepiélagos\n",
      "Valdilecha\n",
      "Valverde de Alcalá\n",
      "El Vellón\n",
      "Venturada\n",
      "Villalbilla\n",
      "Villarejo de Salvanés\n",
      "Villavieja del Lozoya\n",
      "Zarzalejo\n"
     ]
    }
   ],
   "source": [
    "# Sol:\n",
    "print('\\nLista de municipios cuya altitud es superior a 700m:\\n')\n",
    "for municipio, datos in content.items():\n",
    "    if datos['altitud'] > 700:\n",
    "        print(municipio)"
   ]
  },
  {
   "cell_type": "code",
   "execution_count": 8,
   "metadata": {
    "collapsed": false
   },
   "outputs": [
    {
     "name": "stdout",
     "output_type": "stream",
     "text": [
      "\n",
      "Lista de municipios cuya altitud es superior a 1200m:\n",
      "\n",
      "La Acebeda: 1271m\n",
      "Bustarviejo: 1218m\n",
      "Cercedilla: 1214m\n",
      "La Hiruela: 1229m\n",
      "Navacerrada: 1207m\n",
      "Navarredonda y San Mamés: 1223m\n",
      "Robregordo: 1300m\n",
      "Santa María de la Alameda: 1409m\n",
      "Somosierra: 1433m\n"
     ]
    }
   ],
   "source": [
    "# Sol:\n",
    "# Para nota\n",
    "def municipio_por_altitud(altitud):\n",
    "    print('\\nLista de municipios cuya altitud es superior a %dm:\\n' % altitud)\n",
    "    for municipio, datos in content.items():\n",
    "        if datos['altitud'] > altitud:\n",
    "            print(str(municipio) + ': ' + str(datos['altitud']) + 'm')\n",
    "    return\n",
    "municipio_por_altitud(1200)"
   ]
  },
  {
   "cell_type": "markdown",
   "metadata": {},
   "source": [
    "<a rel=\"license\" href=\"http://creativecommons.org/licenses/by-nc-sa/4.0/\"><img alt=\"Licencia Creative Commons\" style=\"border-width:0\" src=\"https://i.creativecommons.org/l/by-nc-sa/4.0/88x31.png\" /></a><br />"
   ]
  },
  {
   "cell_type": "code",
   "execution_count": null,
   "metadata": {
    "collapsed": true
   },
   "outputs": [],
   "source": []
  }
 ],
 "metadata": {
  "kernelspec": {
   "display_name": "Python 3",
   "language": "python",
   "name": "python3"
  },
  "language_info": {
   "codemirror_mode": {
    "name": "ipython",
    "version": 3
   },
   "file_extension": ".py",
   "mimetype": "text/x-python",
   "name": "python",
   "nbconvert_exporter": "python",
   "pygments_lexer": "ipython3",
   "version": "3.6.0"
  }
 },
 "nbformat": 4,
 "nbformat_minor": 0
}
