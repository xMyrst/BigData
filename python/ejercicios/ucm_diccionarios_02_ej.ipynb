{
 "cells": [
  {
   "cell_type": "markdown",
   "metadata": {},
   "source": [
    "# Ejercicios 3"
   ]
  },
  {
   "cell_type": "markdown",
   "metadata": {
    "collapsed": true
   },
   "source": [
    "#### 1 Ejercicio"
   ]
  },
  {
   "cell_type": "markdown",
   "metadata": {},
   "source": [
    "Escribe una expresión Python para recuperar el valor del elemento con clave 'Hola' del un diccionario _d_.\n",
    "* Comprueba que si __d__ es __{}__ la ejecución produce un error.\n",
    "* ¿ Y si __d__ es  {'Hola': ['Hi','Hello'], 'Adios': ['Bye']} ?"
   ]
  },
  {
   "cell_type": "code",
   "execution_count": 10,
   "metadata": {
    "collapsed": false
   },
   "outputs": [
    {
     "data": {
      "text/plain": [
       "{}"
      ]
     },
     "execution_count": 10,
     "metadata": {},
     "output_type": "execute_result"
    }
   ],
   "source": [
    "d1 = { }\n",
    "d2 =  {'Hola': ['Hi','Hello'], 'Adios': ['Bye'] }\n",
    "# Sol: \n",
    "\n",
    "d2['Hola']"
   ]
  },
  {
   "cell_type": "markdown",
   "metadata": {
    "collapsed": true
   },
   "source": [
    "#### 2 Ejercicio"
   ]
  },
  {
   "cell_type": "markdown",
   "metadata": {},
   "source": [
    "Dados dos diccionarios __d1__ y __d2__, escribe una función en Python llamada _fusion_ que realice la fusión de los dos diccionarios pasados como parámetros. Puedes utilizar la función __update__.\n",
    "\n",
    "* Prueba la función con los diccionarios  d1 = {1: 'A', 2:'B', 3:'C'}, \n",
    "d2 = {4: 'Aa', 5:'Ba', 6:'Ca'}\n",
    "\n",
    "* Utiliza la función __len__ para recuperar el número de elementos del nuevo diccionario\n",
    "\n",
    "* Prueba la función con los diccionarios  d1 = {1: 'A', 2:'B', 3:'C'}, \n",
    "d2 = {2: 'Aa', 3:'Ba'}\n",
    "\n",
    "* Utiliza la función __len__ para recuperar el número de elementos del nuevo diccionario"
   ]
  },
  {
   "cell_type": "code",
   "execution_count": 39,
   "metadata": {
    "collapsed": false
   },
   "outputs": [
    {
     "data": {
      "text/plain": [
       "{1: 'A', 2: 'B', 3: 'C', 4: 'Aa', 5: 'Ba', 6: 'Ca'}"
      ]
     },
     "execution_count": 39,
     "metadata": {},
     "output_type": "execute_result"
    }
   ],
   "source": [
    "# Sol:\n",
    "def fusion():\n",
    "    d1 = {1: 'A', 2:'B', 3:'C'}\n",
    "    d2 = {4: 'Aa', 5:'Ba', 6:'Ca'}\n",
    "    d1.update(d2)\n",
    "    return d1\n",
    "fusion()"
   ]
  },
  {
   "cell_type": "markdown",
   "metadata": {
    "collapsed": true
   },
   "source": [
    "#### 3 Ejercicio"
   ]
  },
  {
   "cell_type": "markdown",
   "metadata": {},
   "source": [
    "Dada la lista de las ciudades más pobladas de Italia __it__:\n",
    "\n",
    "it = [ 'Roma', 'Milán', 'Nápoles', 'Turín', 'Palermo' , 'Génova',\n",
    "      'Bolonia', 'Florencia', 'Bari', 'Catania']\n",
    "      \n",
    "* Crea un diccionario donde la clave sea la posición que ocupa cada ciudad en la lista. Para hacerlo sigue estas indicaciones:\n",
    "    * Crea una secuencia de enteros mediante la función __range__. El inicio de la secuencia es el cero y el fin de la secuencia es la longitud de la lista de poblaciones de Italia.\n",
    "    * Crea una lista __m__ de tuplas del tipo  (pos, ciudad). Utiliza la función __zip__.\n",
    "    * Utiliza la función __dict__ para construir el diccionario a partir de la lista __m__."
   ]
  },
  {
   "cell_type": "markdown",
   "metadata": {},
   "source": [
    "* Escribe una expresión Python para recuperar la quinta ciudad italiana más poblada."
   ]
  },
  {
   "cell_type": "code",
   "execution_count": 115,
   "metadata": {
    "collapsed": false
   },
   "outputs": [
    {
     "data": {
      "text/plain": [
       "[(1, 'Roma'),\n",
       " (2, 'Milán'),\n",
       " (3, 'Nápoles'),\n",
       " (4, 'Turín'),\n",
       " (5, 'Palermo'),\n",
       " (6, 'Génova'),\n",
       " (7, 'Bolonia'),\n",
       " (8, 'Florencia'),\n",
       " (9, 'Bari'),\n",
       " (10, 'Catania'),\n",
       " (11, 'Verona')]"
      ]
     },
     "execution_count": 115,
     "metadata": {},
     "output_type": "execute_result"
    }
   ],
   "source": [
    "# Sol:\n",
    "# Definimos la lista con las ciudades que aparece en el enunciado\n",
    "it = [ 'Roma', 'Milán', 'Nápoles', 'Turín', 'Palermo' , 'Génova', 'Bolonia', 'Florencia', 'Bari', 'Catania', 'Verona']\n",
    "# Definimos una variable para almacenar una lista que crearemos a partir de un rango [0, longitud de la lista)\n",
    "# Si no especificamos inicio, el rango comienza en 0 y termina en 10\n",
    "# Si se especifica el inicio en 1, hay que sumarle +1 a la longitud de la lista a modo de offset\n",
    "pos_ciudad = range(1, len(it)+1)\n",
    "resultado = list(zip(pos_ciudad, it))\n",
    "resultado"
   ]
  },
  {
   "cell_type": "code",
   "execution_count": 116,
   "metadata": {
    "collapsed": false
   },
   "outputs": [
    {
     "data": {
      "text/plain": [
       "{1: 'Roma',\n",
       " 2: 'Milán',\n",
       " 3: 'Nápoles',\n",
       " 4: 'Turín',\n",
       " 5: 'Palermo',\n",
       " 6: 'Génova',\n",
       " 7: 'Bolonia',\n",
       " 8: 'Florencia',\n",
       " 9: 'Bari',\n",
       " 10: 'Catania',\n",
       " 11: 'Verona'}"
      ]
     },
     "execution_count": 116,
     "metadata": {},
     "output_type": "execute_result"
    }
   ],
   "source": [
    "dic = dict(resultado)\n",
    "dic"
   ]
  },
  {
   "cell_type": "markdown",
   "metadata": {},
   "source": [
    "----"
   ]
  }
 ],
 "metadata": {
  "kernelspec": {
   "display_name": "Python 3",
   "language": "python",
   "name": "python3"
  },
  "language_info": {
   "codemirror_mode": {
    "name": "ipython",
    "version": 3
   },
   "file_extension": ".py",
   "mimetype": "text/x-python",
   "name": "python",
   "nbconvert_exporter": "python",
   "pygments_lexer": "ipython3",
   "version": "3.6.0"
  }
 },
 "nbformat": 4,
 "nbformat_minor": 0
}
