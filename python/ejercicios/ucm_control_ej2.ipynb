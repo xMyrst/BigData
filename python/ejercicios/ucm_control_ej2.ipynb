{
 "cells": [
  {
   "cell_type": "markdown",
   "metadata": {},
   "source": [
    "#  Ejercicios 4"
   ]
  },
  {
   "cell_type": "markdown",
   "metadata": {},
   "source": [
    "#### 1 Ejercicio"
   ]
  },
  {
   "cell_type": "markdown",
   "metadata": {},
   "source": [
    "Escribir una función que indique si dos fichas de dominó encajan o no. Las fichas son recibidas en dos tuplas, por ejemplo: (1,3) y (5,3)."
   ]
  },
  {
   "cell_type": "code",
   "execution_count": 6,
   "metadata": {
    "collapsed": false
   },
   "outputs": [
    {
     "name": "stdout",
     "output_type": "stream",
     "text": [
      "Encajan en la posición X[0] Y[1]\n"
     ]
    }
   ],
   "source": [
    "# Sol:\n",
    "x = (3,2)\n",
    "y = (5,3)\n",
    "def encaja(x, y):\n",
    "    if x[0] == y[0]:\n",
    "        print(\"Encajan en la posición X[0] Y[0]\")\n",
    "    elif x[0] == y[1]:\n",
    "        print(\"Encajan en la posición X[0] Y[1]\")\n",
    "    elif x[1] == y[0]:\n",
    "        print(\"Encajan en la posición X[1] Y[0]\")\n",
    "    elif x[1] == y[1]:\n",
    "        print(\"Encajan en la posición X[1] Y[1]\")\n",
    "    else:\n",
    "        print(\"Las fichas no encajan\")\n",
    "    return\n",
    "encaja(x,y)\n"
   ]
  },
  {
   "cell_type": "markdown",
   "metadata": {},
   "source": [
    "#### 2 Ejercicio"
   ]
  },
  {
   "cell_type": "markdown",
   "metadata": {},
   "source": [
    "Define  la función __media__ para calcular la media aritmética de los elementos de una lista pasada como parámetro.\n",
    "1. Utiliza un bucle __for__ para recorrer la lista y calcular la suma de los elementos y el número de elementos.\n",
    "2. Inicializa la suma a 0 antes del bucle.\n",
    "3. Inicializa el número de elementos a 0 antes del bucle.\n",
    "\n",
    "(Otra forma: Usando las funciones  __sum__ y __len__).\n",
    "\n",
    "__Nota__: Comprueba que se obtienen los siguientes resultados:\n",
    "* media(a) = 200.0\n",
    "* Si b = [], media(b) = 0"
   ]
  },
  {
   "cell_type": "code",
   "execution_count": 29,
   "metadata": {
    "collapsed": false
   },
   "outputs": [
    {
     "data": {
      "text/plain": [
       "200.0"
      ]
     },
     "execution_count": 29,
     "metadata": {},
     "output_type": "execute_result"
    }
   ],
   "source": [
    "# Sol:\n",
    "a = list(range(1,400,2))\n",
    "b = [1,2,4,8,16,32]\n",
    "def media(a):\n",
    "    for i in a:\n",
    "        i = sum(a) / len(a)\n",
    "    return i\n",
    "media(a)"
   ]
  },
  {
   "cell_type": "markdown",
   "metadata": {},
   "source": [
    "#### 3 Ejercicio"
   ]
  },
  {
   "cell_type": "markdown",
   "metadata": {},
   "source": [
    "La función __farenToCentig__ convierte grados Farenheit en grados centígrados. \n",
    "* Utiliza la función __farenToCentig__ para generar la siguiente tabla de conversión:\n",
    "\n",
    "```0:º F = -18.0º C\n",
    "10:º F = -13.0º C\n",
    "20:º F = -7.0º C\n",
    "    ...\n",
    "100:º F = 37.0º C\n",
    "110:º F = 43.0º C\n",
    "120:º F = 48.0º C\n",
    "```"
   ]
  },
  {
   "cell_type": "markdown",
   "metadata": {},
   "source": [
    "__Nota__:\n",
    "* Genera la lista de valores $[0, ... , 120]$ con la función __range__.\n",
    "* Utiliza un bucle __for__ para calcular los grados centígrados de cada elemento de la lista de valores."
   ]
  },
  {
   "cell_type": "code",
   "execution_count": 12,
   "metadata": {
    "collapsed": false
   },
   "outputs": [],
   "source": [
    "# Sol :\n",
    "F = list(range(0,130,10))\n",
    "def farenToCentig(F):\n",
    "    return (F-32)*(5/9)    "
   ]
  },
  {
   "cell_type": "code",
   "execution_count": 15,
   "metadata": {
    "collapsed": false
   },
   "outputs": [
    {
     "name": "stdout",
     "output_type": "stream",
     "text": [
      "0 ºF = -18.0 ºC\n",
      "10 ºF = -12.0 ºC\n",
      "20 ºF = -7.0 ºC\n",
      "30 ºF = -1.0 ºC\n",
      "40 ºF = 4.0 ºC\n",
      "50 ºF = 10.0 ºC\n",
      "60 ºF = 16.0 ºC\n",
      "70 ºF = 21.0 ºC\n",
      "80 ºF = 27.0 ºC\n",
      "90 ºF = 32.0 ºC\n",
      "100 ºF = 38.0 ºC\n",
      "110 ºF = 43.0 ºC\n",
      "120 ºF = 49.0 ºC\n"
     ]
    }
   ],
   "source": [
    "for i in F:\n",
    "    cent = farenToCentig(i)\n",
    "    conversion = round(cent)\n",
    "    print( '%d ºF = %.1f ºC' % (i,conversion))"
   ]
  },
  {
   "cell_type": "markdown",
   "metadata": {},
   "source": [
    "#### 4 Ejercicio"
   ]
  },
  {
   "cell_type": "markdown",
   "metadata": {},
   "source": [
    "Los 15 primeros números triangulares son:\n",
    "\n",
    "$$\n",
    "[0, 1, 3, 6, 10, 15, 21, 28, 36, 45, 55, 66, 78, 91, 105]\n",
    "$$\n",
    "\n",
    "1. Define una función __triang_1__ que reciba un número entero positivo $n$ como parámetro y genere la lista de los $n$ primeros números triangulares. Resuelve el problema aplicando la fórmula $a_n = n * (n + 1) / 2$. \n",
    "\n",
    "2. Define una función __triang_2__ que reciba un número entero positivo $n$ como parámetro y genere la lista de los $n$ primeros números triangulares. Resuelve el problema aplicando la fórmula $a_n = a_{n-1} + n$. \n",
    "\n",
    "3. Utiliza la función __%timeit__ para medir tiempos y evaluar qué función se comporta mejor."
   ]
  },
  {
   "cell_type": "code",
   "execution_count": 22,
   "metadata": {
    "collapsed": false
   },
   "outputs": [
    {
     "name": "stdout",
     "output_type": "stream",
     "text": [
      "100000 loops, best of 3: 5.9 µs per loop\n",
      "100000 loops, best of 3: 5.57 µs per loop\n",
      "100000 loops, best of 3: 3.48 µs per loop\n"
     ]
    }
   ],
   "source": [
    "# Sol: \n",
    "def triang_1(n):\n",
    "    a = []\n",
    "    for i in range(n):\n",
    "        an = i * (i + 1 ) / 2\n",
    "        a.append(an)\n",
    "    return a\n",
    "def triang_2(n):\n",
    "    a = [0]\n",
    "    for i in range(1,n):\n",
    "        a.append(a[i-1]+i)\n",
    "    return a\n",
    "\n",
    "\n",
    "def triang_3(n):\n",
    "    return [(i*(i+1)/2) for i in range(n)]\n",
    "\n",
    "\n",
    "%timeit triang_1(30)\n",
    "%timeit triang_1(30)\n",
    "%timeit triang_3(30)\n"
   ]
  },
  {
   "cell_type": "markdown",
   "metadata": {},
   "source": [
    "<a rel=\"license\" href=\"http://creativecommons.org/licenses/by-nc-sa/4.0/\"><img alt=\"Licencia Creative Commons\" style=\"border-width:0\" src=\"https://i.creativecommons.org/l/by-nc-sa/4.0/88x31.png\" /></a><br />"
   ]
  }
 ],
 "metadata": {
  "kernelspec": {
   "display_name": "Python 3",
   "language": "python",
   "name": "python3"
  },
  "language_info": {
   "codemirror_mode": {
    "name": "ipython",
    "version": 3
   },
   "file_extension": ".py",
   "mimetype": "text/x-python",
   "name": "python",
   "nbconvert_exporter": "python",
   "pygments_lexer": "ipython3",
   "version": "3.6.0"
  }
 },
 "nbformat": 4,
 "nbformat_minor": 0
}
