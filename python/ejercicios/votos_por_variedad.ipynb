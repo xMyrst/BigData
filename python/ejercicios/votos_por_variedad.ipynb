{
 "cells": [
  {
   "cell_type": "code",
   "execution_count": 151,
   "metadata": {
    "collapsed": false
   },
   "outputs": [
    {
     "data": {
      "text/plain": [
       "{'April Cross': 72,\n",
       " 'Bunny Tail': 72,\n",
       " 'Champion': 76,\n",
       " 'Cherry Belle': 58,\n",
       " 'Daikon': 63,\n",
       " 'French Breakfast': 72,\n",
       " 'Plum Purple': 57,\n",
       " 'Red King': 56,\n",
       " 'Sicily Giant': 57,\n",
       " 'Snow Belle': 63,\n",
       " 'White Icicle': 65}"
      ]
     },
     "execution_count": 151,
     "metadata": {},
     "output_type": "execute_result"
    }
   ],
   "source": [
    "fichero = open('D:/datos_bd/radishsurvey.txt')\n",
    "resultado = open('D:/datos_bd/resultado.txt','w')\n",
    "def votos_por_variedad():\n",
    "    rabanos = []                               # Definimos una lista para contar la cantidad de veces que se repite una variedad\n",
    "    votos = {}                                 # Definimos el diccionario que contendrá los votos por variedad\n",
    "    for linea in fichero:                      # Leemos cada linea del fichero\n",
    "        nlinea = linea.strip()                 # Formateamos cada línea eliminando los espacios\n",
    "        nMayus = nlinea.title()                # Capitalizamos los nombres de variedades, para que todas empiecen por mayúsculas\n",
    "        nEspacios = nMayus.replace('  ',' ')   # Reemplazamos los dobles espacios por espacios simples\n",
    "        nGuion = nEspacios.split(' - ')        # Quitamos el guión que separa clientes y variedades\n",
    "                                               # y nos quedamos sólo con las variedades\n",
    "        \n",
    "        rabanos.append(nGuion[1])              # Añadimos a la lista las variedades de rabano\n",
    "        variedad = nGuion[1]                   # Definimos una variable y le asignamos el valor de la variedad de rabano\n",
    "        \n",
    "        # Si la variedad está en la lista, la añadimos al diccionario y contamos cuantas veces se repite en la lista de\n",
    "        # variedades que definimos antes\n",
    "        if variedad in rabanos:                \n",
    "            votos[nGuion[1]] = rabanos.count(variedad)\n",
    "            \n",
    "    # Bucle para iterar el diccionario que hemos creado y escribir los datos en un nuevo fichero\n",
    "    for x,y in votos.items():\n",
    "        resultado.write(x + ': ' + str(y) + '\\n')\n",
    "\n",
    "    return votos\n",
    "votos_por_variedad()"
   ]
  },
  {
   "cell_type": "code",
   "execution_count": 149,
   "metadata": {
    "collapsed": true
   },
   "outputs": [],
   "source": [
    "resultado.close()"
   ]
  },
  {
   "cell_type": "code",
   "execution_count": null,
   "metadata": {
    "collapsed": true
   },
   "outputs": [],
   "source": []
  }
 ],
 "metadata": {
  "kernelspec": {
   "display_name": "Python 3",
   "language": "python",
   "name": "python3"
  },
  "language_info": {
   "codemirror_mode": {
    "name": "ipython",
    "version": 3
   },
   "file_extension": ".py",
   "mimetype": "text/x-python",
   "name": "python",
   "nbconvert_exporter": "python",
   "pygments_lexer": "ipython3",
   "version": "3.6.0"
  }
 },
 "nbformat": 4,
 "nbformat_minor": 2
}
