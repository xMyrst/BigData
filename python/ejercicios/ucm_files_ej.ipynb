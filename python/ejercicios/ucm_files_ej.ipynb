{
 "cells": [
  {
   "cell_type": "markdown",
   "metadata": {
    "collapsed": true
   },
   "source": [
    "#  Ejercicios 6"
   ]
  },
  {
   "cell_type": "markdown",
   "metadata": {},
   "source": [
    "Supongamos que tenemos un fichero de texto [encuesta](../datos/radishsurvey.txt) con los datos de una encuesta realizada por un agricultor de rábanos. Dicho fichero recoge información de las preferencias de los consumidores acerca de las distintas variedades.\n",
    "\n",
    "* Cada línea del fichero tiene el siguiente formato:\n",
    "$$\n",
    " nombre\\_cliente \\ - \\ variedad\\_de\\_rábano\n",
    "$$\n",
    "\n"
   ]
  },
  {
   "cell_type": "markdown",
   "metadata": {},
   "source": [
    "#### 1 Ejercicio"
   ]
  },
  {
   "cell_type": "markdown",
   "metadata": {},
   "source": [
    "El fichero dispone de casi 700 opiniones de usuarios. Abre el fichero para ver el contenido.\n",
    "   1. Consulta el directorio de trabajo de Ipython. Para ello ejecuta el comando mágico `%pwd` en la siguiente celda.\n",
    "   2. Descárgate el fichero  [encuesta](./datos/radishsurvey.txt) en tu directorio de trabajo\n",
    "   3. Ábrelo con la instrucción __open__.\n",
    "   4. Realiza un print de las 10 primeras líneas del fichero. Utiliza un bucle __for__ de 10 iteraciones para leer el contenido del fichero. "
   ]
  },
  {
   "cell_type": "code",
   "execution_count": 1,
   "metadata": {
    "collapsed": false
   },
   "outputs": [
    {
     "name": "stdout",
     "output_type": "stream",
     "text": [
      "Evie Pulsford - April Cross\n",
      "\n",
      "Matilda Condon - April Cross\n",
      "\n",
      "Samantha Mansell - Champion\n",
      "\n",
      "geronima trevisani - cherry belle\n",
      "\n",
      "Alexandra Shoebridge - Snow Belle\n",
      "\n",
      "Sarah Ahuia Ova - Snow Belle\n",
      "\n",
      "Emma Slattery - Bunny Tail\n",
      "\n",
      "Fabiana  Milanesi - Champion\n",
      "\n",
      "Makayla McMinn - Snow Belle\n",
      "\n",
      "Julian O'Leary - Sicily Giant\n",
      "\n"
     ]
    }
   ],
   "source": [
    "# Sol:\n",
    "fichero = open(\"../datos/radishsurvey.txt\")\n",
    "for i in range(10):\n",
    "    print(fichero.readline())"
   ]
  },
  {
   "cell_type": "markdown",
   "metadata": {},
   "source": [
    "#### 2 Ejercicio"
   ]
  },
  {
   "cell_type": "markdown",
   "metadata": {},
   "source": [
    "Escribe una función llamada __clientes__ que devuelva la lista de clientes que han votado por alguna variedad de rábanos.\n",
    "\n",
    "1. Utiliza un bucle __for__ para leer el contenido completo del fichero.\n",
    "1. Usa la función __strip__ para eliminar los saltos de línea.\n",
    "2. Usa la función __split__ para separar el nombre del cliente y la variedad de rábano\n",
    "3. Utiliza la función __append__ para añadir el nombre del cliente a una lista de clientes (previamente inicializada).\n",
    "3. No te olvides de realizar un __return__ para devolver el resultado.\n",
    "\n",
    "__Nota__: El cliente número 15 en la lista es \"Jonathan Rolph\"."
   ]
  },
  {
   "cell_type": "code",
   "execution_count": 2,
   "metadata": {
    "collapsed": false
   },
   "outputs": [
    {
     "data": {
      "text/plain": [
       "'Jonathan Rolph'"
      ]
     },
     "execution_count": 2,
     "metadata": {},
     "output_type": "execute_result"
    }
   ],
   "source": [
    "# Sol: \n",
    "fichero = open(\"../datos/radishsurvey.txt\")\n",
    "def clientes():\n",
    "    listaClientes = []\n",
    "    for linea in fichero:\n",
    "        nuevaLinea = linea.strip()\n",
    "        #print(nuevaLinea.split(' - '))\n",
    "        cliente = nuevaLinea.split(' - ')[0]\n",
    "        listaClientes.append(cliente)\n",
    "    return listaClientes\n",
    "clientes()[15]"
   ]
  },
  {
   "cell_type": "code",
   "execution_count": 3,
   "metadata": {
    "collapsed": true
   },
   "outputs": [],
   "source": [
    "fichero.close()"
   ]
  },
  {
   "cell_type": "markdown",
   "metadata": {},
   "source": [
    "#### 3 Ejercicio"
   ]
  },
  {
   "cell_type": "markdown",
   "metadata": {},
   "source": [
    "El agricultor desea conocer el número total de votos que ha recibido la variedad de rábanos 'White Icicle'. Define una función denominada __votosWI__  que calcula el dato pedido.\n",
    "\n",
    "1. Utiliza una variable entera inicializada a 0 para almacenar el contador de votos.\n",
    "1. Utiliza un bucle __for__ para leer el contenido del fichero.\n",
    "1. Usa la función __strip__ para eliminar los saltos de línea.\n",
    "2. Usa la función __split__ para separar el nombre del cliente y la variedad de rábano\n",
    "3. Usa la instrucción __if__ para comprobar si la variedad de rábano es 'White Icicle'. En caso afirmativo suma 1 al contador de votos.\n",
    "3. No te olvides de devolver el número de votos mediante la instrucción __return__\n",
    "\n",
    "\n",
    "__Nota__: El resultado es: 59 votos."
   ]
  },
  {
   "cell_type": "code",
   "execution_count": 4,
   "metadata": {
    "collapsed": false
   },
   "outputs": [
    {
     "data": {
      "text/plain": [
       "59"
      ]
     },
     "execution_count": 4,
     "metadata": {},
     "output_type": "execute_result"
    }
   ],
   "source": [
    "# Sol:\n",
    "# Abrimos el archivo con los datos en modo lectura\n",
    "fichero = open(\"../datos/radishsurvey.txt\")\n",
    "def votosWI():\n",
    "    # Inicializamos la variable para contar los votos a 0\n",
    "    cont_votos = 0        \n",
    "    # Recorremos todo el archivo comprendido en la variable 'fichero'\n",
    "    for linea in fichero:\n",
    "        # Para cada valor de la variable 'linea' contenida en 'fichero' quitamos los saltos de linea\n",
    "        # defininendo una nueva variable 'lineaSaltos'\n",
    "        lineaSaltos = linea.strip()\n",
    "        # Definimos una variable 'lineaSeparador' para eliminar los espacios y el símbolo -\n",
    "        lineaSeparador = lineaSaltos.split(' - ')\n",
    "        if lineaSeparador[1] == 'White Icicle':\n",
    "            cont_votos = cont_votos + 1\n",
    "    return cont_votos\n",
    "votosWI()"
   ]
  },
  {
   "cell_type": "markdown",
   "metadata": {},
   "source": [
    "#### 4 Ejercicio"
   ]
  },
  {
   "cell_type": "markdown",
   "metadata": {},
   "source": [
    "Generaliza la función anterior y define una función que calcule el número de votos que ha recibido una variedad cualquiera de rábanos. \n",
    "* Define una función llamada __votos__ que reciba como parámetro una variedad de rábano y devuelva la cantidad de votos.\n",
    "\n",
    "__Nota__: La variedad _Snow Belle_ ha recibido 58 votos."
   ]
  },
  {
   "cell_type": "code",
   "execution_count": 5,
   "metadata": {
    "collapsed": false
   },
   "outputs": [
    {
     "data": {
      "text/plain": [
       "58"
      ]
     },
     "execution_count": 5,
     "metadata": {},
     "output_type": "execute_result"
    }
   ],
   "source": [
    "# Sol:\n",
    "# Abrimos el archivo con los datos en modo lectura\n",
    "fichero = open(\"../datos/radishsurvey.txt\")\n",
    "def votos(rabano):\n",
    "    # Inicializamos la variable para contar los votos a 0\n",
    "    contadorVotos = 0\n",
    "    # Recorremos todo el archivo comprendido en la variable 'fichero'\n",
    "    for linea in fichero:\n",
    "        # Para cada valor de la variable 'linea' contenida en 'fichero' quitamos los saltos de linea\n",
    "        # defininendo una nueva variable 'lineaSaltos'\n",
    "        lineaSaltos = linea.strip()\n",
    "        # Definimos una variable 'lineaSeparador' para eliminar los espacios y el símbolo -\n",
    "        lineaSeparador = lineaSaltos.split(' - ')\n",
    "        # Comparamos la variable 'rabano' introducida al llamar a la función con los valores de la lista 'lineaSeparador'\n",
    "        # lineaSeparador[1] especifica que se comparará con los valores de la posición 1\n",
    "        if rabano == lineaSeparador[1]:\n",
    "            # Sumamos 1 voto al contador\n",
    "            contadorVotos =  contadorVotos + 1\n",
    "    return contadorVotos\n",
    "votos('Snow Belle')"
   ]
  },
  {
   "cell_type": "markdown",
   "metadata": {},
   "source": [
    "#### 5 Ejercicio"
   ]
  },
  {
   "cell_type": "markdown",
   "metadata": {},
   "source": [
    "Define una función llamada __clientesPorVariedad__ que reciba como parámetro una variedad de rábano y  devuelva la lista de clientes que han votado por esa variedad. Ten en cuenta que esta función es casi idéntica que la anterior.\n",
    "\n",
    "__Nota__: Prueba con la variedad de rábanos _White Icicle_. La solución será una lista donde los primeros elementos son:\n",
    "\n",
    "['Luke Komine', 'Bailey Derrington', 'Tyler Forbes', 'Gianfranco Cremonesi', 'Tao Hsiao', ...]"
   ]
  },
  {
   "cell_type": "code",
   "execution_count": 6,
   "metadata": {
    "collapsed": false
   },
   "outputs": [
    {
     "data": {
      "text/plain": [
       "['Luke Komine',\n",
       " 'Bailey Derrington',\n",
       " 'Tyler Forbes',\n",
       " 'Gianfranco Cremonesi',\n",
       " 'Tao Hsiao',\n",
       " 'Emily Walters',\n",
       " 'Thomas Oom',\n",
       " 'Stephanie Schnaars',\n",
       " 'Anna Denning',\n",
       " 'Ruby Fox',\n",
       " 'Ali Dedman',\n",
       " 'Sarah Milford',\n",
       " 'Hudson Dodgshun',\n",
       " 'Lara Salting',\n",
       " 'Amelie Farber',\n",
       " 'Isabella Pardey',\n",
       " 'Zhi Chin',\n",
       " 'Caitlyn Mullah',\n",
       " 'Taj Shackell',\n",
       " 'Xin Qian Shih',\n",
       " 'Abigail Clark',\n",
       " 'Bianca Knopwood',\n",
       " 'Mia Legg',\n",
       " 'Lilian Macquarie',\n",
       " 'Zachary Bass',\n",
       " 'Hayley Coverdale',\n",
       " 'David Moynihan',\n",
       " 'Angus De Mestre',\n",
       " 'Emily Plante',\n",
       " 'Kiara Maxwell-Mahon',\n",
       " 'Alex Falk',\n",
       " 'George Carandini',\n",
       " 'Makayla Fairbairn',\n",
       " 'Yue Wan Yeh',\n",
       " 'Timothy Beeton',\n",
       " 'Blake Hurst',\n",
       " 'Zhen Juan Tsai',\n",
       " 'Christopher Moss',\n",
       " 'Alicia Farmer',\n",
       " 'Jasmine Baughan',\n",
       " 'Dominic Nangle',\n",
       " 'Yue Yan Hu',\n",
       " 'Adele Buccho',\n",
       " 'Archie Mathy',\n",
       " 'Pia Folliero',\n",
       " 'Koby Ledger',\n",
       " 'Jasper Harper',\n",
       " 'Patrick Tilly',\n",
       " 'Isabelle Camden',\n",
       " 'Amy Clunie',\n",
       " 'Declan Winston',\n",
       " 'James Luke',\n",
       " 'Riley Stewart',\n",
       " 'Rory Evenden',\n",
       " 'Eleuterio Lombardo',\n",
       " 'Yong Hsiao',\n",
       " 'Toby Queale',\n",
       " 'Jasper Alfred',\n",
       " 'Durante Ferri']"
      ]
     },
     "execution_count": 6,
     "metadata": {},
     "output_type": "execute_result"
    }
   ],
   "source": [
    "# Sol:\n",
    "fichero = open(\"../datos/radishsurvey.txt\")\n",
    "def clientesPorVariedad(rabano):\n",
    "    listaClientes = []\n",
    "    for linea in fichero:\n",
    "        lineaSaltos = linea.strip()\n",
    "        lineaSeparador = lineaSaltos.split(' - ')\n",
    "        if rabano == lineaSeparador[1]:\n",
    "            listaClientes.append(lineaSeparador[0])\n",
    "    return listaClientes\n",
    "clientesPorVariedad('White Icicle')"
   ]
  },
  {
   "cell_type": "markdown",
   "metadata": {},
   "source": [
    "#### 6 Ejercicio"
   ]
  },
  {
   "cell_type": "markdown",
   "metadata": {},
   "source": [
    "Al agricultor le gustaría conocer el número de votos recibidos por cada variedad.\n",
    "Define una función llamada __votos_por_variedad__ que devuelva la información del número de votos por variedad. Usa un diccionario para almacenar esa información. La clave del diccionario es la variedad y el valor es un entero que representa el número de votos.\n",
    "\n",
    "1. Crea un diccionario vacío.\n",
    "1. Utiliza un bucle __for__ para leer el contenido del fichero.\n",
    "1. Usa la función __strip__ para eliminar los saltos de línea.\n",
    "2. Usa la función __split__ para separar el nombre del cliente y la variedad de rábano\n",
    "3. Usa la instrucción __if__ para comprobar si la variedad está en el diccionario. En caso afirmativo suma 1 al valor. En caso contrario añade una nueva variedad al diccionario.\n",
    "3. No te olvides de devolver el diccionario pedido mediante la instrucción __return__.\n",
    "\n",
    "\n",
    "\n"
   ]
  },
  {
   "cell_type": "code",
   "execution_count": 7,
   "metadata": {
    "collapsed": false
   },
   "outputs": [
    {
     "data": {
      "text/plain": [
       "{' Cherry Belle': 2,\n",
       " ' Daikon': 1,\n",
       " ' Plum Purple': 1,\n",
       " ' Red King': 1,\n",
       " ' Sicily Giant': 1,\n",
       " ' Snow Belle': 2,\n",
       " ' White Icicle': 1,\n",
       " ' plum purple': 1,\n",
       " 'April Cross': 67,\n",
       " 'April cross': 1,\n",
       " 'Bunny Tail': 68,\n",
       " 'Champion': 75,\n",
       " 'Cherry  Belle': 1,\n",
       " 'Cherry Belle': 53,\n",
       " 'Daikon': 58,\n",
       " 'French Breakfast': 65,\n",
       " 'Plum  Purple': 1,\n",
       " 'Plum Purple': 53,\n",
       " 'Red King': 52,\n",
       " 'Sicily  Giant': 1,\n",
       " 'Sicily Giant': 52,\n",
       " 'Snow Belle': 58,\n",
       " 'White Icicle': 59,\n",
       " 'april cross': 4,\n",
       " 'bunny tail': 4,\n",
       " 'champion': 1,\n",
       " 'cherry belle': 2,\n",
       " 'daikon': 4,\n",
       " 'french breakfast': 7,\n",
       " 'plum purple': 1,\n",
       " 'red king': 3,\n",
       " 'sicily giant': 3,\n",
       " 'snow belle': 3,\n",
       " 'white icicle': 5}"
      ]
     },
     "execution_count": 7,
     "metadata": {},
     "output_type": "execute_result"
    }
   ],
   "source": [
    "fichero = open(\"../datos/radishsurvey.txt\")\n",
    "def votos_por_variedad():\n",
    "    dicRabanos = {}\n",
    "    listaRabanos = []\n",
    "    for linea in fichero:\n",
    "        lineaSaltos = linea.strip()\n",
    "        lineaSeparador = lineaSaltos.split(' - ')\n",
    "        listaRabanos.append(lineaSeparador[1])\n",
    "        tipoRabano = lineaSeparador[1]\n",
    "        if tipoRabano in lineaSeparador[1]:\n",
    "            dicRabanos[lineaSeparador[1]] = listaRabanos.count(tipoRabano)\n",
    "    return dicRabanos\n",
    "votos_por_variedad()"
   ]
  },
  {
   "cell_type": "markdown",
   "metadata": {},
   "source": [
    "Observa la solución. Si te das cuenta, en el diccionario aparecen variedades con minúscula y mayúscula ('white icicle'  y 'White Icicle'). También aparecen variedades con espacios en blanco al principio. Un desastre de datos!.\n",
    "\n",
    "------\n",
    "\n",
    "Tenemos que hacer una limpieza de datos para solventar el problema anterior. \n",
    "* Corrige  la función anterior haciendo uso de la función __strip__ y __title__ en cada variedad de rábanos.\n",
    "\n",
    "El diccionario generado es el siguiente:\n",
    "\n",
    "{'April Cross': 72,\n",
    " 'Bunny Tail': 72, \n",
    " 'Champion': 76,\n",
    " 'Cherry  Belle': 1,\n",
    " 'Cherry Belle': 57,\n",
    " 'Daikon': 63,\n",
    " 'French Breakfast': 72,\n",
    " 'Plum  Purple': 1,\n",
    " 'Plum Purple': 56,\n",
    " 'Red King': 56,\n",
    " 'Sicily  Giant': 1,\n",
    " 'Sicily Giant': 56,\n",
    " 'Snow Belle': 63,\n",
    " 'White Icicle': 65}\n",
    " \n",
    "----\n",
    " Pero aún salen cosas raras. Fíjate en las variedades 'Sicily  Giant' y  'Sicily Giant'. Deberían ser la misma variedad.\n",
    "\n",
    "* Usa el método __replace__ para sustituir las apariciones de dos espacios en blanco por un solo espacio en blanco."
   ]
  },
  {
   "cell_type": "code",
   "execution_count": 2,
   "metadata": {
    "collapsed": false
   },
   "outputs": [],
   "source": [
    "# Sol: \n",
    "fichero = open(\"../datos/radishsurvey.txt\")\n",
    "def votos_por_variedad():\n",
    "    dicRabanos = {}\n",
    "    listaRabanos = []\n",
    "    votos = 0\n",
    "    for linea in fichero:\n",
    "        lineaSaltos = linea.strip()\n",
    "        lineaMayus = lineaSaltos.title()\n",
    "        lineaEspacios = lineaMayus.replace('  ',' ')\n",
    "        lineaSeparador = lineaEspacios.split(' - ')\n",
    "        listaRabanos.append(lineaSeparador[1])\n",
    "        tipoRabano = lineaSeparador[1]\n",
    "        if tipoRabano in lineaSeparador[1]:\n",
    "            dicRabanos[lineaSeparador[1]] = listaRabanos.count(tipoRabano)\n",
    "    return dicRabanos"
   ]
  },
  {
   "cell_type": "markdown",
   "metadata": {},
   "source": [
    "#### 7 Ejercicio"
   ]
  },
  {
   "cell_type": "markdown",
   "metadata": {},
   "source": [
    "El agricultor desea guardar en un fichero de texto la lista de las variedades junto con el número de votos obtenidos.\n",
    "* Abre un fichero llamado __resultado.txt__ en modo escritura\n",
    "* Invoca la función  __votos_por_variedad__ para obtener el diccionario que contiene el número de votos por variedad.\n",
    "* Utiliza la instrucción __for__ para iterar sobre los elementos del diccionario y escribir en el fichero.\n",
    "* Cierra el fichero."
   ]
  },
  {
   "cell_type": "code",
   "execution_count": 3,
   "metadata": {
    "collapsed": false
   },
   "outputs": [],
   "source": [
    "# Sol:\n",
    "\n",
    "ficheroW = open(\"../datos/resultado.txt\", \"w\")\n",
    "dic = votos_por_variedad()\n",
    "for x,y in dic.items():\n",
    "    ficheroW.write(x + ': ' + str(y) + '\\n')\n",
    "ficheroW.close()"
   ]
  },
  {
   "cell_type": "markdown",
   "metadata": {},
   "source": [
    "#### Esto no es un ejercicio. Solo ejecuta a ver qué sale ..."
   ]
  },
  {
   "cell_type": "code",
   "execution_count": 4,
   "metadata": {
    "collapsed": false
   },
   "outputs": [
    {
     "name": "stdout",
     "output_type": "stream",
     "text": [
      "Populating the interactive namespace from numpy and matplotlib\n"
     ]
    },
    {
     "data": {
      "image/png": "[encoded data removed]",
      "text/plain": [
       "<matplotlib.figure.Figure at 0x1f6dd0a9240>"
      ]
     },
     "metadata": {},
     "output_type": "display_data"
    }
   ],
   "source": [
    "import matplotlib.pyplot as plt\n",
    "import numpy as np\n",
    "\n",
    "%pylab inline\n",
    "\n",
    "nombre = dic.keys()\n",
    "votos = dic.values()           # eje y\n",
    "\n",
    "x = np.arange(len(votos))    # eje x\n",
    "plt.bar(x, votos)            # pinto diagrama de barras\n",
    "\n",
    "plt.xticks(x, nombre, rotation=90);      # etiqueto el eje x con los nombres de las variedades"
   ]
  },
  {
   "cell_type": "markdown",
   "metadata": {},
   "source": [
    "## Referencias"
   ]
  },
  {
   "cell_type": "markdown",
   "metadata": {},
   "source": [
    "* [Working with Strings](http://esparta.github.io/python-data-intro/core/strings.html)"
   ]
  }
 ],
 "metadata": {
  "kernelspec": {
   "display_name": "Python 3",
   "language": "python",
   "name": "python3"
  },
  "language_info": {
   "codemirror_mode": {
    "name": "ipython",
    "version": 3
   },
   "file_extension": ".py",
   "mimetype": "text/x-python",
   "name": "python",
   "nbconvert_exporter": "python",
   "pygments_lexer": "ipython3",
   "version": "3.6.0"
  }
 },
 "nbformat": 4,
 "nbformat_minor": 0
}
